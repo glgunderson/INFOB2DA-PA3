{
  "nbformat": 4,
  "nbformat_minor": 0,
  "metadata": {
    "colab": {
      "provenance": [],
      "include_colab_link": true
    },
    "kernelspec": {
      "name": "python3",
      "display_name": "Python 3"
    },
    "language_info": {
      "name": "python"
    }
  },
  "cells": [
    {
      "cell_type": "markdown",
      "metadata": {
        "id": "view-in-github",
        "colab_type": "text"
      },
      "source": [
        "<a href=\"https://colab.research.google.com/github/glgunderson/INFOB2DA-PA3/blob/main/pa3_analysis.ipynb\" target=\"_parent\"><img src=\"https://colab.research.google.com/assets/colab-badge.svg\" alt=\"Open In Colab\"/></a>"
      ]
    },
    {
      "cell_type": "markdown",
      "source": [
        "# **Classification Methods and Model Evaluation**\n",
        "## Practical Assignment 3 - INFOB2DA\n",
        "### *Tobias Buiten, Emil Flindt, Grace Gunderson*"
      ],
      "metadata": {
        "id": "PoxR1_nCa7sD"
      }
    },
    {
      "cell_type": "markdown",
      "source": [
        "# Task 0 - Setup Environment\n",
        "\n"
      ],
      "metadata": {
        "id": "L2vstPQiI-f4"
      }
    },
    {
      "cell_type": "code",
      "source": [
        "# Import Relevant Libraries\n",
        "import pandas as pd\n",
        "import plotly.express as px\n",
        "import numpy as np\n",
        "from sklearn.model_selection import train_test_split\n",
        "from sklearn.naive_bayes import GaussianNB\n",
        "from sklearn.svm import SVC\n",
        "from sklearn.preprocessing import StandardScaler\n",
        "from sklearn.pipeline import make_pipeline\n",
        "from sklearn.neural_network import MLPClassifier\n",
        "from sklearn.metrics import classification_report\n",
        "from sklearn.metrics import fbeta_score\n",
        "from sklearn.model_selection import KFold\n",
        "\n",
        "import warnings\n",
        "warnings.simplefilter(action='ignore', category=FutureWarning)  # This is for supressing all the \"future warning\"\n"
      ],
      "metadata": {
        "id": "AJNLjOOzyr2C"
      },
      "execution_count": 2,
      "outputs": []
    },
    {
      "cell_type": "code",
      "execution_count": 3,
      "metadata": {
        "colab": {
          "base_uri": "https://localhost:8080/",
          "height": 204
        },
        "id": "9BV1GJ2GCysE",
        "outputId": "f28458e3-64aa-4f43-be54-fea4adc38196"
      },
      "outputs": [
        {
          "output_type": "execute_result",
          "data": {
            "text/plain": [
              "   months_since_last_donation  total_number_of_donations  total_blood_donated  \\\n",
              "0                         2.0                       50.0              12500.0   \n",
              "1                         0.0                       13.0               3250.0   \n",
              "2                         1.0                       16.0               4000.0   \n",
              "3                         2.0                       20.0               5000.0   \n",
              "4                         1.0                       24.0               6000.0   \n",
              "\n",
              "   months_since_first_donation  class  \n",
              "0                         98.0      1  \n",
              "1                         28.0      1  \n",
              "2                         35.0      1  \n",
              "3                         45.0      1  \n",
              "4                         77.0      0  "
            ],
            "text/html": [
              "\n",
              "  <div id=\"df-80a63e0b-78e3-473d-b57d-459b63726e83\" class=\"colab-df-container\">\n",
              "    <div>\n",
              "<style scoped>\n",
              "    .dataframe tbody tr th:only-of-type {\n",
              "        vertical-align: middle;\n",
              "    }\n",
              "\n",
              "    .dataframe tbody tr th {\n",
              "        vertical-align: top;\n",
              "    }\n",
              "\n",
              "    .dataframe thead th {\n",
              "        text-align: right;\n",
              "    }\n",
              "</style>\n",
              "<table border=\"1\" class=\"dataframe\">\n",
              "  <thead>\n",
              "    <tr style=\"text-align: right;\">\n",
              "      <th></th>\n",
              "      <th>months_since_last_donation</th>\n",
              "      <th>total_number_of_donations</th>\n",
              "      <th>total_blood_donated</th>\n",
              "      <th>months_since_first_donation</th>\n",
              "      <th>class</th>\n",
              "    </tr>\n",
              "  </thead>\n",
              "  <tbody>\n",
              "    <tr>\n",
              "      <th>0</th>\n",
              "      <td>2.0</td>\n",
              "      <td>50.0</td>\n",
              "      <td>12500.0</td>\n",
              "      <td>98.0</td>\n",
              "      <td>1</td>\n",
              "    </tr>\n",
              "    <tr>\n",
              "      <th>1</th>\n",
              "      <td>0.0</td>\n",
              "      <td>13.0</td>\n",
              "      <td>3250.0</td>\n",
              "      <td>28.0</td>\n",
              "      <td>1</td>\n",
              "    </tr>\n",
              "    <tr>\n",
              "      <th>2</th>\n",
              "      <td>1.0</td>\n",
              "      <td>16.0</td>\n",
              "      <td>4000.0</td>\n",
              "      <td>35.0</td>\n",
              "      <td>1</td>\n",
              "    </tr>\n",
              "    <tr>\n",
              "      <th>3</th>\n",
              "      <td>2.0</td>\n",
              "      <td>20.0</td>\n",
              "      <td>5000.0</td>\n",
              "      <td>45.0</td>\n",
              "      <td>1</td>\n",
              "    </tr>\n",
              "    <tr>\n",
              "      <th>4</th>\n",
              "      <td>1.0</td>\n",
              "      <td>24.0</td>\n",
              "      <td>6000.0</td>\n",
              "      <td>77.0</td>\n",
              "      <td>0</td>\n",
              "    </tr>\n",
              "  </tbody>\n",
              "</table>\n",
              "</div>\n",
              "    <div class=\"colab-df-buttons\">\n",
              "\n",
              "  <div class=\"colab-df-container\">\n",
              "    <button class=\"colab-df-convert\" onclick=\"convertToInteractive('df-80a63e0b-78e3-473d-b57d-459b63726e83')\"\n",
              "            title=\"Convert this dataframe to an interactive table.\"\n",
              "            style=\"display:none;\">\n",
              "\n",
              "  <svg xmlns=\"http://www.w3.org/2000/svg\" height=\"24px\" viewBox=\"0 -960 960 960\">\n",
              "    <path d=\"M120-120v-720h720v720H120Zm60-500h600v-160H180v160Zm220 220h160v-160H400v160Zm0 220h160v-160H400v160ZM180-400h160v-160H180v160Zm440 0h160v-160H620v160ZM180-180h160v-160H180v160Zm440 0h160v-160H620v160Z\"/>\n",
              "  </svg>\n",
              "    </button>\n",
              "\n",
              "  <style>\n",
              "    .colab-df-container {\n",
              "      display:flex;\n",
              "      gap: 12px;\n",
              "    }\n",
              "\n",
              "    .colab-df-convert {\n",
              "      background-color: #E8F0FE;\n",
              "      border: none;\n",
              "      border-radius: 50%;\n",
              "      cursor: pointer;\n",
              "      display: none;\n",
              "      fill: #1967D2;\n",
              "      height: 32px;\n",
              "      padding: 0 0 0 0;\n",
              "      width: 32px;\n",
              "    }\n",
              "\n",
              "    .colab-df-convert:hover {\n",
              "      background-color: #E2EBFA;\n",
              "      box-shadow: 0px 1px 2px rgba(60, 64, 67, 0.3), 0px 1px 3px 1px rgba(60, 64, 67, 0.15);\n",
              "      fill: #174EA6;\n",
              "    }\n",
              "\n",
              "    .colab-df-buttons div {\n",
              "      margin-bottom: 4px;\n",
              "    }\n",
              "\n",
              "    [theme=dark] .colab-df-convert {\n",
              "      background-color: #3B4455;\n",
              "      fill: #D2E3FC;\n",
              "    }\n",
              "\n",
              "    [theme=dark] .colab-df-convert:hover {\n",
              "      background-color: #434B5C;\n",
              "      box-shadow: 0px 1px 3px 1px rgba(0, 0, 0, 0.15);\n",
              "      filter: drop-shadow(0px 1px 2px rgba(0, 0, 0, 0.3));\n",
              "      fill: #FFFFFF;\n",
              "    }\n",
              "  </style>\n",
              "\n",
              "    <script>\n",
              "      const buttonEl =\n",
              "        document.querySelector('#df-80a63e0b-78e3-473d-b57d-459b63726e83 button.colab-df-convert');\n",
              "      buttonEl.style.display =\n",
              "        google.colab.kernel.accessAllowed ? 'block' : 'none';\n",
              "\n",
              "      async function convertToInteractive(key) {\n",
              "        const element = document.querySelector('#df-80a63e0b-78e3-473d-b57d-459b63726e83');\n",
              "        const dataTable =\n",
              "          await google.colab.kernel.invokeFunction('convertToInteractive',\n",
              "                                                    [key], {});\n",
              "        if (!dataTable) return;\n",
              "\n",
              "        const docLinkHtml = 'Like what you see? Visit the ' +\n",
              "          '<a target=\"_blank\" href=https://colab.research.google.com/notebooks/data_table.ipynb>data table notebook</a>'\n",
              "          + ' to learn more about interactive tables.';\n",
              "        element.innerHTML = '';\n",
              "        dataTable['output_type'] = 'display_data';\n",
              "        await google.colab.output.renderOutput(dataTable, element);\n",
              "        const docLink = document.createElement('div');\n",
              "        docLink.innerHTML = docLinkHtml;\n",
              "        element.appendChild(docLink);\n",
              "      }\n",
              "    </script>\n",
              "  </div>\n",
              "\n",
              "\n",
              "    <div id=\"df-9f0a5034-e94d-409c-b1ee-61ba18aa087f\">\n",
              "      <button class=\"colab-df-quickchart\" onclick=\"quickchart('df-9f0a5034-e94d-409c-b1ee-61ba18aa087f')\"\n",
              "                title=\"Suggest charts\"\n",
              "                style=\"display:none;\">\n",
              "\n",
              "<svg xmlns=\"http://www.w3.org/2000/svg\" height=\"24px\"viewBox=\"0 0 24 24\"\n",
              "     width=\"24px\">\n",
              "    <g>\n",
              "        <path d=\"M19 3H5c-1.1 0-2 .9-2 2v14c0 1.1.9 2 2 2h14c1.1 0 2-.9 2-2V5c0-1.1-.9-2-2-2zM9 17H7v-7h2v7zm4 0h-2V7h2v10zm4 0h-2v-4h2v4z\"/>\n",
              "    </g>\n",
              "</svg>\n",
              "      </button>\n",
              "\n",
              "<style>\n",
              "  .colab-df-quickchart {\n",
              "      --bg-color: #E8F0FE;\n",
              "      --fill-color: #1967D2;\n",
              "      --hover-bg-color: #E2EBFA;\n",
              "      --hover-fill-color: #174EA6;\n",
              "      --disabled-fill-color: #AAA;\n",
              "      --disabled-bg-color: #DDD;\n",
              "  }\n",
              "\n",
              "  [theme=dark] .colab-df-quickchart {\n",
              "      --bg-color: #3B4455;\n",
              "      --fill-color: #D2E3FC;\n",
              "      --hover-bg-color: #434B5C;\n",
              "      --hover-fill-color: #FFFFFF;\n",
              "      --disabled-bg-color: #3B4455;\n",
              "      --disabled-fill-color: #666;\n",
              "  }\n",
              "\n",
              "  .colab-df-quickchart {\n",
              "    background-color: var(--bg-color);\n",
              "    border: none;\n",
              "    border-radius: 50%;\n",
              "    cursor: pointer;\n",
              "    display: none;\n",
              "    fill: var(--fill-color);\n",
              "    height: 32px;\n",
              "    padding: 0;\n",
              "    width: 32px;\n",
              "  }\n",
              "\n",
              "  .colab-df-quickchart:hover {\n",
              "    background-color: var(--hover-bg-color);\n",
              "    box-shadow: 0 1px 2px rgba(60, 64, 67, 0.3), 0 1px 3px 1px rgba(60, 64, 67, 0.15);\n",
              "    fill: var(--button-hover-fill-color);\n",
              "  }\n",
              "\n",
              "  .colab-df-quickchart-complete:disabled,\n",
              "  .colab-df-quickchart-complete:disabled:hover {\n",
              "    background-color: var(--disabled-bg-color);\n",
              "    fill: var(--disabled-fill-color);\n",
              "    box-shadow: none;\n",
              "  }\n",
              "\n",
              "  .colab-df-spinner {\n",
              "    border: 2px solid var(--fill-color);\n",
              "    border-color: transparent;\n",
              "    border-bottom-color: var(--fill-color);\n",
              "    animation:\n",
              "      spin 1s steps(1) infinite;\n",
              "  }\n",
              "\n",
              "  @keyframes spin {\n",
              "    0% {\n",
              "      border-color: transparent;\n",
              "      border-bottom-color: var(--fill-color);\n",
              "      border-left-color: var(--fill-color);\n",
              "    }\n",
              "    20% {\n",
              "      border-color: transparent;\n",
              "      border-left-color: var(--fill-color);\n",
              "      border-top-color: var(--fill-color);\n",
              "    }\n",
              "    30% {\n",
              "      border-color: transparent;\n",
              "      border-left-color: var(--fill-color);\n",
              "      border-top-color: var(--fill-color);\n",
              "      border-right-color: var(--fill-color);\n",
              "    }\n",
              "    40% {\n",
              "      border-color: transparent;\n",
              "      border-right-color: var(--fill-color);\n",
              "      border-top-color: var(--fill-color);\n",
              "    }\n",
              "    60% {\n",
              "      border-color: transparent;\n",
              "      border-right-color: var(--fill-color);\n",
              "    }\n",
              "    80% {\n",
              "      border-color: transparent;\n",
              "      border-right-color: var(--fill-color);\n",
              "      border-bottom-color: var(--fill-color);\n",
              "    }\n",
              "    90% {\n",
              "      border-color: transparent;\n",
              "      border-bottom-color: var(--fill-color);\n",
              "    }\n",
              "  }\n",
              "</style>\n",
              "\n",
              "      <script>\n",
              "        async function quickchart(key) {\n",
              "          const quickchartButtonEl =\n",
              "            document.querySelector('#' + key + ' button');\n",
              "          quickchartButtonEl.disabled = true;  // To prevent multiple clicks.\n",
              "          quickchartButtonEl.classList.add('colab-df-spinner');\n",
              "          try {\n",
              "            const charts = await google.colab.kernel.invokeFunction(\n",
              "                'suggestCharts', [key], {});\n",
              "          } catch (error) {\n",
              "            console.error('Error during call to suggestCharts:', error);\n",
              "          }\n",
              "          quickchartButtonEl.classList.remove('colab-df-spinner');\n",
              "          quickchartButtonEl.classList.add('colab-df-quickchart-complete');\n",
              "        }\n",
              "        (() => {\n",
              "          let quickchartButtonEl =\n",
              "            document.querySelector('#df-9f0a5034-e94d-409c-b1ee-61ba18aa087f button');\n",
              "          quickchartButtonEl.style.display =\n",
              "            google.colab.kernel.accessAllowed ? 'block' : 'none';\n",
              "        })();\n",
              "      </script>\n",
              "    </div>\n",
              "\n",
              "    </div>\n",
              "  </div>\n"
            ],
            "application/vnd.google.colaboratory.intrinsic+json": {
              "type": "dataframe",
              "variable_name": "df",
              "summary": "{\n  \"name\": \"df\",\n  \"rows\": 748,\n  \"fields\": [\n    {\n      \"column\": \"months_since_last_donation\",\n      \"properties\": {\n        \"dtype\": \"number\",\n        \"std\": 8.095395635299203,\n        \"min\": 0.0,\n        \"max\": 74.0,\n        \"num_unique_values\": 31,\n        \"samples\": [\n          17.0,\n          16.0,\n          38.0\n        ],\n        \"semantic_type\": \"\",\n        \"description\": \"\"\n      }\n    },\n    {\n      \"column\": \"total_number_of_donations\",\n      \"properties\": {\n        \"dtype\": \"number\",\n        \"std\": 5.839307123090031,\n        \"min\": 1.0,\n        \"max\": 50.0,\n        \"num_unique_values\": 33,\n        \"samples\": [\n          21.0,\n          14.0,\n          43.0\n        ],\n        \"semantic_type\": \"\",\n        \"description\": \"\"\n      }\n    },\n    {\n      \"column\": \"total_blood_donated\",\n      \"properties\": {\n        \"dtype\": \"number\",\n        \"std\": 1459.826780772503,\n        \"min\": 250.0,\n        \"max\": 12500.0,\n        \"num_unique_values\": 33,\n        \"samples\": [\n          5250.0,\n          3500.0,\n          10750.0\n        ],\n        \"semantic_type\": \"\",\n        \"description\": \"\"\n      }\n    },\n    {\n      \"column\": \"months_since_first_donation\",\n      \"properties\": {\n        \"dtype\": \"number\",\n        \"std\": 24.376714368614156,\n        \"min\": 2.0,\n        \"max\": 98.0,\n        \"num_unique_values\": 78,\n        \"samples\": [\n          71.0,\n          98.0,\n          23.0\n        ],\n        \"semantic_type\": \"\",\n        \"description\": \"\"\n      }\n    },\n    {\n      \"column\": \"class\",\n      \"properties\": {\n        \"dtype\": \"number\",\n        \"std\": 0,\n        \"min\": 0,\n        \"max\": 1,\n        \"num_unique_values\": 2,\n        \"samples\": [\n          0,\n          1\n        ],\n        \"semantic_type\": \"\",\n        \"description\": \"\"\n      }\n    }\n  ]\n}"
            }
          },
          "metadata": {},
          "execution_count": 3
        }
      ],
      "source": [
        "url = \"https://raw.githubusercontent.com/glgunderson/INFOB2DA-PA3/main/blood_transfusion.csv\"\n",
        "df = pd.read_csv(url)\n",
        "\n",
        "# Display dataframe\n",
        "df.head()"
      ]
    },
    {
      "cell_type": "markdown",
      "source": [
        "# Task 1 - Get dataset on screen"
      ],
      "metadata": {
        "id": "nlUek69tJZNf"
      }
    },
    {
      "cell_type": "markdown",
      "source": [
        "## Task 1.1 - Explore dataset"
      ],
      "metadata": {
        "id": "JW_O0rilJiyP"
      }
    },
    {
      "cell_type": "markdown",
      "source": [
        "### Basic Statistics\n"
      ],
      "metadata": {
        "id": "4MHoTLaqJsM2"
      }
    },
    {
      "cell_type": "code",
      "source": [
        "# Display Basic Statistics:\n",
        "df.describe()"
      ],
      "metadata": {
        "id": "KlyQ8896Js2j",
        "outputId": "6d702a34-90fe-4682-ef11-c0490d020680",
        "colab": {
          "base_uri": "https://localhost:8080/",
          "height": 297
        }
      },
      "execution_count": 4,
      "outputs": [
        {
          "output_type": "execute_result",
          "data": {
            "text/plain": [
              "       months_since_last_donation  total_number_of_donations  \\\n",
              "count                  748.000000                 748.000000   \n",
              "mean                     9.506684                   5.514706   \n",
              "std                      8.095396                   5.839307   \n",
              "min                      0.000000                   1.000000   \n",
              "25%                      2.750000                   2.000000   \n",
              "50%                      7.000000                   4.000000   \n",
              "75%                     14.000000                   7.000000   \n",
              "max                     74.000000                  50.000000   \n",
              "\n",
              "       total_blood_donated  months_since_first_donation       class  \n",
              "count           748.000000                   748.000000  748.000000  \n",
              "mean           1378.676471                    34.282086    0.237968  \n",
              "std            1459.826781                    24.376714    0.426124  \n",
              "min             250.000000                     2.000000    0.000000  \n",
              "25%             500.000000                    16.000000    0.000000  \n",
              "50%            1000.000000                    28.000000    0.000000  \n",
              "75%            1750.000000                    50.000000    0.000000  \n",
              "max           12500.000000                    98.000000    1.000000  "
            ],
            "text/html": [
              "\n",
              "  <div id=\"df-8e7ce6b0-1d59-4b2d-a348-425affa943aa\" class=\"colab-df-container\">\n",
              "    <div>\n",
              "<style scoped>\n",
              "    .dataframe tbody tr th:only-of-type {\n",
              "        vertical-align: middle;\n",
              "    }\n",
              "\n",
              "    .dataframe tbody tr th {\n",
              "        vertical-align: top;\n",
              "    }\n",
              "\n",
              "    .dataframe thead th {\n",
              "        text-align: right;\n",
              "    }\n",
              "</style>\n",
              "<table border=\"1\" class=\"dataframe\">\n",
              "  <thead>\n",
              "    <tr style=\"text-align: right;\">\n",
              "      <th></th>\n",
              "      <th>months_since_last_donation</th>\n",
              "      <th>total_number_of_donations</th>\n",
              "      <th>total_blood_donated</th>\n",
              "      <th>months_since_first_donation</th>\n",
              "      <th>class</th>\n",
              "    </tr>\n",
              "  </thead>\n",
              "  <tbody>\n",
              "    <tr>\n",
              "      <th>count</th>\n",
              "      <td>748.000000</td>\n",
              "      <td>748.000000</td>\n",
              "      <td>748.000000</td>\n",
              "      <td>748.000000</td>\n",
              "      <td>748.000000</td>\n",
              "    </tr>\n",
              "    <tr>\n",
              "      <th>mean</th>\n",
              "      <td>9.506684</td>\n",
              "      <td>5.514706</td>\n",
              "      <td>1378.676471</td>\n",
              "      <td>34.282086</td>\n",
              "      <td>0.237968</td>\n",
              "    </tr>\n",
              "    <tr>\n",
              "      <th>std</th>\n",
              "      <td>8.095396</td>\n",
              "      <td>5.839307</td>\n",
              "      <td>1459.826781</td>\n",
              "      <td>24.376714</td>\n",
              "      <td>0.426124</td>\n",
              "    </tr>\n",
              "    <tr>\n",
              "      <th>min</th>\n",
              "      <td>0.000000</td>\n",
              "      <td>1.000000</td>\n",
              "      <td>250.000000</td>\n",
              "      <td>2.000000</td>\n",
              "      <td>0.000000</td>\n",
              "    </tr>\n",
              "    <tr>\n",
              "      <th>25%</th>\n",
              "      <td>2.750000</td>\n",
              "      <td>2.000000</td>\n",
              "      <td>500.000000</td>\n",
              "      <td>16.000000</td>\n",
              "      <td>0.000000</td>\n",
              "    </tr>\n",
              "    <tr>\n",
              "      <th>50%</th>\n",
              "      <td>7.000000</td>\n",
              "      <td>4.000000</td>\n",
              "      <td>1000.000000</td>\n",
              "      <td>28.000000</td>\n",
              "      <td>0.000000</td>\n",
              "    </tr>\n",
              "    <tr>\n",
              "      <th>75%</th>\n",
              "      <td>14.000000</td>\n",
              "      <td>7.000000</td>\n",
              "      <td>1750.000000</td>\n",
              "      <td>50.000000</td>\n",
              "      <td>0.000000</td>\n",
              "    </tr>\n",
              "    <tr>\n",
              "      <th>max</th>\n",
              "      <td>74.000000</td>\n",
              "      <td>50.000000</td>\n",
              "      <td>12500.000000</td>\n",
              "      <td>98.000000</td>\n",
              "      <td>1.000000</td>\n",
              "    </tr>\n",
              "  </tbody>\n",
              "</table>\n",
              "</div>\n",
              "    <div class=\"colab-df-buttons\">\n",
              "\n",
              "  <div class=\"colab-df-container\">\n",
              "    <button class=\"colab-df-convert\" onclick=\"convertToInteractive('df-8e7ce6b0-1d59-4b2d-a348-425affa943aa')\"\n",
              "            title=\"Convert this dataframe to an interactive table.\"\n",
              "            style=\"display:none;\">\n",
              "\n",
              "  <svg xmlns=\"http://www.w3.org/2000/svg\" height=\"24px\" viewBox=\"0 -960 960 960\">\n",
              "    <path d=\"M120-120v-720h720v720H120Zm60-500h600v-160H180v160Zm220 220h160v-160H400v160Zm0 220h160v-160H400v160ZM180-400h160v-160H180v160Zm440 0h160v-160H620v160ZM180-180h160v-160H180v160Zm440 0h160v-160H620v160Z\"/>\n",
              "  </svg>\n",
              "    </button>\n",
              "\n",
              "  <style>\n",
              "    .colab-df-container {\n",
              "      display:flex;\n",
              "      gap: 12px;\n",
              "    }\n",
              "\n",
              "    .colab-df-convert {\n",
              "      background-color: #E8F0FE;\n",
              "      border: none;\n",
              "      border-radius: 50%;\n",
              "      cursor: pointer;\n",
              "      display: none;\n",
              "      fill: #1967D2;\n",
              "      height: 32px;\n",
              "      padding: 0 0 0 0;\n",
              "      width: 32px;\n",
              "    }\n",
              "\n",
              "    .colab-df-convert:hover {\n",
              "      background-color: #E2EBFA;\n",
              "      box-shadow: 0px 1px 2px rgba(60, 64, 67, 0.3), 0px 1px 3px 1px rgba(60, 64, 67, 0.15);\n",
              "      fill: #174EA6;\n",
              "    }\n",
              "\n",
              "    .colab-df-buttons div {\n",
              "      margin-bottom: 4px;\n",
              "    }\n",
              "\n",
              "    [theme=dark] .colab-df-convert {\n",
              "      background-color: #3B4455;\n",
              "      fill: #D2E3FC;\n",
              "    }\n",
              "\n",
              "    [theme=dark] .colab-df-convert:hover {\n",
              "      background-color: #434B5C;\n",
              "      box-shadow: 0px 1px 3px 1px rgba(0, 0, 0, 0.15);\n",
              "      filter: drop-shadow(0px 1px 2px rgba(0, 0, 0, 0.3));\n",
              "      fill: #FFFFFF;\n",
              "    }\n",
              "  </style>\n",
              "\n",
              "    <script>\n",
              "      const buttonEl =\n",
              "        document.querySelector('#df-8e7ce6b0-1d59-4b2d-a348-425affa943aa button.colab-df-convert');\n",
              "      buttonEl.style.display =\n",
              "        google.colab.kernel.accessAllowed ? 'block' : 'none';\n",
              "\n",
              "      async function convertToInteractive(key) {\n",
              "        const element = document.querySelector('#df-8e7ce6b0-1d59-4b2d-a348-425affa943aa');\n",
              "        const dataTable =\n",
              "          await google.colab.kernel.invokeFunction('convertToInteractive',\n",
              "                                                    [key], {});\n",
              "        if (!dataTable) return;\n",
              "\n",
              "        const docLinkHtml = 'Like what you see? Visit the ' +\n",
              "          '<a target=\"_blank\" href=https://colab.research.google.com/notebooks/data_table.ipynb>data table notebook</a>'\n",
              "          + ' to learn more about interactive tables.';\n",
              "        element.innerHTML = '';\n",
              "        dataTable['output_type'] = 'display_data';\n",
              "        await google.colab.output.renderOutput(dataTable, element);\n",
              "        const docLink = document.createElement('div');\n",
              "        docLink.innerHTML = docLinkHtml;\n",
              "        element.appendChild(docLink);\n",
              "      }\n",
              "    </script>\n",
              "  </div>\n",
              "\n",
              "\n",
              "    <div id=\"df-3a406e57-fde6-4aa9-a811-900405f3ef48\">\n",
              "      <button class=\"colab-df-quickchart\" onclick=\"quickchart('df-3a406e57-fde6-4aa9-a811-900405f3ef48')\"\n",
              "                title=\"Suggest charts\"\n",
              "                style=\"display:none;\">\n",
              "\n",
              "<svg xmlns=\"http://www.w3.org/2000/svg\" height=\"24px\"viewBox=\"0 0 24 24\"\n",
              "     width=\"24px\">\n",
              "    <g>\n",
              "        <path d=\"M19 3H5c-1.1 0-2 .9-2 2v14c0 1.1.9 2 2 2h14c1.1 0 2-.9 2-2V5c0-1.1-.9-2-2-2zM9 17H7v-7h2v7zm4 0h-2V7h2v10zm4 0h-2v-4h2v4z\"/>\n",
              "    </g>\n",
              "</svg>\n",
              "      </button>\n",
              "\n",
              "<style>\n",
              "  .colab-df-quickchart {\n",
              "      --bg-color: #E8F0FE;\n",
              "      --fill-color: #1967D2;\n",
              "      --hover-bg-color: #E2EBFA;\n",
              "      --hover-fill-color: #174EA6;\n",
              "      --disabled-fill-color: #AAA;\n",
              "      --disabled-bg-color: #DDD;\n",
              "  }\n",
              "\n",
              "  [theme=dark] .colab-df-quickchart {\n",
              "      --bg-color: #3B4455;\n",
              "      --fill-color: #D2E3FC;\n",
              "      --hover-bg-color: #434B5C;\n",
              "      --hover-fill-color: #FFFFFF;\n",
              "      --disabled-bg-color: #3B4455;\n",
              "      --disabled-fill-color: #666;\n",
              "  }\n",
              "\n",
              "  .colab-df-quickchart {\n",
              "    background-color: var(--bg-color);\n",
              "    border: none;\n",
              "    border-radius: 50%;\n",
              "    cursor: pointer;\n",
              "    display: none;\n",
              "    fill: var(--fill-color);\n",
              "    height: 32px;\n",
              "    padding: 0;\n",
              "    width: 32px;\n",
              "  }\n",
              "\n",
              "  .colab-df-quickchart:hover {\n",
              "    background-color: var(--hover-bg-color);\n",
              "    box-shadow: 0 1px 2px rgba(60, 64, 67, 0.3), 0 1px 3px 1px rgba(60, 64, 67, 0.15);\n",
              "    fill: var(--button-hover-fill-color);\n",
              "  }\n",
              "\n",
              "  .colab-df-quickchart-complete:disabled,\n",
              "  .colab-df-quickchart-complete:disabled:hover {\n",
              "    background-color: var(--disabled-bg-color);\n",
              "    fill: var(--disabled-fill-color);\n",
              "    box-shadow: none;\n",
              "  }\n",
              "\n",
              "  .colab-df-spinner {\n",
              "    border: 2px solid var(--fill-color);\n",
              "    border-color: transparent;\n",
              "    border-bottom-color: var(--fill-color);\n",
              "    animation:\n",
              "      spin 1s steps(1) infinite;\n",
              "  }\n",
              "\n",
              "  @keyframes spin {\n",
              "    0% {\n",
              "      border-color: transparent;\n",
              "      border-bottom-color: var(--fill-color);\n",
              "      border-left-color: var(--fill-color);\n",
              "    }\n",
              "    20% {\n",
              "      border-color: transparent;\n",
              "      border-left-color: var(--fill-color);\n",
              "      border-top-color: var(--fill-color);\n",
              "    }\n",
              "    30% {\n",
              "      border-color: transparent;\n",
              "      border-left-color: var(--fill-color);\n",
              "      border-top-color: var(--fill-color);\n",
              "      border-right-color: var(--fill-color);\n",
              "    }\n",
              "    40% {\n",
              "      border-color: transparent;\n",
              "      border-right-color: var(--fill-color);\n",
              "      border-top-color: var(--fill-color);\n",
              "    }\n",
              "    60% {\n",
              "      border-color: transparent;\n",
              "      border-right-color: var(--fill-color);\n",
              "    }\n",
              "    80% {\n",
              "      border-color: transparent;\n",
              "      border-right-color: var(--fill-color);\n",
              "      border-bottom-color: var(--fill-color);\n",
              "    }\n",
              "    90% {\n",
              "      border-color: transparent;\n",
              "      border-bottom-color: var(--fill-color);\n",
              "    }\n",
              "  }\n",
              "</style>\n",
              "\n",
              "      <script>\n",
              "        async function quickchart(key) {\n",
              "          const quickchartButtonEl =\n",
              "            document.querySelector('#' + key + ' button');\n",
              "          quickchartButtonEl.disabled = true;  // To prevent multiple clicks.\n",
              "          quickchartButtonEl.classList.add('colab-df-spinner');\n",
              "          try {\n",
              "            const charts = await google.colab.kernel.invokeFunction(\n",
              "                'suggestCharts', [key], {});\n",
              "          } catch (error) {\n",
              "            console.error('Error during call to suggestCharts:', error);\n",
              "          }\n",
              "          quickchartButtonEl.classList.remove('colab-df-spinner');\n",
              "          quickchartButtonEl.classList.add('colab-df-quickchart-complete');\n",
              "        }\n",
              "        (() => {\n",
              "          let quickchartButtonEl =\n",
              "            document.querySelector('#df-3a406e57-fde6-4aa9-a811-900405f3ef48 button');\n",
              "          quickchartButtonEl.style.display =\n",
              "            google.colab.kernel.accessAllowed ? 'block' : 'none';\n",
              "        })();\n",
              "      </script>\n",
              "    </div>\n",
              "\n",
              "    </div>\n",
              "  </div>\n"
            ],
            "application/vnd.google.colaboratory.intrinsic+json": {
              "type": "dataframe",
              "summary": "{\n  \"name\": \"df\",\n  \"rows\": 8,\n  \"fields\": [\n    {\n      \"column\": \"months_since_last_donation\",\n      \"properties\": {\n        \"dtype\": \"number\",\n        \"std\": 259.7296322821676,\n        \"min\": 0.0,\n        \"max\": 748.0,\n        \"num_unique_values\": 8,\n        \"samples\": [\n          9.506684491978609,\n          7.0,\n          748.0\n        ],\n        \"semantic_type\": \"\",\n        \"description\": \"\"\n      }\n    },\n    {\n      \"column\": \"total_number_of_donations\",\n      \"properties\": {\n        \"dtype\": \"number\",\n        \"std\": 261.15116876933445,\n        \"min\": 1.0,\n        \"max\": 748.0,\n        \"num_unique_values\": 8,\n        \"samples\": [\n          5.514705882352941,\n          4.0,\n          748.0\n        ],\n        \"semantic_type\": \"\",\n        \"description\": \"\"\n      }\n    },\n    {\n      \"column\": \"total_blood_donated\",\n      \"properties\": {\n        \"dtype\": \"number\",\n        \"std\": 4092.893812773351,\n        \"min\": 250.0,\n        \"max\": 12500.0,\n        \"num_unique_values\": 8,\n        \"samples\": [\n          1378.6764705882354,\n          1000.0,\n          748.0\n        ],\n        \"semantic_type\": \"\",\n        \"description\": \"\"\n      }\n    },\n    {\n      \"column\": \"months_since_first_donation\",\n      \"properties\": {\n        \"dtype\": \"number\",\n        \"std\": 253.33679766529838,\n        \"min\": 2.0,\n        \"max\": 748.0,\n        \"num_unique_values\": 8,\n        \"samples\": [\n          34.282085561497325,\n          28.0,\n          748.0\n        ],\n        \"semantic_type\": \"\",\n        \"description\": \"\"\n      }\n    },\n    {\n      \"column\": \"class\",\n      \"properties\": {\n        \"dtype\": \"number\",\n        \"std\": 264.37411446957356,\n        \"min\": 0.0,\n        \"max\": 748.0,\n        \"num_unique_values\": 5,\n        \"samples\": [\n          0.23796791443850268,\n          1.0,\n          0.42612432780145154\n        ],\n        \"semantic_type\": \"\",\n        \"description\": \"\"\n      }\n    }\n  ]\n}"
            }
          },
          "metadata": {},
          "execution_count": 4
        }
      ]
    },
    {
      "cell_type": "markdown",
      "source": [
        "### Dataset Features\n",
        "- **’months_since_last_donation’** — Number of months since the donor’s last donation\n",
        "- **’total_number_of_donations’** — Total number of donations the person has made\n",
        "- **’total_blood_donated’** — Total volume of blood donated (in milliliters)\n",
        "- **’months_since_first_donation’** — Number of months since the donor’s first donation\n",
        "- **’class’** — categorical (binary) — 1 = returned to donate, 0 = did not return\n"
      ],
      "metadata": {
        "id": "1Ma6g8cmJ7Yc"
      }
    },
    {
      "cell_type": "markdown",
      "source": [
        "###  Dataset Overview\n",
        "The dataset contains **748 records**.\n",
        "- All four input features are numeric, while ‘class’ is a binary categorical feature representing whether a donor returned to donate blood the following month (‘1’) or not (‘0’).\n",
        "- On average, donors have donated **5-6 times**.\n",
        "- The average **time since last donation** is approximately **9.5 months**, with values ranging from 0 to 74 months since last donation.\n",
        "- The average **time since first donation** is around **34 months** (about 3 years).\n",
        "The **standard deviations** across features indicate noticeable variation between donors, meaning donation habits differ widely in timing and frequency.\n",
        "\n",
        "No missing values or irregular entries are observed, so the dataset appears clean and ready for preprocessing."
      ],
      "metadata": {
        "id": "vq-d06h-pV2s"
      }
    },
    {
      "cell_type": "markdown",
      "source": [
        "### Exploring Feature Relationships"
      ],
      "metadata": {
        "id": "Qrv8Kqg1J-IA"
      }
    },
    {
      "cell_type": "code",
      "source": [
        "# Scatter Plot - Total Blood Donated vs. Months Since Last Donations\n",
        "px.scatter(\n",
        "    data_frame = df,\n",
        "    y = df['total_blood_donated'],\n",
        "    x = df['months_since_last_donation'],\n",
        "    )"
      ],
      "metadata": {
        "id": "Ppg5X0JtPAql",
        "outputId": "1eb29f8d-c0a8-4879-f92e-005a0212ceaf",
        "colab": {
          "base_uri": "https://localhost:8080/",
          "height": 542
        }
      },
      "execution_count": 5,
      "outputs": [
        {
          "output_type": "display_data",
          "data": {
            "text/html": [
              "<html>\n",
              "<head><meta charset=\"utf-8\" /></head>\n",
              "<body>\n",
              "    <div>            <script src=\"https://cdnjs.cloudflare.com/ajax/libs/mathjax/2.7.5/MathJax.js?config=TeX-AMS-MML_SVG\"></script><script type=\"text/javascript\">if (window.MathJax && window.MathJax.Hub && window.MathJax.Hub.Config) {window.MathJax.Hub.Config({SVG: {font: \"STIX-Web\"}});}</script>                <script type=\"text/javascript\">window.PlotlyConfig = {MathJaxConfig: 'local'};</script>\n",
              "        <script charset=\"utf-8\" src=\"https://cdn.plot.ly/plotly-2.35.2.min.js\"></script>                <div id=\"4ea701de-7664-4987-a213-46df538517d9\" class=\"plotly-graph-div\" style=\"height:525px; width:100%;\"></div>            <script type=\"text/javascript\">                                    window.PLOTLYENV=window.PLOTLYENV || {};                                    if (document.getElementById(\"4ea701de-7664-4987-a213-46df538517d9\")) {                    Plotly.newPlot(                        \"4ea701de-7664-4987-a213-46df538517d9\",                        [{\"hovertemplate\":\"months_since_last_donation=%{x}\\u003cbr\\u003etotal_blood_donated=%{y}\\u003cextra\\u003e\\u003c\\u002fextra\\u003e\",\"legendgroup\":\"\",\"marker\":{\"color\":\"#636efa\",\"symbol\":\"circle\"},\"mode\":\"markers\",\"name\":\"\",\"orientation\":\"v\",\"showlegend\":false,\"x\":[2.0,0.0,1.0,2.0,1.0,4.0,2.0,1.0,2.0,5.0,4.0,0.0,2.0,1.0,2.0,2.0,2.0,2.0,2.0,2.0,2.0,4.0,2.0,2.0,9.0,4.0,4.0,4.0,4.0,4.0,1.0,4.0,4.0,4.0,2.0,2.0,2.0,4.0,2.0,4.0,2.0,2.0,2.0,2.0,4.0,4.0,2.0,2.0,2.0,2.0,2.0,2.0,2.0,2.0,4.0,4.0,4.0,2.0,2.0,3.0,2.0,2.0,2.0,4.0,2.0,3.0,2.0,0.0,4.0,1.0,2.0,2.0,4.0,2.0,2.0,2.0,2.0,2.0,2.0,2.0,4.0,2.0,2.0,2.0,2.0,2.0,4.0,4.0,4.0,2.0,4.0,4.0,4.0,4.0,12.0,4.0,3.0,4.0,4.0,5.0,4.0,2.0,4.0,2.0,2.0,6.0,0.0,3.0,2.0,2.0,4.0,4.0,4.0,4.0,2.0,11.0,2.0,4.0,1.0,2.0,2.0,4.0,2.0,2.0,2.0,2.0,4.0,2.0,4.0,2.0,4.0,2.0,2.0,4.0,2.0,2.0,2.0,2.0,9.0,2.0,2.0,5.0,4.0,4.0,4.0,4.0,6.0,2.0,2.0,2.0,2.0,4.0,4.0,2.0,2.0,2.0,2.0,2.0,2.0,2.0,2.0,2.0,2.0,2.0,2.0,2.0,2.0,2.0,2.0,2.0,2.0,2.0,2.0,2.0,2.0,11.0,11.0,4.0,4.0,2.0,4.0,10.0,2.0,4.0,13.0,11.0,4.0,4.0,8.0,4.0,4.0,4.0,2.0,11.0,2.0,2.0,9.0,4.0,11.0,9.0,4.0,4.0,6.0,4.0,11.0,11.0,2.0,2.0,11.0,11.0,4.0,4.0,4.0,4.0,4.0,4.0,4.0,4.0,4.0,4.0,4.0,4.0,4.0,4.0,4.0,4.0,4.0,4.0,4.0,4.0,4.0,4.0,4.0,10.0,14.0,8.0,11.0,4.0,2.0,8.0,8.0,11.0,4.0,11.0,9.0,4.0,11.0,7.0,11.0,11.0,11.0,2.0,11.0,11.0,12.0,2.0,16.0,11.0,4.0,12.0,4.0,11.0,2.0,2.0,4.0,4.0,3.0,11.0,4.0,13.0,16.0,16.0,7.0,4.0,4.0,4.0,14.0,4.0,14.0,11.0,14.0,14.0,14.0,8.0,11.0,11.0,4.0,9.0,14.0,14.0,14.0,16.0,11.0,11.0,11.0,2.0,14.0,14.0,14.0,14.0,14.0,14.0,14.0,2.0,14.0,11.0,4.0,11.0,16.0,16.0,11.0,11.0,12.0,9.0,9.0,4.0,11.0,14.0,11.0,11.0,15.0,9.0,11.0,14.0,16.0,14.0,2.0,14.0,14.0,16.0,14.0,16.0,16.0,11.0,16.0,16.0,11.0,11.0,11.0,9.0,14.0,23.0,11.0,11.0,11.0,11.0,11.0,11.0,11.0,11.0,11.0,11.0,11.0,11.0,16.0,4.0,16.0,14.0,9.0,21.0,14.0,11.0,4.0,21.0,11.0,14.0,23.0,14.0,11.0,16.0,4.0,14.0,4.0,9.0,14.0,11.0,14.0,14.0,14.0,14.0,14.0,14.0,14.0,14.0,14.0,14.0,14.0,14.0,9.0,14.0,11.0,11.0,4.0,11.0,16.0,16.0,21.0,21.0,16.0,21.0,18.0,23.0,23.0,16.0,14.0,14.0,16.0,16.0,16.0,16.0,16.0,16.0,16.0,16.0,16.0,16.0,16.0,16.0,16.0,16.0,21.0,16.0,21.0,21.0,14.0,16.0,23.0,14.0,23.0,16.0,9.0,9.0,16.0,14.0,14.0,16.0,21.0,14.0,23.0,18.0,16.0,11.0,11.0,11.0,23.0,21.0,23.0,23.0,23.0,16.0,23.0,21.0,23.0,21.0,21.0,21.0,21.0,21.0,21.0,21.0,21.0,21.0,21.0,21.0,21.0,21.0,23.0,21.0,22.0,11.0,23.0,23.0,23.0,14.0,21.0,26.0,23.0,23.0,23.0,23.0,23.0,23.0,23.0,23.0,23.0,23.0,21.0,23.0,21.0,21.0,16.0,21.0,23.0,23.0,23.0,35.0,38.0,38.0,40.0,74.0,2.0,6.0,2.0,2.0,0.0,2.0,3.0,2.0,2.0,2.0,4.0,2.0,2.0,3.0,4.0,4.0,3.0,4.0,3.0,4.0,2.0,2.0,4.0,1.0,4.0,2.0,2.0,2.0,5.0,2.0,4.0,2.0,4.0,2.0,2.0,4.0,2.0,2.0,2.0,2.0,2.0,2.0,4.0,4.0,1.0,4.0,7.0,2.0,2.0,4.0,4.0,2.0,4.0,2.0,2.0,4.0,5.0,4.0,14.0,3.0,4.0,4.0,4.0,7.0,4.0,2.0,4.0,4.0,4.0,2.0,2.0,4.0,2.0,2.0,2.0,4.0,3.0,9.0,11.0,2.0,2.0,2.0,2.0,2.0,2.0,2.0,2.0,2.0,2.0,2.0,2.0,11.0,2.0,9.0,5.0,3.0,3.0,4.0,2.0,12.0,2.0,4.0,9.0,14.0,4.0,4.0,2.0,2.0,4.0,4.0,4.0,4.0,4.0,4.0,4.0,4.0,4.0,4.0,4.0,4.0,4.0,4.0,4.0,11.0,13.0,7.0,9.0,11.0,2.0,7.0,8.0,2.0,6.0,12.0,13.0,11.0,4.0,14.0,11.0,7.0,11.0,7.0,11.0,10.0,14.0,14.0,14.0,2.0,11.0,14.0,9.0,16.0,14.0,4.0,14.0,16.0,4.0,14.0,11.0,14.0,15.0,16.0,16.0,11.0,11.0,11.0,11.0,11.0,11.0,2.0,2.0,16.0,16.0,16.0,16.0,16.0,14.0,23.0,11.0,14.0,20.0,4.0,11.0,11.0,16.0,21.0,13.0,16.0,14.0,14.0,14.0,14.0,14.0,14.0,14.0,17.0,14.0,14.0,16.0,21.0,16.0,16.0,16.0,16.0,16.0,16.0,14.0,11.0,11.0,21.0,23.0,23.0,14.0,16.0,16.0,16.0,21.0,21.0,21.0,23.0,21.0,23.0,21.0,23.0,21.0,21.0,25.0,21.0,21.0,23.0,21.0,14.0,23.0,23.0,23.0,23.0,23.0,23.0,23.0,23.0,23.0,23.0,16.0,23.0,21.0,23.0,39.0,72.0],\"xaxis\":\"x\",\"y\":[12500.0,3250.0,4000.0,5000.0,6000.0,1000.0,1750.0,3000.0,2250.0,11500.0,5750.0,750.0,2500.0,3250.0,1500.0,1250.0,3500.0,3750.0,1500.0,750.0,750.0,2750.0,1500.0,1500.0,2250.0,3500.0,1500.0,3000.0,1250.0,2000.0,3500.0,2500.0,2500.0,2250.0,4000.0,2000.0,3000.0,1500.0,3500.0,1750.0,3250.0,1250.0,1250.0,1250.0,5000.0,2250.0,2250.0,500.0,500.0,500.0,2750.0,2750.0,1500.0,3000.0,1250.0,4750.0,2000.0,1750.0,4000.0,1500.0,1750.0,2000.0,2500.0,1250.0,750.0,4000.0,1000.0,500.0,1750.0,2250.0,1000.0,1000.0,4250.0,500.0,500.0,500.0,1000.0,500.0,500.0,500.0,1500.0,1000.0,1000.0,1000.0,1500.0,1500.0,500.0,500.0,500.0,1750.0,500.0,500.0,500.0,500.0,2750.0,1750.0,4250.0,2250.0,1000.0,1750.0,2000.0,3250.0,2250.0,1250.0,1250.0,4250.0,2000.0,1250.0,750.0,2500.0,1250.0,2250.0,1250.0,2000.0,3000.0,6000.0,1750.0,2750.0,1750.0,2750.0,750.0,1250.0,1500.0,1250.0,1000.0,1250.0,2000.0,1000.0,2000.0,500.0,1250.0,3000.0,500.0,1500.0,2750.0,750.0,1250.0,3000.0,1250.0,500.0,2250.0,3500.0,750.0,750.0,500.0,750.0,750.0,500.0,500.0,500.0,1750.0,1500.0,2750.0,250.0,250.0,250.0,250.0,250.0,250.0,250.0,250.0,250.0,250.0,250.0,250.0,250.0,250.0,250.0,250.0,250.0,250.0,250.0,250.0,250.0,250.0,2500.0,1000.0,1250.0,1500.0,750.0,1000.0,1000.0,1000.0,3000.0,2000.0,2250.0,1250.0,1000.0,3750.0,1250.0,1750.0,1750.0,1000.0,2750.0,500.0,1250.0,2000.0,1500.0,1750.0,2250.0,1500.0,1750.0,500.0,1750.0,2250.0,1500.0,500.0,1750.0,1500.0,750.0,250.0,250.0,250.0,250.0,250.0,250.0,250.0,250.0,250.0,250.0,250.0,250.0,250.0,250.0,250.0,250.0,250.0,750.0,250.0,250.0,250.0,250.0,250.0,2000.0,1750.0,2500.0,750.0,500.0,1000.0,2250.0,2000.0,5500.0,750.0,4250.0,500.0,1250.0,3000.0,3000.0,500.0,500.0,500.0,1500.0,2000.0,750.0,3250.0,750.0,2000.0,1750.0,750.0,3000.0,1000.0,3500.0,500.0,750.0,1250.0,1000.0,500.0,2000.0,1750.0,1000.0,2750.0,1750.0,500.0,1250.0,1250.0,1000.0,3250.0,750.0,4500.0,2000.0,4000.0,1000.0,1250.0,500.0,1250.0,500.0,500.0,500.0,1250.0,750.0,1000.0,3000.0,1000.0,1250.0,1250.0,1000.0,1250.0,500.0,500.0,500.0,500.0,500.0,500.0,750.0,1500.0,1250.0,1250.0,750.0,1000.0,750.0,1250.0,500.0,2250.0,250.0,250.0,500.0,500.0,1000.0,2250.0,1250.0,4000.0,1250.0,1000.0,2000.0,1750.0,500.0,500.0,4000.0,1000.0,1750.0,1750.0,1500.0,1500.0,1750.0,500.0,750.0,750.0,1750.0,250.0,750.0,1000.0,9500.0,1500.0,250.0,250.0,250.0,250.0,250.0,250.0,250.0,250.0,500.0,1250.0,500.0,1000.0,500.0,1500.0,750.0,500.0,4000.0,1500.0,500.0,750.0,3250.0,1500.0,500.0,3750.0,1000.0,500.0,1250.0,500.0,750.0,500.0,1000.0,1000.0,750.0,1250.0,250.0,250.0,250.0,250.0,250.0,250.0,250.0,250.0,1750.0,250.0,250.0,750.0,1750.0,1000.0,1000.0,500.0,1000.0,1000.0,2500.0,500.0,750.0,2000.0,750.0,500.0,1250.0,2000.0,750.0,1250.0,750.0,250.0,250.0,250.0,250.0,250.0,250.0,250.0,1000.0,250.0,250.0,250.0,250.0,250.0,500.0,500.0,500.0,500.0,500.0,1000.0,1250.0,500.0,1250.0,750.0,750.0,500.0,500.0,1750.0,1000.0,500.0,1750.0,500.0,750.0,3500.0,2000.0,750.0,750.0,500.0,750.0,3000.0,750.0,500.0,500.0,2000.0,750.0,750.0,750.0,500.0,250.0,250.0,250.0,250.0,250.0,250.0,250.0,250.0,250.0,250.0,250.0,250.0,1250.0,1000.0,1000.0,250.0,500.0,1250.0,750.0,750.0,750.0,500.0,1250.0,1500.0,250.0,250.0,250.0,250.0,250.0,250.0,250.0,250.0,1000.0,1500.0,750.0,500.0,750.0,500.0,750.0,1000.0,750.0,500.0,750.0,250.0,250.0,250.0,250.0,10750.0,5500.0,8500.0,11000.0,6500.0,10250.0,5250.0,2750.0,5250.0,3250.0,1000.0,2750.0,2750.0,3500.0,4000.0,1500.0,1250.0,8250.0,2500.0,2500.0,2750.0,2750.0,3250.0,2500.0,2250.0,1000.0,1250.0,3750.0,6000.0,1500.0,1250.0,1000.0,2000.0,1000.0,1500.0,1250.0,1750.0,1500.0,2000.0,500.0,1500.0,2500.0,4000.0,500.0,3500.0,500.0,3500.0,750.0,3000.0,1750.0,1000.0,1500.0,1500.0,750.0,1000.0,1000.0,1500.0,1500.0,1250.0,2000.0,2750.0,2250.0,4000.0,2500.0,3500.0,2250.0,1500.0,2250.0,1500.0,1500.0,1500.0,500.0,500.0,500.0,500.0,1500.0,1000.0,2250.0,1250.0,750.0,250.0,250.0,250.0,250.0,250.0,250.0,250.0,250.0,250.0,250.0,250.0,2750.0,750.0,2750.0,2750.0,1250.0,250.0,1500.0,750.0,2750.0,500.0,1500.0,750.0,2000.0,500.0,2750.0,1750.0,1750.0,250.0,250.0,250.0,250.0,250.0,250.0,250.0,250.0,250.0,250.0,250.0,250.0,1750.0,250.0,1000.0,1500.0,750.0,1250.0,2250.0,500.0,1250.0,2750.0,2250.0,500.0,750.0,3750.0,750.0,4000.0,1250.0,1750.0,1000.0,2250.0,2000.0,1250.0,1500.0,1250.0,500.0,500.0,500.0,500.0,750.0,2000.0,250.0,1250.0,1000.0,500.0,750.0,4000.0,500.0,2000.0,750.0,1750.0,1250.0,500.0,750.0,2000.0,250.0,250.0,250.0,250.0,250.0,750.0,750.0,1000.0,3750.0,3500.0,2500.0,750.0,750.0,4750.0,1750.0,750.0,3500.0,500.0,500.0,750.0,1000.0,1750.0,1750.0,1500.0,750.0,250.0,250.0,250.0,250.0,250.0,250.0,1750.0,750.0,750.0,1750.0,500.0,750.0,250.0,250.0,250.0,250.0,250.0,500.0,1000.0,500.0,1500.0,500.0,1500.0,500.0,1500.0,1000.0,1250.0,500.0,750.0,750.0,2000.0,750.0,750.0,750.0,500.0,250.0,250.0,1500.0,250.0,250.0,750.0,500.0,750.0,250.0,250.0,250.0,250.0,250.0,250.0,250.0,1000.0,250.0,1750.0,750.0,500.0,500.0,750.0,250.0,250.0],\"yaxis\":\"y\",\"type\":\"scatter\"}],                        {\"template\":{\"data\":{\"histogram2dcontour\":[{\"type\":\"histogram2dcontour\",\"colorbar\":{\"outlinewidth\":0,\"ticks\":\"\"},\"colorscale\":[[0.0,\"#0d0887\"],[0.1111111111111111,\"#46039f\"],[0.2222222222222222,\"#7201a8\"],[0.3333333333333333,\"#9c179e\"],[0.4444444444444444,\"#bd3786\"],[0.5555555555555556,\"#d8576b\"],[0.6666666666666666,\"#ed7953\"],[0.7777777777777778,\"#fb9f3a\"],[0.8888888888888888,\"#fdca26\"],[1.0,\"#f0f921\"]]}],\"choropleth\":[{\"type\":\"choropleth\",\"colorbar\":{\"outlinewidth\":0,\"ticks\":\"\"}}],\"histogram2d\":[{\"type\":\"histogram2d\",\"colorbar\":{\"outlinewidth\":0,\"ticks\":\"\"},\"colorscale\":[[0.0,\"#0d0887\"],[0.1111111111111111,\"#46039f\"],[0.2222222222222222,\"#7201a8\"],[0.3333333333333333,\"#9c179e\"],[0.4444444444444444,\"#bd3786\"],[0.5555555555555556,\"#d8576b\"],[0.6666666666666666,\"#ed7953\"],[0.7777777777777778,\"#fb9f3a\"],[0.8888888888888888,\"#fdca26\"],[1.0,\"#f0f921\"]]}],\"heatmap\":[{\"type\":\"heatmap\",\"colorbar\":{\"outlinewidth\":0,\"ticks\":\"\"},\"colorscale\":[[0.0,\"#0d0887\"],[0.1111111111111111,\"#46039f\"],[0.2222222222222222,\"#7201a8\"],[0.3333333333333333,\"#9c179e\"],[0.4444444444444444,\"#bd3786\"],[0.5555555555555556,\"#d8576b\"],[0.6666666666666666,\"#ed7953\"],[0.7777777777777778,\"#fb9f3a\"],[0.8888888888888888,\"#fdca26\"],[1.0,\"#f0f921\"]]}],\"heatmapgl\":[{\"type\":\"heatmapgl\",\"colorbar\":{\"outlinewidth\":0,\"ticks\":\"\"},\"colorscale\":[[0.0,\"#0d0887\"],[0.1111111111111111,\"#46039f\"],[0.2222222222222222,\"#7201a8\"],[0.3333333333333333,\"#9c179e\"],[0.4444444444444444,\"#bd3786\"],[0.5555555555555556,\"#d8576b\"],[0.6666666666666666,\"#ed7953\"],[0.7777777777777778,\"#fb9f3a\"],[0.8888888888888888,\"#fdca26\"],[1.0,\"#f0f921\"]]}],\"contourcarpet\":[{\"type\":\"contourcarpet\",\"colorbar\":{\"outlinewidth\":0,\"ticks\":\"\"}}],\"contour\":[{\"type\":\"contour\",\"colorbar\":{\"outlinewidth\":0,\"ticks\":\"\"},\"colorscale\":[[0.0,\"#0d0887\"],[0.1111111111111111,\"#46039f\"],[0.2222222222222222,\"#7201a8\"],[0.3333333333333333,\"#9c179e\"],[0.4444444444444444,\"#bd3786\"],[0.5555555555555556,\"#d8576b\"],[0.6666666666666666,\"#ed7953\"],[0.7777777777777778,\"#fb9f3a\"],[0.8888888888888888,\"#fdca26\"],[1.0,\"#f0f921\"]]}],\"surface\":[{\"type\":\"surface\",\"colorbar\":{\"outlinewidth\":0,\"ticks\":\"\"},\"colorscale\":[[0.0,\"#0d0887\"],[0.1111111111111111,\"#46039f\"],[0.2222222222222222,\"#7201a8\"],[0.3333333333333333,\"#9c179e\"],[0.4444444444444444,\"#bd3786\"],[0.5555555555555556,\"#d8576b\"],[0.6666666666666666,\"#ed7953\"],[0.7777777777777778,\"#fb9f3a\"],[0.8888888888888888,\"#fdca26\"],[1.0,\"#f0f921\"]]}],\"mesh3d\":[{\"type\":\"mesh3d\",\"colorbar\":{\"outlinewidth\":0,\"ticks\":\"\"}}],\"scatter\":[{\"fillpattern\":{\"fillmode\":\"overlay\",\"size\":10,\"solidity\":0.2},\"type\":\"scatter\"}],\"parcoords\":[{\"type\":\"parcoords\",\"line\":{\"colorbar\":{\"outlinewidth\":0,\"ticks\":\"\"}}}],\"scatterpolargl\":[{\"type\":\"scatterpolargl\",\"marker\":{\"colorbar\":{\"outlinewidth\":0,\"ticks\":\"\"}}}],\"bar\":[{\"error_x\":{\"color\":\"#2a3f5f\"},\"error_y\":{\"color\":\"#2a3f5f\"},\"marker\":{\"line\":{\"color\":\"#E5ECF6\",\"width\":0.5},\"pattern\":{\"fillmode\":\"overlay\",\"size\":10,\"solidity\":0.2}},\"type\":\"bar\"}],\"scattergeo\":[{\"type\":\"scattergeo\",\"marker\":{\"colorbar\":{\"outlinewidth\":0,\"ticks\":\"\"}}}],\"scatterpolar\":[{\"type\":\"scatterpolar\",\"marker\":{\"colorbar\":{\"outlinewidth\":0,\"ticks\":\"\"}}}],\"histogram\":[{\"marker\":{\"pattern\":{\"fillmode\":\"overlay\",\"size\":10,\"solidity\":0.2}},\"type\":\"histogram\"}],\"scattergl\":[{\"type\":\"scattergl\",\"marker\":{\"colorbar\":{\"outlinewidth\":0,\"ticks\":\"\"}}}],\"scatter3d\":[{\"type\":\"scatter3d\",\"line\":{\"colorbar\":{\"outlinewidth\":0,\"ticks\":\"\"}},\"marker\":{\"colorbar\":{\"outlinewidth\":0,\"ticks\":\"\"}}}],\"scattermapbox\":[{\"type\":\"scattermapbox\",\"marker\":{\"colorbar\":{\"outlinewidth\":0,\"ticks\":\"\"}}}],\"scatterternary\":[{\"type\":\"scatterternary\",\"marker\":{\"colorbar\":{\"outlinewidth\":0,\"ticks\":\"\"}}}],\"scattercarpet\":[{\"type\":\"scattercarpet\",\"marker\":{\"colorbar\":{\"outlinewidth\":0,\"ticks\":\"\"}}}],\"carpet\":[{\"aaxis\":{\"endlinecolor\":\"#2a3f5f\",\"gridcolor\":\"white\",\"linecolor\":\"white\",\"minorgridcolor\":\"white\",\"startlinecolor\":\"#2a3f5f\"},\"baxis\":{\"endlinecolor\":\"#2a3f5f\",\"gridcolor\":\"white\",\"linecolor\":\"white\",\"minorgridcolor\":\"white\",\"startlinecolor\":\"#2a3f5f\"},\"type\":\"carpet\"}],\"table\":[{\"cells\":{\"fill\":{\"color\":\"#EBF0F8\"},\"line\":{\"color\":\"white\"}},\"header\":{\"fill\":{\"color\":\"#C8D4E3\"},\"line\":{\"color\":\"white\"}},\"type\":\"table\"}],\"barpolar\":[{\"marker\":{\"line\":{\"color\":\"#E5ECF6\",\"width\":0.5},\"pattern\":{\"fillmode\":\"overlay\",\"size\":10,\"solidity\":0.2}},\"type\":\"barpolar\"}],\"pie\":[{\"automargin\":true,\"type\":\"pie\"}]},\"layout\":{\"autotypenumbers\":\"strict\",\"colorway\":[\"#636efa\",\"#EF553B\",\"#00cc96\",\"#ab63fa\",\"#FFA15A\",\"#19d3f3\",\"#FF6692\",\"#B6E880\",\"#FF97FF\",\"#FECB52\"],\"font\":{\"color\":\"#2a3f5f\"},\"hovermode\":\"closest\",\"hoverlabel\":{\"align\":\"left\"},\"paper_bgcolor\":\"white\",\"plot_bgcolor\":\"#E5ECF6\",\"polar\":{\"bgcolor\":\"#E5ECF6\",\"angularaxis\":{\"gridcolor\":\"white\",\"linecolor\":\"white\",\"ticks\":\"\"},\"radialaxis\":{\"gridcolor\":\"white\",\"linecolor\":\"white\",\"ticks\":\"\"}},\"ternary\":{\"bgcolor\":\"#E5ECF6\",\"aaxis\":{\"gridcolor\":\"white\",\"linecolor\":\"white\",\"ticks\":\"\"},\"baxis\":{\"gridcolor\":\"white\",\"linecolor\":\"white\",\"ticks\":\"\"},\"caxis\":{\"gridcolor\":\"white\",\"linecolor\":\"white\",\"ticks\":\"\"}},\"coloraxis\":{\"colorbar\":{\"outlinewidth\":0,\"ticks\":\"\"}},\"colorscale\":{\"sequential\":[[0.0,\"#0d0887\"],[0.1111111111111111,\"#46039f\"],[0.2222222222222222,\"#7201a8\"],[0.3333333333333333,\"#9c179e\"],[0.4444444444444444,\"#bd3786\"],[0.5555555555555556,\"#d8576b\"],[0.6666666666666666,\"#ed7953\"],[0.7777777777777778,\"#fb9f3a\"],[0.8888888888888888,\"#fdca26\"],[1.0,\"#f0f921\"]],\"sequentialminus\":[[0.0,\"#0d0887\"],[0.1111111111111111,\"#46039f\"],[0.2222222222222222,\"#7201a8\"],[0.3333333333333333,\"#9c179e\"],[0.4444444444444444,\"#bd3786\"],[0.5555555555555556,\"#d8576b\"],[0.6666666666666666,\"#ed7953\"],[0.7777777777777778,\"#fb9f3a\"],[0.8888888888888888,\"#fdca26\"],[1.0,\"#f0f921\"]],\"diverging\":[[0,\"#8e0152\"],[0.1,\"#c51b7d\"],[0.2,\"#de77ae\"],[0.3,\"#f1b6da\"],[0.4,\"#fde0ef\"],[0.5,\"#f7f7f7\"],[0.6,\"#e6f5d0\"],[0.7,\"#b8e186\"],[0.8,\"#7fbc41\"],[0.9,\"#4d9221\"],[1,\"#276419\"]]},\"xaxis\":{\"gridcolor\":\"white\",\"linecolor\":\"white\",\"ticks\":\"\",\"title\":{\"standoff\":15},\"zerolinecolor\":\"white\",\"automargin\":true,\"zerolinewidth\":2},\"yaxis\":{\"gridcolor\":\"white\",\"linecolor\":\"white\",\"ticks\":\"\",\"title\":{\"standoff\":15},\"zerolinecolor\":\"white\",\"automargin\":true,\"zerolinewidth\":2},\"scene\":{\"xaxis\":{\"backgroundcolor\":\"#E5ECF6\",\"gridcolor\":\"white\",\"linecolor\":\"white\",\"showbackground\":true,\"ticks\":\"\",\"zerolinecolor\":\"white\",\"gridwidth\":2},\"yaxis\":{\"backgroundcolor\":\"#E5ECF6\",\"gridcolor\":\"white\",\"linecolor\":\"white\",\"showbackground\":true,\"ticks\":\"\",\"zerolinecolor\":\"white\",\"gridwidth\":2},\"zaxis\":{\"backgroundcolor\":\"#E5ECF6\",\"gridcolor\":\"white\",\"linecolor\":\"white\",\"showbackground\":true,\"ticks\":\"\",\"zerolinecolor\":\"white\",\"gridwidth\":2}},\"shapedefaults\":{\"line\":{\"color\":\"#2a3f5f\"}},\"annotationdefaults\":{\"arrowcolor\":\"#2a3f5f\",\"arrowhead\":0,\"arrowwidth\":1},\"geo\":{\"bgcolor\":\"white\",\"landcolor\":\"#E5ECF6\",\"subunitcolor\":\"white\",\"showland\":true,\"showlakes\":true,\"lakecolor\":\"white\"},\"title\":{\"x\":0.05},\"mapbox\":{\"style\":\"light\"}}},\"xaxis\":{\"anchor\":\"y\",\"domain\":[0.0,1.0],\"title\":{\"text\":\"months_since_last_donation\"}},\"yaxis\":{\"anchor\":\"x\",\"domain\":[0.0,1.0],\"title\":{\"text\":\"total_blood_donated\"}},\"legend\":{\"tracegroupgap\":0},\"margin\":{\"t\":60}},                        {\"responsive\": true}                    ).then(function(){\n",
              "                            \n",
              "var gd = document.getElementById('4ea701de-7664-4987-a213-46df538517d9');\n",
              "var x = new MutationObserver(function (mutations, observer) {{\n",
              "        var display = window.getComputedStyle(gd).display;\n",
              "        if (!display || display === 'none') {{\n",
              "            console.log([gd, 'removed!']);\n",
              "            Plotly.purge(gd);\n",
              "            observer.disconnect();\n",
              "        }}\n",
              "}});\n",
              "\n",
              "// Listen for the removal of the full notebook cells\n",
              "var notebookContainer = gd.closest('#notebook-container');\n",
              "if (notebookContainer) {{\n",
              "    x.observe(notebookContainer, {childList: true});\n",
              "}}\n",
              "\n",
              "// Listen for the clearing of the current output cell\n",
              "var outputEl = gd.closest('.output');\n",
              "if (outputEl) {{\n",
              "    x.observe(outputEl, {childList: true});\n",
              "}}\n",
              "\n",
              "                        })                };                            </script>        </div>\n",
              "</body>\n",
              "</html>"
            ]
          },
          "metadata": {}
        }
      ]
    },
    {
      "cell_type": "markdown",
      "source": [
        "### Total Blood Donated vs. Months Since Last Donation\n",
        "The scatterplot visualizes the relationship between **’months_since_last_donation’** (x-axis) and **‘total_blood_donated’** (y-axis).\n",
        "\n",
        "\n",
        "**Observations:**\n",
        "- Most data points are concentrated between **0 and 24 months** since last donation, revealing that the majority of donors returned to donate blood within the past 2 years.\n",
        "- A smaller number of records extend beyond **30 months**, representing donors with longer intervals between donations.\n",
        "A few donors also donated **very high total blood volumes** (above **8,000 ml**), appearing clearly above the main cluster of data points.\n",
        "- These figures are valid data points but represent **rare outliers**—individuals who donate more frequently and therefore accumulate higher blood donation totals.\n",
        "- Conversely, records with **less than one month since last donation** were also identified as atypical, since most donors do not return that frequently.\n",
        "- Donors with **shorter intervals between donations** tend to have **higher total blood donated**, indicating a mild inverse relationship between months since last donation and total blood volume donated.\n",
        "- Overall, there does not appear to be a strong linear trend, but a weak pattern suggests that more frequent donors generally accumulate higher donation totals.\n",
        "\n",
        "\n",
        "This scatterplot revealed a small number of **extreme values** that appeared to skew the dataset.\n",
        "\n",
        "Because these rare or infrequent cases differ from the main distribution, they will be addressed in **Task 2 – Preprocessing** to ensure that all subsequent analyses accurately reflect typical donor behavior.\n"
      ],
      "metadata": {
        "id": "Hesn1kLWKDpH"
      }
    },
    {
      "cell_type": "markdown",
      "source": [
        "## Task 1.2 - Visualizating Class Differences"
      ],
      "metadata": {
        "id": "WInHSy9UKGMI"
      }
    },
    {
      "cell_type": "markdown",
      "source": [
        "### **Summary**\n",
        "\n",
        "The comparison of averages across both classes show consistent behavioral differences:\n",
        "- Returning donors have **donated more recently** (‘months_since_last_donation’), **more frequently** (’total_number_of_donations’), and **in greater total volume** (‘total_blood_donated’).\n",
        "- The overall **donor history duration** (‘months_since_first_donation’) remains similar between groups.\n",
        "\n",
        "*These class-level distinctions will be preserved in subsequent preprocessing and visualizations, while outliers identified will be addressed to ensure the dataset is accurately analyzed for meaningful insights on donor behavior.*\n"
      ],
      "metadata": {
        "id": "cso1d9d1gdO9"
      }
    },
    {
      "cell_type": "code",
      "source": [
        "# Prepare dataframe for visualization:\n",
        "df_mean = df.groupby(['class'],as_index=False).mean().copy()\n",
        "df_mean['class'] = df_mean['class'].map({0: \"Did not return\", 1: \"Returned\"})"
      ],
      "metadata": {
        "id": "nDkwscgKKGkF"
      },
      "execution_count": 6,
      "outputs": []
    },
    {
      "cell_type": "code",
      "source": [
        "# classes vs. months_since_last_donation\n",
        "fig1 = px.bar(\n",
        "    data_frame = df_mean,\n",
        "    x = df_mean['class'],\n",
        "    y = df_mean['months_since_last_donation'],\n",
        "    color = df_mean['class'],\n",
        "    labels={'months_since_last_donation':'average (#months)'},\n",
        "    title=\"Average amount of months since last donation\",\n",
        "    color_discrete_sequence=['steelblue','darkred']\n",
        "    )\n",
        "\n",
        "fig1.update_xaxes(type='category')\n",
        "\n",
        "fig1.show()"
      ],
      "metadata": {
        "id": "DXWHBsBsKJHA",
        "outputId": "eaf151e6-c1d1-4cf4-8ab9-12179dfe9ff4",
        "colab": {
          "base_uri": "https://localhost:8080/",
          "height": 542
        }
      },
      "execution_count": 7,
      "outputs": [
        {
          "output_type": "display_data",
          "data": {
            "text/html": [
              "<html>\n",
              "<head><meta charset=\"utf-8\" /></head>\n",
              "<body>\n",
              "    <div>            <script src=\"https://cdnjs.cloudflare.com/ajax/libs/mathjax/2.7.5/MathJax.js?config=TeX-AMS-MML_SVG\"></script><script type=\"text/javascript\">if (window.MathJax && window.MathJax.Hub && window.MathJax.Hub.Config) {window.MathJax.Hub.Config({SVG: {font: \"STIX-Web\"}});}</script>                <script type=\"text/javascript\">window.PlotlyConfig = {MathJaxConfig: 'local'};</script>\n",
              "        <script charset=\"utf-8\" src=\"https://cdn.plot.ly/plotly-2.35.2.min.js\"></script>                <div id=\"9839c8d9-71a4-40b0-8d18-8cc6ed00d0be\" class=\"plotly-graph-div\" style=\"height:525px; width:100%;\"></div>            <script type=\"text/javascript\">                                    window.PLOTLYENV=window.PLOTLYENV || {};                                    if (document.getElementById(\"9839c8d9-71a4-40b0-8d18-8cc6ed00d0be\")) {                    Plotly.newPlot(                        \"9839c8d9-71a4-40b0-8d18-8cc6ed00d0be\",                        [{\"alignmentgroup\":\"True\",\"hovertemplate\":\"class=%{x}\\u003cbr\\u003eaverage (#months)=%{y}\\u003cextra\\u003e\\u003c\\u002fextra\\u003e\",\"legendgroup\":\"Did not return\",\"marker\":{\"color\":\"steelblue\",\"pattern\":{\"shape\":\"\"}},\"name\":\"Did not return\",\"offsetgroup\":\"Did not return\",\"orientation\":\"v\",\"showlegend\":true,\"textposition\":\"auto\",\"x\":[\"Did not return\"],\"xaxis\":\"x\",\"y\":[10.771929824561404],\"yaxis\":\"y\",\"type\":\"bar\"},{\"alignmentgroup\":\"True\",\"hovertemplate\":\"class=%{x}\\u003cbr\\u003eaverage (#months)=%{y}\\u003cextra\\u003e\\u003c\\u002fextra\\u003e\",\"legendgroup\":\"Returned\",\"marker\":{\"color\":\"darkred\",\"pattern\":{\"shape\":\"\"}},\"name\":\"Returned\",\"offsetgroup\":\"Returned\",\"orientation\":\"v\",\"showlegend\":true,\"textposition\":\"auto\",\"x\":[\"Returned\"],\"xaxis\":\"x\",\"y\":[5.455056179775281],\"yaxis\":\"y\",\"type\":\"bar\"}],                        {\"template\":{\"data\":{\"histogram2dcontour\":[{\"type\":\"histogram2dcontour\",\"colorbar\":{\"outlinewidth\":0,\"ticks\":\"\"},\"colorscale\":[[0.0,\"#0d0887\"],[0.1111111111111111,\"#46039f\"],[0.2222222222222222,\"#7201a8\"],[0.3333333333333333,\"#9c179e\"],[0.4444444444444444,\"#bd3786\"],[0.5555555555555556,\"#d8576b\"],[0.6666666666666666,\"#ed7953\"],[0.7777777777777778,\"#fb9f3a\"],[0.8888888888888888,\"#fdca26\"],[1.0,\"#f0f921\"]]}],\"choropleth\":[{\"type\":\"choropleth\",\"colorbar\":{\"outlinewidth\":0,\"ticks\":\"\"}}],\"histogram2d\":[{\"type\":\"histogram2d\",\"colorbar\":{\"outlinewidth\":0,\"ticks\":\"\"},\"colorscale\":[[0.0,\"#0d0887\"],[0.1111111111111111,\"#46039f\"],[0.2222222222222222,\"#7201a8\"],[0.3333333333333333,\"#9c179e\"],[0.4444444444444444,\"#bd3786\"],[0.5555555555555556,\"#d8576b\"],[0.6666666666666666,\"#ed7953\"],[0.7777777777777778,\"#fb9f3a\"],[0.8888888888888888,\"#fdca26\"],[1.0,\"#f0f921\"]]}],\"heatmap\":[{\"type\":\"heatmap\",\"colorbar\":{\"outlinewidth\":0,\"ticks\":\"\"},\"colorscale\":[[0.0,\"#0d0887\"],[0.1111111111111111,\"#46039f\"],[0.2222222222222222,\"#7201a8\"],[0.3333333333333333,\"#9c179e\"],[0.4444444444444444,\"#bd3786\"],[0.5555555555555556,\"#d8576b\"],[0.6666666666666666,\"#ed7953\"],[0.7777777777777778,\"#fb9f3a\"],[0.8888888888888888,\"#fdca26\"],[1.0,\"#f0f921\"]]}],\"heatmapgl\":[{\"type\":\"heatmapgl\",\"colorbar\":{\"outlinewidth\":0,\"ticks\":\"\"},\"colorscale\":[[0.0,\"#0d0887\"],[0.1111111111111111,\"#46039f\"],[0.2222222222222222,\"#7201a8\"],[0.3333333333333333,\"#9c179e\"],[0.4444444444444444,\"#bd3786\"],[0.5555555555555556,\"#d8576b\"],[0.6666666666666666,\"#ed7953\"],[0.7777777777777778,\"#fb9f3a\"],[0.8888888888888888,\"#fdca26\"],[1.0,\"#f0f921\"]]}],\"contourcarpet\":[{\"type\":\"contourcarpet\",\"colorbar\":{\"outlinewidth\":0,\"ticks\":\"\"}}],\"contour\":[{\"type\":\"contour\",\"colorbar\":{\"outlinewidth\":0,\"ticks\":\"\"},\"colorscale\":[[0.0,\"#0d0887\"],[0.1111111111111111,\"#46039f\"],[0.2222222222222222,\"#7201a8\"],[0.3333333333333333,\"#9c179e\"],[0.4444444444444444,\"#bd3786\"],[0.5555555555555556,\"#d8576b\"],[0.6666666666666666,\"#ed7953\"],[0.7777777777777778,\"#fb9f3a\"],[0.8888888888888888,\"#fdca26\"],[1.0,\"#f0f921\"]]}],\"surface\":[{\"type\":\"surface\",\"colorbar\":{\"outlinewidth\":0,\"ticks\":\"\"},\"colorscale\":[[0.0,\"#0d0887\"],[0.1111111111111111,\"#46039f\"],[0.2222222222222222,\"#7201a8\"],[0.3333333333333333,\"#9c179e\"],[0.4444444444444444,\"#bd3786\"],[0.5555555555555556,\"#d8576b\"],[0.6666666666666666,\"#ed7953\"],[0.7777777777777778,\"#fb9f3a\"],[0.8888888888888888,\"#fdca26\"],[1.0,\"#f0f921\"]]}],\"mesh3d\":[{\"type\":\"mesh3d\",\"colorbar\":{\"outlinewidth\":0,\"ticks\":\"\"}}],\"scatter\":[{\"fillpattern\":{\"fillmode\":\"overlay\",\"size\":10,\"solidity\":0.2},\"type\":\"scatter\"}],\"parcoords\":[{\"type\":\"parcoords\",\"line\":{\"colorbar\":{\"outlinewidth\":0,\"ticks\":\"\"}}}],\"scatterpolargl\":[{\"type\":\"scatterpolargl\",\"marker\":{\"colorbar\":{\"outlinewidth\":0,\"ticks\":\"\"}}}],\"bar\":[{\"error_x\":{\"color\":\"#2a3f5f\"},\"error_y\":{\"color\":\"#2a3f5f\"},\"marker\":{\"line\":{\"color\":\"#E5ECF6\",\"width\":0.5},\"pattern\":{\"fillmode\":\"overlay\",\"size\":10,\"solidity\":0.2}},\"type\":\"bar\"}],\"scattergeo\":[{\"type\":\"scattergeo\",\"marker\":{\"colorbar\":{\"outlinewidth\":0,\"ticks\":\"\"}}}],\"scatterpolar\":[{\"type\":\"scatterpolar\",\"marker\":{\"colorbar\":{\"outlinewidth\":0,\"ticks\":\"\"}}}],\"histogram\":[{\"marker\":{\"pattern\":{\"fillmode\":\"overlay\",\"size\":10,\"solidity\":0.2}},\"type\":\"histogram\"}],\"scattergl\":[{\"type\":\"scattergl\",\"marker\":{\"colorbar\":{\"outlinewidth\":0,\"ticks\":\"\"}}}],\"scatter3d\":[{\"type\":\"scatter3d\",\"line\":{\"colorbar\":{\"outlinewidth\":0,\"ticks\":\"\"}},\"marker\":{\"colorbar\":{\"outlinewidth\":0,\"ticks\":\"\"}}}],\"scattermapbox\":[{\"type\":\"scattermapbox\",\"marker\":{\"colorbar\":{\"outlinewidth\":0,\"ticks\":\"\"}}}],\"scatterternary\":[{\"type\":\"scatterternary\",\"marker\":{\"colorbar\":{\"outlinewidth\":0,\"ticks\":\"\"}}}],\"scattercarpet\":[{\"type\":\"scattercarpet\",\"marker\":{\"colorbar\":{\"outlinewidth\":0,\"ticks\":\"\"}}}],\"carpet\":[{\"aaxis\":{\"endlinecolor\":\"#2a3f5f\",\"gridcolor\":\"white\",\"linecolor\":\"white\",\"minorgridcolor\":\"white\",\"startlinecolor\":\"#2a3f5f\"},\"baxis\":{\"endlinecolor\":\"#2a3f5f\",\"gridcolor\":\"white\",\"linecolor\":\"white\",\"minorgridcolor\":\"white\",\"startlinecolor\":\"#2a3f5f\"},\"type\":\"carpet\"}],\"table\":[{\"cells\":{\"fill\":{\"color\":\"#EBF0F8\"},\"line\":{\"color\":\"white\"}},\"header\":{\"fill\":{\"color\":\"#C8D4E3\"},\"line\":{\"color\":\"white\"}},\"type\":\"table\"}],\"barpolar\":[{\"marker\":{\"line\":{\"color\":\"#E5ECF6\",\"width\":0.5},\"pattern\":{\"fillmode\":\"overlay\",\"size\":10,\"solidity\":0.2}},\"type\":\"barpolar\"}],\"pie\":[{\"automargin\":true,\"type\":\"pie\"}]},\"layout\":{\"autotypenumbers\":\"strict\",\"colorway\":[\"#636efa\",\"#EF553B\",\"#00cc96\",\"#ab63fa\",\"#FFA15A\",\"#19d3f3\",\"#FF6692\",\"#B6E880\",\"#FF97FF\",\"#FECB52\"],\"font\":{\"color\":\"#2a3f5f\"},\"hovermode\":\"closest\",\"hoverlabel\":{\"align\":\"left\"},\"paper_bgcolor\":\"white\",\"plot_bgcolor\":\"#E5ECF6\",\"polar\":{\"bgcolor\":\"#E5ECF6\",\"angularaxis\":{\"gridcolor\":\"white\",\"linecolor\":\"white\",\"ticks\":\"\"},\"radialaxis\":{\"gridcolor\":\"white\",\"linecolor\":\"white\",\"ticks\":\"\"}},\"ternary\":{\"bgcolor\":\"#E5ECF6\",\"aaxis\":{\"gridcolor\":\"white\",\"linecolor\":\"white\",\"ticks\":\"\"},\"baxis\":{\"gridcolor\":\"white\",\"linecolor\":\"white\",\"ticks\":\"\"},\"caxis\":{\"gridcolor\":\"white\",\"linecolor\":\"white\",\"ticks\":\"\"}},\"coloraxis\":{\"colorbar\":{\"outlinewidth\":0,\"ticks\":\"\"}},\"colorscale\":{\"sequential\":[[0.0,\"#0d0887\"],[0.1111111111111111,\"#46039f\"],[0.2222222222222222,\"#7201a8\"],[0.3333333333333333,\"#9c179e\"],[0.4444444444444444,\"#bd3786\"],[0.5555555555555556,\"#d8576b\"],[0.6666666666666666,\"#ed7953\"],[0.7777777777777778,\"#fb9f3a\"],[0.8888888888888888,\"#fdca26\"],[1.0,\"#f0f921\"]],\"sequentialminus\":[[0.0,\"#0d0887\"],[0.1111111111111111,\"#46039f\"],[0.2222222222222222,\"#7201a8\"],[0.3333333333333333,\"#9c179e\"],[0.4444444444444444,\"#bd3786\"],[0.5555555555555556,\"#d8576b\"],[0.6666666666666666,\"#ed7953\"],[0.7777777777777778,\"#fb9f3a\"],[0.8888888888888888,\"#fdca26\"],[1.0,\"#f0f921\"]],\"diverging\":[[0,\"#8e0152\"],[0.1,\"#c51b7d\"],[0.2,\"#de77ae\"],[0.3,\"#f1b6da\"],[0.4,\"#fde0ef\"],[0.5,\"#f7f7f7\"],[0.6,\"#e6f5d0\"],[0.7,\"#b8e186\"],[0.8,\"#7fbc41\"],[0.9,\"#4d9221\"],[1,\"#276419\"]]},\"xaxis\":{\"gridcolor\":\"white\",\"linecolor\":\"white\",\"ticks\":\"\",\"title\":{\"standoff\":15},\"zerolinecolor\":\"white\",\"automargin\":true,\"zerolinewidth\":2},\"yaxis\":{\"gridcolor\":\"white\",\"linecolor\":\"white\",\"ticks\":\"\",\"title\":{\"standoff\":15},\"zerolinecolor\":\"white\",\"automargin\":true,\"zerolinewidth\":2},\"scene\":{\"xaxis\":{\"backgroundcolor\":\"#E5ECF6\",\"gridcolor\":\"white\",\"linecolor\":\"white\",\"showbackground\":true,\"ticks\":\"\",\"zerolinecolor\":\"white\",\"gridwidth\":2},\"yaxis\":{\"backgroundcolor\":\"#E5ECF6\",\"gridcolor\":\"white\",\"linecolor\":\"white\",\"showbackground\":true,\"ticks\":\"\",\"zerolinecolor\":\"white\",\"gridwidth\":2},\"zaxis\":{\"backgroundcolor\":\"#E5ECF6\",\"gridcolor\":\"white\",\"linecolor\":\"white\",\"showbackground\":true,\"ticks\":\"\",\"zerolinecolor\":\"white\",\"gridwidth\":2}},\"shapedefaults\":{\"line\":{\"color\":\"#2a3f5f\"}},\"annotationdefaults\":{\"arrowcolor\":\"#2a3f5f\",\"arrowhead\":0,\"arrowwidth\":1},\"geo\":{\"bgcolor\":\"white\",\"landcolor\":\"#E5ECF6\",\"subunitcolor\":\"white\",\"showland\":true,\"showlakes\":true,\"lakecolor\":\"white\"},\"title\":{\"x\":0.05},\"mapbox\":{\"style\":\"light\"}}},\"xaxis\":{\"anchor\":\"y\",\"domain\":[0.0,1.0],\"title\":{\"text\":\"class\"},\"categoryorder\":\"array\",\"categoryarray\":[\"Did not return\",\"Returned\"],\"type\":\"category\"},\"yaxis\":{\"anchor\":\"x\",\"domain\":[0.0,1.0],\"title\":{\"text\":\"average (#months)\"}},\"legend\":{\"title\":{\"text\":\"class\"},\"tracegroupgap\":0},\"title\":{\"text\":\"Average amount of months since last donation\"},\"barmode\":\"relative\"},                        {\"responsive\": true}                    ).then(function(){\n",
              "                            \n",
              "var gd = document.getElementById('9839c8d9-71a4-40b0-8d18-8cc6ed00d0be');\n",
              "var x = new MutationObserver(function (mutations, observer) {{\n",
              "        var display = window.getComputedStyle(gd).display;\n",
              "        if (!display || display === 'none') {{\n",
              "            console.log([gd, 'removed!']);\n",
              "            Plotly.purge(gd);\n",
              "            observer.disconnect();\n",
              "        }}\n",
              "}});\n",
              "\n",
              "// Listen for the removal of the full notebook cells\n",
              "var notebookContainer = gd.closest('#notebook-container');\n",
              "if (notebookContainer) {{\n",
              "    x.observe(notebookContainer, {childList: true});\n",
              "}}\n",
              "\n",
              "// Listen for the clearing of the current output cell\n",
              "var outputEl = gd.closest('.output');\n",
              "if (outputEl) {{\n",
              "    x.observe(outputEl, {childList: true});\n",
              "}}\n",
              "\n",
              "                        })                };                            </script>        </div>\n",
              "</body>\n",
              "</html>"
            ]
          },
          "metadata": {}
        }
      ]
    },
    {
      "cell_type": "markdown",
      "source": [
        "### Average Months Since Last Donation\n",
        "- Donors who **did not return** (‘0’) have a higher average number of months since their last donation (around 10 months).\n",
        "- Donors who **returned** (‘1’) donated more recently, averaging about 6 months since their last donation.\n",
        "- Donors with **longer intervals between donations** (‘months_since_last_donation’) are more commonly associated with donors that did not return.\n",
        "- Overall, the majority of donors with longer gaps between donations appear to be **less likely to return**.\n"
      ],
      "metadata": {
        "id": "tdiAD95ufMHA"
      }
    },
    {
      "cell_type": "code",
      "source": [
        "# classes vs. total_number_of_donations\n",
        "fig2 = px.bar(\n",
        "    data_frame = df_mean,\n",
        "    x = df_mean['class'],\n",
        "    y = df_mean['total_number_of_donations'],\n",
        "    color = df_mean['class'],\n",
        "    labels={'total_number_of_donations':'average (#Donations)',},\n",
        "    title=\"Average amount of donations\",\n",
        "    color_discrete_sequence=['steelblue','darkred']\n",
        "    )\n",
        "\n",
        "fig2.update_xaxes(type='category')\n",
        "\n",
        "fig2.show()"
      ],
      "metadata": {
        "id": "NsiOYaGlKO5L",
        "outputId": "7ae2985f-e202-4615-d995-7a602dc1e59d",
        "colab": {
          "base_uri": "https://localhost:8080/",
          "height": 542
        }
      },
      "execution_count": 8,
      "outputs": [
        {
          "output_type": "display_data",
          "data": {
            "text/html": [
              "<html>\n",
              "<head><meta charset=\"utf-8\" /></head>\n",
              "<body>\n",
              "    <div>            <script src=\"https://cdnjs.cloudflare.com/ajax/libs/mathjax/2.7.5/MathJax.js?config=TeX-AMS-MML_SVG\"></script><script type=\"text/javascript\">if (window.MathJax && window.MathJax.Hub && window.MathJax.Hub.Config) {window.MathJax.Hub.Config({SVG: {font: \"STIX-Web\"}});}</script>                <script type=\"text/javascript\">window.PlotlyConfig = {MathJaxConfig: 'local'};</script>\n",
              "        <script charset=\"utf-8\" src=\"https://cdn.plot.ly/plotly-2.35.2.min.js\"></script>                <div id=\"18c0a22b-9b16-4aca-abc3-f4290c724df6\" class=\"plotly-graph-div\" style=\"height:525px; width:100%;\"></div>            <script type=\"text/javascript\">                                    window.PLOTLYENV=window.PLOTLYENV || {};                                    if (document.getElementById(\"18c0a22b-9b16-4aca-abc3-f4290c724df6\")) {                    Plotly.newPlot(                        \"18c0a22b-9b16-4aca-abc3-f4290c724df6\",                        [{\"alignmentgroup\":\"True\",\"hovertemplate\":\"class=%{x}\\u003cbr\\u003eaverage (#Donations)=%{y}\\u003cextra\\u003e\\u003c\\u002fextra\\u003e\",\"legendgroup\":\"Did not return\",\"marker\":{\"color\":\"steelblue\",\"pattern\":{\"shape\":\"\"}},\"name\":\"Did not return\",\"offsetgroup\":\"Did not return\",\"orientation\":\"v\",\"showlegend\":true,\"textposition\":\"auto\",\"x\":[\"Did not return\"],\"xaxis\":\"x\",\"y\":[4.801754385964912],\"yaxis\":\"y\",\"type\":\"bar\"},{\"alignmentgroup\":\"True\",\"hovertemplate\":\"class=%{x}\\u003cbr\\u003eaverage (#Donations)=%{y}\\u003cextra\\u003e\\u003c\\u002fextra\\u003e\",\"legendgroup\":\"Returned\",\"marker\":{\"color\":\"darkred\",\"pattern\":{\"shape\":\"\"}},\"name\":\"Returned\",\"offsetgroup\":\"Returned\",\"orientation\":\"v\",\"showlegend\":true,\"textposition\":\"auto\",\"x\":[\"Returned\"],\"xaxis\":\"x\",\"y\":[7.797752808988764],\"yaxis\":\"y\",\"type\":\"bar\"}],                        {\"template\":{\"data\":{\"histogram2dcontour\":[{\"type\":\"histogram2dcontour\",\"colorbar\":{\"outlinewidth\":0,\"ticks\":\"\"},\"colorscale\":[[0.0,\"#0d0887\"],[0.1111111111111111,\"#46039f\"],[0.2222222222222222,\"#7201a8\"],[0.3333333333333333,\"#9c179e\"],[0.4444444444444444,\"#bd3786\"],[0.5555555555555556,\"#d8576b\"],[0.6666666666666666,\"#ed7953\"],[0.7777777777777778,\"#fb9f3a\"],[0.8888888888888888,\"#fdca26\"],[1.0,\"#f0f921\"]]}],\"choropleth\":[{\"type\":\"choropleth\",\"colorbar\":{\"outlinewidth\":0,\"ticks\":\"\"}}],\"histogram2d\":[{\"type\":\"histogram2d\",\"colorbar\":{\"outlinewidth\":0,\"ticks\":\"\"},\"colorscale\":[[0.0,\"#0d0887\"],[0.1111111111111111,\"#46039f\"],[0.2222222222222222,\"#7201a8\"],[0.3333333333333333,\"#9c179e\"],[0.4444444444444444,\"#bd3786\"],[0.5555555555555556,\"#d8576b\"],[0.6666666666666666,\"#ed7953\"],[0.7777777777777778,\"#fb9f3a\"],[0.8888888888888888,\"#fdca26\"],[1.0,\"#f0f921\"]]}],\"heatmap\":[{\"type\":\"heatmap\",\"colorbar\":{\"outlinewidth\":0,\"ticks\":\"\"},\"colorscale\":[[0.0,\"#0d0887\"],[0.1111111111111111,\"#46039f\"],[0.2222222222222222,\"#7201a8\"],[0.3333333333333333,\"#9c179e\"],[0.4444444444444444,\"#bd3786\"],[0.5555555555555556,\"#d8576b\"],[0.6666666666666666,\"#ed7953\"],[0.7777777777777778,\"#fb9f3a\"],[0.8888888888888888,\"#fdca26\"],[1.0,\"#f0f921\"]]}],\"heatmapgl\":[{\"type\":\"heatmapgl\",\"colorbar\":{\"outlinewidth\":0,\"ticks\":\"\"},\"colorscale\":[[0.0,\"#0d0887\"],[0.1111111111111111,\"#46039f\"],[0.2222222222222222,\"#7201a8\"],[0.3333333333333333,\"#9c179e\"],[0.4444444444444444,\"#bd3786\"],[0.5555555555555556,\"#d8576b\"],[0.6666666666666666,\"#ed7953\"],[0.7777777777777778,\"#fb9f3a\"],[0.8888888888888888,\"#fdca26\"],[1.0,\"#f0f921\"]]}],\"contourcarpet\":[{\"type\":\"contourcarpet\",\"colorbar\":{\"outlinewidth\":0,\"ticks\":\"\"}}],\"contour\":[{\"type\":\"contour\",\"colorbar\":{\"outlinewidth\":0,\"ticks\":\"\"},\"colorscale\":[[0.0,\"#0d0887\"],[0.1111111111111111,\"#46039f\"],[0.2222222222222222,\"#7201a8\"],[0.3333333333333333,\"#9c179e\"],[0.4444444444444444,\"#bd3786\"],[0.5555555555555556,\"#d8576b\"],[0.6666666666666666,\"#ed7953\"],[0.7777777777777778,\"#fb9f3a\"],[0.8888888888888888,\"#fdca26\"],[1.0,\"#f0f921\"]]}],\"surface\":[{\"type\":\"surface\",\"colorbar\":{\"outlinewidth\":0,\"ticks\":\"\"},\"colorscale\":[[0.0,\"#0d0887\"],[0.1111111111111111,\"#46039f\"],[0.2222222222222222,\"#7201a8\"],[0.3333333333333333,\"#9c179e\"],[0.4444444444444444,\"#bd3786\"],[0.5555555555555556,\"#d8576b\"],[0.6666666666666666,\"#ed7953\"],[0.7777777777777778,\"#fb9f3a\"],[0.8888888888888888,\"#fdca26\"],[1.0,\"#f0f921\"]]}],\"mesh3d\":[{\"type\":\"mesh3d\",\"colorbar\":{\"outlinewidth\":0,\"ticks\":\"\"}}],\"scatter\":[{\"fillpattern\":{\"fillmode\":\"overlay\",\"size\":10,\"solidity\":0.2},\"type\":\"scatter\"}],\"parcoords\":[{\"type\":\"parcoords\",\"line\":{\"colorbar\":{\"outlinewidth\":0,\"ticks\":\"\"}}}],\"scatterpolargl\":[{\"type\":\"scatterpolargl\",\"marker\":{\"colorbar\":{\"outlinewidth\":0,\"ticks\":\"\"}}}],\"bar\":[{\"error_x\":{\"color\":\"#2a3f5f\"},\"error_y\":{\"color\":\"#2a3f5f\"},\"marker\":{\"line\":{\"color\":\"#E5ECF6\",\"width\":0.5},\"pattern\":{\"fillmode\":\"overlay\",\"size\":10,\"solidity\":0.2}},\"type\":\"bar\"}],\"scattergeo\":[{\"type\":\"scattergeo\",\"marker\":{\"colorbar\":{\"outlinewidth\":0,\"ticks\":\"\"}}}],\"scatterpolar\":[{\"type\":\"scatterpolar\",\"marker\":{\"colorbar\":{\"outlinewidth\":0,\"ticks\":\"\"}}}],\"histogram\":[{\"marker\":{\"pattern\":{\"fillmode\":\"overlay\",\"size\":10,\"solidity\":0.2}},\"type\":\"histogram\"}],\"scattergl\":[{\"type\":\"scattergl\",\"marker\":{\"colorbar\":{\"outlinewidth\":0,\"ticks\":\"\"}}}],\"scatter3d\":[{\"type\":\"scatter3d\",\"line\":{\"colorbar\":{\"outlinewidth\":0,\"ticks\":\"\"}},\"marker\":{\"colorbar\":{\"outlinewidth\":0,\"ticks\":\"\"}}}],\"scattermapbox\":[{\"type\":\"scattermapbox\",\"marker\":{\"colorbar\":{\"outlinewidth\":0,\"ticks\":\"\"}}}],\"scatterternary\":[{\"type\":\"scatterternary\",\"marker\":{\"colorbar\":{\"outlinewidth\":0,\"ticks\":\"\"}}}],\"scattercarpet\":[{\"type\":\"scattercarpet\",\"marker\":{\"colorbar\":{\"outlinewidth\":0,\"ticks\":\"\"}}}],\"carpet\":[{\"aaxis\":{\"endlinecolor\":\"#2a3f5f\",\"gridcolor\":\"white\",\"linecolor\":\"white\",\"minorgridcolor\":\"white\",\"startlinecolor\":\"#2a3f5f\"},\"baxis\":{\"endlinecolor\":\"#2a3f5f\",\"gridcolor\":\"white\",\"linecolor\":\"white\",\"minorgridcolor\":\"white\",\"startlinecolor\":\"#2a3f5f\"},\"type\":\"carpet\"}],\"table\":[{\"cells\":{\"fill\":{\"color\":\"#EBF0F8\"},\"line\":{\"color\":\"white\"}},\"header\":{\"fill\":{\"color\":\"#C8D4E3\"},\"line\":{\"color\":\"white\"}},\"type\":\"table\"}],\"barpolar\":[{\"marker\":{\"line\":{\"color\":\"#E5ECF6\",\"width\":0.5},\"pattern\":{\"fillmode\":\"overlay\",\"size\":10,\"solidity\":0.2}},\"type\":\"barpolar\"}],\"pie\":[{\"automargin\":true,\"type\":\"pie\"}]},\"layout\":{\"autotypenumbers\":\"strict\",\"colorway\":[\"#636efa\",\"#EF553B\",\"#00cc96\",\"#ab63fa\",\"#FFA15A\",\"#19d3f3\",\"#FF6692\",\"#B6E880\",\"#FF97FF\",\"#FECB52\"],\"font\":{\"color\":\"#2a3f5f\"},\"hovermode\":\"closest\",\"hoverlabel\":{\"align\":\"left\"},\"paper_bgcolor\":\"white\",\"plot_bgcolor\":\"#E5ECF6\",\"polar\":{\"bgcolor\":\"#E5ECF6\",\"angularaxis\":{\"gridcolor\":\"white\",\"linecolor\":\"white\",\"ticks\":\"\"},\"radialaxis\":{\"gridcolor\":\"white\",\"linecolor\":\"white\",\"ticks\":\"\"}},\"ternary\":{\"bgcolor\":\"#E5ECF6\",\"aaxis\":{\"gridcolor\":\"white\",\"linecolor\":\"white\",\"ticks\":\"\"},\"baxis\":{\"gridcolor\":\"white\",\"linecolor\":\"white\",\"ticks\":\"\"},\"caxis\":{\"gridcolor\":\"white\",\"linecolor\":\"white\",\"ticks\":\"\"}},\"coloraxis\":{\"colorbar\":{\"outlinewidth\":0,\"ticks\":\"\"}},\"colorscale\":{\"sequential\":[[0.0,\"#0d0887\"],[0.1111111111111111,\"#46039f\"],[0.2222222222222222,\"#7201a8\"],[0.3333333333333333,\"#9c179e\"],[0.4444444444444444,\"#bd3786\"],[0.5555555555555556,\"#d8576b\"],[0.6666666666666666,\"#ed7953\"],[0.7777777777777778,\"#fb9f3a\"],[0.8888888888888888,\"#fdca26\"],[1.0,\"#f0f921\"]],\"sequentialminus\":[[0.0,\"#0d0887\"],[0.1111111111111111,\"#46039f\"],[0.2222222222222222,\"#7201a8\"],[0.3333333333333333,\"#9c179e\"],[0.4444444444444444,\"#bd3786\"],[0.5555555555555556,\"#d8576b\"],[0.6666666666666666,\"#ed7953\"],[0.7777777777777778,\"#fb9f3a\"],[0.8888888888888888,\"#fdca26\"],[1.0,\"#f0f921\"]],\"diverging\":[[0,\"#8e0152\"],[0.1,\"#c51b7d\"],[0.2,\"#de77ae\"],[0.3,\"#f1b6da\"],[0.4,\"#fde0ef\"],[0.5,\"#f7f7f7\"],[0.6,\"#e6f5d0\"],[0.7,\"#b8e186\"],[0.8,\"#7fbc41\"],[0.9,\"#4d9221\"],[1,\"#276419\"]]},\"xaxis\":{\"gridcolor\":\"white\",\"linecolor\":\"white\",\"ticks\":\"\",\"title\":{\"standoff\":15},\"zerolinecolor\":\"white\",\"automargin\":true,\"zerolinewidth\":2},\"yaxis\":{\"gridcolor\":\"white\",\"linecolor\":\"white\",\"ticks\":\"\",\"title\":{\"standoff\":15},\"zerolinecolor\":\"white\",\"automargin\":true,\"zerolinewidth\":2},\"scene\":{\"xaxis\":{\"backgroundcolor\":\"#E5ECF6\",\"gridcolor\":\"white\",\"linecolor\":\"white\",\"showbackground\":true,\"ticks\":\"\",\"zerolinecolor\":\"white\",\"gridwidth\":2},\"yaxis\":{\"backgroundcolor\":\"#E5ECF6\",\"gridcolor\":\"white\",\"linecolor\":\"white\",\"showbackground\":true,\"ticks\":\"\",\"zerolinecolor\":\"white\",\"gridwidth\":2},\"zaxis\":{\"backgroundcolor\":\"#E5ECF6\",\"gridcolor\":\"white\",\"linecolor\":\"white\",\"showbackground\":true,\"ticks\":\"\",\"zerolinecolor\":\"white\",\"gridwidth\":2}},\"shapedefaults\":{\"line\":{\"color\":\"#2a3f5f\"}},\"annotationdefaults\":{\"arrowcolor\":\"#2a3f5f\",\"arrowhead\":0,\"arrowwidth\":1},\"geo\":{\"bgcolor\":\"white\",\"landcolor\":\"#E5ECF6\",\"subunitcolor\":\"white\",\"showland\":true,\"showlakes\":true,\"lakecolor\":\"white\"},\"title\":{\"x\":0.05},\"mapbox\":{\"style\":\"light\"}}},\"xaxis\":{\"anchor\":\"y\",\"domain\":[0.0,1.0],\"title\":{\"text\":\"class\"},\"categoryorder\":\"array\",\"categoryarray\":[\"Did not return\",\"Returned\"],\"type\":\"category\"},\"yaxis\":{\"anchor\":\"x\",\"domain\":[0.0,1.0],\"title\":{\"text\":\"average (#Donations)\"}},\"legend\":{\"title\":{\"text\":\"class\"},\"tracegroupgap\":0},\"title\":{\"text\":\"Average amount of donations\"},\"barmode\":\"relative\"},                        {\"responsive\": true}                    ).then(function(){\n",
              "                            \n",
              "var gd = document.getElementById('18c0a22b-9b16-4aca-abc3-f4290c724df6');\n",
              "var x = new MutationObserver(function (mutations, observer) {{\n",
              "        var display = window.getComputedStyle(gd).display;\n",
              "        if (!display || display === 'none') {{\n",
              "            console.log([gd, 'removed!']);\n",
              "            Plotly.purge(gd);\n",
              "            observer.disconnect();\n",
              "        }}\n",
              "}});\n",
              "\n",
              "// Listen for the removal of the full notebook cells\n",
              "var notebookContainer = gd.closest('#notebook-container');\n",
              "if (notebookContainer) {{\n",
              "    x.observe(notebookContainer, {childList: true});\n",
              "}}\n",
              "\n",
              "// Listen for the clearing of the current output cell\n",
              "var outputEl = gd.closest('.output');\n",
              "if (outputEl) {{\n",
              "    x.observe(outputEl, {childList: true});\n",
              "}}\n",
              "\n",
              "                        })                };                            </script>        </div>\n",
              "</body>\n",
              "</html>"
            ]
          },
          "metadata": {}
        }
      ]
    },
    {
      "cell_type": "markdown",
      "source": [
        "### Average Total Number of Donations\n",
        "- Returning donors have a slightly higher average number of total donations than donors who do not return.\n",
        "- Donors who return are generally **more active donors** with greater overall participation in blood donation.\n",
        "- While the difference is moderate, it remains consistent across both donor groups.\n"
      ],
      "metadata": {
        "id": "cdbRl3XrfcDR"
      }
    },
    {
      "cell_type": "code",
      "source": [
        "# classes vs. total_blood_donated\n",
        "fig3 = px.bar(\n",
        "    data_frame = df_mean,\n",
        "    x = df_mean['class'],\n",
        "    y = df_mean['total_blood_donated'],\n",
        "    color = df_mean['class'],\n",
        "    labels={'total_blood_donated':'average (#mL)'},\n",
        "    title=\"Average Amount of Blood Donated (in milliliters)\",\n",
        "    color_discrete_sequence=['steelblue','darkred']\n",
        "    )\n",
        "\n",
        "fig3.update_xaxes(type='category')\n",
        "\n",
        "fig3.show()"
      ],
      "metadata": {
        "id": "hyXFgRGgKPxJ",
        "outputId": "d86ecee8-a50b-46bd-d0b4-a142f0bd677c",
        "colab": {
          "base_uri": "https://localhost:8080/",
          "height": 542
        }
      },
      "execution_count": 9,
      "outputs": [
        {
          "output_type": "display_data",
          "data": {
            "text/html": [
              "<html>\n",
              "<head><meta charset=\"utf-8\" /></head>\n",
              "<body>\n",
              "    <div>            <script src=\"https://cdnjs.cloudflare.com/ajax/libs/mathjax/2.7.5/MathJax.js?config=TeX-AMS-MML_SVG\"></script><script type=\"text/javascript\">if (window.MathJax && window.MathJax.Hub && window.MathJax.Hub.Config) {window.MathJax.Hub.Config({SVG: {font: \"STIX-Web\"}});}</script>                <script type=\"text/javascript\">window.PlotlyConfig = {MathJaxConfig: 'local'};</script>\n",
              "        <script charset=\"utf-8\" src=\"https://cdn.plot.ly/plotly-2.35.2.min.js\"></script>                <div id=\"78b14cf4-a07d-46d0-82dd-851c5a9a1e8c\" class=\"plotly-graph-div\" style=\"height:525px; width:100%;\"></div>            <script type=\"text/javascript\">                                    window.PLOTLYENV=window.PLOTLYENV || {};                                    if (document.getElementById(\"78b14cf4-a07d-46d0-82dd-851c5a9a1e8c\")) {                    Plotly.newPlot(                        \"78b14cf4-a07d-46d0-82dd-851c5a9a1e8c\",                        [{\"alignmentgroup\":\"True\",\"hovertemplate\":\"class=%{x}\\u003cbr\\u003eaverage (#mL)=%{y}\\u003cextra\\u003e\\u003c\\u002fextra\\u003e\",\"legendgroup\":\"Did not return\",\"marker\":{\"color\":\"steelblue\",\"pattern\":{\"shape\":\"\"}},\"name\":\"Did not return\",\"offsetgroup\":\"Did not return\",\"orientation\":\"v\",\"showlegend\":true,\"textposition\":\"auto\",\"x\":[\"Did not return\"],\"xaxis\":\"x\",\"y\":[1200.438596491228],\"yaxis\":\"y\",\"type\":\"bar\"},{\"alignmentgroup\":\"True\",\"hovertemplate\":\"class=%{x}\\u003cbr\\u003eaverage (#mL)=%{y}\\u003cextra\\u003e\\u003c\\u002fextra\\u003e\",\"legendgroup\":\"Returned\",\"marker\":{\"color\":\"darkred\",\"pattern\":{\"shape\":\"\"}},\"name\":\"Returned\",\"offsetgroup\":\"Returned\",\"orientation\":\"v\",\"showlegend\":true,\"textposition\":\"auto\",\"x\":[\"Returned\"],\"xaxis\":\"x\",\"y\":[1949.438202247191],\"yaxis\":\"y\",\"type\":\"bar\"}],                        {\"template\":{\"data\":{\"histogram2dcontour\":[{\"type\":\"histogram2dcontour\",\"colorbar\":{\"outlinewidth\":0,\"ticks\":\"\"},\"colorscale\":[[0.0,\"#0d0887\"],[0.1111111111111111,\"#46039f\"],[0.2222222222222222,\"#7201a8\"],[0.3333333333333333,\"#9c179e\"],[0.4444444444444444,\"#bd3786\"],[0.5555555555555556,\"#d8576b\"],[0.6666666666666666,\"#ed7953\"],[0.7777777777777778,\"#fb9f3a\"],[0.8888888888888888,\"#fdca26\"],[1.0,\"#f0f921\"]]}],\"choropleth\":[{\"type\":\"choropleth\",\"colorbar\":{\"outlinewidth\":0,\"ticks\":\"\"}}],\"histogram2d\":[{\"type\":\"histogram2d\",\"colorbar\":{\"outlinewidth\":0,\"ticks\":\"\"},\"colorscale\":[[0.0,\"#0d0887\"],[0.1111111111111111,\"#46039f\"],[0.2222222222222222,\"#7201a8\"],[0.3333333333333333,\"#9c179e\"],[0.4444444444444444,\"#bd3786\"],[0.5555555555555556,\"#d8576b\"],[0.6666666666666666,\"#ed7953\"],[0.7777777777777778,\"#fb9f3a\"],[0.8888888888888888,\"#fdca26\"],[1.0,\"#f0f921\"]]}],\"heatmap\":[{\"type\":\"heatmap\",\"colorbar\":{\"outlinewidth\":0,\"ticks\":\"\"},\"colorscale\":[[0.0,\"#0d0887\"],[0.1111111111111111,\"#46039f\"],[0.2222222222222222,\"#7201a8\"],[0.3333333333333333,\"#9c179e\"],[0.4444444444444444,\"#bd3786\"],[0.5555555555555556,\"#d8576b\"],[0.6666666666666666,\"#ed7953\"],[0.7777777777777778,\"#fb9f3a\"],[0.8888888888888888,\"#fdca26\"],[1.0,\"#f0f921\"]]}],\"heatmapgl\":[{\"type\":\"heatmapgl\",\"colorbar\":{\"outlinewidth\":0,\"ticks\":\"\"},\"colorscale\":[[0.0,\"#0d0887\"],[0.1111111111111111,\"#46039f\"],[0.2222222222222222,\"#7201a8\"],[0.3333333333333333,\"#9c179e\"],[0.4444444444444444,\"#bd3786\"],[0.5555555555555556,\"#d8576b\"],[0.6666666666666666,\"#ed7953\"],[0.7777777777777778,\"#fb9f3a\"],[0.8888888888888888,\"#fdca26\"],[1.0,\"#f0f921\"]]}],\"contourcarpet\":[{\"type\":\"contourcarpet\",\"colorbar\":{\"outlinewidth\":0,\"ticks\":\"\"}}],\"contour\":[{\"type\":\"contour\",\"colorbar\":{\"outlinewidth\":0,\"ticks\":\"\"},\"colorscale\":[[0.0,\"#0d0887\"],[0.1111111111111111,\"#46039f\"],[0.2222222222222222,\"#7201a8\"],[0.3333333333333333,\"#9c179e\"],[0.4444444444444444,\"#bd3786\"],[0.5555555555555556,\"#d8576b\"],[0.6666666666666666,\"#ed7953\"],[0.7777777777777778,\"#fb9f3a\"],[0.8888888888888888,\"#fdca26\"],[1.0,\"#f0f921\"]]}],\"surface\":[{\"type\":\"surface\",\"colorbar\":{\"outlinewidth\":0,\"ticks\":\"\"},\"colorscale\":[[0.0,\"#0d0887\"],[0.1111111111111111,\"#46039f\"],[0.2222222222222222,\"#7201a8\"],[0.3333333333333333,\"#9c179e\"],[0.4444444444444444,\"#bd3786\"],[0.5555555555555556,\"#d8576b\"],[0.6666666666666666,\"#ed7953\"],[0.7777777777777778,\"#fb9f3a\"],[0.8888888888888888,\"#fdca26\"],[1.0,\"#f0f921\"]]}],\"mesh3d\":[{\"type\":\"mesh3d\",\"colorbar\":{\"outlinewidth\":0,\"ticks\":\"\"}}],\"scatter\":[{\"fillpattern\":{\"fillmode\":\"overlay\",\"size\":10,\"solidity\":0.2},\"type\":\"scatter\"}],\"parcoords\":[{\"type\":\"parcoords\",\"line\":{\"colorbar\":{\"outlinewidth\":0,\"ticks\":\"\"}}}],\"scatterpolargl\":[{\"type\":\"scatterpolargl\",\"marker\":{\"colorbar\":{\"outlinewidth\":0,\"ticks\":\"\"}}}],\"bar\":[{\"error_x\":{\"color\":\"#2a3f5f\"},\"error_y\":{\"color\":\"#2a3f5f\"},\"marker\":{\"line\":{\"color\":\"#E5ECF6\",\"width\":0.5},\"pattern\":{\"fillmode\":\"overlay\",\"size\":10,\"solidity\":0.2}},\"type\":\"bar\"}],\"scattergeo\":[{\"type\":\"scattergeo\",\"marker\":{\"colorbar\":{\"outlinewidth\":0,\"ticks\":\"\"}}}],\"scatterpolar\":[{\"type\":\"scatterpolar\",\"marker\":{\"colorbar\":{\"outlinewidth\":0,\"ticks\":\"\"}}}],\"histogram\":[{\"marker\":{\"pattern\":{\"fillmode\":\"overlay\",\"size\":10,\"solidity\":0.2}},\"type\":\"histogram\"}],\"scattergl\":[{\"type\":\"scattergl\",\"marker\":{\"colorbar\":{\"outlinewidth\":0,\"ticks\":\"\"}}}],\"scatter3d\":[{\"type\":\"scatter3d\",\"line\":{\"colorbar\":{\"outlinewidth\":0,\"ticks\":\"\"}},\"marker\":{\"colorbar\":{\"outlinewidth\":0,\"ticks\":\"\"}}}],\"scattermapbox\":[{\"type\":\"scattermapbox\",\"marker\":{\"colorbar\":{\"outlinewidth\":0,\"ticks\":\"\"}}}],\"scatterternary\":[{\"type\":\"scatterternary\",\"marker\":{\"colorbar\":{\"outlinewidth\":0,\"ticks\":\"\"}}}],\"scattercarpet\":[{\"type\":\"scattercarpet\",\"marker\":{\"colorbar\":{\"outlinewidth\":0,\"ticks\":\"\"}}}],\"carpet\":[{\"aaxis\":{\"endlinecolor\":\"#2a3f5f\",\"gridcolor\":\"white\",\"linecolor\":\"white\",\"minorgridcolor\":\"white\",\"startlinecolor\":\"#2a3f5f\"},\"baxis\":{\"endlinecolor\":\"#2a3f5f\",\"gridcolor\":\"white\",\"linecolor\":\"white\",\"minorgridcolor\":\"white\",\"startlinecolor\":\"#2a3f5f\"},\"type\":\"carpet\"}],\"table\":[{\"cells\":{\"fill\":{\"color\":\"#EBF0F8\"},\"line\":{\"color\":\"white\"}},\"header\":{\"fill\":{\"color\":\"#C8D4E3\"},\"line\":{\"color\":\"white\"}},\"type\":\"table\"}],\"barpolar\":[{\"marker\":{\"line\":{\"color\":\"#E5ECF6\",\"width\":0.5},\"pattern\":{\"fillmode\":\"overlay\",\"size\":10,\"solidity\":0.2}},\"type\":\"barpolar\"}],\"pie\":[{\"automargin\":true,\"type\":\"pie\"}]},\"layout\":{\"autotypenumbers\":\"strict\",\"colorway\":[\"#636efa\",\"#EF553B\",\"#00cc96\",\"#ab63fa\",\"#FFA15A\",\"#19d3f3\",\"#FF6692\",\"#B6E880\",\"#FF97FF\",\"#FECB52\"],\"font\":{\"color\":\"#2a3f5f\"},\"hovermode\":\"closest\",\"hoverlabel\":{\"align\":\"left\"},\"paper_bgcolor\":\"white\",\"plot_bgcolor\":\"#E5ECF6\",\"polar\":{\"bgcolor\":\"#E5ECF6\",\"angularaxis\":{\"gridcolor\":\"white\",\"linecolor\":\"white\",\"ticks\":\"\"},\"radialaxis\":{\"gridcolor\":\"white\",\"linecolor\":\"white\",\"ticks\":\"\"}},\"ternary\":{\"bgcolor\":\"#E5ECF6\",\"aaxis\":{\"gridcolor\":\"white\",\"linecolor\":\"white\",\"ticks\":\"\"},\"baxis\":{\"gridcolor\":\"white\",\"linecolor\":\"white\",\"ticks\":\"\"},\"caxis\":{\"gridcolor\":\"white\",\"linecolor\":\"white\",\"ticks\":\"\"}},\"coloraxis\":{\"colorbar\":{\"outlinewidth\":0,\"ticks\":\"\"}},\"colorscale\":{\"sequential\":[[0.0,\"#0d0887\"],[0.1111111111111111,\"#46039f\"],[0.2222222222222222,\"#7201a8\"],[0.3333333333333333,\"#9c179e\"],[0.4444444444444444,\"#bd3786\"],[0.5555555555555556,\"#d8576b\"],[0.6666666666666666,\"#ed7953\"],[0.7777777777777778,\"#fb9f3a\"],[0.8888888888888888,\"#fdca26\"],[1.0,\"#f0f921\"]],\"sequentialminus\":[[0.0,\"#0d0887\"],[0.1111111111111111,\"#46039f\"],[0.2222222222222222,\"#7201a8\"],[0.3333333333333333,\"#9c179e\"],[0.4444444444444444,\"#bd3786\"],[0.5555555555555556,\"#d8576b\"],[0.6666666666666666,\"#ed7953\"],[0.7777777777777778,\"#fb9f3a\"],[0.8888888888888888,\"#fdca26\"],[1.0,\"#f0f921\"]],\"diverging\":[[0,\"#8e0152\"],[0.1,\"#c51b7d\"],[0.2,\"#de77ae\"],[0.3,\"#f1b6da\"],[0.4,\"#fde0ef\"],[0.5,\"#f7f7f7\"],[0.6,\"#e6f5d0\"],[0.7,\"#b8e186\"],[0.8,\"#7fbc41\"],[0.9,\"#4d9221\"],[1,\"#276419\"]]},\"xaxis\":{\"gridcolor\":\"white\",\"linecolor\":\"white\",\"ticks\":\"\",\"title\":{\"standoff\":15},\"zerolinecolor\":\"white\",\"automargin\":true,\"zerolinewidth\":2},\"yaxis\":{\"gridcolor\":\"white\",\"linecolor\":\"white\",\"ticks\":\"\",\"title\":{\"standoff\":15},\"zerolinecolor\":\"white\",\"automargin\":true,\"zerolinewidth\":2},\"scene\":{\"xaxis\":{\"backgroundcolor\":\"#E5ECF6\",\"gridcolor\":\"white\",\"linecolor\":\"white\",\"showbackground\":true,\"ticks\":\"\",\"zerolinecolor\":\"white\",\"gridwidth\":2},\"yaxis\":{\"backgroundcolor\":\"#E5ECF6\",\"gridcolor\":\"white\",\"linecolor\":\"white\",\"showbackground\":true,\"ticks\":\"\",\"zerolinecolor\":\"white\",\"gridwidth\":2},\"zaxis\":{\"backgroundcolor\":\"#E5ECF6\",\"gridcolor\":\"white\",\"linecolor\":\"white\",\"showbackground\":true,\"ticks\":\"\",\"zerolinecolor\":\"white\",\"gridwidth\":2}},\"shapedefaults\":{\"line\":{\"color\":\"#2a3f5f\"}},\"annotationdefaults\":{\"arrowcolor\":\"#2a3f5f\",\"arrowhead\":0,\"arrowwidth\":1},\"geo\":{\"bgcolor\":\"white\",\"landcolor\":\"#E5ECF6\",\"subunitcolor\":\"white\",\"showland\":true,\"showlakes\":true,\"lakecolor\":\"white\"},\"title\":{\"x\":0.05},\"mapbox\":{\"style\":\"light\"}}},\"xaxis\":{\"anchor\":\"y\",\"domain\":[0.0,1.0],\"title\":{\"text\":\"class\"},\"categoryorder\":\"array\",\"categoryarray\":[\"Did not return\",\"Returned\"],\"type\":\"category\"},\"yaxis\":{\"anchor\":\"x\",\"domain\":[0.0,1.0],\"title\":{\"text\":\"average (#mL)\"}},\"legend\":{\"title\":{\"text\":\"class\"},\"tracegroupgap\":0},\"title\":{\"text\":\"Average Amount of Blood Donated (in milliliters)\"},\"barmode\":\"relative\"},                        {\"responsive\": true}                    ).then(function(){\n",
              "                            \n",
              "var gd = document.getElementById('78b14cf4-a07d-46d0-82dd-851c5a9a1e8c');\n",
              "var x = new MutationObserver(function (mutations, observer) {{\n",
              "        var display = window.getComputedStyle(gd).display;\n",
              "        if (!display || display === 'none') {{\n",
              "            console.log([gd, 'removed!']);\n",
              "            Plotly.purge(gd);\n",
              "            observer.disconnect();\n",
              "        }}\n",
              "}});\n",
              "\n",
              "// Listen for the removal of the full notebook cells\n",
              "var notebookContainer = gd.closest('#notebook-container');\n",
              "if (notebookContainer) {{\n",
              "    x.observe(notebookContainer, {childList: true});\n",
              "}}\n",
              "\n",
              "// Listen for the clearing of the current output cell\n",
              "var outputEl = gd.closest('.output');\n",
              "if (outputEl) {{\n",
              "    x.observe(outputEl, {childList: true});\n",
              "}}\n",
              "\n",
              "                        })                };                            </script>        </div>\n",
              "</body>\n",
              "</html>"
            ]
          },
          "metadata": {}
        }
      ]
    },
    {
      "cell_type": "markdown",
      "source": [
        "### Average Total Blood Donated (ml)\n",
        "- Since each donation corresponds to **250 ml** of blood donated, this bar mirrors the trend observed in total number of donations.\n",
        "- Returning donors have donated a **larger total volume of blood on average**, reflecting the higher frequency of donations over time.\n",
        "\n",
        "This confirms that **donation frequency and total blood volume donated** are closely related indicators of overall donor engagement.\n"
      ],
      "metadata": {
        "id": "yEtYKeoYfpZ8"
      }
    },
    {
      "cell_type": "code",
      "source": [
        "# classes vs. months_since_first_donation\n",
        "fig4 = px.bar(\n",
        "    data_frame = df_mean,\n",
        "    x = df_mean['class'],\n",
        "    y = df_mean['months_since_first_donation'],\n",
        "    color = df_mean['class'],\n",
        "    labels={'months_since_first_donation':'average (#Months)',},\n",
        "    title=\"Average Months Since First Donation\",\n",
        "    color_discrete_sequence=['steelblue','darkred']\n",
        "    )\n",
        "\n",
        "fig4.update_xaxes(type='category')\n",
        "\n",
        "fig4.show()"
      ],
      "metadata": {
        "id": "FO-PxPmGKS8A",
        "outputId": "1fd60d78-6e26-48d8-be20-d2739dc63108",
        "colab": {
          "base_uri": "https://localhost:8080/",
          "height": 542
        }
      },
      "execution_count": 10,
      "outputs": [
        {
          "output_type": "display_data",
          "data": {
            "text/html": [
              "<html>\n",
              "<head><meta charset=\"utf-8\" /></head>\n",
              "<body>\n",
              "    <div>            <script src=\"https://cdnjs.cloudflare.com/ajax/libs/mathjax/2.7.5/MathJax.js?config=TeX-AMS-MML_SVG\"></script><script type=\"text/javascript\">if (window.MathJax && window.MathJax.Hub && window.MathJax.Hub.Config) {window.MathJax.Hub.Config({SVG: {font: \"STIX-Web\"}});}</script>                <script type=\"text/javascript\">window.PlotlyConfig = {MathJaxConfig: 'local'};</script>\n",
              "        <script charset=\"utf-8\" src=\"https://cdn.plot.ly/plotly-2.35.2.min.js\"></script>                <div id=\"e1bb8262-d476-4d93-80f8-94aef5bce214\" class=\"plotly-graph-div\" style=\"height:525px; width:100%;\"></div>            <script type=\"text/javascript\">                                    window.PLOTLYENV=window.PLOTLYENV || {};                                    if (document.getElementById(\"e1bb8262-d476-4d93-80f8-94aef5bce214\")) {                    Plotly.newPlot(                        \"e1bb8262-d476-4d93-80f8-94aef5bce214\",                        [{\"alignmentgroup\":\"True\",\"hovertemplate\":\"class=%{x}\\u003cbr\\u003eaverage (#Months)=%{y}\\u003cextra\\u003e\\u003c\\u002fextra\\u003e\",\"legendgroup\":\"Did not return\",\"marker\":{\"color\":\"steelblue\",\"pattern\":{\"shape\":\"\"}},\"name\":\"Did not return\",\"offsetgroup\":\"Did not return\",\"orientation\":\"v\",\"showlegend\":true,\"textposition\":\"auto\",\"x\":[\"Did not return\"],\"xaxis\":\"x\",\"y\":[34.77017543859649],\"yaxis\":\"y\",\"type\":\"bar\"},{\"alignmentgroup\":\"True\",\"hovertemplate\":\"class=%{x}\\u003cbr\\u003eaverage (#Months)=%{y}\\u003cextra\\u003e\\u003c\\u002fextra\\u003e\",\"legendgroup\":\"Returned\",\"marker\":{\"color\":\"darkred\",\"pattern\":{\"shape\":\"\"}},\"name\":\"Returned\",\"offsetgroup\":\"Returned\",\"orientation\":\"v\",\"showlegend\":true,\"textposition\":\"auto\",\"x\":[\"Returned\"],\"xaxis\":\"x\",\"y\":[32.71910112359551],\"yaxis\":\"y\",\"type\":\"bar\"}],                        {\"template\":{\"data\":{\"histogram2dcontour\":[{\"type\":\"histogram2dcontour\",\"colorbar\":{\"outlinewidth\":0,\"ticks\":\"\"},\"colorscale\":[[0.0,\"#0d0887\"],[0.1111111111111111,\"#46039f\"],[0.2222222222222222,\"#7201a8\"],[0.3333333333333333,\"#9c179e\"],[0.4444444444444444,\"#bd3786\"],[0.5555555555555556,\"#d8576b\"],[0.6666666666666666,\"#ed7953\"],[0.7777777777777778,\"#fb9f3a\"],[0.8888888888888888,\"#fdca26\"],[1.0,\"#f0f921\"]]}],\"choropleth\":[{\"type\":\"choropleth\",\"colorbar\":{\"outlinewidth\":0,\"ticks\":\"\"}}],\"histogram2d\":[{\"type\":\"histogram2d\",\"colorbar\":{\"outlinewidth\":0,\"ticks\":\"\"},\"colorscale\":[[0.0,\"#0d0887\"],[0.1111111111111111,\"#46039f\"],[0.2222222222222222,\"#7201a8\"],[0.3333333333333333,\"#9c179e\"],[0.4444444444444444,\"#bd3786\"],[0.5555555555555556,\"#d8576b\"],[0.6666666666666666,\"#ed7953\"],[0.7777777777777778,\"#fb9f3a\"],[0.8888888888888888,\"#fdca26\"],[1.0,\"#f0f921\"]]}],\"heatmap\":[{\"type\":\"heatmap\",\"colorbar\":{\"outlinewidth\":0,\"ticks\":\"\"},\"colorscale\":[[0.0,\"#0d0887\"],[0.1111111111111111,\"#46039f\"],[0.2222222222222222,\"#7201a8\"],[0.3333333333333333,\"#9c179e\"],[0.4444444444444444,\"#bd3786\"],[0.5555555555555556,\"#d8576b\"],[0.6666666666666666,\"#ed7953\"],[0.7777777777777778,\"#fb9f3a\"],[0.8888888888888888,\"#fdca26\"],[1.0,\"#f0f921\"]]}],\"heatmapgl\":[{\"type\":\"heatmapgl\",\"colorbar\":{\"outlinewidth\":0,\"ticks\":\"\"},\"colorscale\":[[0.0,\"#0d0887\"],[0.1111111111111111,\"#46039f\"],[0.2222222222222222,\"#7201a8\"],[0.3333333333333333,\"#9c179e\"],[0.4444444444444444,\"#bd3786\"],[0.5555555555555556,\"#d8576b\"],[0.6666666666666666,\"#ed7953\"],[0.7777777777777778,\"#fb9f3a\"],[0.8888888888888888,\"#fdca26\"],[1.0,\"#f0f921\"]]}],\"contourcarpet\":[{\"type\":\"contourcarpet\",\"colorbar\":{\"outlinewidth\":0,\"ticks\":\"\"}}],\"contour\":[{\"type\":\"contour\",\"colorbar\":{\"outlinewidth\":0,\"ticks\":\"\"},\"colorscale\":[[0.0,\"#0d0887\"],[0.1111111111111111,\"#46039f\"],[0.2222222222222222,\"#7201a8\"],[0.3333333333333333,\"#9c179e\"],[0.4444444444444444,\"#bd3786\"],[0.5555555555555556,\"#d8576b\"],[0.6666666666666666,\"#ed7953\"],[0.7777777777777778,\"#fb9f3a\"],[0.8888888888888888,\"#fdca26\"],[1.0,\"#f0f921\"]]}],\"surface\":[{\"type\":\"surface\",\"colorbar\":{\"outlinewidth\":0,\"ticks\":\"\"},\"colorscale\":[[0.0,\"#0d0887\"],[0.1111111111111111,\"#46039f\"],[0.2222222222222222,\"#7201a8\"],[0.3333333333333333,\"#9c179e\"],[0.4444444444444444,\"#bd3786\"],[0.5555555555555556,\"#d8576b\"],[0.6666666666666666,\"#ed7953\"],[0.7777777777777778,\"#fb9f3a\"],[0.8888888888888888,\"#fdca26\"],[1.0,\"#f0f921\"]]}],\"mesh3d\":[{\"type\":\"mesh3d\",\"colorbar\":{\"outlinewidth\":0,\"ticks\":\"\"}}],\"scatter\":[{\"fillpattern\":{\"fillmode\":\"overlay\",\"size\":10,\"solidity\":0.2},\"type\":\"scatter\"}],\"parcoords\":[{\"type\":\"parcoords\",\"line\":{\"colorbar\":{\"outlinewidth\":0,\"ticks\":\"\"}}}],\"scatterpolargl\":[{\"type\":\"scatterpolargl\",\"marker\":{\"colorbar\":{\"outlinewidth\":0,\"ticks\":\"\"}}}],\"bar\":[{\"error_x\":{\"color\":\"#2a3f5f\"},\"error_y\":{\"color\":\"#2a3f5f\"},\"marker\":{\"line\":{\"color\":\"#E5ECF6\",\"width\":0.5},\"pattern\":{\"fillmode\":\"overlay\",\"size\":10,\"solidity\":0.2}},\"type\":\"bar\"}],\"scattergeo\":[{\"type\":\"scattergeo\",\"marker\":{\"colorbar\":{\"outlinewidth\":0,\"ticks\":\"\"}}}],\"scatterpolar\":[{\"type\":\"scatterpolar\",\"marker\":{\"colorbar\":{\"outlinewidth\":0,\"ticks\":\"\"}}}],\"histogram\":[{\"marker\":{\"pattern\":{\"fillmode\":\"overlay\",\"size\":10,\"solidity\":0.2}},\"type\":\"histogram\"}],\"scattergl\":[{\"type\":\"scattergl\",\"marker\":{\"colorbar\":{\"outlinewidth\":0,\"ticks\":\"\"}}}],\"scatter3d\":[{\"type\":\"scatter3d\",\"line\":{\"colorbar\":{\"outlinewidth\":0,\"ticks\":\"\"}},\"marker\":{\"colorbar\":{\"outlinewidth\":0,\"ticks\":\"\"}}}],\"scattermapbox\":[{\"type\":\"scattermapbox\",\"marker\":{\"colorbar\":{\"outlinewidth\":0,\"ticks\":\"\"}}}],\"scatterternary\":[{\"type\":\"scatterternary\",\"marker\":{\"colorbar\":{\"outlinewidth\":0,\"ticks\":\"\"}}}],\"scattercarpet\":[{\"type\":\"scattercarpet\",\"marker\":{\"colorbar\":{\"outlinewidth\":0,\"ticks\":\"\"}}}],\"carpet\":[{\"aaxis\":{\"endlinecolor\":\"#2a3f5f\",\"gridcolor\":\"white\",\"linecolor\":\"white\",\"minorgridcolor\":\"white\",\"startlinecolor\":\"#2a3f5f\"},\"baxis\":{\"endlinecolor\":\"#2a3f5f\",\"gridcolor\":\"white\",\"linecolor\":\"white\",\"minorgridcolor\":\"white\",\"startlinecolor\":\"#2a3f5f\"},\"type\":\"carpet\"}],\"table\":[{\"cells\":{\"fill\":{\"color\":\"#EBF0F8\"},\"line\":{\"color\":\"white\"}},\"header\":{\"fill\":{\"color\":\"#C8D4E3\"},\"line\":{\"color\":\"white\"}},\"type\":\"table\"}],\"barpolar\":[{\"marker\":{\"line\":{\"color\":\"#E5ECF6\",\"width\":0.5},\"pattern\":{\"fillmode\":\"overlay\",\"size\":10,\"solidity\":0.2}},\"type\":\"barpolar\"}],\"pie\":[{\"automargin\":true,\"type\":\"pie\"}]},\"layout\":{\"autotypenumbers\":\"strict\",\"colorway\":[\"#636efa\",\"#EF553B\",\"#00cc96\",\"#ab63fa\",\"#FFA15A\",\"#19d3f3\",\"#FF6692\",\"#B6E880\",\"#FF97FF\",\"#FECB52\"],\"font\":{\"color\":\"#2a3f5f\"},\"hovermode\":\"closest\",\"hoverlabel\":{\"align\":\"left\"},\"paper_bgcolor\":\"white\",\"plot_bgcolor\":\"#E5ECF6\",\"polar\":{\"bgcolor\":\"#E5ECF6\",\"angularaxis\":{\"gridcolor\":\"white\",\"linecolor\":\"white\",\"ticks\":\"\"},\"radialaxis\":{\"gridcolor\":\"white\",\"linecolor\":\"white\",\"ticks\":\"\"}},\"ternary\":{\"bgcolor\":\"#E5ECF6\",\"aaxis\":{\"gridcolor\":\"white\",\"linecolor\":\"white\",\"ticks\":\"\"},\"baxis\":{\"gridcolor\":\"white\",\"linecolor\":\"white\",\"ticks\":\"\"},\"caxis\":{\"gridcolor\":\"white\",\"linecolor\":\"white\",\"ticks\":\"\"}},\"coloraxis\":{\"colorbar\":{\"outlinewidth\":0,\"ticks\":\"\"}},\"colorscale\":{\"sequential\":[[0.0,\"#0d0887\"],[0.1111111111111111,\"#46039f\"],[0.2222222222222222,\"#7201a8\"],[0.3333333333333333,\"#9c179e\"],[0.4444444444444444,\"#bd3786\"],[0.5555555555555556,\"#d8576b\"],[0.6666666666666666,\"#ed7953\"],[0.7777777777777778,\"#fb9f3a\"],[0.8888888888888888,\"#fdca26\"],[1.0,\"#f0f921\"]],\"sequentialminus\":[[0.0,\"#0d0887\"],[0.1111111111111111,\"#46039f\"],[0.2222222222222222,\"#7201a8\"],[0.3333333333333333,\"#9c179e\"],[0.4444444444444444,\"#bd3786\"],[0.5555555555555556,\"#d8576b\"],[0.6666666666666666,\"#ed7953\"],[0.7777777777777778,\"#fb9f3a\"],[0.8888888888888888,\"#fdca26\"],[1.0,\"#f0f921\"]],\"diverging\":[[0,\"#8e0152\"],[0.1,\"#c51b7d\"],[0.2,\"#de77ae\"],[0.3,\"#f1b6da\"],[0.4,\"#fde0ef\"],[0.5,\"#f7f7f7\"],[0.6,\"#e6f5d0\"],[0.7,\"#b8e186\"],[0.8,\"#7fbc41\"],[0.9,\"#4d9221\"],[1,\"#276419\"]]},\"xaxis\":{\"gridcolor\":\"white\",\"linecolor\":\"white\",\"ticks\":\"\",\"title\":{\"standoff\":15},\"zerolinecolor\":\"white\",\"automargin\":true,\"zerolinewidth\":2},\"yaxis\":{\"gridcolor\":\"white\",\"linecolor\":\"white\",\"ticks\":\"\",\"title\":{\"standoff\":15},\"zerolinecolor\":\"white\",\"automargin\":true,\"zerolinewidth\":2},\"scene\":{\"xaxis\":{\"backgroundcolor\":\"#E5ECF6\",\"gridcolor\":\"white\",\"linecolor\":\"white\",\"showbackground\":true,\"ticks\":\"\",\"zerolinecolor\":\"white\",\"gridwidth\":2},\"yaxis\":{\"backgroundcolor\":\"#E5ECF6\",\"gridcolor\":\"white\",\"linecolor\":\"white\",\"showbackground\":true,\"ticks\":\"\",\"zerolinecolor\":\"white\",\"gridwidth\":2},\"zaxis\":{\"backgroundcolor\":\"#E5ECF6\",\"gridcolor\":\"white\",\"linecolor\":\"white\",\"showbackground\":true,\"ticks\":\"\",\"zerolinecolor\":\"white\",\"gridwidth\":2}},\"shapedefaults\":{\"line\":{\"color\":\"#2a3f5f\"}},\"annotationdefaults\":{\"arrowcolor\":\"#2a3f5f\",\"arrowhead\":0,\"arrowwidth\":1},\"geo\":{\"bgcolor\":\"white\",\"landcolor\":\"#E5ECF6\",\"subunitcolor\":\"white\",\"showland\":true,\"showlakes\":true,\"lakecolor\":\"white\"},\"title\":{\"x\":0.05},\"mapbox\":{\"style\":\"light\"}}},\"xaxis\":{\"anchor\":\"y\",\"domain\":[0.0,1.0],\"title\":{\"text\":\"class\"},\"categoryorder\":\"array\",\"categoryarray\":[\"Did not return\",\"Returned\"],\"type\":\"category\"},\"yaxis\":{\"anchor\":\"x\",\"domain\":[0.0,1.0],\"title\":{\"text\":\"average (#Months)\"}},\"legend\":{\"title\":{\"text\":\"class\"},\"tracegroupgap\":0},\"title\":{\"text\":\"Average Months Since First Donation\"},\"barmode\":\"relative\"},                        {\"responsive\": true}                    ).then(function(){\n",
              "                            \n",
              "var gd = document.getElementById('e1bb8262-d476-4d93-80f8-94aef5bce214');\n",
              "var x = new MutationObserver(function (mutations, observer) {{\n",
              "        var display = window.getComputedStyle(gd).display;\n",
              "        if (!display || display === 'none') {{\n",
              "            console.log([gd, 'removed!']);\n",
              "            Plotly.purge(gd);\n",
              "            observer.disconnect();\n",
              "        }}\n",
              "}});\n",
              "\n",
              "// Listen for the removal of the full notebook cells\n",
              "var notebookContainer = gd.closest('#notebook-container');\n",
              "if (notebookContainer) {{\n",
              "    x.observe(notebookContainer, {childList: true});\n",
              "}}\n",
              "\n",
              "// Listen for the clearing of the current output cell\n",
              "var outputEl = gd.closest('.output');\n",
              "if (outputEl) {{\n",
              "    x.observe(outputEl, {childList: true});\n",
              "}}\n",
              "\n",
              "                        })                };                            </script>        </div>\n",
              "</body>\n",
              "</html>"
            ]
          },
          "metadata": {}
        }
      ]
    },
    {
      "cell_type": "markdown",
      "source": [
        "### Average Months Since First Donation\n",
        "- The average months since first donation are **similar across both classes**, suggesting that donor tenure is not a major differentiator.\n",
        "- Both groups appear to have begun donating within a comparable timeframe.\n"
      ],
      "metadata": {
        "id": "Zwv569WTgHRe"
      }
    },
    {
      "cell_type": "markdown",
      "source": [
        "# Task 2 - Preprocessing"
      ],
      "metadata": {
        "id": "MUyP-akzKbyt"
      }
    },
    {
      "cell_type": "code",
      "source": [
        "# Manual removal of extreme outliers. (This is only doable because dataset is small)\n",
        "# We have removed less than 4% of the dataset\n",
        "df = df[df['total_blood_donated'] <= 8000]\n",
        "df = df[df['months_since_last_donation'] <= 30]\n",
        "df = df[df['months_since_last_donation'] > 1]\n",
        "df.describe()"
      ],
      "metadata": {
        "id": "2dzb3Y7zXhtC",
        "outputId": "4b8dcd4b-bf01-4cd6-c043-2104b5007f94",
        "colab": {
          "base_uri": "https://localhost:8080/",
          "height": 297
        }
      },
      "execution_count": 11,
      "outputs": [
        {
          "output_type": "execute_result",
          "data": {
            "text/plain": [
              "       months_since_last_donation  total_number_of_donations  \\\n",
              "count                  719.000000                 719.000000   \n",
              "mean                     9.351878                   5.029207   \n",
              "std                      6.999998                   4.345520   \n",
              "min                      2.000000                   1.000000   \n",
              "25%                      3.000000                   2.000000   \n",
              "50%                      8.000000                   4.000000   \n",
              "75%                     14.000000                   7.000000   \n",
              "max                     26.000000                  24.000000   \n",
              "\n",
              "       total_blood_donated  months_since_first_donation       class  \n",
              "count           719.000000                   719.000000  719.000000  \n",
              "mean           1257.301808                    33.182197    0.233658  \n",
              "std            1086.380080                    23.569288    0.423452  \n",
              "min             250.000000                     2.000000    0.000000  \n",
              "25%             500.000000                    15.500000    0.000000  \n",
              "50%            1000.000000                    28.000000    0.000000  \n",
              "75%            1750.000000                    48.000000    0.000000  \n",
              "max            6000.000000                    98.000000    1.000000  "
            ],
            "text/html": [
              "\n",
              "  <div id=\"df-2a35d007-07f3-45a6-b9db-724470ea3319\" class=\"colab-df-container\">\n",
              "    <div>\n",
              "<style scoped>\n",
              "    .dataframe tbody tr th:only-of-type {\n",
              "        vertical-align: middle;\n",
              "    }\n",
              "\n",
              "    .dataframe tbody tr th {\n",
              "        vertical-align: top;\n",
              "    }\n",
              "\n",
              "    .dataframe thead th {\n",
              "        text-align: right;\n",
              "    }\n",
              "</style>\n",
              "<table border=\"1\" class=\"dataframe\">\n",
              "  <thead>\n",
              "    <tr style=\"text-align: right;\">\n",
              "      <th></th>\n",
              "      <th>months_since_last_donation</th>\n",
              "      <th>total_number_of_donations</th>\n",
              "      <th>total_blood_donated</th>\n",
              "      <th>months_since_first_donation</th>\n",
              "      <th>class</th>\n",
              "    </tr>\n",
              "  </thead>\n",
              "  <tbody>\n",
              "    <tr>\n",
              "      <th>count</th>\n",
              "      <td>719.000000</td>\n",
              "      <td>719.000000</td>\n",
              "      <td>719.000000</td>\n",
              "      <td>719.000000</td>\n",
              "      <td>719.000000</td>\n",
              "    </tr>\n",
              "    <tr>\n",
              "      <th>mean</th>\n",
              "      <td>9.351878</td>\n",
              "      <td>5.029207</td>\n",
              "      <td>1257.301808</td>\n",
              "      <td>33.182197</td>\n",
              "      <td>0.233658</td>\n",
              "    </tr>\n",
              "    <tr>\n",
              "      <th>std</th>\n",
              "      <td>6.999998</td>\n",
              "      <td>4.345520</td>\n",
              "      <td>1086.380080</td>\n",
              "      <td>23.569288</td>\n",
              "      <td>0.423452</td>\n",
              "    </tr>\n",
              "    <tr>\n",
              "      <th>min</th>\n",
              "      <td>2.000000</td>\n",
              "      <td>1.000000</td>\n",
              "      <td>250.000000</td>\n",
              "      <td>2.000000</td>\n",
              "      <td>0.000000</td>\n",
              "    </tr>\n",
              "    <tr>\n",
              "      <th>25%</th>\n",
              "      <td>3.000000</td>\n",
              "      <td>2.000000</td>\n",
              "      <td>500.000000</td>\n",
              "      <td>15.500000</td>\n",
              "      <td>0.000000</td>\n",
              "    </tr>\n",
              "    <tr>\n",
              "      <th>50%</th>\n",
              "      <td>8.000000</td>\n",
              "      <td>4.000000</td>\n",
              "      <td>1000.000000</td>\n",
              "      <td>28.000000</td>\n",
              "      <td>0.000000</td>\n",
              "    </tr>\n",
              "    <tr>\n",
              "      <th>75%</th>\n",
              "      <td>14.000000</td>\n",
              "      <td>7.000000</td>\n",
              "      <td>1750.000000</td>\n",
              "      <td>48.000000</td>\n",
              "      <td>0.000000</td>\n",
              "    </tr>\n",
              "    <tr>\n",
              "      <th>max</th>\n",
              "      <td>26.000000</td>\n",
              "      <td>24.000000</td>\n",
              "      <td>6000.000000</td>\n",
              "      <td>98.000000</td>\n",
              "      <td>1.000000</td>\n",
              "    </tr>\n",
              "  </tbody>\n",
              "</table>\n",
              "</div>\n",
              "    <div class=\"colab-df-buttons\">\n",
              "\n",
              "  <div class=\"colab-df-container\">\n",
              "    <button class=\"colab-df-convert\" onclick=\"convertToInteractive('df-2a35d007-07f3-45a6-b9db-724470ea3319')\"\n",
              "            title=\"Convert this dataframe to an interactive table.\"\n",
              "            style=\"display:none;\">\n",
              "\n",
              "  <svg xmlns=\"http://www.w3.org/2000/svg\" height=\"24px\" viewBox=\"0 -960 960 960\">\n",
              "    <path d=\"M120-120v-720h720v720H120Zm60-500h600v-160H180v160Zm220 220h160v-160H400v160Zm0 220h160v-160H400v160ZM180-400h160v-160H180v160Zm440 0h160v-160H620v160ZM180-180h160v-160H180v160Zm440 0h160v-160H620v160Z\"/>\n",
              "  </svg>\n",
              "    </button>\n",
              "\n",
              "  <style>\n",
              "    .colab-df-container {\n",
              "      display:flex;\n",
              "      gap: 12px;\n",
              "    }\n",
              "\n",
              "    .colab-df-convert {\n",
              "      background-color: #E8F0FE;\n",
              "      border: none;\n",
              "      border-radius: 50%;\n",
              "      cursor: pointer;\n",
              "      display: none;\n",
              "      fill: #1967D2;\n",
              "      height: 32px;\n",
              "      padding: 0 0 0 0;\n",
              "      width: 32px;\n",
              "    }\n",
              "\n",
              "    .colab-df-convert:hover {\n",
              "      background-color: #E2EBFA;\n",
              "      box-shadow: 0px 1px 2px rgba(60, 64, 67, 0.3), 0px 1px 3px 1px rgba(60, 64, 67, 0.15);\n",
              "      fill: #174EA6;\n",
              "    }\n",
              "\n",
              "    .colab-df-buttons div {\n",
              "      margin-bottom: 4px;\n",
              "    }\n",
              "\n",
              "    [theme=dark] .colab-df-convert {\n",
              "      background-color: #3B4455;\n",
              "      fill: #D2E3FC;\n",
              "    }\n",
              "\n",
              "    [theme=dark] .colab-df-convert:hover {\n",
              "      background-color: #434B5C;\n",
              "      box-shadow: 0px 1px 3px 1px rgba(0, 0, 0, 0.15);\n",
              "      filter: drop-shadow(0px 1px 2px rgba(0, 0, 0, 0.3));\n",
              "      fill: #FFFFFF;\n",
              "    }\n",
              "  </style>\n",
              "\n",
              "    <script>\n",
              "      const buttonEl =\n",
              "        document.querySelector('#df-2a35d007-07f3-45a6-b9db-724470ea3319 button.colab-df-convert');\n",
              "      buttonEl.style.display =\n",
              "        google.colab.kernel.accessAllowed ? 'block' : 'none';\n",
              "\n",
              "      async function convertToInteractive(key) {\n",
              "        const element = document.querySelector('#df-2a35d007-07f3-45a6-b9db-724470ea3319');\n",
              "        const dataTable =\n",
              "          await google.colab.kernel.invokeFunction('convertToInteractive',\n",
              "                                                    [key], {});\n",
              "        if (!dataTable) return;\n",
              "\n",
              "        const docLinkHtml = 'Like what you see? Visit the ' +\n",
              "          '<a target=\"_blank\" href=https://colab.research.google.com/notebooks/data_table.ipynb>data table notebook</a>'\n",
              "          + ' to learn more about interactive tables.';\n",
              "        element.innerHTML = '';\n",
              "        dataTable['output_type'] = 'display_data';\n",
              "        await google.colab.output.renderOutput(dataTable, element);\n",
              "        const docLink = document.createElement('div');\n",
              "        docLink.innerHTML = docLinkHtml;\n",
              "        element.appendChild(docLink);\n",
              "      }\n",
              "    </script>\n",
              "  </div>\n",
              "\n",
              "\n",
              "    <div id=\"df-355f43da-4d3e-4a73-b8e6-fee5350bc06a\">\n",
              "      <button class=\"colab-df-quickchart\" onclick=\"quickchart('df-355f43da-4d3e-4a73-b8e6-fee5350bc06a')\"\n",
              "                title=\"Suggest charts\"\n",
              "                style=\"display:none;\">\n",
              "\n",
              "<svg xmlns=\"http://www.w3.org/2000/svg\" height=\"24px\"viewBox=\"0 0 24 24\"\n",
              "     width=\"24px\">\n",
              "    <g>\n",
              "        <path d=\"M19 3H5c-1.1 0-2 .9-2 2v14c0 1.1.9 2 2 2h14c1.1 0 2-.9 2-2V5c0-1.1-.9-2-2-2zM9 17H7v-7h2v7zm4 0h-2V7h2v10zm4 0h-2v-4h2v4z\"/>\n",
              "    </g>\n",
              "</svg>\n",
              "      </button>\n",
              "\n",
              "<style>\n",
              "  .colab-df-quickchart {\n",
              "      --bg-color: #E8F0FE;\n",
              "      --fill-color: #1967D2;\n",
              "      --hover-bg-color: #E2EBFA;\n",
              "      --hover-fill-color: #174EA6;\n",
              "      --disabled-fill-color: #AAA;\n",
              "      --disabled-bg-color: #DDD;\n",
              "  }\n",
              "\n",
              "  [theme=dark] .colab-df-quickchart {\n",
              "      --bg-color: #3B4455;\n",
              "      --fill-color: #D2E3FC;\n",
              "      --hover-bg-color: #434B5C;\n",
              "      --hover-fill-color: #FFFFFF;\n",
              "      --disabled-bg-color: #3B4455;\n",
              "      --disabled-fill-color: #666;\n",
              "  }\n",
              "\n",
              "  .colab-df-quickchart {\n",
              "    background-color: var(--bg-color);\n",
              "    border: none;\n",
              "    border-radius: 50%;\n",
              "    cursor: pointer;\n",
              "    display: none;\n",
              "    fill: var(--fill-color);\n",
              "    height: 32px;\n",
              "    padding: 0;\n",
              "    width: 32px;\n",
              "  }\n",
              "\n",
              "  .colab-df-quickchart:hover {\n",
              "    background-color: var(--hover-bg-color);\n",
              "    box-shadow: 0 1px 2px rgba(60, 64, 67, 0.3), 0 1px 3px 1px rgba(60, 64, 67, 0.15);\n",
              "    fill: var(--button-hover-fill-color);\n",
              "  }\n",
              "\n",
              "  .colab-df-quickchart-complete:disabled,\n",
              "  .colab-df-quickchart-complete:disabled:hover {\n",
              "    background-color: var(--disabled-bg-color);\n",
              "    fill: var(--disabled-fill-color);\n",
              "    box-shadow: none;\n",
              "  }\n",
              "\n",
              "  .colab-df-spinner {\n",
              "    border: 2px solid var(--fill-color);\n",
              "    border-color: transparent;\n",
              "    border-bottom-color: var(--fill-color);\n",
              "    animation:\n",
              "      spin 1s steps(1) infinite;\n",
              "  }\n",
              "\n",
              "  @keyframes spin {\n",
              "    0% {\n",
              "      border-color: transparent;\n",
              "      border-bottom-color: var(--fill-color);\n",
              "      border-left-color: var(--fill-color);\n",
              "    }\n",
              "    20% {\n",
              "      border-color: transparent;\n",
              "      border-left-color: var(--fill-color);\n",
              "      border-top-color: var(--fill-color);\n",
              "    }\n",
              "    30% {\n",
              "      border-color: transparent;\n",
              "      border-left-color: var(--fill-color);\n",
              "      border-top-color: var(--fill-color);\n",
              "      border-right-color: var(--fill-color);\n",
              "    }\n",
              "    40% {\n",
              "      border-color: transparent;\n",
              "      border-right-color: var(--fill-color);\n",
              "      border-top-color: var(--fill-color);\n",
              "    }\n",
              "    60% {\n",
              "      border-color: transparent;\n",
              "      border-right-color: var(--fill-color);\n",
              "    }\n",
              "    80% {\n",
              "      border-color: transparent;\n",
              "      border-right-color: var(--fill-color);\n",
              "      border-bottom-color: var(--fill-color);\n",
              "    }\n",
              "    90% {\n",
              "      border-color: transparent;\n",
              "      border-bottom-color: var(--fill-color);\n",
              "    }\n",
              "  }\n",
              "</style>\n",
              "\n",
              "      <script>\n",
              "        async function quickchart(key) {\n",
              "          const quickchartButtonEl =\n",
              "            document.querySelector('#' + key + ' button');\n",
              "          quickchartButtonEl.disabled = true;  // To prevent multiple clicks.\n",
              "          quickchartButtonEl.classList.add('colab-df-spinner');\n",
              "          try {\n",
              "            const charts = await google.colab.kernel.invokeFunction(\n",
              "                'suggestCharts', [key], {});\n",
              "          } catch (error) {\n",
              "            console.error('Error during call to suggestCharts:', error);\n",
              "          }\n",
              "          quickchartButtonEl.classList.remove('colab-df-spinner');\n",
              "          quickchartButtonEl.classList.add('colab-df-quickchart-complete');\n",
              "        }\n",
              "        (() => {\n",
              "          let quickchartButtonEl =\n",
              "            document.querySelector('#df-355f43da-4d3e-4a73-b8e6-fee5350bc06a button');\n",
              "          quickchartButtonEl.style.display =\n",
              "            google.colab.kernel.accessAllowed ? 'block' : 'none';\n",
              "        })();\n",
              "      </script>\n",
              "    </div>\n",
              "\n",
              "    </div>\n",
              "  </div>\n"
            ],
            "application/vnd.google.colaboratory.intrinsic+json": {
              "type": "dataframe",
              "summary": "{\n  \"name\": \"df\",\n  \"rows\": 8,\n  \"fields\": [\n    {\n      \"column\": \"months_since_last_donation\",\n      \"properties\": {\n        \"dtype\": \"number\",\n        \"std\": 250.81556191888745,\n        \"min\": 2.0,\n        \"max\": 719.0,\n        \"num_unique_values\": 8,\n        \"samples\": [\n          9.351877607788595,\n          8.0,\n          719.0\n        ],\n        \"semantic_type\": \"\",\n        \"description\": \"\"\n      }\n    },\n    {\n      \"column\": \"total_number_of_donations\",\n      \"properties\": {\n        \"dtype\": \"number\",\n        \"std\": 251.916907670857,\n        \"min\": 1.0,\n        \"max\": 719.0,\n        \"num_unique_values\": 8,\n        \"samples\": [\n          5.029207232267037,\n          4.0,\n          719.0\n        ],\n        \"semantic_type\": \"\",\n        \"description\": \"\"\n      }\n    },\n    {\n      \"column\": \"total_blood_donated\",\n      \"properties\": {\n        \"dtype\": \"number\",\n        \"std\": 1848.7589847885786,\n        \"min\": 250.0,\n        \"max\": 6000.0,\n        \"num_unique_values\": 8,\n        \"samples\": [\n          1257.3018080667593,\n          1000.0,\n          719.0\n        ],\n        \"semantic_type\": \"\",\n        \"description\": \"\"\n      }\n    },\n    {\n      \"column\": \"months_since_first_donation\",\n      \"properties\": {\n        \"dtype\": \"number\",\n        \"std\": 243.37123027750076,\n        \"min\": 2.0,\n        \"max\": 719.0,\n        \"num_unique_values\": 8,\n        \"samples\": [\n          33.182197496522946,\n          28.0,\n          719.0\n        ],\n        \"semantic_type\": \"\",\n        \"description\": \"\"\n      }\n    },\n    {\n      \"column\": \"class\",\n      \"properties\": {\n        \"dtype\": \"number\",\n        \"std\": 254.12142773305155,\n        \"min\": 0.0,\n        \"max\": 719.0,\n        \"num_unique_values\": 5,\n        \"samples\": [\n          0.2336578581363004,\n          1.0,\n          0.4234515949308073\n        ],\n        \"semantic_type\": \"\",\n        \"description\": \"\"\n      }\n    }\n  ]\n}"
            }
          },
          "metadata": {},
          "execution_count": 11
        }
      ]
    },
    {
      "cell_type": "markdown",
      "source": [
        "## Outlier Removal\n",
        "- The scatterplot in Task 1 and the 3-D scatter visualization below revealed a small number of **extreme values** that distorted the data distribution and appeared to skew the dataset.\n",
        "\n",
        "Before filtering, several data points extended far beyond the main cluster:\n",
        "- Specifically, several donors had unusually high blood volumes donated with **total blood donated greater than 8,000 ml** or long intervals since their last donations with **months since last donation greater than 30 months**.\n",
        "- A few records also showed less than **1 month** since the previous donation, which is not typical given the average interval between donations.\n",
        "\n",
        "*While these records are valid, they represent **rare cases** compared to the general donor population and could disproportionately influence later visualizations and distance-based algorithms.*\n",
        "\n",
        "In the 3-D scatter, these outliers stretched the plot and made overall patterns impossible to interpret, prompting a closer review of the original scatterplot to identify the cause.\n"
      ],
      "metadata": {
        "id": "wZC5TWlrhbUg"
      }
    },
    {
      "cell_type": "markdown",
      "source": [
        "## Filtering\n",
        "**Filtering criteria applied:**\n",
        "- **total_blood_donated ≤ 8,000 ml**\n",
        "- **1 < months_since_last_donation ≤ 30**\n",
        "\n",
        "\n",
        "After removal, **719 records** remain—less than 4% of the data were excluded from subsequent data analysis.\n",
        "\n",
        "**Observations after filtering:**\n",
        "- The dataset now displays a more compact, interpretable distribution in 3-D space.\n",
        "- Averages decreased slightly, and standard deviations narrowed across all features, confirming reduced variability.\n",
        "\n",
        "These steps preserve the previously observed class-level distinctions while removing rare or atypical donation behaviors that could skew later visualizations and analysis.\n"
      ],
      "metadata": {
        "id": "GjvrKzV_iMmP"
      }
    },
    {
      "cell_type": "markdown",
      "source": [
        "## Normalization"
      ],
      "metadata": {
        "id": "atU4M3zaKd1K"
      }
    },
    {
      "cell_type": "code",
      "source": [
        "# Log normalization\n",
        "def log_normalization(column: pd.Series) -> pd.Series:\n",
        "    min = column.min()\n",
        "    max = column.max()\n",
        "\n",
        "    c = 0000000000000.1\n",
        "\n",
        "    normalized = (np.log(column + c) - np.log(min + c)) / (np.log(max + c) - np.log(min + c))\n",
        "\n",
        "    return normalized\n",
        "\n",
        "# Remove the target feature from preprocessing\n",
        "df_norm = df.drop(columns=['class'])\n",
        "\n",
        "for c in df_norm.columns:\n",
        "  df_norm[c] = log_normalization(df_norm[c])\n",
        "\n",
        "df_norm['class'] = df['class']\n",
        "\n",
        "df_norm.describe()"
      ],
      "metadata": {
        "id": "lT6vkLyzKcNU",
        "outputId": "91133570-6702-4f49-9f31-35bab341f908",
        "colab": {
          "base_uri": "https://localhost:8080/",
          "height": 297
        }
      },
      "execution_count": 12,
      "outputs": [
        {
          "output_type": "execute_result",
          "data": {
            "text/plain": [
              "       months_since_last_donation  total_number_of_donations  \\\n",
              "count                  719.000000                 719.000000   \n",
              "mean                     0.464694                   0.388831   \n",
              "std                      0.342161                   0.272803   \n",
              "min                      0.000000                   0.000000   \n",
              "25%                      0.154550                   0.209474   \n",
              "50%                      0.535686                   0.426213   \n",
              "75%                      0.755650                   0.604096   \n",
              "max                      1.000000                   1.000000   \n",
              "\n",
              "       total_blood_donated  months_since_first_donation       class  \n",
              "count           719.000000                   719.000000  719.000000  \n",
              "mean              0.395259                     0.629006    0.233658  \n",
              "std               0.274327                     0.250187    0.423452  \n",
              "min               0.000000                     0.000000    0.000000  \n",
              "25%               0.218068                     0.521538    0.000000  \n",
              "50%               0.436167                     0.674765    0.000000  \n",
              "75%               0.612262                     0.814595    0.000000  \n",
              "max               1.000000                     1.000000    1.000000  "
            ],
            "text/html": [
              "\n",
              "  <div id=\"df-8ab60c6d-0292-4554-9fed-83d99d925d2c\" class=\"colab-df-container\">\n",
              "    <div>\n",
              "<style scoped>\n",
              "    .dataframe tbody tr th:only-of-type {\n",
              "        vertical-align: middle;\n",
              "    }\n",
              "\n",
              "    .dataframe tbody tr th {\n",
              "        vertical-align: top;\n",
              "    }\n",
              "\n",
              "    .dataframe thead th {\n",
              "        text-align: right;\n",
              "    }\n",
              "</style>\n",
              "<table border=\"1\" class=\"dataframe\">\n",
              "  <thead>\n",
              "    <tr style=\"text-align: right;\">\n",
              "      <th></th>\n",
              "      <th>months_since_last_donation</th>\n",
              "      <th>total_number_of_donations</th>\n",
              "      <th>total_blood_donated</th>\n",
              "      <th>months_since_first_donation</th>\n",
              "      <th>class</th>\n",
              "    </tr>\n",
              "  </thead>\n",
              "  <tbody>\n",
              "    <tr>\n",
              "      <th>count</th>\n",
              "      <td>719.000000</td>\n",
              "      <td>719.000000</td>\n",
              "      <td>719.000000</td>\n",
              "      <td>719.000000</td>\n",
              "      <td>719.000000</td>\n",
              "    </tr>\n",
              "    <tr>\n",
              "      <th>mean</th>\n",
              "      <td>0.464694</td>\n",
              "      <td>0.388831</td>\n",
              "      <td>0.395259</td>\n",
              "      <td>0.629006</td>\n",
              "      <td>0.233658</td>\n",
              "    </tr>\n",
              "    <tr>\n",
              "      <th>std</th>\n",
              "      <td>0.342161</td>\n",
              "      <td>0.272803</td>\n",
              "      <td>0.274327</td>\n",
              "      <td>0.250187</td>\n",
              "      <td>0.423452</td>\n",
              "    </tr>\n",
              "    <tr>\n",
              "      <th>min</th>\n",
              "      <td>0.000000</td>\n",
              "      <td>0.000000</td>\n",
              "      <td>0.000000</td>\n",
              "      <td>0.000000</td>\n",
              "      <td>0.000000</td>\n",
              "    </tr>\n",
              "    <tr>\n",
              "      <th>25%</th>\n",
              "      <td>0.154550</td>\n",
              "      <td>0.209474</td>\n",
              "      <td>0.218068</td>\n",
              "      <td>0.521538</td>\n",
              "      <td>0.000000</td>\n",
              "    </tr>\n",
              "    <tr>\n",
              "      <th>50%</th>\n",
              "      <td>0.535686</td>\n",
              "      <td>0.426213</td>\n",
              "      <td>0.436167</td>\n",
              "      <td>0.674765</td>\n",
              "      <td>0.000000</td>\n",
              "    </tr>\n",
              "    <tr>\n",
              "      <th>75%</th>\n",
              "      <td>0.755650</td>\n",
              "      <td>0.604096</td>\n",
              "      <td>0.612262</td>\n",
              "      <td>0.814595</td>\n",
              "      <td>0.000000</td>\n",
              "    </tr>\n",
              "    <tr>\n",
              "      <th>max</th>\n",
              "      <td>1.000000</td>\n",
              "      <td>1.000000</td>\n",
              "      <td>1.000000</td>\n",
              "      <td>1.000000</td>\n",
              "      <td>1.000000</td>\n",
              "    </tr>\n",
              "  </tbody>\n",
              "</table>\n",
              "</div>\n",
              "    <div class=\"colab-df-buttons\">\n",
              "\n",
              "  <div class=\"colab-df-container\">\n",
              "    <button class=\"colab-df-convert\" onclick=\"convertToInteractive('df-8ab60c6d-0292-4554-9fed-83d99d925d2c')\"\n",
              "            title=\"Convert this dataframe to an interactive table.\"\n",
              "            style=\"display:none;\">\n",
              "\n",
              "  <svg xmlns=\"http://www.w3.org/2000/svg\" height=\"24px\" viewBox=\"0 -960 960 960\">\n",
              "    <path d=\"M120-120v-720h720v720H120Zm60-500h600v-160H180v160Zm220 220h160v-160H400v160Zm0 220h160v-160H400v160ZM180-400h160v-160H180v160Zm440 0h160v-160H620v160ZM180-180h160v-160H180v160Zm440 0h160v-160H620v160Z\"/>\n",
              "  </svg>\n",
              "    </button>\n",
              "\n",
              "  <style>\n",
              "    .colab-df-container {\n",
              "      display:flex;\n",
              "      gap: 12px;\n",
              "    }\n",
              "\n",
              "    .colab-df-convert {\n",
              "      background-color: #E8F0FE;\n",
              "      border: none;\n",
              "      border-radius: 50%;\n",
              "      cursor: pointer;\n",
              "      display: none;\n",
              "      fill: #1967D2;\n",
              "      height: 32px;\n",
              "      padding: 0 0 0 0;\n",
              "      width: 32px;\n",
              "    }\n",
              "\n",
              "    .colab-df-convert:hover {\n",
              "      background-color: #E2EBFA;\n",
              "      box-shadow: 0px 1px 2px rgba(60, 64, 67, 0.3), 0px 1px 3px 1px rgba(60, 64, 67, 0.15);\n",
              "      fill: #174EA6;\n",
              "    }\n",
              "\n",
              "    .colab-df-buttons div {\n",
              "      margin-bottom: 4px;\n",
              "    }\n",
              "\n",
              "    [theme=dark] .colab-df-convert {\n",
              "      background-color: #3B4455;\n",
              "      fill: #D2E3FC;\n",
              "    }\n",
              "\n",
              "    [theme=dark] .colab-df-convert:hover {\n",
              "      background-color: #434B5C;\n",
              "      box-shadow: 0px 1px 3px 1px rgba(0, 0, 0, 0.15);\n",
              "      filter: drop-shadow(0px 1px 2px rgba(0, 0, 0, 0.3));\n",
              "      fill: #FFFFFF;\n",
              "    }\n",
              "  </style>\n",
              "\n",
              "    <script>\n",
              "      const buttonEl =\n",
              "        document.querySelector('#df-8ab60c6d-0292-4554-9fed-83d99d925d2c button.colab-df-convert');\n",
              "      buttonEl.style.display =\n",
              "        google.colab.kernel.accessAllowed ? 'block' : 'none';\n",
              "\n",
              "      async function convertToInteractive(key) {\n",
              "        const element = document.querySelector('#df-8ab60c6d-0292-4554-9fed-83d99d925d2c');\n",
              "        const dataTable =\n",
              "          await google.colab.kernel.invokeFunction('convertToInteractive',\n",
              "                                                    [key], {});\n",
              "        if (!dataTable) return;\n",
              "\n",
              "        const docLinkHtml = 'Like what you see? Visit the ' +\n",
              "          '<a target=\"_blank\" href=https://colab.research.google.com/notebooks/data_table.ipynb>data table notebook</a>'\n",
              "          + ' to learn more about interactive tables.';\n",
              "        element.innerHTML = '';\n",
              "        dataTable['output_type'] = 'display_data';\n",
              "        await google.colab.output.renderOutput(dataTable, element);\n",
              "        const docLink = document.createElement('div');\n",
              "        docLink.innerHTML = docLinkHtml;\n",
              "        element.appendChild(docLink);\n",
              "      }\n",
              "    </script>\n",
              "  </div>\n",
              "\n",
              "\n",
              "    <div id=\"df-03598f7f-b76f-4c35-935a-a572a6fb9e36\">\n",
              "      <button class=\"colab-df-quickchart\" onclick=\"quickchart('df-03598f7f-b76f-4c35-935a-a572a6fb9e36')\"\n",
              "                title=\"Suggest charts\"\n",
              "                style=\"display:none;\">\n",
              "\n",
              "<svg xmlns=\"http://www.w3.org/2000/svg\" height=\"24px\"viewBox=\"0 0 24 24\"\n",
              "     width=\"24px\">\n",
              "    <g>\n",
              "        <path d=\"M19 3H5c-1.1 0-2 .9-2 2v14c0 1.1.9 2 2 2h14c1.1 0 2-.9 2-2V5c0-1.1-.9-2-2-2zM9 17H7v-7h2v7zm4 0h-2V7h2v10zm4 0h-2v-4h2v4z\"/>\n",
              "    </g>\n",
              "</svg>\n",
              "      </button>\n",
              "\n",
              "<style>\n",
              "  .colab-df-quickchart {\n",
              "      --bg-color: #E8F0FE;\n",
              "      --fill-color: #1967D2;\n",
              "      --hover-bg-color: #E2EBFA;\n",
              "      --hover-fill-color: #174EA6;\n",
              "      --disabled-fill-color: #AAA;\n",
              "      --disabled-bg-color: #DDD;\n",
              "  }\n",
              "\n",
              "  [theme=dark] .colab-df-quickchart {\n",
              "      --bg-color: #3B4455;\n",
              "      --fill-color: #D2E3FC;\n",
              "      --hover-bg-color: #434B5C;\n",
              "      --hover-fill-color: #FFFFFF;\n",
              "      --disabled-bg-color: #3B4455;\n",
              "      --disabled-fill-color: #666;\n",
              "  }\n",
              "\n",
              "  .colab-df-quickchart {\n",
              "    background-color: var(--bg-color);\n",
              "    border: none;\n",
              "    border-radius: 50%;\n",
              "    cursor: pointer;\n",
              "    display: none;\n",
              "    fill: var(--fill-color);\n",
              "    height: 32px;\n",
              "    padding: 0;\n",
              "    width: 32px;\n",
              "  }\n",
              "\n",
              "  .colab-df-quickchart:hover {\n",
              "    background-color: var(--hover-bg-color);\n",
              "    box-shadow: 0 1px 2px rgba(60, 64, 67, 0.3), 0 1px 3px 1px rgba(60, 64, 67, 0.15);\n",
              "    fill: var(--button-hover-fill-color);\n",
              "  }\n",
              "\n",
              "  .colab-df-quickchart-complete:disabled,\n",
              "  .colab-df-quickchart-complete:disabled:hover {\n",
              "    background-color: var(--disabled-bg-color);\n",
              "    fill: var(--disabled-fill-color);\n",
              "    box-shadow: none;\n",
              "  }\n",
              "\n",
              "  .colab-df-spinner {\n",
              "    border: 2px solid var(--fill-color);\n",
              "    border-color: transparent;\n",
              "    border-bottom-color: var(--fill-color);\n",
              "    animation:\n",
              "      spin 1s steps(1) infinite;\n",
              "  }\n",
              "\n",
              "  @keyframes spin {\n",
              "    0% {\n",
              "      border-color: transparent;\n",
              "      border-bottom-color: var(--fill-color);\n",
              "      border-left-color: var(--fill-color);\n",
              "    }\n",
              "    20% {\n",
              "      border-color: transparent;\n",
              "      border-left-color: var(--fill-color);\n",
              "      border-top-color: var(--fill-color);\n",
              "    }\n",
              "    30% {\n",
              "      border-color: transparent;\n",
              "      border-left-color: var(--fill-color);\n",
              "      border-top-color: var(--fill-color);\n",
              "      border-right-color: var(--fill-color);\n",
              "    }\n",
              "    40% {\n",
              "      border-color: transparent;\n",
              "      border-right-color: var(--fill-color);\n",
              "      border-top-color: var(--fill-color);\n",
              "    }\n",
              "    60% {\n",
              "      border-color: transparent;\n",
              "      border-right-color: var(--fill-color);\n",
              "    }\n",
              "    80% {\n",
              "      border-color: transparent;\n",
              "      border-right-color: var(--fill-color);\n",
              "      border-bottom-color: var(--fill-color);\n",
              "    }\n",
              "    90% {\n",
              "      border-color: transparent;\n",
              "      border-bottom-color: var(--fill-color);\n",
              "    }\n",
              "  }\n",
              "</style>\n",
              "\n",
              "      <script>\n",
              "        async function quickchart(key) {\n",
              "          const quickchartButtonEl =\n",
              "            document.querySelector('#' + key + ' button');\n",
              "          quickchartButtonEl.disabled = true;  // To prevent multiple clicks.\n",
              "          quickchartButtonEl.classList.add('colab-df-spinner');\n",
              "          try {\n",
              "            const charts = await google.colab.kernel.invokeFunction(\n",
              "                'suggestCharts', [key], {});\n",
              "          } catch (error) {\n",
              "            console.error('Error during call to suggestCharts:', error);\n",
              "          }\n",
              "          quickchartButtonEl.classList.remove('colab-df-spinner');\n",
              "          quickchartButtonEl.classList.add('colab-df-quickchart-complete');\n",
              "        }\n",
              "        (() => {\n",
              "          let quickchartButtonEl =\n",
              "            document.querySelector('#df-03598f7f-b76f-4c35-935a-a572a6fb9e36 button');\n",
              "          quickchartButtonEl.style.display =\n",
              "            google.colab.kernel.accessAllowed ? 'block' : 'none';\n",
              "        })();\n",
              "      </script>\n",
              "    </div>\n",
              "\n",
              "    </div>\n",
              "  </div>\n"
            ],
            "application/vnd.google.colaboratory.intrinsic+json": {
              "type": "dataframe",
              "summary": "{\n  \"name\": \"df_norm\",\n  \"rows\": 8,\n  \"fields\": [\n    {\n      \"column\": \"months_since_last_donation\",\n      \"properties\": {\n        \"dtype\": \"number\",\n        \"std\": 254.0407974027213,\n        \"min\": 0.0,\n        \"max\": 719.0,\n        \"num_unique_values\": 8,\n        \"samples\": [\n          0.4646935115504203,\n          0.5356856367482237,\n          719.0\n        ],\n        \"semantic_type\": \"\",\n        \"description\": \"\"\n      }\n    },\n    {\n      \"column\": \"total_number_of_donations\",\n      \"properties\": {\n        \"dtype\": \"number\",\n        \"std\": 254.0585166499934,\n        \"min\": 0.0,\n        \"max\": 719.0,\n        \"num_unique_values\": 8,\n        \"samples\": [\n          0.3888309102137763,\n          0.4262127331943825,\n          719.0\n        ],\n        \"semantic_type\": \"\",\n        \"description\": \"\"\n      }\n    },\n    {\n      \"column\": \"total_blood_donated\",\n      \"properties\": {\n        \"dtype\": \"number\",\n        \"std\": 254.05676551382928,\n        \"min\": 0.0,\n        \"max\": 719.0,\n        \"num_unique_values\": 8,\n        \"samples\": [\n          0.3952591102702923,\n          0.4361668091696602,\n          719.0\n        ],\n        \"semantic_type\": \"\",\n        \"description\": \"\"\n      }\n    },\n    {\n      \"column\": \"months_since_first_donation\",\n      \"properties\": {\n        \"dtype\": \"number\",\n        \"std\": 254.00860178457984,\n        \"min\": 0.0,\n        \"max\": 719.0,\n        \"num_unique_values\": 8,\n        \"samples\": [\n          0.6290059940915264,\n          0.6747654731005414,\n          719.0\n        ],\n        \"semantic_type\": \"\",\n        \"description\": \"\"\n      }\n    },\n    {\n      \"column\": \"class\",\n      \"properties\": {\n        \"dtype\": \"number\",\n        \"std\": 254.12142773305155,\n        \"min\": 0.0,\n        \"max\": 719.0,\n        \"num_unique_values\": 5,\n        \"samples\": [\n          0.2336578581363004,\n          1.0,\n          0.4234515949308073\n        ],\n        \"semantic_type\": \"\",\n        \"description\": \"\"\n      }\n    }\n  ]\n}"
            }
          },
          "metadata": {},
          "execution_count": 12
        }
      ]
    },
    {
      "cell_type": "markdown",
      "source": [
        "### Log Normalization\n",
        "To align the feature scales, **log normalization** was applied to each numerical column (i.e., excluding ‘class’)\n",
        "- This transformation compresses large numeric ranges (e.g., 2 vs. 98 ‘months_since_first_donation’) and rescales all feature values between 0 and 1 while maintaining their relative differences.\n",
        "-In this context, normalization reduces the influence of attributes measured on different scales (e.g., month vs. milliliters) and ensures that each contributes comparably to later distance-based algorithms.\n",
        "\n",
        "**Observations after normalization:**\n",
        "- All features now share a comparable scale (‘min = 0’, ‘max ≈ 1’).\n",
        "- Mean values between **0.39 and 0.63** indicate that feature distributions are evenly balanced, without clustering too heavily at either end of the range.\n",
        "- Lower standard deviations show that the spread of values across features is more uniform, preventing any single feature from dominating the distance calculations used in subsequent algorithms (e.g., KNN and SVM).\n",
        "\n",
        "Although normalization reduces the influence of features with large numeric ranges, **outlier removal remains necessary** as extremely large or rare values can still distort relative distances even on a normalized scale. Filtering these outliers improves the accuracy of subsequent analyses and classification models.\n",
        "\n",
        "*The resulting dataframe, ‘df_norm’, retains the target variable ‘class’ alongside the normalized numerical features. It provides a consistent, balanced input for subsequent visualization and classification.*\n"
      ],
      "metadata": {
        "id": "5KNrRPgLhcP3"
      }
    },
    {
      "cell_type": "markdown",
      "source": [
        "## Dimensionality Reduction"
      ],
      "metadata": {
        "id": "8-rSjQyYKk2K"
      }
    },
    {
      "cell_type": "code",
      "source": [
        "# Plot highlighting that the two attributes are the same. (They are proportional, because donation sizes are constant)\n",
        "fig5 = px.scatter(\n",
        "    data_frame= df,\n",
        "    y = df['total_blood_donated'],\n",
        "    x = df['total_number_of_donations'],\n",
        "    title=\"Total Donations vs. Amount of Blood Donated (mL)\",\n",
        "    color_discrete_sequence=['darkred']\n",
        ")\n",
        "fig5.show()\n",
        "\n",
        "df['ratio'] = df['total_blood_donated'] / df['total_number_of_donations']\n",
        "print(df['ratio'].std())"
      ],
      "metadata": {
        "id": "pNFgb2RoKlOv",
        "outputId": "0efcdee5-84a5-474c-8513-3efc6dcd231b",
        "colab": {
          "base_uri": "https://localhost:8080/",
          "height": 559
        }
      },
      "execution_count": 13,
      "outputs": [
        {
          "output_type": "display_data",
          "data": {
            "text/html": [
              "<html>\n",
              "<head><meta charset=\"utf-8\" /></head>\n",
              "<body>\n",
              "    <div>            <script src=\"https://cdnjs.cloudflare.com/ajax/libs/mathjax/2.7.5/MathJax.js?config=TeX-AMS-MML_SVG\"></script><script type=\"text/javascript\">if (window.MathJax && window.MathJax.Hub && window.MathJax.Hub.Config) {window.MathJax.Hub.Config({SVG: {font: \"STIX-Web\"}});}</script>                <script type=\"text/javascript\">window.PlotlyConfig = {MathJaxConfig: 'local'};</script>\n",
              "        <script charset=\"utf-8\" src=\"https://cdn.plot.ly/plotly-2.35.2.min.js\"></script>                <div id=\"a8862567-5d09-4264-8392-a40885072633\" class=\"plotly-graph-div\" style=\"height:525px; width:100%;\"></div>            <script type=\"text/javascript\">                                    window.PLOTLYENV=window.PLOTLYENV || {};                                    if (document.getElementById(\"a8862567-5d09-4264-8392-a40885072633\")) {                    Plotly.newPlot(                        \"a8862567-5d09-4264-8392-a40885072633\",                        [{\"hovertemplate\":\"total_number_of_donations=%{x}\\u003cbr\\u003etotal_blood_donated=%{y}\\u003cextra\\u003e\\u003c\\u002fextra\\u003e\",\"legendgroup\":\"\",\"marker\":{\"color\":\"darkred\",\"symbol\":\"circle\"},\"mode\":\"markers\",\"name\":\"\",\"orientation\":\"v\",\"showlegend\":false,\"x\":[20.0,4.0,7.0,9.0,23.0,10.0,6.0,5.0,14.0,15.0,6.0,3.0,3.0,11.0,6.0,6.0,9.0,14.0,6.0,12.0,5.0,8.0,10.0,10.0,9.0,16.0,8.0,12.0,6.0,14.0,7.0,13.0,5.0,5.0,5.0,20.0,9.0,9.0,2.0,2.0,2.0,11.0,11.0,6.0,12.0,5.0,19.0,8.0,7.0,16.0,6.0,7.0,8.0,10.0,5.0,3.0,16.0,4.0,7.0,4.0,4.0,17.0,2.0,2.0,2.0,4.0,2.0,2.0,2.0,6.0,4.0,4.0,4.0,6.0,6.0,2.0,2.0,2.0,7.0,2.0,2.0,2.0,2.0,11.0,7.0,17.0,9.0,4.0,7.0,8.0,13.0,9.0,5.0,5.0,17.0,5.0,3.0,10.0,5.0,9.0,5.0,8.0,12.0,24.0,7.0,11.0,11.0,3.0,5.0,6.0,5.0,4.0,5.0,8.0,4.0,8.0,2.0,5.0,12.0,2.0,6.0,11.0,3.0,5.0,12.0,5.0,2.0,9.0,14.0,3.0,3.0,2.0,3.0,3.0,2.0,2.0,2.0,7.0,6.0,11.0,1.0,1.0,1.0,1.0,1.0,1.0,1.0,1.0,1.0,1.0,1.0,1.0,1.0,1.0,1.0,1.0,1.0,1.0,1.0,1.0,1.0,1.0,10.0,4.0,5.0,6.0,3.0,4.0,4.0,4.0,12.0,8.0,9.0,5.0,4.0,15.0,5.0,7.0,7.0,4.0,11.0,2.0,5.0,8.0,6.0,7.0,9.0,6.0,7.0,2.0,7.0,9.0,6.0,2.0,7.0,6.0,3.0,1.0,1.0,1.0,1.0,1.0,1.0,1.0,1.0,1.0,1.0,1.0,1.0,1.0,1.0,1.0,1.0,1.0,3.0,1.0,1.0,1.0,1.0,1.0,8.0,7.0,10.0,3.0,2.0,4.0,9.0,8.0,22.0,3.0,17.0,2.0,5.0,12.0,12.0,2.0,2.0,2.0,6.0,8.0,3.0,13.0,3.0,8.0,7.0,3.0,12.0,4.0,14.0,2.0,3.0,5.0,4.0,2.0,8.0,7.0,4.0,11.0,7.0,2.0,5.0,5.0,4.0,13.0,3.0,18.0,8.0,16.0,4.0,5.0,2.0,5.0,2.0,2.0,2.0,5.0,3.0,4.0,12.0,4.0,5.0,5.0,4.0,5.0,2.0,2.0,2.0,2.0,2.0,2.0,3.0,6.0,5.0,5.0,3.0,4.0,3.0,5.0,2.0,9.0,1.0,1.0,2.0,2.0,4.0,9.0,5.0,16.0,5.0,4.0,8.0,7.0,2.0,2.0,16.0,4.0,7.0,7.0,6.0,6.0,7.0,2.0,3.0,3.0,7.0,1.0,3.0,4.0,6.0,1.0,1.0,1.0,1.0,1.0,1.0,1.0,1.0,2.0,5.0,2.0,4.0,2.0,6.0,3.0,2.0,16.0,6.0,2.0,3.0,13.0,6.0,2.0,15.0,4.0,2.0,5.0,2.0,3.0,2.0,4.0,4.0,3.0,5.0,1.0,1.0,1.0,1.0,1.0,1.0,1.0,1.0,7.0,1.0,1.0,3.0,7.0,4.0,4.0,2.0,4.0,4.0,10.0,2.0,3.0,8.0,3.0,2.0,5.0,8.0,3.0,5.0,3.0,1.0,1.0,1.0,1.0,1.0,1.0,1.0,4.0,1.0,1.0,1.0,1.0,1.0,2.0,2.0,2.0,2.0,2.0,4.0,5.0,2.0,5.0,3.0,3.0,2.0,2.0,7.0,4.0,2.0,7.0,2.0,3.0,14.0,8.0,3.0,3.0,2.0,3.0,12.0,3.0,2.0,2.0,8.0,3.0,3.0,3.0,2.0,1.0,1.0,1.0,1.0,1.0,1.0,1.0,1.0,1.0,1.0,1.0,1.0,5.0,4.0,4.0,1.0,2.0,5.0,3.0,3.0,3.0,2.0,5.0,6.0,1.0,1.0,1.0,1.0,1.0,1.0,1.0,1.0,4.0,6.0,3.0,2.0,3.0,2.0,3.0,4.0,3.0,2.0,22.0,21.0,11.0,21.0,13.0,4.0,11.0,11.0,14.0,16.0,6.0,5.0,10.0,10.0,11.0,11.0,13.0,9.0,4.0,5.0,15.0,24.0,6.0,5.0,4.0,8.0,4.0,6.0,5.0,7.0,6.0,8.0,2.0,6.0,10.0,16.0,2.0,2.0,14.0,3.0,12.0,7.0,4.0,6.0,6.0,3.0,4.0,4.0,6.0,6.0,5.0,8.0,11.0,9.0,16.0,10.0,14.0,9.0,6.0,9.0,6.0,6.0,6.0,2.0,2.0,2.0,2.0,6.0,4.0,9.0,5.0,3.0,1.0,1.0,1.0,1.0,1.0,1.0,1.0,1.0,1.0,1.0,1.0,11.0,3.0,11.0,11.0,5.0,1.0,6.0,3.0,11.0,2.0,6.0,3.0,8.0,2.0,11.0,7.0,7.0,1.0,1.0,1.0,1.0,1.0,1.0,1.0,1.0,1.0,1.0,1.0,1.0,7.0,1.0,4.0,6.0,3.0,5.0,9.0,2.0,5.0,11.0,9.0,2.0,3.0,15.0,3.0,16.0,5.0,7.0,4.0,9.0,8.0,5.0,6.0,5.0,2.0,2.0,2.0,2.0,3.0,8.0,1.0,5.0,4.0,2.0,3.0,16.0,2.0,8.0,3.0,7.0,5.0,2.0,3.0,8.0,1.0,1.0,1.0,1.0,1.0,3.0,3.0,4.0,15.0,14.0,10.0,3.0,3.0,19.0,7.0,3.0,14.0,2.0,2.0,3.0,4.0,7.0,7.0,6.0,3.0,1.0,1.0,1.0,1.0,1.0,1.0,7.0,3.0,3.0,7.0,2.0,3.0,1.0,1.0,1.0,1.0,1.0,2.0,4.0,2.0,6.0,2.0,6.0,2.0,6.0,4.0,5.0,2.0,3.0,3.0,8.0,3.0,3.0,3.0,2.0,1.0,1.0,6.0,1.0,1.0,3.0,2.0,3.0,1.0,1.0,1.0,1.0,1.0,1.0,1.0,4.0,1.0,7.0,3.0,2.0,2.0,3.0],\"xaxis\":\"x\",\"y\":[5000.0,1000.0,1750.0,2250.0,5750.0,2500.0,1500.0,1250.0,3500.0,3750.0,1500.0,750.0,750.0,2750.0,1500.0,1500.0,2250.0,3500.0,1500.0,3000.0,1250.0,2000.0,2500.0,2500.0,2250.0,4000.0,2000.0,3000.0,1500.0,3500.0,1750.0,3250.0,1250.0,1250.0,1250.0,5000.0,2250.0,2250.0,500.0,500.0,500.0,2750.0,2750.0,1500.0,3000.0,1250.0,4750.0,2000.0,1750.0,4000.0,1500.0,1750.0,2000.0,2500.0,1250.0,750.0,4000.0,1000.0,1750.0,1000.0,1000.0,4250.0,500.0,500.0,500.0,1000.0,500.0,500.0,500.0,1500.0,1000.0,1000.0,1000.0,1500.0,1500.0,500.0,500.0,500.0,1750.0,500.0,500.0,500.0,500.0,2750.0,1750.0,4250.0,2250.0,1000.0,1750.0,2000.0,3250.0,2250.0,1250.0,1250.0,4250.0,1250.0,750.0,2500.0,1250.0,2250.0,1250.0,2000.0,3000.0,6000.0,1750.0,2750.0,2750.0,750.0,1250.0,1500.0,1250.0,1000.0,1250.0,2000.0,1000.0,2000.0,500.0,1250.0,3000.0,500.0,1500.0,2750.0,750.0,1250.0,3000.0,1250.0,500.0,2250.0,3500.0,750.0,750.0,500.0,750.0,750.0,500.0,500.0,500.0,1750.0,1500.0,2750.0,250.0,250.0,250.0,250.0,250.0,250.0,250.0,250.0,250.0,250.0,250.0,250.0,250.0,250.0,250.0,250.0,250.0,250.0,250.0,250.0,250.0,250.0,2500.0,1000.0,1250.0,1500.0,750.0,1000.0,1000.0,1000.0,3000.0,2000.0,2250.0,1250.0,1000.0,3750.0,1250.0,1750.0,1750.0,1000.0,2750.0,500.0,1250.0,2000.0,1500.0,1750.0,2250.0,1500.0,1750.0,500.0,1750.0,2250.0,1500.0,500.0,1750.0,1500.0,750.0,250.0,250.0,250.0,250.0,250.0,250.0,250.0,250.0,250.0,250.0,250.0,250.0,250.0,250.0,250.0,250.0,250.0,750.0,250.0,250.0,250.0,250.0,250.0,2000.0,1750.0,2500.0,750.0,500.0,1000.0,2250.0,2000.0,5500.0,750.0,4250.0,500.0,1250.0,3000.0,3000.0,500.0,500.0,500.0,1500.0,2000.0,750.0,3250.0,750.0,2000.0,1750.0,750.0,3000.0,1000.0,3500.0,500.0,750.0,1250.0,1000.0,500.0,2000.0,1750.0,1000.0,2750.0,1750.0,500.0,1250.0,1250.0,1000.0,3250.0,750.0,4500.0,2000.0,4000.0,1000.0,1250.0,500.0,1250.0,500.0,500.0,500.0,1250.0,750.0,1000.0,3000.0,1000.0,1250.0,1250.0,1000.0,1250.0,500.0,500.0,500.0,500.0,500.0,500.0,750.0,1500.0,1250.0,1250.0,750.0,1000.0,750.0,1250.0,500.0,2250.0,250.0,250.0,500.0,500.0,1000.0,2250.0,1250.0,4000.0,1250.0,1000.0,2000.0,1750.0,500.0,500.0,4000.0,1000.0,1750.0,1750.0,1500.0,1500.0,1750.0,500.0,750.0,750.0,1750.0,250.0,750.0,1000.0,1500.0,250.0,250.0,250.0,250.0,250.0,250.0,250.0,250.0,500.0,1250.0,500.0,1000.0,500.0,1500.0,750.0,500.0,4000.0,1500.0,500.0,750.0,3250.0,1500.0,500.0,3750.0,1000.0,500.0,1250.0,500.0,750.0,500.0,1000.0,1000.0,750.0,1250.0,250.0,250.0,250.0,250.0,250.0,250.0,250.0,250.0,1750.0,250.0,250.0,750.0,1750.0,1000.0,1000.0,500.0,1000.0,1000.0,2500.0,500.0,750.0,2000.0,750.0,500.0,1250.0,2000.0,750.0,1250.0,750.0,250.0,250.0,250.0,250.0,250.0,250.0,250.0,1000.0,250.0,250.0,250.0,250.0,250.0,500.0,500.0,500.0,500.0,500.0,1000.0,1250.0,500.0,1250.0,750.0,750.0,500.0,500.0,1750.0,1000.0,500.0,1750.0,500.0,750.0,3500.0,2000.0,750.0,750.0,500.0,750.0,3000.0,750.0,500.0,500.0,2000.0,750.0,750.0,750.0,500.0,250.0,250.0,250.0,250.0,250.0,250.0,250.0,250.0,250.0,250.0,250.0,250.0,1250.0,1000.0,1000.0,250.0,500.0,1250.0,750.0,750.0,750.0,500.0,1250.0,1500.0,250.0,250.0,250.0,250.0,250.0,250.0,250.0,250.0,1000.0,1500.0,750.0,500.0,750.0,500.0,750.0,1000.0,750.0,500.0,5500.0,5250.0,2750.0,5250.0,3250.0,1000.0,2750.0,2750.0,3500.0,4000.0,1500.0,1250.0,2500.0,2500.0,2750.0,2750.0,3250.0,2250.0,1000.0,1250.0,3750.0,6000.0,1500.0,1250.0,1000.0,2000.0,1000.0,1500.0,1250.0,1750.0,1500.0,2000.0,500.0,1500.0,2500.0,4000.0,500.0,500.0,3500.0,750.0,3000.0,1750.0,1000.0,1500.0,1500.0,750.0,1000.0,1000.0,1500.0,1500.0,1250.0,2000.0,2750.0,2250.0,4000.0,2500.0,3500.0,2250.0,1500.0,2250.0,1500.0,1500.0,1500.0,500.0,500.0,500.0,500.0,1500.0,1000.0,2250.0,1250.0,750.0,250.0,250.0,250.0,250.0,250.0,250.0,250.0,250.0,250.0,250.0,250.0,2750.0,750.0,2750.0,2750.0,1250.0,250.0,1500.0,750.0,2750.0,500.0,1500.0,750.0,2000.0,500.0,2750.0,1750.0,1750.0,250.0,250.0,250.0,250.0,250.0,250.0,250.0,250.0,250.0,250.0,250.0,250.0,1750.0,250.0,1000.0,1500.0,750.0,1250.0,2250.0,500.0,1250.0,2750.0,2250.0,500.0,750.0,3750.0,750.0,4000.0,1250.0,1750.0,1000.0,2250.0,2000.0,1250.0,1500.0,1250.0,500.0,500.0,500.0,500.0,750.0,2000.0,250.0,1250.0,1000.0,500.0,750.0,4000.0,500.0,2000.0,750.0,1750.0,1250.0,500.0,750.0,2000.0,250.0,250.0,250.0,250.0,250.0,750.0,750.0,1000.0,3750.0,3500.0,2500.0,750.0,750.0,4750.0,1750.0,750.0,3500.0,500.0,500.0,750.0,1000.0,1750.0,1750.0,1500.0,750.0,250.0,250.0,250.0,250.0,250.0,250.0,1750.0,750.0,750.0,1750.0,500.0,750.0,250.0,250.0,250.0,250.0,250.0,500.0,1000.0,500.0,1500.0,500.0,1500.0,500.0,1500.0,1000.0,1250.0,500.0,750.0,750.0,2000.0,750.0,750.0,750.0,500.0,250.0,250.0,1500.0,250.0,250.0,750.0,500.0,750.0,250.0,250.0,250.0,250.0,250.0,250.0,250.0,1000.0,250.0,1750.0,750.0,500.0,500.0,750.0],\"yaxis\":\"y\",\"type\":\"scatter\"}],                        {\"template\":{\"data\":{\"histogram2dcontour\":[{\"type\":\"histogram2dcontour\",\"colorbar\":{\"outlinewidth\":0,\"ticks\":\"\"},\"colorscale\":[[0.0,\"#0d0887\"],[0.1111111111111111,\"#46039f\"],[0.2222222222222222,\"#7201a8\"],[0.3333333333333333,\"#9c179e\"],[0.4444444444444444,\"#bd3786\"],[0.5555555555555556,\"#d8576b\"],[0.6666666666666666,\"#ed7953\"],[0.7777777777777778,\"#fb9f3a\"],[0.8888888888888888,\"#fdca26\"],[1.0,\"#f0f921\"]]}],\"choropleth\":[{\"type\":\"choropleth\",\"colorbar\":{\"outlinewidth\":0,\"ticks\":\"\"}}],\"histogram2d\":[{\"type\":\"histogram2d\",\"colorbar\":{\"outlinewidth\":0,\"ticks\":\"\"},\"colorscale\":[[0.0,\"#0d0887\"],[0.1111111111111111,\"#46039f\"],[0.2222222222222222,\"#7201a8\"],[0.3333333333333333,\"#9c179e\"],[0.4444444444444444,\"#bd3786\"],[0.5555555555555556,\"#d8576b\"],[0.6666666666666666,\"#ed7953\"],[0.7777777777777778,\"#fb9f3a\"],[0.8888888888888888,\"#fdca26\"],[1.0,\"#f0f921\"]]}],\"heatmap\":[{\"type\":\"heatmap\",\"colorbar\":{\"outlinewidth\":0,\"ticks\":\"\"},\"colorscale\":[[0.0,\"#0d0887\"],[0.1111111111111111,\"#46039f\"],[0.2222222222222222,\"#7201a8\"],[0.3333333333333333,\"#9c179e\"],[0.4444444444444444,\"#bd3786\"],[0.5555555555555556,\"#d8576b\"],[0.6666666666666666,\"#ed7953\"],[0.7777777777777778,\"#fb9f3a\"],[0.8888888888888888,\"#fdca26\"],[1.0,\"#f0f921\"]]}],\"heatmapgl\":[{\"type\":\"heatmapgl\",\"colorbar\":{\"outlinewidth\":0,\"ticks\":\"\"},\"colorscale\":[[0.0,\"#0d0887\"],[0.1111111111111111,\"#46039f\"],[0.2222222222222222,\"#7201a8\"],[0.3333333333333333,\"#9c179e\"],[0.4444444444444444,\"#bd3786\"],[0.5555555555555556,\"#d8576b\"],[0.6666666666666666,\"#ed7953\"],[0.7777777777777778,\"#fb9f3a\"],[0.8888888888888888,\"#fdca26\"],[1.0,\"#f0f921\"]]}],\"contourcarpet\":[{\"type\":\"contourcarpet\",\"colorbar\":{\"outlinewidth\":0,\"ticks\":\"\"}}],\"contour\":[{\"type\":\"contour\",\"colorbar\":{\"outlinewidth\":0,\"ticks\":\"\"},\"colorscale\":[[0.0,\"#0d0887\"],[0.1111111111111111,\"#46039f\"],[0.2222222222222222,\"#7201a8\"],[0.3333333333333333,\"#9c179e\"],[0.4444444444444444,\"#bd3786\"],[0.5555555555555556,\"#d8576b\"],[0.6666666666666666,\"#ed7953\"],[0.7777777777777778,\"#fb9f3a\"],[0.8888888888888888,\"#fdca26\"],[1.0,\"#f0f921\"]]}],\"surface\":[{\"type\":\"surface\",\"colorbar\":{\"outlinewidth\":0,\"ticks\":\"\"},\"colorscale\":[[0.0,\"#0d0887\"],[0.1111111111111111,\"#46039f\"],[0.2222222222222222,\"#7201a8\"],[0.3333333333333333,\"#9c179e\"],[0.4444444444444444,\"#bd3786\"],[0.5555555555555556,\"#d8576b\"],[0.6666666666666666,\"#ed7953\"],[0.7777777777777778,\"#fb9f3a\"],[0.8888888888888888,\"#fdca26\"],[1.0,\"#f0f921\"]]}],\"mesh3d\":[{\"type\":\"mesh3d\",\"colorbar\":{\"outlinewidth\":0,\"ticks\":\"\"}}],\"scatter\":[{\"fillpattern\":{\"fillmode\":\"overlay\",\"size\":10,\"solidity\":0.2},\"type\":\"scatter\"}],\"parcoords\":[{\"type\":\"parcoords\",\"line\":{\"colorbar\":{\"outlinewidth\":0,\"ticks\":\"\"}}}],\"scatterpolargl\":[{\"type\":\"scatterpolargl\",\"marker\":{\"colorbar\":{\"outlinewidth\":0,\"ticks\":\"\"}}}],\"bar\":[{\"error_x\":{\"color\":\"#2a3f5f\"},\"error_y\":{\"color\":\"#2a3f5f\"},\"marker\":{\"line\":{\"color\":\"#E5ECF6\",\"width\":0.5},\"pattern\":{\"fillmode\":\"overlay\",\"size\":10,\"solidity\":0.2}},\"type\":\"bar\"}],\"scattergeo\":[{\"type\":\"scattergeo\",\"marker\":{\"colorbar\":{\"outlinewidth\":0,\"ticks\":\"\"}}}],\"scatterpolar\":[{\"type\":\"scatterpolar\",\"marker\":{\"colorbar\":{\"outlinewidth\":0,\"ticks\":\"\"}}}],\"histogram\":[{\"marker\":{\"pattern\":{\"fillmode\":\"overlay\",\"size\":10,\"solidity\":0.2}},\"type\":\"histogram\"}],\"scattergl\":[{\"type\":\"scattergl\",\"marker\":{\"colorbar\":{\"outlinewidth\":0,\"ticks\":\"\"}}}],\"scatter3d\":[{\"type\":\"scatter3d\",\"line\":{\"colorbar\":{\"outlinewidth\":0,\"ticks\":\"\"}},\"marker\":{\"colorbar\":{\"outlinewidth\":0,\"ticks\":\"\"}}}],\"scattermapbox\":[{\"type\":\"scattermapbox\",\"marker\":{\"colorbar\":{\"outlinewidth\":0,\"ticks\":\"\"}}}],\"scatterternary\":[{\"type\":\"scatterternary\",\"marker\":{\"colorbar\":{\"outlinewidth\":0,\"ticks\":\"\"}}}],\"scattercarpet\":[{\"type\":\"scattercarpet\",\"marker\":{\"colorbar\":{\"outlinewidth\":0,\"ticks\":\"\"}}}],\"carpet\":[{\"aaxis\":{\"endlinecolor\":\"#2a3f5f\",\"gridcolor\":\"white\",\"linecolor\":\"white\",\"minorgridcolor\":\"white\",\"startlinecolor\":\"#2a3f5f\"},\"baxis\":{\"endlinecolor\":\"#2a3f5f\",\"gridcolor\":\"white\",\"linecolor\":\"white\",\"minorgridcolor\":\"white\",\"startlinecolor\":\"#2a3f5f\"},\"type\":\"carpet\"}],\"table\":[{\"cells\":{\"fill\":{\"color\":\"#EBF0F8\"},\"line\":{\"color\":\"white\"}},\"header\":{\"fill\":{\"color\":\"#C8D4E3\"},\"line\":{\"color\":\"white\"}},\"type\":\"table\"}],\"barpolar\":[{\"marker\":{\"line\":{\"color\":\"#E5ECF6\",\"width\":0.5},\"pattern\":{\"fillmode\":\"overlay\",\"size\":10,\"solidity\":0.2}},\"type\":\"barpolar\"}],\"pie\":[{\"automargin\":true,\"type\":\"pie\"}]},\"layout\":{\"autotypenumbers\":\"strict\",\"colorway\":[\"#636efa\",\"#EF553B\",\"#00cc96\",\"#ab63fa\",\"#FFA15A\",\"#19d3f3\",\"#FF6692\",\"#B6E880\",\"#FF97FF\",\"#FECB52\"],\"font\":{\"color\":\"#2a3f5f\"},\"hovermode\":\"closest\",\"hoverlabel\":{\"align\":\"left\"},\"paper_bgcolor\":\"white\",\"plot_bgcolor\":\"#E5ECF6\",\"polar\":{\"bgcolor\":\"#E5ECF6\",\"angularaxis\":{\"gridcolor\":\"white\",\"linecolor\":\"white\",\"ticks\":\"\"},\"radialaxis\":{\"gridcolor\":\"white\",\"linecolor\":\"white\",\"ticks\":\"\"}},\"ternary\":{\"bgcolor\":\"#E5ECF6\",\"aaxis\":{\"gridcolor\":\"white\",\"linecolor\":\"white\",\"ticks\":\"\"},\"baxis\":{\"gridcolor\":\"white\",\"linecolor\":\"white\",\"ticks\":\"\"},\"caxis\":{\"gridcolor\":\"white\",\"linecolor\":\"white\",\"ticks\":\"\"}},\"coloraxis\":{\"colorbar\":{\"outlinewidth\":0,\"ticks\":\"\"}},\"colorscale\":{\"sequential\":[[0.0,\"#0d0887\"],[0.1111111111111111,\"#46039f\"],[0.2222222222222222,\"#7201a8\"],[0.3333333333333333,\"#9c179e\"],[0.4444444444444444,\"#bd3786\"],[0.5555555555555556,\"#d8576b\"],[0.6666666666666666,\"#ed7953\"],[0.7777777777777778,\"#fb9f3a\"],[0.8888888888888888,\"#fdca26\"],[1.0,\"#f0f921\"]],\"sequentialminus\":[[0.0,\"#0d0887\"],[0.1111111111111111,\"#46039f\"],[0.2222222222222222,\"#7201a8\"],[0.3333333333333333,\"#9c179e\"],[0.4444444444444444,\"#bd3786\"],[0.5555555555555556,\"#d8576b\"],[0.6666666666666666,\"#ed7953\"],[0.7777777777777778,\"#fb9f3a\"],[0.8888888888888888,\"#fdca26\"],[1.0,\"#f0f921\"]],\"diverging\":[[0,\"#8e0152\"],[0.1,\"#c51b7d\"],[0.2,\"#de77ae\"],[0.3,\"#f1b6da\"],[0.4,\"#fde0ef\"],[0.5,\"#f7f7f7\"],[0.6,\"#e6f5d0\"],[0.7,\"#b8e186\"],[0.8,\"#7fbc41\"],[0.9,\"#4d9221\"],[1,\"#276419\"]]},\"xaxis\":{\"gridcolor\":\"white\",\"linecolor\":\"white\",\"ticks\":\"\",\"title\":{\"standoff\":15},\"zerolinecolor\":\"white\",\"automargin\":true,\"zerolinewidth\":2},\"yaxis\":{\"gridcolor\":\"white\",\"linecolor\":\"white\",\"ticks\":\"\",\"title\":{\"standoff\":15},\"zerolinecolor\":\"white\",\"automargin\":true,\"zerolinewidth\":2},\"scene\":{\"xaxis\":{\"backgroundcolor\":\"#E5ECF6\",\"gridcolor\":\"white\",\"linecolor\":\"white\",\"showbackground\":true,\"ticks\":\"\",\"zerolinecolor\":\"white\",\"gridwidth\":2},\"yaxis\":{\"backgroundcolor\":\"#E5ECF6\",\"gridcolor\":\"white\",\"linecolor\":\"white\",\"showbackground\":true,\"ticks\":\"\",\"zerolinecolor\":\"white\",\"gridwidth\":2},\"zaxis\":{\"backgroundcolor\":\"#E5ECF6\",\"gridcolor\":\"white\",\"linecolor\":\"white\",\"showbackground\":true,\"ticks\":\"\",\"zerolinecolor\":\"white\",\"gridwidth\":2}},\"shapedefaults\":{\"line\":{\"color\":\"#2a3f5f\"}},\"annotationdefaults\":{\"arrowcolor\":\"#2a3f5f\",\"arrowhead\":0,\"arrowwidth\":1},\"geo\":{\"bgcolor\":\"white\",\"landcolor\":\"#E5ECF6\",\"subunitcolor\":\"white\",\"showland\":true,\"showlakes\":true,\"lakecolor\":\"white\"},\"title\":{\"x\":0.05},\"mapbox\":{\"style\":\"light\"}}},\"xaxis\":{\"anchor\":\"y\",\"domain\":[0.0,1.0],\"title\":{\"text\":\"total_number_of_donations\"}},\"yaxis\":{\"anchor\":\"x\",\"domain\":[0.0,1.0],\"title\":{\"text\":\"total_blood_donated\"}},\"legend\":{\"tracegroupgap\":0},\"title\":{\"text\":\"Total Donations vs. Amount of Blood Donated (mL)\"}},                        {\"responsive\": true}                    ).then(function(){\n",
              "                            \n",
              "var gd = document.getElementById('a8862567-5d09-4264-8392-a40885072633');\n",
              "var x = new MutationObserver(function (mutations, observer) {{\n",
              "        var display = window.getComputedStyle(gd).display;\n",
              "        if (!display || display === 'none') {{\n",
              "            console.log([gd, 'removed!']);\n",
              "            Plotly.purge(gd);\n",
              "            observer.disconnect();\n",
              "        }}\n",
              "}});\n",
              "\n",
              "// Listen for the removal of the full notebook cells\n",
              "var notebookContainer = gd.closest('#notebook-container');\n",
              "if (notebookContainer) {{\n",
              "    x.observe(notebookContainer, {childList: true});\n",
              "}}\n",
              "\n",
              "// Listen for the clearing of the current output cell\n",
              "var outputEl = gd.closest('.output');\n",
              "if (outputEl) {{\n",
              "    x.observe(outputEl, {childList: true});\n",
              "}}\n",
              "\n",
              "                        })                };                            </script>        </div>\n",
              "</body>\n",
              "</html>"
            ]
          },
          "metadata": {}
        },
        {
          "output_type": "stream",
          "name": "stdout",
          "text": [
            "0.0\n"
          ]
        }
      ]
    },
    {
      "cell_type": "markdown",
      "source": [
        "### Feature Dependence and Dimensionality Reduction\n",
        "A scatterplot comparing **’total_number_of_donations’** and **’total_blood_donated’** confirmed that these two features are **perfectly proportional**, since ’total_blood_donated’ increases linearly by **250 ml** per donation.\n",
        "- This 1:1 linear relationship means the two features convey **identical information**—one measure as donation counts, the other in total volume of blood donated.\n",
        "- Keeping both features would introduce **redundancy**, where two variables describe the same aspect of donor behavior without adding explanatory value.\n",
        "- Because ’total_blood_donated’ adds no new information beyond what ’total_number_of_donations’ already provides, it was removed from the dataset before further analysis.\n",
        "\n",
        "In data analysis, each feature should contribute **distinct, non-redundant information** about the dataset.\n",
        "- Removing redundant variables reduces noise, prevents duplication of influence in algorithms, and improves computational efficiency.\n",
        "\n",
        "This **dimensionality-reduction** ensures that the remaining features represent **meaningful, independent aspects of donor behavior**, making subsequent analyses more interpretable and reliable.\n"
      ],
      "metadata": {
        "id": "rczAdUX9hd3q"
      }
    },
    {
      "cell_type": "markdown",
      "source": [
        "## 3-D Scatter"
      ],
      "metadata": {
        "id": "FTZpFD0OrMxh"
      }
    },
    {
      "cell_type": "code",
      "source": [
        "df_prep = df_norm.drop(columns=['total_blood_donated'])\n",
        "#df_prep['class'] = df['class'].astype(str)\n",
        "px.scatter_3d(\n",
        "    data_frame=df_prep,\n",
        "    x = 'total_number_of_donations',\n",
        "    y = 'months_since_first_donation',\n",
        "    z = 'months_since_last_donation',\n",
        "    color=df['class'].astype(str),\n",
        "    color_discrete_sequence=['darkred','steelblue']\n",
        "    )"
      ],
      "metadata": {
        "id": "frECD5-tKmtN",
        "outputId": "0275d394-ab17-4a52-ee96-179e3c618afc",
        "colab": {
          "base_uri": "https://localhost:8080/",
          "height": 542
        }
      },
      "execution_count": 14,
      "outputs": [
        {
          "output_type": "display_data",
          "data": {
            "text/html": [
              "<html>\n",
              "<head><meta charset=\"utf-8\" /></head>\n",
              "<body>\n",
              "    <div>            <script src=\"https://cdnjs.cloudflare.com/ajax/libs/mathjax/2.7.5/MathJax.js?config=TeX-AMS-MML_SVG\"></script><script type=\"text/javascript\">if (window.MathJax && window.MathJax.Hub && window.MathJax.Hub.Config) {window.MathJax.Hub.Config({SVG: {font: \"STIX-Web\"}});}</script>                <script type=\"text/javascript\">window.PlotlyConfig = {MathJaxConfig: 'local'};</script>\n",
              "        <script charset=\"utf-8\" src=\"https://cdn.plot.ly/plotly-2.35.2.min.js\"></script>                <div id=\"dfab92dd-fd73-4cee-9736-5d241ba1795e\" class=\"plotly-graph-div\" style=\"height:525px; width:100%;\"></div>            <script type=\"text/javascript\">                                    window.PLOTLYENV=window.PLOTLYENV || {};                                    if (document.getElementById(\"dfab92dd-fd73-4cee-9736-5d241ba1795e\")) {                    Plotly.newPlot(                        \"dfab92dd-fd73-4cee-9736-5d241ba1795e\",                        [{\"hovertemplate\":\"color=1\\u003cbr\\u003etotal_number_of_donations=%{x}\\u003cbr\\u003emonths_since_first_donation=%{y}\\u003cbr\\u003emonths_since_last_donation=%{z}\\u003cextra\\u003e\\u003c\\u002fextra\\u003e\",\"legendgroup\":\"1\",\"marker\":{\"color\":\"darkred\",\"symbol\":\"circle\"},\"mode\":\"markers\",\"name\":\"1\",\"scene\":\"scene\",\"showlegend\":true,\"x\":[0.941205763778404,0.6040958894118896,0.6844935362290145,0.7182688299651381,0.5549184197175815,0.49691584913720505,0.8263511112329143,0.848548108082302,0.5549184197175815,0.33564137947122563,0.33564137947122563,0.5549184197175815,0.5549184197175815,0.7767967808409569,0.49691584913720505,0.7182688299651381,0.7182688299651381,0.6844935362290145,0.6467824703642522,0.7767967808409569,0.5549184197175815,0.8263511112329143,0.6040958894118896,0.8025205603236509,0.49691584913720505,0.941205763778404,0.6844935362290145,0.748852792413071,0.49691584913720505,0.9246741454692541,0.6467824703642522,0.6040958894118896,0.6467824703642522,0.49691584913720505,0.33564137947122563,0.4262127331943825,0.8888421418286963,0.20947449449362646,0.20947449449362646,0.4262127331943825,0.5549184197175815,0.5549184197175815,0.6040958894118896,0.20947449449362646,0.6844935362290145,0.4262127331943825,0.6040958894118896,0.6467824703642522,0.8025205603236509,0.49691584913720505,0.6467824703642522,0.6040958894118896,0.748852792413071,0.33564137947122563,0.49691584913720505,0.5549184197175815,0.49691584913720505,0.6467824703642522,0.6467824703642522,0.20947449449362646,0.20947449449362646,0.33564137947122563,0.20947449449362646,0.6040958894118896,0.0,0.0,0.0,0.0,0.4262127331943825,0.49691584913720505,0.5549184197175815,0.4262127331943825,0.49691584913720505,0.49691584913720505,0.6467824703642522,0.20947449449362646,0.0,0.0,0.0,0.0,0.0,0.0,0.6467824703642522,0.33564137947122563,0.8888421418286963,0.6467824703642522,0.33564137947122563,0.8263511112329143,0.33564137947122563,0.4262127331943825,0.4262127331943825,0.20947449449362646,0.49691584913720505,0.33564137947122563,0.4262127331943825,0.49691584913720505,0.6844935362290145,0.49691584913720505,0.6467824703642522,0.4262127331943825,0.5549184197175815,0.6040958894118896,0.33564137947122563,0.0,0.20947449449362646,0.49691584913720505,0.20947449449362646,0.33564137947122563,0.20947449449362646,0.33564137947122563,0.6040958894118896,0.0,0.0,0.49691584913720505,0.9719348908725932,0.9569345529508138,0.9569345529508138,0.8025205603236509,0.4262127331943825,0.8693212117370382,0.49691584913720505,0.7182688299651381,0.7182688299651381,0.748852792413071,0.748852792413071,0.8025205603236509,0.49691584913720505,0.5549184197175815,0.49691584913720505,0.4262127331943825,0.49691584913720505,0.6040958894118896,0.5549184197175815,0.6467824703642522,0.20947449449362646,0.5549184197175815,0.8693212117370382,0.20947449449362646,0.20947449449362646,0.7767967808409569,0.6040958894118896,0.5549184197175815,0.5549184197175815,0.748852792413071,0.8693212117370382,0.5549184197175815,0.20947449449362646,0.20947449449362646,0.5549184197175815,0.4262127331943825,0.0,0.0,0.748852792413071,0.0,0.0,0.0,0.4262127331943825,0.33564137947122563,0.6844935362290145,0.6467824703642522,0.20947449449362646,0.0,0.33564137947122563,0.8263511112329143,0.6040958894118896,0.20947449449362646,0.20947449449362646,0.0],\"y\":[0.7978420895547238,0.4953727037460086,0.6122813830259535,0.6747654731005414,0.5131976399584474,0.4331389430752244,0.8145952353871563,0.819948146398158,0.5131976399584474,0.17404810686108046,0.17404810686108046,0.5298791419693946,0.5298791419693946,0.7251102414698766,0.4331389430752244,0.6747654731005414,0.6747654731005414,0.6555580586310299,0.6747654731005414,0.8091298600746685,0.5298791419693946,0.8592153466176707,0.6122813830259535,0.8403219430455522,0.5298791419693946,0.9088376494045263,0.6747654731005414,0.8035471931224089,0.4953727037460086,0.9088376494045263,0.6555580586310299,0.6747654731005414,0.7326293283751244,0.5298791419693946,0.38145629231193184,0.4953727037460086,0.9162601870597201,0.17404810686108046,0.17404810686108046,0.5298791419693946,0.6237939826936434,0.6747654731005414,0.7326293283751244,0.17404810686108046,0.7539644179797953,0.4953727037460086,0.6555580586310299,0.7251102414698766,0.9339396989475183,0.6237939826936434,0.7672738317202942,0.8035471931224089,0.9439979993562735,0.5298791419693946,0.6555580586310299,0.7736816014032347,0.717367339650875,0.8035471931224089,0.8145952353871563,0.4085789909584107,0.38145629231193184,0.5298791419693946,0.4331389430752244,0.8637318193735538,0.0,0.0,0.0,0.0,0.5298791419693946,0.717367339650875,0.7736816014032347,0.6555580586310299,0.7326293283751244,0.8091298600746685,0.7539644179797953,0.4331389430752244,0.17404810686108046,0.17404810686108046,0.17404810686108046,0.17404810686108046,0.17404810686108046,0.17404810686108046,0.835376123043069,0.645394957742923,0.9439979993562735,0.7736816014032347,0.5298791419693946,0.9234768022933705,0.7539644179797953,0.7860422302549752,0.6122813830259535,0.5298791419693946,0.6747654731005414,0.574329412411061,0.6237939826936434,0.7470453320240613,0.9198935184165833,0.8303344478724696,0.8251931284290327,0.6747654731005414,0.7326293283751244,0.8810521780325872,0.6002356063636876,0.4331389430752244,0.6002356063636876,0.7672738317202942,0.8303344478724696,0.7672738317202942,0.6002356063636876,0.6555580586310299,0.9690611511200177,0.6002356063636876,0.6122813830259535,0.819948146398158,0.6747654731005414,0.7799353231419097,0.835376123043069,0.7093868888053504,0.17404810686108046,0.7539644179797953,0.45557890712206944,0.717367339650875,0.6747654731005414,0.7672738317202942,0.7736816014032347,0.7607042326834162,0.5298791419693946,0.6122813830259535,0.5298791419693946,0.4953727037460086,0.5298791419693946,0.7093868888053504,0.6555580586310299,0.7539644179797953,0.17404810686108046,0.6747654731005414,0.9125753903770112,0.17404810686108046,0.17404810686108046,0.9125753903770112,0.7093868888053504,0.7326293283751244,0.6747654731005414,0.8892982660925969,1.0,0.7326293283751244,0.4331389430752244,0.4331389430752244,0.7539644179797953,0.6838622844424995,0.0,0.0,0.819948146398158,0.10131625877623329,0.17404810686108046,0.17404810686108046,0.7251102414698766,0.4953727037460086,0.9749670187568359,0.835376123043069,0.4953727037460086,0.4331389430752244,0.9304986131077424,0.9088376494045263,0.8637318193735538,0.7539644179797953,0.7326293283751244,0.6237939826936434],\"z\":[0.0,0.0,0.0,0.0,0.0,0.0,0.0,0.0,0.0,0.0,0.0,0.0,0.0,0.2654960984303003,0.2654960984303003,0.2654960984303003,0.2654960984303003,0.2654960984303003,0.0,0.0,0.2654960984303003,0.0,0.2654960984303003,0.0,0.0,0.2654960984303003,0.2654960984303003,0.0,0.2654960984303003,0.2654960984303003,0.2654960984303003,0.0,0.0,0.2654960984303003,0.0,0.0,0.2654960984303003,0.0,0.0,0.0,0.2654960984303003,0.0,0.0,0.2654960984303003,0.2654960984303003,0.2654960984303003,0.35210472615658556,0.2654960984303003,0.0,0.2654960984303003,0.2654960984303003,0.0,0.0,0.0,0.2654960984303003,0.0,0.0,0.2654960984303003,0.2654960984303003,0.0,0.2654960984303003,0.2654960984303003,0.0,0.0,0.0,0.0,0.0,0.0,0.6607178988535775,0.2654960984303003,0.2654960984303003,0.2654960984303003,0.2654960984303003,0.0,0.5818802580331458,0.42315566889899486,0.2654960984303003,0.2654960984303003,0.2654960984303003,0.2654960984303003,0.2654960984303003,0.2654960984303003,0.5356856367482237,0.2654960984303003,0.6607178988535775,0.6607178988535775,0.6607178988535775,0.6607178988535775,0.0,0.2654960984303003,0.7556503916380365,0.5818802580331458,0.7556503916380365,0.7556503916380365,0.7556503916380365,0.6607178988535775,0.6607178988535775,0.5818802580331458,0.7556503916380365,0.7556503916380365,0.8082871303205631,0.6607178988535775,0.8082871303205631,0.6607178988535775,0.7556503916380365,0.8082871303205631,0.2654960984303003,0.6607178988535775,0.9156101407968814,0.9156101407968814,0.8082871303205631,0.9156101407968814,0.9339849841897315,1.0,0.42315566889899486,0.1545496351426251,0.0,0.0,0.2654960984303003,0.2654960984303003,0.1545496351426251,0.1545496351426251,0.2654960984303003,0.0,0.0,0.2654960984303003,0.0,0.0,0.2654960984303003,0.0,0.2654960984303003,0.0,0.0,0.0,0.0,0.0,0.2654960984303003,0.2654960984303003,0.2654960984303003,0.0,0.2654960984303003,0.0,0.2654960984303003,0.2654960984303003,0.2654960984303003,0.2654960984303003,0.0,0.0,0.2654960984303003,0.1545496351426251,0.0,0.0,0.5818802580331458,0.1545496351426251,0.2654960984303003,0.2654960984303003,0.2654960984303003,0.7264588732064899,0.4833961987324949,0.6607178988535775,0.7556503916380365,0.6607178988535775,0.0,0.896342972329793,0.8321995271737159,0.6607178988535775,0.7556503916380365,0.9515465098488487],\"type\":\"scatter3d\"},{\"hovertemplate\":\"color=0\\u003cbr\\u003etotal_number_of_donations=%{x}\\u003cbr\\u003emonths_since_first_donation=%{y}\\u003cbr\\u003emonths_since_last_donation=%{z}\\u003cextra\\u003e\\u003c\\u002fextra\\u003e\",\"legendgroup\":\"0\",\"marker\":{\"color\":\"steelblue\",\"symbol\":\"circle\"},\"mode\":\"markers\",\"name\":\"0\",\"scene\":\"scene\",\"showlegend\":true,\"x\":[0.4262127331943825,0.9862712753345835,0.748852792413071,0.6844935362290145,0.8263511112329143,0.5549184197175815,0.6467824703642522,0.8693212117370382,0.49691584913720505,0.49691584913720505,0.6844935362290145,0.20947449449362646,0.20947449449362646,0.20947449449362646,0.748852792413071,0.5549184197175815,0.7767967808409569,0.8693212117370382,0.5549184197175815,0.6040958894118896,0.7182688299651381,0.8693212117370382,0.6040958894118896,0.4262127331943825,0.4262127331943825,0.20947449449362646,0.20947449449362646,0.20947449449362646,0.20947449449362646,0.4262127331943825,0.4262127331943825,0.4262127331943825,0.5549184197175815,0.20947449449362646,0.20947449449362646,0.20947449449362646,0.20947449449362646,0.20947449449362646,0.20947449449362646,0.748852792413071,0.6040958894118896,0.8888421418286963,0.6844935362290145,0.49691584913720505,0.49691584913720505,0.8888421418286963,0.49691584913720505,0.33564137947122563,0.7182688299651381,0.6844935362290145,0.49691584913720505,0.7767967808409569,1.0,0.748852792413071,0.4262127331943825,0.49691584913720505,0.4262127331943825,0.49691584913720505,0.7767967808409569,0.20947449449362646,0.5549184197175815,0.748852792413071,0.33564137947122563,0.49691584913720505,0.7767967808409569,0.49691584913720505,0.20947449449362646,0.6844935362290145,0.8263511112329143,0.33564137947122563,0.33564137947122563,0.33564137947122563,0.20947449449362646,0.20947449449362646,0.5549184197175815,0.748852792413071,0.0,0.0,0.0,0.0,0.0,0.0,0.0,0.0,0.0,0.0,0.0,0.0,0.0,0.0,0.0,0.0,0.0,0.0,0.7182688299651381,0.33564137947122563,0.4262127331943825,0.4262127331943825,0.7767967808409569,0.6467824703642522,0.6844935362290145,0.49691584913720505,0.4262127331943825,0.848548108082302,0.6040958894118896,0.6040958894118896,0.4262127331943825,0.748852792413071,0.20947449449362646,0.5549184197175815,0.6040958894118896,0.6844935362290145,0.5549184197175815,0.6040958894118896,0.6040958894118896,0.6844935362290145,0.5549184197175815,0.20947449449362646,0.6040958894118896,0.5549184197175815,0.33564137947122563,0.0,0.0,0.0,0.0,0.0,0.0,0.0,0.0,0.0,0.0,0.0,0.0,0.33564137947122563,0.0,0.0,0.0,0.0,0.6467824703642522,0.6040958894118896,0.7182688299651381,0.33564137947122563,0.20947449449362646,0.4262127331943825,0.6844935362290145,0.9719348908725932,0.20947449449362646,0.49691584913720505,0.7767967808409569,0.7767967808409569,0.20947449449362646,0.20947449449362646,0.20947449449362646,0.5549184197175815,0.8025205603236509,0.33564137947122563,0.6467824703642522,0.6040958894118896,0.33564137947122563,0.7767967808409569,0.4262127331943825,0.20947449449362646,0.49691584913720505,0.20947449449362646,0.6467824703642522,0.6040958894118896,0.4262127331943825,0.748852792413071,0.6040958894118896,0.20947449449362646,0.49691584913720505,0.49691584913720505,0.4262127331943825,0.8025205603236509,0.33564137947122563,0.9072533129673389,0.6467824703642522,0.8693212117370382,0.49691584913720505,0.20947449449362646,0.49691584913720505,0.20947449449362646,0.20947449449362646,0.7767967808409569,0.4262127331943825,0.49691584913720505,0.49691584913720505,0.4262127331943825,0.49691584913720505,0.20947449449362646,0.20947449449362646,0.20947449449362646,0.20947449449362646,0.20947449449362646,0.20947449449362646,0.33564137947122563,0.5549184197175815,0.49691584913720505,0.33564137947122563,0.4262127331943825,0.33564137947122563,0.49691584913720505,0.20947449449362646,0.6844935362290145,0.0,0.0,0.20947449449362646,0.20947449449362646,0.4262127331943825,0.49691584913720505,0.8693212117370382,0.4262127331943825,0.6040958894118896,0.20947449449362646,0.20947449449362646,0.8693212117370382,0.6040958894118896,0.6040958894118896,0.5549184197175815,0.20947449449362646,0.33564137947122563,0.6040958894118896,0.33564137947122563,0.4262127331943825,0.5549184197175815,0.0,0.0,0.0,0.0,0.0,0.0,0.0,0.0,0.20947449449362646,0.49691584913720505,0.20947449449362646,0.4262127331943825,0.20947449449362646,0.5549184197175815,0.33564137947122563,0.20947449449362646,0.8693212117370382,0.5549184197175815,0.20947449449362646,0.33564137947122563,0.8025205603236509,0.5549184197175815,0.848548108082302,0.4262127331943825,0.20947449449362646,0.33564137947122563,0.20947449449362646,0.4262127331943825,0.4262127331943825,0.49691584913720505,0.0,0.0,0.0,0.0,0.0,0.0,0.0,0.0,0.6040958894118896,0.0,0.0,0.33564137947122563,0.6040958894118896,0.4262127331943825,0.4262127331943825,0.20947449449362646,0.4262127331943825,0.4262127331943825,0.7182688299651381,0.33564137947122563,0.6467824703642522,0.20947449449362646,0.49691584913720505,0.6467824703642522,0.33564137947122563,0.49691584913720505,0.33564137947122563,0.0,0.0,0.0,0.0,0.0,0.0,0.0,0.4262127331943825,0.0,0.0,0.0,0.0,0.0,0.20947449449362646,0.20947449449362646,0.20947449449362646,0.20947449449362646,0.20947449449362646,0.4262127331943825,0.49691584913720505,0.20947449449362646,0.49691584913720505,0.33564137947122563,0.33564137947122563,0.20947449449362646,0.20947449449362646,0.4262127331943825,0.20947449449362646,0.6040958894118896,0.20947449449362646,0.33564137947122563,0.8263511112329143,0.6467824703642522,0.33564137947122563,0.33564137947122563,0.20947449449362646,0.33564137947122563,0.7767967808409569,0.33564137947122563,0.20947449449362646,0.20947449449362646,0.6467824703642522,0.33564137947122563,0.33564137947122563,0.33564137947122563,0.20947449449362646,0.0,0.0,0.0,0.0,0.0,0.0,0.0,0.0,0.0,0.0,0.0,0.49691584913720505,0.4262127331943825,0.4262127331943825,0.20947449449362646,0.49691584913720505,0.33564137947122563,0.33564137947122563,0.33564137947122563,0.20947449449362646,0.5549184197175815,0.0,0.0,0.0,0.0,0.0,0.0,0.0,0.0,0.4262127331943825,0.5549184197175815,0.33564137947122563,0.20947449449362646,0.33564137947122563,0.20947449449362646,0.33564137947122563,0.4262127331943825,0.33564137947122563,0.20947449449362646,0.748852792413071,0.748852792413071,0.748852792413071,0.8263511112329143,0.5549184197175815,0.6844935362290145,0.4262127331943825,0.848548108082302,1.0,0.6467824703642522,0.4262127331943825,0.5549184197175815,0.7182688299651381,0.8263511112329143,0.33564137947122563,0.4262127331943825,0.33564137947122563,0.4262127331943825,0.4262127331943825,0.5549184197175815,0.5549184197175815,0.49691584913720505,0.6467824703642522,0.6844935362290145,0.7182688299651381,0.8263511112329143,0.6844935362290145,0.5549184197175815,0.6844935362290145,0.5549184197175815,0.5549184197175815,0.20947449449362646,0.20947449449362646,0.6844935362290145,0.49691584913720505,0.33564137947122563,0.0,0.0,0.0,0.0,0.0,0.0,0.0,0.0,0.0,0.748852792413071,0.33564137947122563,0.748852792413071,0.49691584913720505,0.5549184197175815,0.33564137947122563,0.748852792413071,0.20947449449362646,0.5549184197175815,0.33564137947122563,0.6467824703642522,0.20947449449362646,0.748852792413071,0.6040958894118896,0.6040958894118896,0.0,0.0,0.0,0.0,0.0,0.0,0.0,0.0,0.0,0.0,0.6040958894118896,0.0,0.5549184197175815,0.49691584913720505,0.6844935362290145,0.20947449449362646,0.49691584913720505,0.748852792413071,0.6844935362290145,0.20947449449362646,0.33564137947122563,0.848548108082302,0.33564137947122563,0.8693212117370382,0.49691584913720505,0.6040958894118896,0.4262127331943825,0.49691584913720505,0.5549184197175815,0.49691584913720505,0.20947449449362646,0.20947449449362646,0.20947449449362646,0.33564137947122563,0.6467824703642522,0.0,0.49691584913720505,0.4262127331943825,0.20947449449362646,0.33564137947122563,0.8693212117370382,0.20947449449362646,0.6467824703642522,0.33564137947122563,0.6040958894118896,0.49691584913720505,0.20947449449362646,0.33564137947122563,0.6467824703642522,0.0,0.0,0.0,0.0,0.33564137947122563,0.4262127331943825,0.848548108082302,0.8263511112329143,0.7182688299651381,0.33564137947122563,0.33564137947122563,0.9246741454692541,0.6040958894118896,0.33564137947122563,0.20947449449362646,0.20947449449362646,0.33564137947122563,0.4262127331943825,0.6040958894118896,0.6040958894118896,0.5549184197175815,0.33564137947122563,0.0,0.0,0.0,0.0,0.0,0.0,0.33564137947122563,0.33564137947122563,0.6040958894118896,0.20947449449362646,0.33564137947122563,0.0,0.0,0.0,0.0,0.0,0.20947449449362646,0.4262127331943825,0.5549184197175815,0.20947449449362646,0.5549184197175815,0.5549184197175815,0.4262127331943825,0.49691584913720505,0.20947449449362646,0.33564137947122563,0.33564137947122563,0.6467824703642522,0.33564137947122563,0.33564137947122563,0.33564137947122563,0.20947449449362646,0.0,0.0,0.5549184197175815,0.0,0.0,0.33564137947122563,0.20947449449362646,0.33564137947122563,0.0,0.0,0.0,0.0,0.0,0.0,0.4262127331943825,0.0,0.6040958894118896,0.33564137947122563,0.20947449449362646,0.20947449449362646,0.33564137947122563],\"y\":[0.17404810686108046,0.8637318193735538,0.6747654731005414,0.5298791419693946,0.7672738317202942,0.4953727037460086,0.6002356063636876,0.8892982660925969,0.5298791419693946,0.5298791419693946,0.7399371767921319,0.0,0.0,0.0,0.8035471931224089,0.6122813830259535,0.835376123043069,0.9504937749590566,0.6002356063636876,0.6838622844424995,0.819948146398158,0.927011398739594,0.645394957742923,0.5298791419693946,0.5298791419693946,0.17404810686108046,0.17404810686108046,0.17404810686108046,0.17404810686108046,0.5298791419693946,0.5298791419693946,0.5298791419693946,0.6747654731005414,0.17404810686108046,0.17404810686108046,0.17404810686108046,0.17404810686108046,0.17404810686108046,0.17404810686108046,0.6237939826936434,0.6747654731005414,0.9660571651262977,0.7672738317202942,0.6555580586310299,0.6555580586310299,0.9125753903770112,0.6555580586310299,0.4953727037460086,0.8892982660925969,0.8035471931224089,0.6237939826936434,0.9536818331964318,0.8892982660925969,0.8768289960579404,0.6555580586310299,0.7251102414698766,0.6555580586310299,0.6747654731005414,0.9919203972780013,0.4085789909584107,0.7326293283751244,0.9720308442870714,0.574329412411061,0.7470453320240613,1.0,0.574329412411061,0.4331389430752244,0.927011398739594,0.9660571651262977,0.5298791419693946,0.5298791419693946,0.4953727037460086,0.4331389430752244,0.4331389430752244,0.7607042326834162,0.9406882562843372,0.0,0.0,0.0,0.0,0.0,0.0,0.0,0.0,0.0,0.0,0.0,0.0,0.0,0.0,0.0,0.0,0.0,0.0,0.7326293283751244,0.6122813830259535,0.5298791419693946,0.7326293283751244,0.9720308442870714,0.6555580586310299,0.717367339650875,0.7251102414698766,0.6555580586310299,0.9373358607111437,0.835376123043069,0.835376123043069,0.7326293283751244,0.7799353231419097,0.4953727037460086,0.8091298600746685,0.6838622844424995,0.7978420895547238,0.835376123043069,0.8637318193735538,0.8637318193735538,0.7539644179797953,0.6555580586310299,0.5298791419693946,0.9339396989475183,0.665338996273197,0.4953727037460086,0.17404810686108046,0.17404810686108046,0.17404810686108046,0.17404810686108046,0.17404810686108046,0.17404810686108046,0.17404810686108046,0.17404810686108046,0.17404810686108046,0.17404810686108046,0.17404810686108046,0.17404810686108046,0.634818611074664,0.17404810686108046,0.17404810686108046,0.17404810686108046,0.17404810686108046,0.7607042326834162,0.6555580586310299,0.885207894143711,0.5131976399584474,0.4953727037460086,0.7860422302549752,0.8637318193735538,1.0,0.4331389430752244,0.8035471931224089,0.8637318193735538,0.9660571651262977,0.4331389430752244,0.4331389430752244,0.4331389430752244,0.9304986131077424,0.868171215442081,0.7326293283751244,0.6747654731005414,0.7470453320240613,0.6747654731005414,0.8637318193735538,0.7736816014032347,0.6237939826936434,0.8637318193735538,0.6237939826936434,0.8035471931224089,0.9536818331964318,0.6002356063636876,0.7672738317202942,0.6747654731005414,0.5298791419693946,0.8637318193735538,0.8637318193735538,0.8035471931224089,0.8592153466176707,0.7251102414698766,0.9406882562843372,0.8145952353871563,0.9125753903770112,0.6555580586310299,0.5298791419693946,0.717367339650875,0.4953727037460086,0.6237939826936434,0.8251931284290327,0.6747654731005414,0.7326293283751244,0.7326293283751244,0.9125753903770112,0.6747654731005414,0.4953727037460086,0.4953727037460086,0.4953727037460086,0.4953727037460086,0.4953727037460086,0.4953727037460086,0.835376123043069,0.7251102414698766,0.927011398739594,0.6237939826936434,0.6237939826936434,0.574329412411061,0.7539644179797953,0.5298791419693946,0.8725361214744611,0.38145629231193184,0.38145629231193184,0.6838622844424995,0.5455551064276623,0.6555580586310299,0.7736816014032347,0.9536818331964318,0.7251102414698766,0.7539644179797953,0.5298791419693946,0.7736816014032347,1.0,0.7607042326834162,0.8091298600746685,0.7326293283751244,0.5298791419693946,0.6747654731005414,0.8892982660925969,0.7251102414698766,0.6926517115793488,0.8637318193735538,0.4331389430752244,0.4331389430752244,0.4331389430752244,0.4331389430752244,0.4331389430752244,0.4331389430752244,0.4331389430752244,0.4331389430752244,0.6002356063636876,0.8251931284290327,0.6002356063636876,0.6747654731005414,0.7736816014032347,0.7672738317202942,0.6555580586310299,0.6555580586310299,0.8892982660925969,0.8303344478724696,0.634818611074664,0.9162601870597201,0.8592153466176707,0.9162601870597201,0.8592153466176707,0.7539644179797953,0.6555580586310299,0.7011538505329667,0.835376123043069,0.8933253170414507,0.7672738317202942,0.8251931284290327,0.4953727037460086,0.4953727037460086,0.4953727037460086,0.4953727037460086,0.4953727037460086,0.4953727037460086,0.4953727037460086,0.4953727037460086,0.9198935184165833,0.4953727037460086,0.4953727037460086,0.835376123043069,0.9234768022933705,0.8637318193735538,0.868171215442081,0.868171215442081,0.8768289960579404,0.7672738317202942,0.9749670187568359,0.6555580586310299,0.9339396989475183,0.6237939826936434,0.717367339650875,0.8035471931224089,0.7251102414698766,0.8892982660925969,0.7736816014032347,0.5298791419693946,0.5298791419693946,0.5298791419693946,0.5298791419693946,0.5298791419693946,0.5298791419693946,0.5298791419693946,0.7978420895547238,0.5298791419693946,0.5298791419693946,0.5298791419693946,0.5298791419693946,0.5298791419693946,0.6555580586310299,0.6237939826936434,0.665338996273197,0.6237939826936434,0.6237939826936434,0.8592153466176707,0.8725361214744611,0.6237939826936434,0.927011398739594,0.6747654731005414,0.7672738317202942,0.835376123043069,0.835376123043069,0.8892982660925969,0.7326293283751244,0.9863911286296869,0.645394957742923,0.835376123043069,0.9863911286296869,0.9919203972780013,0.8035471931224089,0.9339396989475183,0.835376123043069,0.9339396989475183,0.9660571651262977,0.7326293283751244,0.6555580586310299,0.6555580586310299,0.8892982660925969,0.8251931284290327,0.717367339650875,0.7539644179797953,0.6747654731005414,0.6002356063636876,0.6002356063636876,0.6002356063636876,0.6002356063636876,0.6002356063636876,0.6002356063636876,0.6002356063636876,0.6002356063636876,0.6002356063636876,0.6002356063636876,0.6002356063636876,0.8725361214744611,0.7978420895547238,0.835376123043069,0.9125753903770112,0.8637318193735538,0.7672738317202942,0.7736816014032347,0.9568312941384668,0.7326293283751244,0.9125753903770112,0.6237939826936434,0.6237939826936434,0.6237939826936434,0.6237939826936434,0.6237939826936434,0.6237939826936434,0.6237939826936434,0.6237939826936434,0.8403219430455522,0.9660571651262977,0.8145952353871563,0.7736816014032347,0.8892982660925969,0.9125753903770112,0.9125753903770112,0.9690611511200177,0.9749670187568359,0.9690611511200177,0.6237939826936434,0.6555580586310299,0.6747654731005414,0.7326293283751244,0.4953727037460086,0.6747654731005414,0.4331389430752244,0.8892982660925969,0.9439979993562735,0.6747654731005414,0.4953727037460086,0.6555580586310299,0.835376123043069,0.8145952353871563,0.4331389430752244,0.5298791419693946,0.4953727037460086,0.6237939826936434,0.5603398970626012,0.6747654731005414,0.6926517115793488,0.4953727037460086,0.8251931284290327,0.835376123043069,0.8091298600746685,0.9660571651262977,0.9304986131077424,0.7326293283751244,0.8499401289954995,0.7978420895547238,0.8091298600746685,0.38145629231193184,0.4331389430752244,0.7539644179797953,0.5603398970626012,0.6002356063636876,0.0,0.0,0.0,0.0,0.0,0.0,0.0,0.0,0.0,0.7539644179797953,0.6122813830259535,0.9304986131077424,0.7539644179797953,0.7860422302549752,0.634818611074664,0.7607042326834162,0.4953727037460086,0.8035471931224089,0.4953727037460086,0.6555580586310299,0.47623596859453204,0.9919203972780013,0.9373358607111437,0.9373358607111437,0.17404810686108046,0.17404810686108046,0.17404810686108046,0.17404810686108046,0.17404810686108046,0.17404810686108046,0.17404810686108046,0.17404810686108046,0.17404810686108046,0.17404810686108046,0.8810521780325872,0.17404810686108046,0.6747654731005414,0.7326293283751244,0.8451754848825552,0.4331389430752244,0.885207894143711,0.9749670187568359,0.8892982660925969,0.6122813830259535,0.6555580586310299,0.9162601870597201,0.5298791419693946,0.9749670187568359,0.8637318193735538,0.7326293283751244,0.665338996273197,0.835376123043069,0.7736816014032347,0.7539644179797953,0.4953727037460086,0.4953727037460086,0.717367339650875,0.6237939826936434,0.8035471931224089,0.38145629231193184,0.665338996273197,0.6555580586310299,0.6926517115793488,0.6002356063636876,0.9373358607111437,0.7011538505329667,0.8251931284290327,0.6555580586310299,0.7978420895547238,0.717367339650875,0.5298791419693946,0.6002356063636876,0.9198935184165833,0.4331389430752244,0.4331389430752244,0.4331389430752244,0.4331389430752244,0.9373358607111437,0.6747654731005414,0.9690611511200177,0.9568312941384668,0.8810521780325872,0.6237939826936434,0.6555580586310299,0.8810521780325872,0.9304986131077424,0.6747654731005414,0.8035471931224089,0.645394957742923,0.7470453320240613,0.717367339650875,0.7539644179797953,0.9339396989475183,0.8251931284290327,0.717367339650875,0.4953727037460086,0.4953727037460086,0.4953727037460086,0.4953727037460086,0.4953727037460086,0.4953727037460086,0.7326293283751244,0.7326293283751244,0.8892982660925969,0.6002356063636876,0.7326293283751244,0.5298791419693946,0.5298791419693946,0.5298791419693946,0.5298791419693946,0.5298791419693946,0.6838622844424995,0.927011398739594,0.8145952353871563,0.6237939826936434,0.7978420895547238,0.9504937749590566,0.8637318193735538,0.9162601870597201,0.6555580586310299,0.7326293283751244,0.7326293283751244,0.9088376494045263,0.7539644179797953,0.7326293283751244,0.7672738317202942,0.6747654731005414,0.6002356063636876,0.6002356063636876,0.8251931284290327,0.6002356063636876,0.6002356063636876,0.7607042326834162,0.717367339650875,0.9439979993562735,0.6237939826936434,0.6237939826936434,0.6237939826936434,0.6237939826936434,0.6237939826936434,0.6237939826936434,0.835376123043069,0.6237939826936434,0.9720308442870714,0.9660571651262977,0.7539644179797953,0.835376123043069,0.8810521780325872],\"z\":[0.2654960984303003,0.2654960984303003,0.2654960984303003,0.5818802580331458,0.2654960984303003,0.2654960984303003,0.2654960984303003,0.0,0.0,0.0,0.0,0.0,0.0,0.0,0.0,0.0,0.0,0.0,0.1545496351426251,0.0,0.0,0.1545496351426251,0.2654960984303003,0.0,0.0,0.0,0.0,0.0,0.0,0.0,0.0,0.0,0.0,0.2654960984303003,0.2654960984303003,0.2654960984303003,0.2654960984303003,0.2654960984303003,0.2654960984303003,0.6949482217844026,0.2654960984303003,0.1545496351426251,0.2654960984303003,0.0,0.0,0.42315566889899486,0.1545496351426251,0.0,0.0,0.2654960984303003,0.2654960984303003,0.0,0.6607178988535775,0.2654960984303003,0.0,0.0,0.0,0.2654960984303003,0.0,0.0,0.2654960984303003,0.0,0.0,0.0,0.0,0.5818802580331458,0.0,0.0,0.35210472615658556,0.2654960984303003,0.2654960984303003,0.42315566889899486,0.0,0.0,0.2654960984303003,0.2654960984303003,0.0,0.0,0.0,0.0,0.0,0.0,0.0,0.0,0.0,0.0,0.0,0.0,0.0,0.0,0.0,0.0,0.0,0.0,0.6607178988535775,0.0,0.6232537081637383,0.0,0.2654960984303003,0.7264588732064899,0.6607178988535775,0.2654960984303003,0.2654960984303003,0.5356856367482237,0.2654960984303003,0.2654960984303003,0.0,0.6607178988535775,0.0,0.2654960984303003,0.6607178988535775,0.5818802580331458,0.2654960984303003,0.2654960984303003,0.2654960984303003,0.6607178988535775,0.6607178988535775,0.0,0.0,0.6607178988535775,0.6607178988535775,0.2654960984303003,0.2654960984303003,0.2654960984303003,0.2654960984303003,0.2654960984303003,0.2654960984303003,0.2654960984303003,0.2654960984303003,0.2654960984303003,0.2654960984303003,0.2654960984303003,0.2654960984303003,0.2654960984303003,0.2654960984303003,0.2654960984303003,0.2654960984303003,0.2654960984303003,0.6232537081637383,0.7556503916380365,0.5356856367482237,0.6607178988535775,0.2654960984303003,0.0,0.5356856367482237,0.6607178988535775,0.5818802580331458,0.2654960984303003,0.6607178988535775,0.4833961987324949,0.6607178988535775,0.6607178988535775,0.6607178988535775,0.0,0.6949482217844026,0.0,0.8082871303205631,0.6607178988535775,0.2654960984303003,0.6949482217844026,0.2654960984303003,0.0,0.2654960984303003,0.1545496351426251,0.6607178988535775,0.2654960984303003,0.7264588732064899,0.8082871303205631,0.8082871303205631,0.4833961987324949,0.2654960984303003,0.2654960984303003,0.2654960984303003,0.7556503916380365,0.2654960984303003,0.7556503916380365,0.6607178988535775,0.7556503916380365,0.7556503916380365,0.5356856367482237,0.6607178988535775,0.6607178988535775,0.2654960984303003,0.8082871303205631,0.6607178988535775,0.6607178988535775,0.6607178988535775,0.0,0.7556503916380365,0.7556503916380365,0.7556503916380365,0.7556503916380365,0.7556503916380365,0.7556503916380365,0.7556503916380365,0.0,0.7556503916380365,0.2654960984303003,0.6607178988535775,0.8082871303205631,0.8082871303205631,0.6607178988535775,0.6607178988535775,0.6949482217844026,0.5818802580331458,0.5818802580331458,0.2654960984303003,0.6607178988535775,0.7556503916380365,0.6607178988535775,0.7828408684810206,0.6607178988535775,0.8082871303205631,0.7556503916380365,0.0,0.7556503916380365,0.8082871303205631,0.7556503916380365,0.8082871303205631,0.8082871303205631,0.6607178988535775,0.6607178988535775,0.5818802580331458,0.7556503916380365,0.6607178988535775,0.6607178988535775,0.6607178988535775,0.6607178988535775,0.6607178988535775,0.6607178988535775,0.6607178988535775,0.6607178988535775,0.6607178988535775,0.6607178988535775,0.6607178988535775,0.6607178988535775,0.8082871303205631,0.2654960984303003,0.8082871303205631,0.7556503916380365,0.5818802580331458,0.9156101407968814,0.7556503916380365,0.6607178988535775,0.2654960984303003,0.9156101407968814,0.6607178988535775,0.9515465098488487,0.7556503916380365,0.6607178988535775,0.7556503916380365,0.2654960984303003,0.5818802580331458,0.7556503916380365,0.7556503916380365,0.7556503916380365,0.7556503916380365,0.7556503916380365,0.7556503916380365,0.7556503916380365,0.7556503916380365,0.7556503916380365,0.7556503916380365,0.7556503916380365,0.7556503916380365,0.7556503916380365,0.5818802580331458,0.7556503916380365,0.6607178988535775,0.6607178988535775,0.2654960984303003,0.6607178988535775,0.8082871303205631,0.8082871303205631,0.9156101407968814,0.8082871303205631,0.8547525115208435,0.9515465098488487,0.9515465098488487,0.8082871303205631,0.7556503916380365,0.7556503916380365,0.8082871303205631,0.8082871303205631,0.8082871303205631,0.8082871303205631,0.8082871303205631,0.8082871303205631,0.8082871303205631,0.8082871303205631,0.8082871303205631,0.8082871303205631,0.8082871303205631,0.8082871303205631,0.8082871303205631,0.8082871303205631,0.9156101407968814,0.8082871303205631,0.9156101407968814,0.9156101407968814,0.7556503916380365,0.8082871303205631,0.9515465098488487,0.7556503916380365,0.9515465098488487,0.8082871303205631,0.5818802580331458,0.5818802580331458,0.7556503916380365,0.7556503916380365,0.8082871303205631,0.9156101407968814,0.7556503916380365,0.9515465098488487,0.8547525115208435,0.8082871303205631,0.6607178988535775,0.6607178988535775,0.6607178988535775,0.9515465098488487,0.9156101407968814,0.9515465098488487,0.9515465098488487,0.9515465098488487,0.8082871303205631,0.9515465098488487,0.9156101407968814,0.9515465098488487,0.9156101407968814,0.9156101407968814,0.9156101407968814,0.9156101407968814,0.9156101407968814,0.9156101407968814,0.9156101407968814,0.9156101407968814,0.9156101407968814,0.9156101407968814,0.9156101407968814,0.9156101407968814,0.9515465098488487,0.9156101407968814,0.6607178988535775,0.9515465098488487,0.9515465098488487,0.9515465098488487,0.7556503916380365,0.9156101407968814,0.9515465098488487,0.9515465098488487,0.9515465098488487,0.9515465098488487,0.9515465098488487,0.9515465098488487,0.9515465098488487,0.9515465098488487,0.9515465098488487,0.9515465098488487,0.9156101407968814,0.9515465098488487,0.9156101407968814,0.9156101407968814,0.8082871303205631,0.9156101407968814,0.9515465098488487,0.9515465098488487,0.9515465098488487,0.0,0.0,0.0,0.1545496351426251,0.2654960984303003,0.2654960984303003,0.0,0.0,0.35210472615658556,0.2654960984303003,0.0,0.0,0.0,0.4833961987324949,0.0,0.2654960984303003,0.0,0.0,0.2654960984303003,0.35210472615658556,0.2654960984303003,0.7556503916380365,0.1545496351426251,0.2654960984303003,0.4833961987324949,0.2654960984303003,0.0,0.2654960984303003,0.2654960984303003,0.0,0.0,0.2654960984303003,0.0,0.5818802580331458,0.6607178988535775,0.0,0.0,0.0,0.0,0.0,0.0,0.0,0.0,0.0,0.0,0.6607178988535775,0.0,0.35210472615658556,0.1545496351426251,0.2654960984303003,0.0,0.6949482217844026,0.0,0.2654960984303003,0.5818802580331458,0.7556503916380365,0.2654960984303003,0.2654960984303003,0.0,0.0,0.2654960984303003,0.2654960984303003,0.2654960984303003,0.2654960984303003,0.2654960984303003,0.2654960984303003,0.2654960984303003,0.2654960984303003,0.2654960984303003,0.2654960984303003,0.2654960984303003,0.2654960984303003,0.6607178988535775,0.4833961987324949,0.5818802580331458,0.6607178988535775,0.0,0.4833961987324949,0.5356856367482237,0.0,0.42315566889899486,0.6949482217844026,0.7264588732064899,0.6607178988535775,0.2654960984303003,0.7556503916380365,0.6607178988535775,0.4833961987324949,0.6607178988535775,0.6232537081637383,0.7556503916380365,0.7556503916380365,0.0,0.6607178988535775,0.7556503916380365,0.5818802580331458,0.8082871303205631,0.7556503916380365,0.2654960984303003,0.7556503916380365,0.8082871303205631,0.2654960984303003,0.7556503916380365,0.6607178988535775,0.7556503916380365,0.7828408684810206,0.8082871303205631,0.8082871303205631,0.6607178988535775,0.6607178988535775,0.6607178988535775,0.6607178988535775,0.6607178988535775,0.0,0.8082871303205631,0.8082871303205631,0.8082871303205631,0.8082871303205631,0.8082871303205631,0.7556503916380365,0.9515465098488487,0.6607178988535775,0.7556503916380365,0.2654960984303003,0.6607178988535775,0.6607178988535775,0.8082871303205631,0.9156101407968814,0.7264588732064899,0.8082871303205631,0.7556503916380365,0.7556503916380365,0.7556503916380365,0.7556503916380365,0.7556503916380365,0.7556503916380365,0.7556503916380365,0.7556503916380365,0.7556503916380365,0.8082871303205631,0.9156101407968814,0.8082871303205631,0.8082871303205631,0.8082871303205631,0.8082871303205631,0.8082871303205631,0.8082871303205631,0.7556503916380365,0.6607178988535775,0.9156101407968814,0.9515465098488487,0.9515465098488487,0.8082871303205631,0.8082871303205631,0.8082871303205631,0.9156101407968814,0.9156101407968814,0.9156101407968814,0.9515465098488487,0.9156101407968814,0.9515465098488487,0.9156101407968814,0.9515465098488487,0.9156101407968814,0.9156101407968814,0.9844970239412051,0.9156101407968814,0.9156101407968814,0.9515465098488487,0.9156101407968814,0.7556503916380365,0.9515465098488487,0.9515465098488487,0.9515465098488487,0.9515465098488487,0.9515465098488487,0.9515465098488487,0.9515465098488487,0.9515465098488487,0.9515465098488487,0.8082871303205631,0.9515465098488487,0.9156101407968814,0.9515465098488487],\"type\":\"scatter3d\"}],                        {\"template\":{\"data\":{\"histogram2dcontour\":[{\"type\":\"histogram2dcontour\",\"colorbar\":{\"outlinewidth\":0,\"ticks\":\"\"},\"colorscale\":[[0.0,\"#0d0887\"],[0.1111111111111111,\"#46039f\"],[0.2222222222222222,\"#7201a8\"],[0.3333333333333333,\"#9c179e\"],[0.4444444444444444,\"#bd3786\"],[0.5555555555555556,\"#d8576b\"],[0.6666666666666666,\"#ed7953\"],[0.7777777777777778,\"#fb9f3a\"],[0.8888888888888888,\"#fdca26\"],[1.0,\"#f0f921\"]]}],\"choropleth\":[{\"type\":\"choropleth\",\"colorbar\":{\"outlinewidth\":0,\"ticks\":\"\"}}],\"histogram2d\":[{\"type\":\"histogram2d\",\"colorbar\":{\"outlinewidth\":0,\"ticks\":\"\"},\"colorscale\":[[0.0,\"#0d0887\"],[0.1111111111111111,\"#46039f\"],[0.2222222222222222,\"#7201a8\"],[0.3333333333333333,\"#9c179e\"],[0.4444444444444444,\"#bd3786\"],[0.5555555555555556,\"#d8576b\"],[0.6666666666666666,\"#ed7953\"],[0.7777777777777778,\"#fb9f3a\"],[0.8888888888888888,\"#fdca26\"],[1.0,\"#f0f921\"]]}],\"heatmap\":[{\"type\":\"heatmap\",\"colorbar\":{\"outlinewidth\":0,\"ticks\":\"\"},\"colorscale\":[[0.0,\"#0d0887\"],[0.1111111111111111,\"#46039f\"],[0.2222222222222222,\"#7201a8\"],[0.3333333333333333,\"#9c179e\"],[0.4444444444444444,\"#bd3786\"],[0.5555555555555556,\"#d8576b\"],[0.6666666666666666,\"#ed7953\"],[0.7777777777777778,\"#fb9f3a\"],[0.8888888888888888,\"#fdca26\"],[1.0,\"#f0f921\"]]}],\"heatmapgl\":[{\"type\":\"heatmapgl\",\"colorbar\":{\"outlinewidth\":0,\"ticks\":\"\"},\"colorscale\":[[0.0,\"#0d0887\"],[0.1111111111111111,\"#46039f\"],[0.2222222222222222,\"#7201a8\"],[0.3333333333333333,\"#9c179e\"],[0.4444444444444444,\"#bd3786\"],[0.5555555555555556,\"#d8576b\"],[0.6666666666666666,\"#ed7953\"],[0.7777777777777778,\"#fb9f3a\"],[0.8888888888888888,\"#fdca26\"],[1.0,\"#f0f921\"]]}],\"contourcarpet\":[{\"type\":\"contourcarpet\",\"colorbar\":{\"outlinewidth\":0,\"ticks\":\"\"}}],\"contour\":[{\"type\":\"contour\",\"colorbar\":{\"outlinewidth\":0,\"ticks\":\"\"},\"colorscale\":[[0.0,\"#0d0887\"],[0.1111111111111111,\"#46039f\"],[0.2222222222222222,\"#7201a8\"],[0.3333333333333333,\"#9c179e\"],[0.4444444444444444,\"#bd3786\"],[0.5555555555555556,\"#d8576b\"],[0.6666666666666666,\"#ed7953\"],[0.7777777777777778,\"#fb9f3a\"],[0.8888888888888888,\"#fdca26\"],[1.0,\"#f0f921\"]]}],\"surface\":[{\"type\":\"surface\",\"colorbar\":{\"outlinewidth\":0,\"ticks\":\"\"},\"colorscale\":[[0.0,\"#0d0887\"],[0.1111111111111111,\"#46039f\"],[0.2222222222222222,\"#7201a8\"],[0.3333333333333333,\"#9c179e\"],[0.4444444444444444,\"#bd3786\"],[0.5555555555555556,\"#d8576b\"],[0.6666666666666666,\"#ed7953\"],[0.7777777777777778,\"#fb9f3a\"],[0.8888888888888888,\"#fdca26\"],[1.0,\"#f0f921\"]]}],\"mesh3d\":[{\"type\":\"mesh3d\",\"colorbar\":{\"outlinewidth\":0,\"ticks\":\"\"}}],\"scatter\":[{\"fillpattern\":{\"fillmode\":\"overlay\",\"size\":10,\"solidity\":0.2},\"type\":\"scatter\"}],\"parcoords\":[{\"type\":\"parcoords\",\"line\":{\"colorbar\":{\"outlinewidth\":0,\"ticks\":\"\"}}}],\"scatterpolargl\":[{\"type\":\"scatterpolargl\",\"marker\":{\"colorbar\":{\"outlinewidth\":0,\"ticks\":\"\"}}}],\"bar\":[{\"error_x\":{\"color\":\"#2a3f5f\"},\"error_y\":{\"color\":\"#2a3f5f\"},\"marker\":{\"line\":{\"color\":\"#E5ECF6\",\"width\":0.5},\"pattern\":{\"fillmode\":\"overlay\",\"size\":10,\"solidity\":0.2}},\"type\":\"bar\"}],\"scattergeo\":[{\"type\":\"scattergeo\",\"marker\":{\"colorbar\":{\"outlinewidth\":0,\"ticks\":\"\"}}}],\"scatterpolar\":[{\"type\":\"scatterpolar\",\"marker\":{\"colorbar\":{\"outlinewidth\":0,\"ticks\":\"\"}}}],\"histogram\":[{\"marker\":{\"pattern\":{\"fillmode\":\"overlay\",\"size\":10,\"solidity\":0.2}},\"type\":\"histogram\"}],\"scattergl\":[{\"type\":\"scattergl\",\"marker\":{\"colorbar\":{\"outlinewidth\":0,\"ticks\":\"\"}}}],\"scatter3d\":[{\"type\":\"scatter3d\",\"line\":{\"colorbar\":{\"outlinewidth\":0,\"ticks\":\"\"}},\"marker\":{\"colorbar\":{\"outlinewidth\":0,\"ticks\":\"\"}}}],\"scattermapbox\":[{\"type\":\"scattermapbox\",\"marker\":{\"colorbar\":{\"outlinewidth\":0,\"ticks\":\"\"}}}],\"scatterternary\":[{\"type\":\"scatterternary\",\"marker\":{\"colorbar\":{\"outlinewidth\":0,\"ticks\":\"\"}}}],\"scattercarpet\":[{\"type\":\"scattercarpet\",\"marker\":{\"colorbar\":{\"outlinewidth\":0,\"ticks\":\"\"}}}],\"carpet\":[{\"aaxis\":{\"endlinecolor\":\"#2a3f5f\",\"gridcolor\":\"white\",\"linecolor\":\"white\",\"minorgridcolor\":\"white\",\"startlinecolor\":\"#2a3f5f\"},\"baxis\":{\"endlinecolor\":\"#2a3f5f\",\"gridcolor\":\"white\",\"linecolor\":\"white\",\"minorgridcolor\":\"white\",\"startlinecolor\":\"#2a3f5f\"},\"type\":\"carpet\"}],\"table\":[{\"cells\":{\"fill\":{\"color\":\"#EBF0F8\"},\"line\":{\"color\":\"white\"}},\"header\":{\"fill\":{\"color\":\"#C8D4E3\"},\"line\":{\"color\":\"white\"}},\"type\":\"table\"}],\"barpolar\":[{\"marker\":{\"line\":{\"color\":\"#E5ECF6\",\"width\":0.5},\"pattern\":{\"fillmode\":\"overlay\",\"size\":10,\"solidity\":0.2}},\"type\":\"barpolar\"}],\"pie\":[{\"automargin\":true,\"type\":\"pie\"}]},\"layout\":{\"autotypenumbers\":\"strict\",\"colorway\":[\"#636efa\",\"#EF553B\",\"#00cc96\",\"#ab63fa\",\"#FFA15A\",\"#19d3f3\",\"#FF6692\",\"#B6E880\",\"#FF97FF\",\"#FECB52\"],\"font\":{\"color\":\"#2a3f5f\"},\"hovermode\":\"closest\",\"hoverlabel\":{\"align\":\"left\"},\"paper_bgcolor\":\"white\",\"plot_bgcolor\":\"#E5ECF6\",\"polar\":{\"bgcolor\":\"#E5ECF6\",\"angularaxis\":{\"gridcolor\":\"white\",\"linecolor\":\"white\",\"ticks\":\"\"},\"radialaxis\":{\"gridcolor\":\"white\",\"linecolor\":\"white\",\"ticks\":\"\"}},\"ternary\":{\"bgcolor\":\"#E5ECF6\",\"aaxis\":{\"gridcolor\":\"white\",\"linecolor\":\"white\",\"ticks\":\"\"},\"baxis\":{\"gridcolor\":\"white\",\"linecolor\":\"white\",\"ticks\":\"\"},\"caxis\":{\"gridcolor\":\"white\",\"linecolor\":\"white\",\"ticks\":\"\"}},\"coloraxis\":{\"colorbar\":{\"outlinewidth\":0,\"ticks\":\"\"}},\"colorscale\":{\"sequential\":[[0.0,\"#0d0887\"],[0.1111111111111111,\"#46039f\"],[0.2222222222222222,\"#7201a8\"],[0.3333333333333333,\"#9c179e\"],[0.4444444444444444,\"#bd3786\"],[0.5555555555555556,\"#d8576b\"],[0.6666666666666666,\"#ed7953\"],[0.7777777777777778,\"#fb9f3a\"],[0.8888888888888888,\"#fdca26\"],[1.0,\"#f0f921\"]],\"sequentialminus\":[[0.0,\"#0d0887\"],[0.1111111111111111,\"#46039f\"],[0.2222222222222222,\"#7201a8\"],[0.3333333333333333,\"#9c179e\"],[0.4444444444444444,\"#bd3786\"],[0.5555555555555556,\"#d8576b\"],[0.6666666666666666,\"#ed7953\"],[0.7777777777777778,\"#fb9f3a\"],[0.8888888888888888,\"#fdca26\"],[1.0,\"#f0f921\"]],\"diverging\":[[0,\"#8e0152\"],[0.1,\"#c51b7d\"],[0.2,\"#de77ae\"],[0.3,\"#f1b6da\"],[0.4,\"#fde0ef\"],[0.5,\"#f7f7f7\"],[0.6,\"#e6f5d0\"],[0.7,\"#b8e186\"],[0.8,\"#7fbc41\"],[0.9,\"#4d9221\"],[1,\"#276419\"]]},\"xaxis\":{\"gridcolor\":\"white\",\"linecolor\":\"white\",\"ticks\":\"\",\"title\":{\"standoff\":15},\"zerolinecolor\":\"white\",\"automargin\":true,\"zerolinewidth\":2},\"yaxis\":{\"gridcolor\":\"white\",\"linecolor\":\"white\",\"ticks\":\"\",\"title\":{\"standoff\":15},\"zerolinecolor\":\"white\",\"automargin\":true,\"zerolinewidth\":2},\"scene\":{\"xaxis\":{\"backgroundcolor\":\"#E5ECF6\",\"gridcolor\":\"white\",\"linecolor\":\"white\",\"showbackground\":true,\"ticks\":\"\",\"zerolinecolor\":\"white\",\"gridwidth\":2},\"yaxis\":{\"backgroundcolor\":\"#E5ECF6\",\"gridcolor\":\"white\",\"linecolor\":\"white\",\"showbackground\":true,\"ticks\":\"\",\"zerolinecolor\":\"white\",\"gridwidth\":2},\"zaxis\":{\"backgroundcolor\":\"#E5ECF6\",\"gridcolor\":\"white\",\"linecolor\":\"white\",\"showbackground\":true,\"ticks\":\"\",\"zerolinecolor\":\"white\",\"gridwidth\":2}},\"shapedefaults\":{\"line\":{\"color\":\"#2a3f5f\"}},\"annotationdefaults\":{\"arrowcolor\":\"#2a3f5f\",\"arrowhead\":0,\"arrowwidth\":1},\"geo\":{\"bgcolor\":\"white\",\"landcolor\":\"#E5ECF6\",\"subunitcolor\":\"white\",\"showland\":true,\"showlakes\":true,\"lakecolor\":\"white\"},\"title\":{\"x\":0.05},\"mapbox\":{\"style\":\"light\"}}},\"scene\":{\"domain\":{\"x\":[0.0,1.0],\"y\":[0.0,1.0]},\"xaxis\":{\"title\":{\"text\":\"total_number_of_donations\"}},\"yaxis\":{\"title\":{\"text\":\"months_since_first_donation\"}},\"zaxis\":{\"title\":{\"text\":\"months_since_last_donation\"}}},\"legend\":{\"title\":{\"text\":\"color\"},\"tracegroupgap\":0},\"margin\":{\"t\":60}},                        {\"responsive\": true}                    ).then(function(){\n",
              "                            \n",
              "var gd = document.getElementById('dfab92dd-fd73-4cee-9736-5d241ba1795e');\n",
              "var x = new MutationObserver(function (mutations, observer) {{\n",
              "        var display = window.getComputedStyle(gd).display;\n",
              "        if (!display || display === 'none') {{\n",
              "            console.log([gd, 'removed!']);\n",
              "            Plotly.purge(gd);\n",
              "            observer.disconnect();\n",
              "        }}\n",
              "}});\n",
              "\n",
              "// Listen for the removal of the full notebook cells\n",
              "var notebookContainer = gd.closest('#notebook-container');\n",
              "if (notebookContainer) {{\n",
              "    x.observe(notebookContainer, {childList: true});\n",
              "}}\n",
              "\n",
              "// Listen for the clearing of the current output cell\n",
              "var outputEl = gd.closest('.output');\n",
              "if (outputEl) {{\n",
              "    x.observe(outputEl, {childList: true});\n",
              "}}\n",
              "\n",
              "                        })                };                            </script>        </div>\n",
              "</body>\n",
              "</html>"
            ]
          },
          "metadata": {}
        }
      ]
    },
    {
      "cell_type": "markdown",
      "source": [
        "#### 3-D Scatter AFTER dimensionality-reduction:\n",
        "\n",
        "With the removal of redundant features, 3-D scatter visualization (using normalized ’months_since_first_donation’, ’months_since_last_donation’, and ’total_number_of_donations’) displays a clearer, more balanced spatial distribution of data points.*"
      ],
      "metadata": {
        "id": "C0yllI_vhevK"
      }
    },
    {
      "cell_type": "code",
      "source": [
        "# This plot should perhaps be removed. Stacked points are very deceptive\n",
        "px.scatter(\n",
        "    data_frame=df_prep,\n",
        "    y = 'months_since_first_donation',\n",
        "    x = 'months_since_last_donation',\n",
        "    color='total_number_of_donations',\n",
        "    color_continuous_scale='RdBu'\n",
        ")"
      ],
      "metadata": {
        "id": "5tuobsisKo9F",
        "outputId": "1229b9eb-2cec-4098-a13a-a79f80c3cc5c",
        "colab": {
          "base_uri": "https://localhost:8080/",
          "height": 542
        }
      },
      "execution_count": 15,
      "outputs": [
        {
          "output_type": "display_data",
          "data": {
            "text/html": [
              "<html>\n",
              "<head><meta charset=\"utf-8\" /></head>\n",
              "<body>\n",
              "    <div>            <script src=\"https://cdnjs.cloudflare.com/ajax/libs/mathjax/2.7.5/MathJax.js?config=TeX-AMS-MML_SVG\"></script><script type=\"text/javascript\">if (window.MathJax && window.MathJax.Hub && window.MathJax.Hub.Config) {window.MathJax.Hub.Config({SVG: {font: \"STIX-Web\"}});}</script>                <script type=\"text/javascript\">window.PlotlyConfig = {MathJaxConfig: 'local'};</script>\n",
              "        <script charset=\"utf-8\" src=\"https://cdn.plot.ly/plotly-2.35.2.min.js\"></script>                <div id=\"46633f63-8b68-4819-8072-8e386191804a\" class=\"plotly-graph-div\" style=\"height:525px; width:100%;\"></div>            <script type=\"text/javascript\">                                    window.PLOTLYENV=window.PLOTLYENV || {};                                    if (document.getElementById(\"46633f63-8b68-4819-8072-8e386191804a\")) {                    Plotly.newPlot(                        \"46633f63-8b68-4819-8072-8e386191804a\",                        [{\"hovertemplate\":\"months_since_last_donation=%{x}\\u003cbr\\u003emonths_since_first_donation=%{y}\\u003cbr\\u003etotal_number_of_donations=%{marker.color}\\u003cextra\\u003e\\u003c\\u002fextra\\u003e\",\"legendgroup\":\"\",\"marker\":{\"color\":[0.941205763778404,0.4262127331943825,0.6040958894118896,0.6844935362290145,0.9862712753345835,0.7182688299651381,0.5549184197175815,0.49691584913720505,0.8263511112329143,0.848548108082302,0.5549184197175815,0.33564137947122563,0.33564137947122563,0.748852792413071,0.5549184197175815,0.5549184197175815,0.6844935362290145,0.8263511112329143,0.5549184197175815,0.7767967808409569,0.49691584913720505,0.6467824703642522,0.7182688299651381,0.7182688299651381,0.6844935362290145,0.8693212117370382,0.6467824703642522,0.7767967808409569,0.5549184197175815,0.8263511112329143,0.6040958894118896,0.8025205603236509,0.49691584913720505,0.49691584913720505,0.49691584913720505,0.941205763778404,0.6844935362290145,0.6844935362290145,0.20947449449362646,0.20947449449362646,0.20947449449362646,0.748852792413071,0.748852792413071,0.5549184197175815,0.7767967808409569,0.49691584913720505,0.9246741454692541,0.6467824703642522,0.6040958894118896,0.8693212117370382,0.5549184197175815,0.6040958894118896,0.6467824703642522,0.7182688299651381,0.49691584913720505,0.33564137947122563,0.8693212117370382,0.4262127331943825,0.6040958894118896,0.4262127331943825,0.4262127331943825,0.8888421418286963,0.20947449449362646,0.20947449449362646,0.20947449449362646,0.4262127331943825,0.20947449449362646,0.20947449449362646,0.20947449449362646,0.5549184197175815,0.4262127331943825,0.4262127331943825,0.4262127331943825,0.5549184197175815,0.5549184197175815,0.20947449449362646,0.20947449449362646,0.20947449449362646,0.6040958894118896,0.20947449449362646,0.20947449449362646,0.20947449449362646,0.20947449449362646,0.748852792413071,0.6040958894118896,0.8888421418286963,0.6844935362290145,0.4262127331943825,0.6040958894118896,0.6467824703642522,0.8025205603236509,0.6844935362290145,0.49691584913720505,0.49691584913720505,0.8888421418286963,0.49691584913720505,0.33564137947122563,0.7182688299651381,0.49691584913720505,0.6844935362290145,0.49691584913720505,0.6467824703642522,0.7767967808409569,1.0,0.6040958894118896,0.748852792413071,0.748852792413071,0.33564137947122563,0.49691584913720505,0.5549184197175815,0.49691584913720505,0.4262127331943825,0.49691584913720505,0.6467824703642522,0.4262127331943825,0.6467824703642522,0.20947449449362646,0.49691584913720505,0.7767967808409569,0.20947449449362646,0.5549184197175815,0.748852792413071,0.33564137947122563,0.49691584913720505,0.7767967808409569,0.49691584913720505,0.20947449449362646,0.6844935362290145,0.8263511112329143,0.33564137947122563,0.33564137947122563,0.20947449449362646,0.33564137947122563,0.33564137947122563,0.20947449449362646,0.20947449449362646,0.20947449449362646,0.6040958894118896,0.5549184197175815,0.748852792413071,0.0,0.0,0.0,0.0,0.0,0.0,0.0,0.0,0.0,0.0,0.0,0.0,0.0,0.0,0.0,0.0,0.0,0.0,0.0,0.0,0.0,0.0,0.7182688299651381,0.4262127331943825,0.49691584913720505,0.5549184197175815,0.33564137947122563,0.4262127331943825,0.4262127331943825,0.4262127331943825,0.7767967808409569,0.6467824703642522,0.6844935362290145,0.49691584913720505,0.4262127331943825,0.848548108082302,0.49691584913720505,0.6040958894118896,0.6040958894118896,0.4262127331943825,0.748852792413071,0.20947449449362646,0.49691584913720505,0.6467824703642522,0.5549184197175815,0.6040958894118896,0.6844935362290145,0.5549184197175815,0.6040958894118896,0.20947449449362646,0.6040958894118896,0.6844935362290145,0.5549184197175815,0.20947449449362646,0.6040958894118896,0.5549184197175815,0.33564137947122563,0.0,0.0,0.0,0.0,0.0,0.0,0.0,0.0,0.0,0.0,0.0,0.0,0.0,0.0,0.0,0.0,0.0,0.33564137947122563,0.0,0.0,0.0,0.0,0.0,0.6467824703642522,0.6040958894118896,0.7182688299651381,0.33564137947122563,0.20947449449362646,0.4262127331943825,0.6844935362290145,0.6467824703642522,0.9719348908725932,0.33564137947122563,0.8888421418286963,0.20947449449362646,0.49691584913720505,0.7767967808409569,0.7767967808409569,0.20947449449362646,0.20947449449362646,0.20947449449362646,0.5549184197175815,0.6467824703642522,0.33564137947122563,0.8025205603236509,0.33564137947122563,0.6467824703642522,0.6040958894118896,0.33564137947122563,0.7767967808409569,0.4262127331943825,0.8263511112329143,0.20947449449362646,0.33564137947122563,0.49691584913720505,0.4262127331943825,0.20947449449362646,0.6467824703642522,0.6040958894118896,0.4262127331943825,0.748852792413071,0.6040958894118896,0.20947449449362646,0.49691584913720505,0.49691584913720505,0.4262127331943825,0.8025205603236509,0.33564137947122563,0.9072533129673389,0.6467824703642522,0.8693212117370382,0.4262127331943825,0.49691584913720505,0.20947449449362646,0.49691584913720505,0.20947449449362646,0.20947449449362646,0.20947449449362646,0.49691584913720505,0.33564137947122563,0.4262127331943825,0.7767967808409569,0.4262127331943825,0.49691584913720505,0.49691584913720505,0.4262127331943825,0.49691584913720505,0.20947449449362646,0.20947449449362646,0.20947449449362646,0.20947449449362646,0.20947449449362646,0.20947449449362646,0.33564137947122563,0.5549184197175815,0.49691584913720505,0.49691584913720505,0.33564137947122563,0.4262127331943825,0.33564137947122563,0.49691584913720505,0.20947449449362646,0.6844935362290145,0.0,0.0,0.20947449449362646,0.20947449449362646,0.4262127331943825,0.6844935362290145,0.49691584913720505,0.8693212117370382,0.49691584913720505,0.4262127331943825,0.6467824703642522,0.6040958894118896,0.20947449449362646,0.20947449449362646,0.8693212117370382,0.4262127331943825,0.6040958894118896,0.6040958894118896,0.5549184197175815,0.5549184197175815,0.6040958894118896,0.20947449449362646,0.33564137947122563,0.33564137947122563,0.6040958894118896,0.0,0.33564137947122563,0.4262127331943825,0.5549184197175815,0.0,0.0,0.0,0.0,0.0,0.0,0.0,0.0,0.20947449449362646,0.49691584913720505,0.20947449449362646,0.4262127331943825,0.20947449449362646,0.5549184197175815,0.33564137947122563,0.20947449449362646,0.8693212117370382,0.5549184197175815,0.20947449449362646,0.33564137947122563,0.8025205603236509,0.5549184197175815,0.20947449449362646,0.848548108082302,0.4262127331943825,0.20947449449362646,0.49691584913720505,0.20947449449362646,0.33564137947122563,0.20947449449362646,0.4262127331943825,0.4262127331943825,0.33564137947122563,0.49691584913720505,0.0,0.0,0.0,0.0,0.0,0.0,0.0,0.0,0.6040958894118896,0.0,0.0,0.33564137947122563,0.6040958894118896,0.4262127331943825,0.4262127331943825,0.20947449449362646,0.4262127331943825,0.4262127331943825,0.7182688299651381,0.20947449449362646,0.33564137947122563,0.6467824703642522,0.33564137947122563,0.20947449449362646,0.49691584913720505,0.6467824703642522,0.33564137947122563,0.49691584913720505,0.33564137947122563,0.0,0.0,0.0,0.0,0.0,0.0,0.0,0.4262127331943825,0.0,0.0,0.0,0.0,0.0,0.20947449449362646,0.20947449449362646,0.20947449449362646,0.20947449449362646,0.20947449449362646,0.4262127331943825,0.49691584913720505,0.20947449449362646,0.49691584913720505,0.33564137947122563,0.33564137947122563,0.20947449449362646,0.20947449449362646,0.6040958894118896,0.4262127331943825,0.20947449449362646,0.6040958894118896,0.20947449449362646,0.33564137947122563,0.8263511112329143,0.6467824703642522,0.33564137947122563,0.33564137947122563,0.20947449449362646,0.33564137947122563,0.7767967808409569,0.33564137947122563,0.20947449449362646,0.20947449449362646,0.6467824703642522,0.33564137947122563,0.33564137947122563,0.33564137947122563,0.20947449449362646,0.0,0.0,0.0,0.0,0.0,0.0,0.0,0.0,0.0,0.0,0.0,0.0,0.49691584913720505,0.4262127331943825,0.4262127331943825,0.0,0.20947449449362646,0.49691584913720505,0.33564137947122563,0.33564137947122563,0.33564137947122563,0.20947449449362646,0.49691584913720505,0.5549184197175815,0.0,0.0,0.0,0.0,0.0,0.0,0.0,0.0,0.4262127331943825,0.5549184197175815,0.33564137947122563,0.20947449449362646,0.33564137947122563,0.20947449449362646,0.33564137947122563,0.4262127331943825,0.33564137947122563,0.20947449449362646,0.9719348908725932,0.9569345529508138,0.748852792413071,0.9569345529508138,0.8025205603236509,0.4262127331943825,0.748852792413071,0.748852792413071,0.8263511112329143,0.8693212117370382,0.5549184197175815,0.49691584913720505,0.7182688299651381,0.7182688299651381,0.748852792413071,0.748852792413071,0.8025205603236509,0.6844935362290145,0.4262127331943825,0.49691584913720505,0.848548108082302,1.0,0.5549184197175815,0.49691584913720505,0.4262127331943825,0.6467824703642522,0.4262127331943825,0.5549184197175815,0.49691584913720505,0.6040958894118896,0.5549184197175815,0.6467824703642522,0.20947449449362646,0.5549184197175815,0.7182688299651381,0.8693212117370382,0.20947449449362646,0.20947449449362646,0.8263511112329143,0.33564137947122563,0.7767967808409569,0.6040958894118896,0.4262127331943825,0.5549184197175815,0.5549184197175815,0.33564137947122563,0.4262127331943825,0.4262127331943825,0.5549184197175815,0.5549184197175815,0.49691584913720505,0.6467824703642522,0.748852792413071,0.6844935362290145,0.8693212117370382,0.7182688299651381,0.8263511112329143,0.6844935362290145,0.5549184197175815,0.6844935362290145,0.5549184197175815,0.5549184197175815,0.5549184197175815,0.20947449449362646,0.20947449449362646,0.20947449449362646,0.20947449449362646,0.5549184197175815,0.4262127331943825,0.6844935362290145,0.49691584913720505,0.33564137947122563,0.0,0.0,0.0,0.0,0.0,0.0,0.0,0.0,0.0,0.0,0.0,0.748852792413071,0.33564137947122563,0.748852792413071,0.748852792413071,0.49691584913720505,0.0,0.5549184197175815,0.33564137947122563,0.748852792413071,0.20947449449362646,0.5549184197175815,0.33564137947122563,0.6467824703642522,0.20947449449362646,0.748852792413071,0.6040958894118896,0.6040958894118896,0.0,0.0,0.0,0.0,0.0,0.0,0.0,0.0,0.0,0.0,0.0,0.0,0.6040958894118896,0.0,0.4262127331943825,0.5549184197175815,0.33564137947122563,0.49691584913720505,0.6844935362290145,0.20947449449362646,0.49691584913720505,0.748852792413071,0.6844935362290145,0.20947449449362646,0.33564137947122563,0.848548108082302,0.33564137947122563,0.8693212117370382,0.49691584913720505,0.6040958894118896,0.4262127331943825,0.6844935362290145,0.6467824703642522,0.49691584913720505,0.5549184197175815,0.49691584913720505,0.20947449449362646,0.20947449449362646,0.20947449449362646,0.20947449449362646,0.33564137947122563,0.6467824703642522,0.0,0.49691584913720505,0.4262127331943825,0.20947449449362646,0.33564137947122563,0.8693212117370382,0.20947449449362646,0.6467824703642522,0.33564137947122563,0.6040958894118896,0.49691584913720505,0.20947449449362646,0.33564137947122563,0.6467824703642522,0.0,0.0,0.0,0.0,0.0,0.33564137947122563,0.33564137947122563,0.4262127331943825,0.848548108082302,0.8263511112329143,0.7182688299651381,0.33564137947122563,0.33564137947122563,0.9246741454692541,0.6040958894118896,0.33564137947122563,0.8263511112329143,0.20947449449362646,0.20947449449362646,0.33564137947122563,0.4262127331943825,0.6040958894118896,0.6040958894118896,0.5549184197175815,0.33564137947122563,0.0,0.0,0.0,0.0,0.0,0.0,0.6040958894118896,0.33564137947122563,0.33564137947122563,0.6040958894118896,0.20947449449362646,0.33564137947122563,0.0,0.0,0.0,0.0,0.0,0.20947449449362646,0.4262127331943825,0.20947449449362646,0.5549184197175815,0.20947449449362646,0.5549184197175815,0.20947449449362646,0.5549184197175815,0.4262127331943825,0.49691584913720505,0.20947449449362646,0.33564137947122563,0.33564137947122563,0.6467824703642522,0.33564137947122563,0.33564137947122563,0.33564137947122563,0.20947449449362646,0.0,0.0,0.5549184197175815,0.0,0.0,0.33564137947122563,0.20947449449362646,0.33564137947122563,0.0,0.0,0.0,0.0,0.0,0.0,0.0,0.4262127331943825,0.0,0.6040958894118896,0.33564137947122563,0.20947449449362646,0.20947449449362646,0.33564137947122563],\"coloraxis\":\"coloraxis\",\"symbol\":\"circle\"},\"mode\":\"markers\",\"name\":\"\",\"orientation\":\"v\",\"showlegend\":false,\"x\":[0.0,0.2654960984303003,0.0,0.0,0.2654960984303003,0.0,0.0,0.0,0.0,0.0,0.0,0.0,0.0,0.2654960984303003,0.0,0.0,0.5818802580331458,0.2654960984303003,0.2654960984303003,0.2654960984303003,0.2654960984303003,0.2654960984303003,0.2654960984303003,0.2654960984303003,0.2654960984303003,0.0,0.0,0.0,0.2654960984303003,0.0,0.2654960984303003,0.0,0.0,0.0,0.0,0.2654960984303003,0.2654960984303003,0.0,0.0,0.0,0.0,0.0,0.0,0.0,0.0,0.2654960984303003,0.2654960984303003,0.2654960984303003,0.0,0.0,0.1545496351426251,0.0,0.0,0.0,0.2654960984303003,0.0,0.1545496351426251,0.0,0.2654960984303003,0.0,0.0,0.2654960984303003,0.0,0.0,0.0,0.0,0.0,0.0,0.0,0.2654960984303003,0.0,0.0,0.0,0.0,0.0,0.2654960984303003,0.2654960984303003,0.2654960984303003,0.0,0.2654960984303003,0.2654960984303003,0.2654960984303003,0.2654960984303003,0.6949482217844026,0.2654960984303003,0.1545496351426251,0.2654960984303003,0.2654960984303003,0.35210472615658556,0.2654960984303003,0.0,0.2654960984303003,0.0,0.0,0.42315566889899486,0.1545496351426251,0.0,0.0,0.2654960984303003,0.2654960984303003,0.2654960984303003,0.2654960984303003,0.0,0.6607178988535775,0.0,0.2654960984303003,0.0,0.0,0.2654960984303003,0.0,0.0,0.0,0.0,0.2654960984303003,0.0,0.2654960984303003,0.0,0.2654960984303003,0.0,0.0,0.2654960984303003,0.0,0.0,0.0,0.0,0.5818802580331458,0.0,0.0,0.35210472615658556,0.2654960984303003,0.2654960984303003,0.2654960984303003,0.2654960984303003,0.42315566889899486,0.0,0.0,0.0,0.0,0.2654960984303003,0.2654960984303003,0.0,0.0,0.0,0.0,0.0,0.0,0.0,0.0,0.0,0.0,0.0,0.0,0.0,0.0,0.0,0.0,0.0,0.0,0.0,0.0,0.0,0.0,0.6607178988535775,0.6607178988535775,0.2654960984303003,0.2654960984303003,0.0,0.2654960984303003,0.6232537081637383,0.0,0.2654960984303003,0.7264588732064899,0.6607178988535775,0.2654960984303003,0.2654960984303003,0.5356856367482237,0.2654960984303003,0.2654960984303003,0.2654960984303003,0.0,0.6607178988535775,0.0,0.0,0.5818802580331458,0.2654960984303003,0.6607178988535775,0.5818802580331458,0.2654960984303003,0.2654960984303003,0.42315566889899486,0.2654960984303003,0.6607178988535775,0.6607178988535775,0.0,0.0,0.6607178988535775,0.6607178988535775,0.2654960984303003,0.2654960984303003,0.2654960984303003,0.2654960984303003,0.2654960984303003,0.2654960984303003,0.2654960984303003,0.2654960984303003,0.2654960984303003,0.2654960984303003,0.2654960984303003,0.2654960984303003,0.2654960984303003,0.2654960984303003,0.2654960984303003,0.2654960984303003,0.2654960984303003,0.2654960984303003,0.2654960984303003,0.2654960984303003,0.2654960984303003,0.2654960984303003,0.2654960984303003,0.6232537081637383,0.7556503916380365,0.5356856367482237,0.6607178988535775,0.2654960984303003,0.0,0.5356856367482237,0.5356856367482237,0.6607178988535775,0.2654960984303003,0.6607178988535775,0.5818802580331458,0.2654960984303003,0.6607178988535775,0.4833961987324949,0.6607178988535775,0.6607178988535775,0.6607178988535775,0.0,0.6607178988535775,0.6607178988535775,0.6949482217844026,0.0,0.8082871303205631,0.6607178988535775,0.2654960984303003,0.6949482217844026,0.2654960984303003,0.6607178988535775,0.0,0.0,0.2654960984303003,0.2654960984303003,0.1545496351426251,0.6607178988535775,0.2654960984303003,0.7264588732064899,0.8082871303205631,0.8082871303205631,0.4833961987324949,0.2654960984303003,0.2654960984303003,0.2654960984303003,0.7556503916380365,0.2654960984303003,0.7556503916380365,0.6607178988535775,0.7556503916380365,0.7556503916380365,0.7556503916380365,0.5356856367482237,0.6607178988535775,0.6607178988535775,0.2654960984303003,0.5818802580331458,0.7556503916380365,0.7556503916380365,0.7556503916380365,0.8082871303205631,0.6607178988535775,0.6607178988535775,0.6607178988535775,0.0,0.7556503916380365,0.7556503916380365,0.7556503916380365,0.7556503916380365,0.7556503916380365,0.7556503916380365,0.7556503916380365,0.0,0.7556503916380365,0.6607178988535775,0.2654960984303003,0.6607178988535775,0.8082871303205631,0.8082871303205631,0.6607178988535775,0.6607178988535775,0.6949482217844026,0.5818802580331458,0.5818802580331458,0.2654960984303003,0.6607178988535775,0.7556503916380365,0.6607178988535775,0.6607178988535775,0.7828408684810206,0.5818802580331458,0.6607178988535775,0.7556503916380365,0.8082871303205631,0.7556503916380365,0.0,0.7556503916380365,0.7556503916380365,0.8082871303205631,0.7556503916380365,0.8082871303205631,0.8082871303205631,0.6607178988535775,0.8082871303205631,0.8082871303205631,0.6607178988535775,0.6607178988535775,0.6607178988535775,0.5818802580331458,0.7556503916380365,0.6607178988535775,0.6607178988535775,0.6607178988535775,0.6607178988535775,0.6607178988535775,0.6607178988535775,0.6607178988535775,0.6607178988535775,0.6607178988535775,0.6607178988535775,0.6607178988535775,0.6607178988535775,0.8082871303205631,0.2654960984303003,0.8082871303205631,0.7556503916380365,0.5818802580331458,0.9156101407968814,0.7556503916380365,0.6607178988535775,0.2654960984303003,0.9156101407968814,0.6607178988535775,0.7556503916380365,0.9515465098488487,0.7556503916380365,0.6607178988535775,0.8082871303205631,0.2654960984303003,0.7556503916380365,0.2654960984303003,0.5818802580331458,0.7556503916380365,0.6607178988535775,0.7556503916380365,0.7556503916380365,0.7556503916380365,0.7556503916380365,0.7556503916380365,0.7556503916380365,0.7556503916380365,0.7556503916380365,0.7556503916380365,0.7556503916380365,0.7556503916380365,0.7556503916380365,0.5818802580331458,0.7556503916380365,0.6607178988535775,0.6607178988535775,0.2654960984303003,0.6607178988535775,0.8082871303205631,0.8082871303205631,0.9156101407968814,0.9156101407968814,0.8082871303205631,0.9156101407968814,0.8547525115208435,0.9515465098488487,0.9515465098488487,0.8082871303205631,0.7556503916380365,0.7556503916380365,0.8082871303205631,0.8082871303205631,0.8082871303205631,0.8082871303205631,0.8082871303205631,0.8082871303205631,0.8082871303205631,0.8082871303205631,0.8082871303205631,0.8082871303205631,0.8082871303205631,0.8082871303205631,0.8082871303205631,0.8082871303205631,0.9156101407968814,0.8082871303205631,0.9156101407968814,0.9156101407968814,0.7556503916380365,0.8082871303205631,0.9515465098488487,0.7556503916380365,0.9515465098488487,0.8082871303205631,0.5818802580331458,0.5818802580331458,0.8082871303205631,0.7556503916380365,0.7556503916380365,0.8082871303205631,0.9156101407968814,0.7556503916380365,0.9515465098488487,0.8547525115208435,0.8082871303205631,0.6607178988535775,0.6607178988535775,0.6607178988535775,0.9515465098488487,0.9156101407968814,0.9515465098488487,0.9515465098488487,0.9515465098488487,0.8082871303205631,0.9515465098488487,0.9156101407968814,0.9515465098488487,0.9156101407968814,0.9156101407968814,0.9156101407968814,0.9156101407968814,0.9156101407968814,0.9156101407968814,0.9156101407968814,0.9156101407968814,0.9156101407968814,0.9156101407968814,0.9156101407968814,0.9156101407968814,0.9156101407968814,0.9515465098488487,0.9156101407968814,0.9339849841897315,0.6607178988535775,0.9515465098488487,0.9515465098488487,0.9515465098488487,0.7556503916380365,0.9156101407968814,1.0,0.9515465098488487,0.9515465098488487,0.9515465098488487,0.9515465098488487,0.9515465098488487,0.9515465098488487,0.9515465098488487,0.9515465098488487,0.9515465098488487,0.9515465098488487,0.9156101407968814,0.9515465098488487,0.9156101407968814,0.9156101407968814,0.8082871303205631,0.9156101407968814,0.9515465098488487,0.9515465098488487,0.9515465098488487,0.42315566889899486,0.1545496351426251,0.0,0.0,0.0,0.2654960984303003,0.0,0.0,0.1545496351426251,0.2654960984303003,0.2654960984303003,0.1545496351426251,0.1545496351426251,0.2654960984303003,0.0,0.0,0.2654960984303003,0.2654960984303003,0.0,0.0,0.0,0.35210472615658556,0.0,0.2654960984303003,0.0,0.2654960984303003,0.0,0.0,0.2654960984303003,0.0,0.0,0.0,0.0,0.0,0.0,0.2654960984303003,0.2654960984303003,0.2654960984303003,0.4833961987324949,0.0,0.0,0.2654960984303003,0.2654960984303003,0.0,0.2654960984303003,0.0,0.0,0.2654960984303003,0.35210472615658556,0.2654960984303003,0.7556503916380365,0.1545496351426251,0.2654960984303003,0.2654960984303003,0.2654960984303003,0.4833961987324949,0.2654960984303003,0.0,0.2654960984303003,0.2654960984303003,0.2654960984303003,0.0,0.0,0.2654960984303003,0.0,0.0,0.0,0.2654960984303003,0.1545496351426251,0.5818802580331458,0.6607178988535775,0.0,0.0,0.0,0.0,0.0,0.0,0.0,0.0,0.0,0.0,0.0,0.0,0.6607178988535775,0.0,0.5818802580331458,0.35210472615658556,0.1545496351426251,0.1545496351426251,0.2654960984303003,0.0,0.6949482217844026,0.0,0.2654960984303003,0.5818802580331458,0.7556503916380365,0.2654960984303003,0.2654960984303003,0.0,0.0,0.2654960984303003,0.2654960984303003,0.2654960984303003,0.2654960984303003,0.2654960984303003,0.2654960984303003,0.2654960984303003,0.2654960984303003,0.2654960984303003,0.2654960984303003,0.2654960984303003,0.2654960984303003,0.2654960984303003,0.2654960984303003,0.2654960984303003,0.6607178988535775,0.7264588732064899,0.4833961987324949,0.5818802580331458,0.6607178988535775,0.0,0.4833961987324949,0.5356856367482237,0.0,0.42315566889899486,0.6949482217844026,0.7264588732064899,0.6607178988535775,0.2654960984303003,0.7556503916380365,0.6607178988535775,0.4833961987324949,0.6607178988535775,0.4833961987324949,0.6607178988535775,0.6232537081637383,0.7556503916380365,0.7556503916380365,0.7556503916380365,0.0,0.6607178988535775,0.7556503916380365,0.5818802580331458,0.8082871303205631,0.7556503916380365,0.2654960984303003,0.7556503916380365,0.8082871303205631,0.2654960984303003,0.7556503916380365,0.6607178988535775,0.7556503916380365,0.7828408684810206,0.8082871303205631,0.8082871303205631,0.6607178988535775,0.6607178988535775,0.6607178988535775,0.6607178988535775,0.6607178988535775,0.6607178988535775,0.0,0.0,0.8082871303205631,0.8082871303205631,0.8082871303205631,0.8082871303205631,0.8082871303205631,0.7556503916380365,0.9515465098488487,0.6607178988535775,0.7556503916380365,0.896342972329793,0.2654960984303003,0.6607178988535775,0.6607178988535775,0.8082871303205631,0.9156101407968814,0.7264588732064899,0.8082871303205631,0.7556503916380365,0.7556503916380365,0.7556503916380365,0.7556503916380365,0.7556503916380365,0.7556503916380365,0.7556503916380365,0.8321995271737159,0.7556503916380365,0.7556503916380365,0.8082871303205631,0.9156101407968814,0.8082871303205631,0.8082871303205631,0.8082871303205631,0.8082871303205631,0.8082871303205631,0.8082871303205631,0.7556503916380365,0.6607178988535775,0.6607178988535775,0.9156101407968814,0.9515465098488487,0.9515465098488487,0.7556503916380365,0.8082871303205631,0.8082871303205631,0.8082871303205631,0.9156101407968814,0.9156101407968814,0.9156101407968814,0.9515465098488487,0.9156101407968814,0.9515465098488487,0.9156101407968814,0.9515465098488487,0.9156101407968814,0.9156101407968814,0.9844970239412051,0.9156101407968814,0.9156101407968814,0.9515465098488487,0.9156101407968814,0.7556503916380365,0.9515465098488487,0.9515465098488487,0.9515465098488487,0.9515465098488487,0.9515465098488487,0.9515465098488487,0.9515465098488487,0.9515465098488487,0.9515465098488487,0.9515465098488487,0.8082871303205631,0.9515465098488487,0.9156101407968814,0.9515465098488487],\"xaxis\":\"x\",\"y\":[0.7978420895547238,0.17404810686108046,0.4953727037460086,0.6122813830259535,0.8637318193735538,0.6747654731005414,0.5131976399584474,0.4331389430752244,0.8145952353871563,0.819948146398158,0.5131976399584474,0.17404810686108046,0.17404810686108046,0.6747654731005414,0.5298791419693946,0.5298791419693946,0.5298791419693946,0.7672738317202942,0.4953727037460086,0.7251102414698766,0.4331389430752244,0.6002356063636876,0.6747654731005414,0.6747654731005414,0.6555580586310299,0.8892982660925969,0.6747654731005414,0.8091298600746685,0.5298791419693946,0.8592153466176707,0.6122813830259535,0.8403219430455522,0.5298791419693946,0.5298791419693946,0.5298791419693946,0.9088376494045263,0.6747654731005414,0.7399371767921319,0.0,0.0,0.0,0.8035471931224089,0.8035471931224089,0.6122813830259535,0.835376123043069,0.4953727037460086,0.9088376494045263,0.6555580586310299,0.6747654731005414,0.9504937749590566,0.6002356063636876,0.6838622844424995,0.7326293283751244,0.819948146398158,0.5298791419693946,0.38145629231193184,0.927011398739594,0.4953727037460086,0.645394957742923,0.5298791419693946,0.5298791419693946,0.9162601870597201,0.17404810686108046,0.17404810686108046,0.17404810686108046,0.5298791419693946,0.17404810686108046,0.17404810686108046,0.17404810686108046,0.6237939826936434,0.5298791419693946,0.5298791419693946,0.5298791419693946,0.6747654731005414,0.6747654731005414,0.17404810686108046,0.17404810686108046,0.17404810686108046,0.7326293283751244,0.17404810686108046,0.17404810686108046,0.17404810686108046,0.17404810686108046,0.6237939826936434,0.6747654731005414,0.9660571651262977,0.7539644179797953,0.4953727037460086,0.6555580586310299,0.7251102414698766,0.9339396989475183,0.7672738317202942,0.6555580586310299,0.6555580586310299,0.9125753903770112,0.6555580586310299,0.4953727037460086,0.8892982660925969,0.6237939826936434,0.8035471931224089,0.6237939826936434,0.7672738317202942,0.9536818331964318,0.8892982660925969,0.8035471931224089,0.8768289960579404,0.9439979993562735,0.5298791419693946,0.6555580586310299,0.7736816014032347,0.717367339650875,0.6555580586310299,0.7251102414698766,0.8035471931224089,0.6555580586310299,0.8145952353871563,0.4085789909584107,0.6747654731005414,0.9919203972780013,0.4085789909584107,0.7326293283751244,0.9720308442870714,0.574329412411061,0.7470453320240613,1.0,0.574329412411061,0.4331389430752244,0.927011398739594,0.9660571651262977,0.5298791419693946,0.5298791419693946,0.38145629231193184,0.5298791419693946,0.4953727037460086,0.4331389430752244,0.4331389430752244,0.4331389430752244,0.8637318193735538,0.7607042326834162,0.9406882562843372,0.0,0.0,0.0,0.0,0.0,0.0,0.0,0.0,0.0,0.0,0.0,0.0,0.0,0.0,0.0,0.0,0.0,0.0,0.0,0.0,0.0,0.0,0.7326293283751244,0.5298791419693946,0.717367339650875,0.7736816014032347,0.6122813830259535,0.6555580586310299,0.5298791419693946,0.7326293283751244,0.9720308442870714,0.6555580586310299,0.717367339650875,0.7251102414698766,0.6555580586310299,0.9373358607111437,0.7326293283751244,0.835376123043069,0.835376123043069,0.7326293283751244,0.7799353231419097,0.4953727037460086,0.8091298600746685,0.7539644179797953,0.8091298600746685,0.6838622844424995,0.7978420895547238,0.835376123043069,0.8637318193735538,0.4331389430752244,0.8637318193735538,0.7539644179797953,0.6555580586310299,0.5298791419693946,0.9339396989475183,0.665338996273197,0.4953727037460086,0.17404810686108046,0.17404810686108046,0.17404810686108046,0.17404810686108046,0.17404810686108046,0.17404810686108046,0.17404810686108046,0.17404810686108046,0.17404810686108046,0.17404810686108046,0.17404810686108046,0.17404810686108046,0.17404810686108046,0.17404810686108046,0.17404810686108046,0.17404810686108046,0.17404810686108046,0.634818611074664,0.17404810686108046,0.17404810686108046,0.17404810686108046,0.17404810686108046,0.17404810686108046,0.7607042326834162,0.6555580586310299,0.885207894143711,0.5131976399584474,0.4953727037460086,0.7860422302549752,0.8637318193735538,0.835376123043069,1.0,0.645394957742923,0.9439979993562735,0.4331389430752244,0.8035471931224089,0.8637318193735538,0.9660571651262977,0.4331389430752244,0.4331389430752244,0.4331389430752244,0.9304986131077424,0.7736816014032347,0.5298791419693946,0.868171215442081,0.7326293283751244,0.6747654731005414,0.7470453320240613,0.6747654731005414,0.8637318193735538,0.7736816014032347,0.9234768022933705,0.6237939826936434,0.7539644179797953,0.8637318193735538,0.7860422302549752,0.6237939826936434,0.8035471931224089,0.9536818331964318,0.6002356063636876,0.7672738317202942,0.6747654731005414,0.5298791419693946,0.8637318193735538,0.8637318193735538,0.8035471931224089,0.8592153466176707,0.7251102414698766,0.9406882562843372,0.8145952353871563,0.9125753903770112,0.6122813830259535,0.6555580586310299,0.5298791419693946,0.717367339650875,0.4953727037460086,0.6237939826936434,0.5298791419693946,0.6747654731005414,0.574329412411061,0.6237939826936434,0.8251931284290327,0.6747654731005414,0.7326293283751244,0.7326293283751244,0.9125753903770112,0.6747654731005414,0.4953727037460086,0.4953727037460086,0.4953727037460086,0.4953727037460086,0.4953727037460086,0.4953727037460086,0.835376123043069,0.7251102414698766,0.7470453320240613,0.927011398739594,0.6237939826936434,0.6237939826936434,0.574329412411061,0.7539644179797953,0.5298791419693946,0.8725361214744611,0.38145629231193184,0.38145629231193184,0.6838622844424995,0.5455551064276623,0.6555580586310299,0.9198935184165833,0.7736816014032347,0.9536818331964318,0.8303344478724696,0.7251102414698766,0.8251931284290327,0.7539644179797953,0.5298791419693946,0.7736816014032347,1.0,0.6747654731005414,0.7607042326834162,0.8091298600746685,0.7326293283751244,0.7326293283751244,0.8810521780325872,0.5298791419693946,0.6002356063636876,0.6747654731005414,0.8892982660925969,0.4331389430752244,0.7251102414698766,0.6926517115793488,0.8637318193735538,0.4331389430752244,0.4331389430752244,0.4331389430752244,0.4331389430752244,0.4331389430752244,0.4331389430752244,0.4331389430752244,0.4331389430752244,0.6002356063636876,0.8251931284290327,0.6002356063636876,0.6747654731005414,0.7736816014032347,0.7672738317202942,0.6555580586310299,0.6555580586310299,0.8892982660925969,0.8303344478724696,0.634818611074664,0.9162601870597201,0.8592153466176707,0.9162601870597201,0.6002356063636876,0.8592153466176707,0.7539644179797953,0.6555580586310299,0.7672738317202942,0.8303344478724696,0.7011538505329667,0.835376123043069,0.8933253170414507,0.7672738317202942,0.7672738317202942,0.8251931284290327,0.4953727037460086,0.4953727037460086,0.4953727037460086,0.4953727037460086,0.4953727037460086,0.4953727037460086,0.4953727037460086,0.4953727037460086,0.9198935184165833,0.4953727037460086,0.4953727037460086,0.835376123043069,0.9234768022933705,0.8637318193735538,0.868171215442081,0.868171215442081,0.8768289960579404,0.7672738317202942,0.9749670187568359,0.6002356063636876,0.6555580586310299,0.9339396989475183,0.6555580586310299,0.6237939826936434,0.717367339650875,0.8035471931224089,0.7251102414698766,0.8892982660925969,0.7736816014032347,0.5298791419693946,0.5298791419693946,0.5298791419693946,0.5298791419693946,0.5298791419693946,0.5298791419693946,0.5298791419693946,0.7978420895547238,0.5298791419693946,0.5298791419693946,0.5298791419693946,0.5298791419693946,0.5298791419693946,0.6555580586310299,0.6237939826936434,0.665338996273197,0.6237939826936434,0.6237939826936434,0.8592153466176707,0.8725361214744611,0.6237939826936434,0.927011398739594,0.6747654731005414,0.7672738317202942,0.835376123043069,0.835376123043069,0.9690611511200177,0.8892982660925969,0.7326293283751244,0.9863911286296869,0.645394957742923,0.835376123043069,0.9863911286296869,0.9919203972780013,0.8035471931224089,0.9339396989475183,0.835376123043069,0.9339396989475183,0.9660571651262977,0.7326293283751244,0.6555580586310299,0.6555580586310299,0.8892982660925969,0.8251931284290327,0.717367339650875,0.7539644179797953,0.6747654731005414,0.6002356063636876,0.6002356063636876,0.6002356063636876,0.6002356063636876,0.6002356063636876,0.6002356063636876,0.6002356063636876,0.6002356063636876,0.6002356063636876,0.6002356063636876,0.6002356063636876,0.6002356063636876,0.8725361214744611,0.7978420895547238,0.835376123043069,0.6122813830259535,0.9125753903770112,0.8637318193735538,0.7672738317202942,0.7736816014032347,0.9568312941384668,0.7326293283751244,0.819948146398158,0.9125753903770112,0.6237939826936434,0.6237939826936434,0.6237939826936434,0.6237939826936434,0.6237939826936434,0.6237939826936434,0.6237939826936434,0.6237939826936434,0.8403219430455522,0.9660571651262977,0.8145952353871563,0.7736816014032347,0.8892982660925969,0.9125753903770112,0.9125753903770112,0.9690611511200177,0.9749670187568359,0.9690611511200177,0.6747654731005414,0.7799353231419097,0.6237939826936434,0.835376123043069,0.7093868888053504,0.17404810686108046,0.6555580586310299,0.6747654731005414,0.7326293283751244,0.7539644179797953,0.4953727037460086,0.45557890712206944,0.717367339650875,0.6747654731005414,0.7672738317202942,0.7736816014032347,0.7607042326834162,0.6747654731005414,0.4331389430752244,0.5298791419693946,0.8892982660925969,0.9439979993562735,0.6122813830259535,0.5298791419693946,0.4953727037460086,0.6747654731005414,0.4953727037460086,0.6555580586310299,0.5298791419693946,0.7093868888053504,0.6555580586310299,0.7539644179797953,0.17404810686108046,0.6747654731005414,0.835376123043069,0.9125753903770112,0.17404810686108046,0.17404810686108046,0.8145952353871563,0.4331389430752244,0.9125753903770112,0.7093868888053504,0.5298791419693946,0.7326293283751244,0.6747654731005414,0.4953727037460086,0.6237939826936434,0.5603398970626012,0.6747654731005414,0.6926517115793488,0.4953727037460086,0.8251931284290327,0.8892982660925969,0.835376123043069,1.0,0.8091298600746685,0.9660571651262977,0.9304986131077424,0.7326293283751244,0.8499401289954995,0.7326293283751244,0.7978420895547238,0.8091298600746685,0.38145629231193184,0.4331389430752244,0.4331389430752244,0.4331389430752244,0.7539644179797953,0.6838622844424995,0.7539644179797953,0.5603398970626012,0.6002356063636876,0.0,0.0,0.0,0.0,0.0,0.0,0.0,0.0,0.0,0.0,0.0,0.7539644179797953,0.6122813830259535,0.819948146398158,0.9304986131077424,0.7539644179797953,0.10131625877623329,0.7860422302549752,0.634818611074664,0.7607042326834162,0.4953727037460086,0.8035471931224089,0.4953727037460086,0.6555580586310299,0.47623596859453204,0.9919203972780013,0.9373358607111437,0.9373358607111437,0.17404810686108046,0.17404810686108046,0.17404810686108046,0.17404810686108046,0.17404810686108046,0.17404810686108046,0.17404810686108046,0.17404810686108046,0.17404810686108046,0.17404810686108046,0.17404810686108046,0.17404810686108046,0.8810521780325872,0.17404810686108046,0.7251102414698766,0.6747654731005414,0.4953727037460086,0.7326293283751244,0.8451754848825552,0.4331389430752244,0.885207894143711,0.9749670187568359,0.8892982660925969,0.6122813830259535,0.6555580586310299,0.9162601870597201,0.5298791419693946,0.9749670187568359,0.8637318193735538,0.7326293283751244,0.665338996273197,0.9749670187568359,0.835376123043069,0.835376123043069,0.7736816014032347,0.7539644179797953,0.4953727037460086,0.4953727037460086,0.4953727037460086,0.717367339650875,0.6237939826936434,0.8035471931224089,0.38145629231193184,0.665338996273197,0.6555580586310299,0.6926517115793488,0.6002356063636876,0.9373358607111437,0.7011538505329667,0.8251931284290327,0.6555580586310299,0.7978420895547238,0.717367339650875,0.5298791419693946,0.6002356063636876,0.9198935184165833,0.4331389430752244,0.4331389430752244,0.4331389430752244,0.4331389430752244,0.4331389430752244,0.9304986131077424,0.9373358607111437,0.6747654731005414,0.9690611511200177,0.9568312941384668,0.8810521780325872,0.6237939826936434,0.6555580586310299,0.8810521780325872,0.9304986131077424,0.6747654731005414,0.9088376494045263,0.8035471931224089,0.645394957742923,0.7470453320240613,0.717367339650875,0.7539644179797953,0.9339396989475183,0.8251931284290327,0.717367339650875,0.4953727037460086,0.4953727037460086,0.4953727037460086,0.4953727037460086,0.4953727037460086,0.4953727037460086,0.8637318193735538,0.7326293283751244,0.7326293283751244,0.8892982660925969,0.6002356063636876,0.7326293283751244,0.5298791419693946,0.5298791419693946,0.5298791419693946,0.5298791419693946,0.5298791419693946,0.6838622844424995,0.927011398739594,0.7539644179797953,0.8145952353871563,0.6237939826936434,0.7978420895547238,0.7326293283751244,0.9504937749590566,0.8637318193735538,0.9162601870597201,0.6555580586310299,0.7326293283751244,0.7326293283751244,0.9088376494045263,0.7539644179797953,0.7326293283751244,0.7672738317202942,0.6747654731005414,0.6002356063636876,0.6002356063636876,0.8251931284290327,0.6002356063636876,0.6002356063636876,0.7607042326834162,0.717367339650875,0.9439979993562735,0.6237939826936434,0.6237939826936434,0.6237939826936434,0.6237939826936434,0.6237939826936434,0.6237939826936434,0.6237939826936434,0.835376123043069,0.6237939826936434,0.9720308442870714,0.9660571651262977,0.7539644179797953,0.835376123043069,0.8810521780325872],\"yaxis\":\"y\",\"type\":\"scatter\"}],                        {\"template\":{\"data\":{\"histogram2dcontour\":[{\"type\":\"histogram2dcontour\",\"colorbar\":{\"outlinewidth\":0,\"ticks\":\"\"},\"colorscale\":[[0.0,\"#0d0887\"],[0.1111111111111111,\"#46039f\"],[0.2222222222222222,\"#7201a8\"],[0.3333333333333333,\"#9c179e\"],[0.4444444444444444,\"#bd3786\"],[0.5555555555555556,\"#d8576b\"],[0.6666666666666666,\"#ed7953\"],[0.7777777777777778,\"#fb9f3a\"],[0.8888888888888888,\"#fdca26\"],[1.0,\"#f0f921\"]]}],\"choropleth\":[{\"type\":\"choropleth\",\"colorbar\":{\"outlinewidth\":0,\"ticks\":\"\"}}],\"histogram2d\":[{\"type\":\"histogram2d\",\"colorbar\":{\"outlinewidth\":0,\"ticks\":\"\"},\"colorscale\":[[0.0,\"#0d0887\"],[0.1111111111111111,\"#46039f\"],[0.2222222222222222,\"#7201a8\"],[0.3333333333333333,\"#9c179e\"],[0.4444444444444444,\"#bd3786\"],[0.5555555555555556,\"#d8576b\"],[0.6666666666666666,\"#ed7953\"],[0.7777777777777778,\"#fb9f3a\"],[0.8888888888888888,\"#fdca26\"],[1.0,\"#f0f921\"]]}],\"heatmap\":[{\"type\":\"heatmap\",\"colorbar\":{\"outlinewidth\":0,\"ticks\":\"\"},\"colorscale\":[[0.0,\"#0d0887\"],[0.1111111111111111,\"#46039f\"],[0.2222222222222222,\"#7201a8\"],[0.3333333333333333,\"#9c179e\"],[0.4444444444444444,\"#bd3786\"],[0.5555555555555556,\"#d8576b\"],[0.6666666666666666,\"#ed7953\"],[0.7777777777777778,\"#fb9f3a\"],[0.8888888888888888,\"#fdca26\"],[1.0,\"#f0f921\"]]}],\"heatmapgl\":[{\"type\":\"heatmapgl\",\"colorbar\":{\"outlinewidth\":0,\"ticks\":\"\"},\"colorscale\":[[0.0,\"#0d0887\"],[0.1111111111111111,\"#46039f\"],[0.2222222222222222,\"#7201a8\"],[0.3333333333333333,\"#9c179e\"],[0.4444444444444444,\"#bd3786\"],[0.5555555555555556,\"#d8576b\"],[0.6666666666666666,\"#ed7953\"],[0.7777777777777778,\"#fb9f3a\"],[0.8888888888888888,\"#fdca26\"],[1.0,\"#f0f921\"]]}],\"contourcarpet\":[{\"type\":\"contourcarpet\",\"colorbar\":{\"outlinewidth\":0,\"ticks\":\"\"}}],\"contour\":[{\"type\":\"contour\",\"colorbar\":{\"outlinewidth\":0,\"ticks\":\"\"},\"colorscale\":[[0.0,\"#0d0887\"],[0.1111111111111111,\"#46039f\"],[0.2222222222222222,\"#7201a8\"],[0.3333333333333333,\"#9c179e\"],[0.4444444444444444,\"#bd3786\"],[0.5555555555555556,\"#d8576b\"],[0.6666666666666666,\"#ed7953\"],[0.7777777777777778,\"#fb9f3a\"],[0.8888888888888888,\"#fdca26\"],[1.0,\"#f0f921\"]]}],\"surface\":[{\"type\":\"surface\",\"colorbar\":{\"outlinewidth\":0,\"ticks\":\"\"},\"colorscale\":[[0.0,\"#0d0887\"],[0.1111111111111111,\"#46039f\"],[0.2222222222222222,\"#7201a8\"],[0.3333333333333333,\"#9c179e\"],[0.4444444444444444,\"#bd3786\"],[0.5555555555555556,\"#d8576b\"],[0.6666666666666666,\"#ed7953\"],[0.7777777777777778,\"#fb9f3a\"],[0.8888888888888888,\"#fdca26\"],[1.0,\"#f0f921\"]]}],\"mesh3d\":[{\"type\":\"mesh3d\",\"colorbar\":{\"outlinewidth\":0,\"ticks\":\"\"}}],\"scatter\":[{\"fillpattern\":{\"fillmode\":\"overlay\",\"size\":10,\"solidity\":0.2},\"type\":\"scatter\"}],\"parcoords\":[{\"type\":\"parcoords\",\"line\":{\"colorbar\":{\"outlinewidth\":0,\"ticks\":\"\"}}}],\"scatterpolargl\":[{\"type\":\"scatterpolargl\",\"marker\":{\"colorbar\":{\"outlinewidth\":0,\"ticks\":\"\"}}}],\"bar\":[{\"error_x\":{\"color\":\"#2a3f5f\"},\"error_y\":{\"color\":\"#2a3f5f\"},\"marker\":{\"line\":{\"color\":\"#E5ECF6\",\"width\":0.5},\"pattern\":{\"fillmode\":\"overlay\",\"size\":10,\"solidity\":0.2}},\"type\":\"bar\"}],\"scattergeo\":[{\"type\":\"scattergeo\",\"marker\":{\"colorbar\":{\"outlinewidth\":0,\"ticks\":\"\"}}}],\"scatterpolar\":[{\"type\":\"scatterpolar\",\"marker\":{\"colorbar\":{\"outlinewidth\":0,\"ticks\":\"\"}}}],\"histogram\":[{\"marker\":{\"pattern\":{\"fillmode\":\"overlay\",\"size\":10,\"solidity\":0.2}},\"type\":\"histogram\"}],\"scattergl\":[{\"type\":\"scattergl\",\"marker\":{\"colorbar\":{\"outlinewidth\":0,\"ticks\":\"\"}}}],\"scatter3d\":[{\"type\":\"scatter3d\",\"line\":{\"colorbar\":{\"outlinewidth\":0,\"ticks\":\"\"}},\"marker\":{\"colorbar\":{\"outlinewidth\":0,\"ticks\":\"\"}}}],\"scattermapbox\":[{\"type\":\"scattermapbox\",\"marker\":{\"colorbar\":{\"outlinewidth\":0,\"ticks\":\"\"}}}],\"scatterternary\":[{\"type\":\"scatterternary\",\"marker\":{\"colorbar\":{\"outlinewidth\":0,\"ticks\":\"\"}}}],\"scattercarpet\":[{\"type\":\"scattercarpet\",\"marker\":{\"colorbar\":{\"outlinewidth\":0,\"ticks\":\"\"}}}],\"carpet\":[{\"aaxis\":{\"endlinecolor\":\"#2a3f5f\",\"gridcolor\":\"white\",\"linecolor\":\"white\",\"minorgridcolor\":\"white\",\"startlinecolor\":\"#2a3f5f\"},\"baxis\":{\"endlinecolor\":\"#2a3f5f\",\"gridcolor\":\"white\",\"linecolor\":\"white\",\"minorgridcolor\":\"white\",\"startlinecolor\":\"#2a3f5f\"},\"type\":\"carpet\"}],\"table\":[{\"cells\":{\"fill\":{\"color\":\"#EBF0F8\"},\"line\":{\"color\":\"white\"}},\"header\":{\"fill\":{\"color\":\"#C8D4E3\"},\"line\":{\"color\":\"white\"}},\"type\":\"table\"}],\"barpolar\":[{\"marker\":{\"line\":{\"color\":\"#E5ECF6\",\"width\":0.5},\"pattern\":{\"fillmode\":\"overlay\",\"size\":10,\"solidity\":0.2}},\"type\":\"barpolar\"}],\"pie\":[{\"automargin\":true,\"type\":\"pie\"}]},\"layout\":{\"autotypenumbers\":\"strict\",\"colorway\":[\"#636efa\",\"#EF553B\",\"#00cc96\",\"#ab63fa\",\"#FFA15A\",\"#19d3f3\",\"#FF6692\",\"#B6E880\",\"#FF97FF\",\"#FECB52\"],\"font\":{\"color\":\"#2a3f5f\"},\"hovermode\":\"closest\",\"hoverlabel\":{\"align\":\"left\"},\"paper_bgcolor\":\"white\",\"plot_bgcolor\":\"#E5ECF6\",\"polar\":{\"bgcolor\":\"#E5ECF6\",\"angularaxis\":{\"gridcolor\":\"white\",\"linecolor\":\"white\",\"ticks\":\"\"},\"radialaxis\":{\"gridcolor\":\"white\",\"linecolor\":\"white\",\"ticks\":\"\"}},\"ternary\":{\"bgcolor\":\"#E5ECF6\",\"aaxis\":{\"gridcolor\":\"white\",\"linecolor\":\"white\",\"ticks\":\"\"},\"baxis\":{\"gridcolor\":\"white\",\"linecolor\":\"white\",\"ticks\":\"\"},\"caxis\":{\"gridcolor\":\"white\",\"linecolor\":\"white\",\"ticks\":\"\"}},\"coloraxis\":{\"colorbar\":{\"outlinewidth\":0,\"ticks\":\"\"}},\"colorscale\":{\"sequential\":[[0.0,\"#0d0887\"],[0.1111111111111111,\"#46039f\"],[0.2222222222222222,\"#7201a8\"],[0.3333333333333333,\"#9c179e\"],[0.4444444444444444,\"#bd3786\"],[0.5555555555555556,\"#d8576b\"],[0.6666666666666666,\"#ed7953\"],[0.7777777777777778,\"#fb9f3a\"],[0.8888888888888888,\"#fdca26\"],[1.0,\"#f0f921\"]],\"sequentialminus\":[[0.0,\"#0d0887\"],[0.1111111111111111,\"#46039f\"],[0.2222222222222222,\"#7201a8\"],[0.3333333333333333,\"#9c179e\"],[0.4444444444444444,\"#bd3786\"],[0.5555555555555556,\"#d8576b\"],[0.6666666666666666,\"#ed7953\"],[0.7777777777777778,\"#fb9f3a\"],[0.8888888888888888,\"#fdca26\"],[1.0,\"#f0f921\"]],\"diverging\":[[0,\"#8e0152\"],[0.1,\"#c51b7d\"],[0.2,\"#de77ae\"],[0.3,\"#f1b6da\"],[0.4,\"#fde0ef\"],[0.5,\"#f7f7f7\"],[0.6,\"#e6f5d0\"],[0.7,\"#b8e186\"],[0.8,\"#7fbc41\"],[0.9,\"#4d9221\"],[1,\"#276419\"]]},\"xaxis\":{\"gridcolor\":\"white\",\"linecolor\":\"white\",\"ticks\":\"\",\"title\":{\"standoff\":15},\"zerolinecolor\":\"white\",\"automargin\":true,\"zerolinewidth\":2},\"yaxis\":{\"gridcolor\":\"white\",\"linecolor\":\"white\",\"ticks\":\"\",\"title\":{\"standoff\":15},\"zerolinecolor\":\"white\",\"automargin\":true,\"zerolinewidth\":2},\"scene\":{\"xaxis\":{\"backgroundcolor\":\"#E5ECF6\",\"gridcolor\":\"white\",\"linecolor\":\"white\",\"showbackground\":true,\"ticks\":\"\",\"zerolinecolor\":\"white\",\"gridwidth\":2},\"yaxis\":{\"backgroundcolor\":\"#E5ECF6\",\"gridcolor\":\"white\",\"linecolor\":\"white\",\"showbackground\":true,\"ticks\":\"\",\"zerolinecolor\":\"white\",\"gridwidth\":2},\"zaxis\":{\"backgroundcolor\":\"#E5ECF6\",\"gridcolor\":\"white\",\"linecolor\":\"white\",\"showbackground\":true,\"ticks\":\"\",\"zerolinecolor\":\"white\",\"gridwidth\":2}},\"shapedefaults\":{\"line\":{\"color\":\"#2a3f5f\"}},\"annotationdefaults\":{\"arrowcolor\":\"#2a3f5f\",\"arrowhead\":0,\"arrowwidth\":1},\"geo\":{\"bgcolor\":\"white\",\"landcolor\":\"#E5ECF6\",\"subunitcolor\":\"white\",\"showland\":true,\"showlakes\":true,\"lakecolor\":\"white\"},\"title\":{\"x\":0.05},\"mapbox\":{\"style\":\"light\"}}},\"xaxis\":{\"anchor\":\"y\",\"domain\":[0.0,1.0],\"title\":{\"text\":\"months_since_last_donation\"}},\"yaxis\":{\"anchor\":\"x\",\"domain\":[0.0,1.0],\"title\":{\"text\":\"months_since_first_donation\"}},\"coloraxis\":{\"colorbar\":{\"title\":{\"text\":\"total_number_of_donations\"}},\"colorscale\":[[0.0,\"rgb(103,0,31)\"],[0.1,\"rgb(178,24,43)\"],[0.2,\"rgb(214,96,77)\"],[0.3,\"rgb(244,165,130)\"],[0.4,\"rgb(253,219,199)\"],[0.5,\"rgb(247,247,247)\"],[0.6,\"rgb(209,229,240)\"],[0.7,\"rgb(146,197,222)\"],[0.8,\"rgb(67,147,195)\"],[0.9,\"rgb(33,102,172)\"],[1.0,\"rgb(5,48,97)\"]]},\"legend\":{\"tracegroupgap\":0},\"margin\":{\"t\":60}},                        {\"responsive\": true}                    ).then(function(){\n",
              "                            \n",
              "var gd = document.getElementById('46633f63-8b68-4819-8072-8e386191804a');\n",
              "var x = new MutationObserver(function (mutations, observer) {{\n",
              "        var display = window.getComputedStyle(gd).display;\n",
              "        if (!display || display === 'none') {{\n",
              "            console.log([gd, 'removed!']);\n",
              "            Plotly.purge(gd);\n",
              "            observer.disconnect();\n",
              "        }}\n",
              "}});\n",
              "\n",
              "// Listen for the removal of the full notebook cells\n",
              "var notebookContainer = gd.closest('#notebook-container');\n",
              "if (notebookContainer) {{\n",
              "    x.observe(notebookContainer, {childList: true});\n",
              "}}\n",
              "\n",
              "// Listen for the clearing of the current output cell\n",
              "var outputEl = gd.closest('.output');\n",
              "if (outputEl) {{\n",
              "    x.observe(outputEl, {childList: true});\n",
              "}}\n",
              "\n",
              "                        })                };                            </script>        </div>\n",
              "</body>\n",
              "</html>"
            ]
          },
          "metadata": {}
        }
      ]
    },
    {
      "cell_type": "markdown",
      "source": [],
      "metadata": {
        "id": "Km_SKVYbhfr1"
      }
    },
    {
      "cell_type": "markdown",
      "source": [
        "# Task 3 - Creating a train and test set\n"
      ],
      "metadata": {
        "id": "fzAk8X72KwAa"
      }
    },
    {
      "cell_type": "code",
      "source": [
        "# First spilt \"X\" has 20% of data as test size:\n",
        "X_train, X_test = train_test_split(\n",
        "    df_prep, test_size=0.20, random_state=42)"
      ],
      "metadata": {
        "id": "ND76f6AZKzHZ"
      },
      "execution_count": 16,
      "outputs": []
    },
    {
      "cell_type": "markdown",
      "source": [
        "### Split 1 — 80 / 20 (Train / Test)\n",
        "- 80% of the data are used for model training, and 20% are reserved for testing.\n",
        "- This is a **standard configuration** that prioritizes more data for learning while keeping a sufficient portion of the dataset (20%) for evaluation.\n"
      ],
      "metadata": {
        "id": "6BJsXNMilqbK"
      }
    },
    {
      "cell_type": "code",
      "source": [
        "# Second spilt \"Y\" has 40% of data as test size:\n",
        "Y_train, Y_test = train_test_split(\n",
        "    df_prep, test_size=0.40, random_state=42)"
      ],
      "metadata": {
        "id": "fRv3OUATwSvA"
      },
      "execution_count": 17,
      "outputs": []
    },
    {
      "cell_type": "markdown",
      "source": [
        "### Split 2 — 60 / 40 (Train / Test)\n",
        "- A larger test set provides a broader view of **generalization performance** but leaves fewer samples for training.\n",
        "- This second split allows observation of how reduced training data may affect subsequent classification performance.\n"
      ],
      "metadata": {
        "id": "o3fBGbZglrgr"
      }
    },
    {
      "cell_type": "markdown",
      "source": [
        "### Implementation\n",
        "- The test sizes are based on an assumption that it is best to  prioritize a greater train_size.\n",
        "- The argument ‘random_state = 42’ ensures **reproducibility**, meaning the same samples are selected each time the code is run.\n"
      ],
      "metadata": {
        "id": "Ah7gmZYiyGpc"
      }
    },
    {
      "cell_type": "code",
      "source": [
        "print(f\"X_train size: {len(X_train)}\")\n",
        "print(f\"X_test size: {len(X_test)}\")\n",
        "print(f\"Y_train size: {len(Y_train)}\")\n",
        "print(f\"Y_test size: {len(Y_test)}\")\n"
      ],
      "metadata": {
        "id": "dbzgJHxjwZOa",
        "outputId": "3161e3aa-75a6-45ce-90da-3a39b4b28f75",
        "colab": {
          "base_uri": "https://localhost:8080/"
        }
      },
      "execution_count": 18,
      "outputs": [
        {
          "output_type": "stream",
          "name": "stdout",
          "text": [
            "X_train size: 575\n",
            "X_test size: 144\n",
            "Y_train size: 431\n",
            "Y_test size: 288\n"
          ]
        }
      ]
    },
    {
      "cell_type": "markdown",
      "source": [
        "### Interpretation\n",
        "- For the **80 / 20** configuration, 575 records (‘X_train = 575’) are used for training and 144 records (‘X_test  = 144’) for testing.\n",
        "- For the **60 / 40** configuration, 431 records (‘Y_train = 431’) are used for training and 288 records (‘Y_test  = 288’) for testing.\n",
        "\n",
        "These values align with the expected proportions for the 80 / 20 and 60 / 40 splits.\n",
        "\n",
        "*The printed outputs confirm the resulting dataset sizes align with the intended split ratios.*"
      ],
      "metadata": {
        "id": "-1yGricBlsWU"
      }
    },
    {
      "cell_type": "markdown",
      "source": [
        "### Conclusion\n",
        "These splits ensure that model performance can be compared under two distinct experimental conditions:\n",
        "- One emphasizing **more data for learning** (80 / 20) and the other emphasizing **more data for testing and generalization** (60 / 40).\n",
        "\n",
        "*Both configurations will be used in the following classification tasks to evaluate how training set size impacts model accuracy and generalization.*\n"
      ],
      "metadata": {
        "id": "d6O7Wh7znEyE"
      }
    },
    {
      "cell_type": "markdown",
      "source": [
        "# Task 4 - Classification algorithms\n"
      ],
      "metadata": {
        "id": "oJRfX0elKyLP"
      }
    },
    {
      "cell_type": "markdown",
      "source": [
        "## Task 4.1 - Manually implement KNN classifier"
      ],
      "metadata": {
        "id": "dn0gbBHOK1Iz"
      }
    },
    {
      "cell_type": "markdown",
      "source": [
        "Before implementing a KNN clasifier algorithm, we first have to define a metric for determining distances. Since our dataset has 3 distinct features after preprocessing, we define the euclidean norm in 3 dimensions."
      ],
      "metadata": {
        "id": "tKmFs4TG1q38"
      }
    },
    {
      "cell_type": "code",
      "source": [
        "# First we need a metric:\n",
        "def custom_euclidean(x, y):\n",
        "    return np.sqrt((x[0]-y[0])**2 + (x[1]-y[1])**2 + (x[2]-y[2])**2)"
      ],
      "metadata": {
        "id": "RmFm6NJYKwbL"
      },
      "execution_count": 19,
      "outputs": []
    },
    {
      "cell_type": "markdown",
      "source": [
        "The following impelementation finds the K nearest neighbours to a given point based on euclidean distance in 3 dimensions. The point is then classified as the most represented class amongst the K nearest neighbours.\n",
        "\n",
        "\n",
        "This is done by looping over all other points and storing the distance to each. We now find the labels associated with the K greatest distances.\n",
        "\n",
        "\n",
        "The most represented label is chosen.\n"
      ],
      "metadata": {
        "id": "kagFRgIF1t9F"
      }
    },
    {
      "cell_type": "code",
      "source": [
        "# This function takes the following input\n",
        "# - A dataframe\n",
        "# - A point to predict a class for based on distances in the chosen dataframe\n",
        "# - An integer K representing the amount of points in regarded neighborhoods\n",
        "\n",
        "def K_nearest(dataframe, point, K):\n",
        "\n",
        "  distance_to = [float('inf')] * len(dataframe)\n",
        "  count_0 = 0\n",
        "  count_1 = 0\n",
        "\n",
        "  # Loop through all points\n",
        "  for i in range(len(dataframe)):\n",
        "\n",
        "    other_point = dataframe.iloc[i]\n",
        "\n",
        "    if point.equals(other_point):\n",
        "      continue\n",
        "\n",
        "    distance_to[i] = custom_euclidean(point, other_point)\n",
        "\n",
        "  # Collect K nearest:\n",
        "  for n in range(K):\n",
        "    minimum = min(distance_to)\n",
        "    nearest_index = distance_to.index(minimum)\n",
        "\n",
        "    nearest_point = dataframe.iloc[nearest_index]\n",
        "\n",
        "    # Detemine Class\n",
        "    if nearest_point['class'] == 1:\n",
        "      count_1 += 1\n",
        "    if nearest_point['class'] == 0:\n",
        "      count_0 += 1\n",
        "\n",
        "    distance_to[nearest_index] = float('inf')\n",
        "\n",
        "  # Find most common class amongst K neighbors:\n",
        "  if count_1 > count_0:\n",
        "    return 1\n",
        "  else:\n",
        "    return 0\n"
      ],
      "metadata": {
        "id": "rOmcEVGN0Gqq"
      },
      "execution_count": 20,
      "outputs": []
    },
    {
      "cell_type": "markdown",
      "source": [
        "## Task 4.2 - Sklearn's Naive Bayes Classifier"
      ],
      "metadata": {
        "id": "3mLzCXxkK4R4"
      }
    },
    {
      "cell_type": "markdown",
      "source": [
        "Since the same set of features and class target will be used for all classification models, we simple start out by defining them here."
      ],
      "metadata": {
        "id": "A_MjjQFw106G"
      }
    },
    {
      "cell_type": "code",
      "source": [
        "# Training and test sets ( These will be used for all the next three classifiers )\n",
        "attributes_X = X_train.drop(columns='class')\n",
        "target_X = X_train['class']\n",
        "test_X = X_test.drop(columns='class')\n",
        "\n",
        "attributes_Y = Y_train.drop(columns='class')\n",
        "target_Y = Y_train['class']\n",
        "test_Y = Y_test.drop(columns='class')"
      ],
      "metadata": {
        "id": "LTVhlFl4Fouk"
      },
      "execution_count": 21,
      "outputs": []
    },
    {
      "cell_type": "code",
      "source": [
        "# Naive Bayes\n",
        "clf_naive_bayes_X = GaussianNB()\n",
        "clf_naive_bayes_X.fit(attributes_X, target_X)\n",
        "\n",
        "# Prediction\n",
        "prediction_naive_bayes_X = clf_naive_bayes_X.predict(test_X)\n",
        "\n",
        "# Evaluation\n",
        "difference_naive_bayes_X = abs(prediction_naive_bayes_X - X_test['class'])\n",
        "correct_naive_bayes_X = len(difference_naive_bayes_X.loc[lambda x : x == 0])\n",
        "\n",
        "print(f\"Accuracy : {correct_naive_bayes_X / len(test_X)}\")"
      ],
      "metadata": {
        "id": "ojcnR1daK4kr",
        "outputId": "cb978a0d-8935-4e05-f5e5-26b3700c0554",
        "colab": {
          "base_uri": "https://localhost:8080/"
        }
      },
      "execution_count": 22,
      "outputs": [
        {
          "output_type": "stream",
          "name": "stdout",
          "text": [
            "Accuracy : 0.7222222222222222\n"
          ]
        }
      ]
    },
    {
      "cell_type": "markdown",
      "source": [
        "Roughly 72% of the points in the test set were correctly classified. This is not an outstanding accuracy, but most points are nonetheless correctly claasified."
      ],
      "metadata": {
        "id": "S5qmHFCi2Lvj"
      }
    },
    {
      "cell_type": "markdown",
      "source": [
        "## Task 4.3 - Sklearn's Support Vector Classifier"
      ],
      "metadata": {
        "id": "GxqGVnT2K6OG"
      }
    },
    {
      "cell_type": "code",
      "source": [
        "# SVC\n",
        "clf_svc_X = make_pipeline(StandardScaler(), SVC(kernel='sigmoid')) # We might want to add a different kernel\n",
        "clf_svc_X.fit(attributes_X, target_X)\n",
        "\n",
        "# Prediction\n",
        "prediction_svc_X = clf_svc_X.predict(test_X)\n",
        "\n",
        "# Evaluation\n",
        "difference_test_svc_X = abs(prediction_svc_X - X_test['class'])\n",
        "correct_test_svc_X = len(difference_test_svc_X.loc[lambda x : x == 0])\n",
        "\n",
        "print(f\"Accuracy : {correct_test_svc_X / len(test_X)}\")"
      ],
      "metadata": {
        "id": "ANO9qMkxK6pP",
        "outputId": "161734ce-1aa6-4eb6-af8a-9dffaa941083",
        "colab": {
          "base_uri": "https://localhost:8080/"
        }
      },
      "execution_count": 23,
      "outputs": [
        {
          "output_type": "stream",
          "name": "stdout",
          "text": [
            "Accuracy : 0.7569444444444444\n"
          ]
        }
      ]
    },
    {
      "cell_type": "markdown",
      "source": [
        "We choose the sigmoid kernel since it gave us the highest accuracy score. With roughly 76% accuracy, this was the best performing model among the four."
      ],
      "metadata": {
        "id": "2LtiAJKd3fVD"
      }
    },
    {
      "cell_type": "markdown",
      "source": [
        "## Task 4.4 - Use Sklearn's Multilayer Perception Classifier"
      ],
      "metadata": {
        "id": "9psywwGxK-Es"
      }
    },
    {
      "cell_type": "code",
      "source": [
        "# MLP\n",
        "clf_mlp_X = MLPClassifier(random_state=42, max_iter=300)\n",
        "clf_mlp_X.fit(attributes_X, target_X)\n",
        "\n",
        "# Prediction\n",
        "prediction_mlp_X = clf_mlp_X.predict(test_X)\n",
        "\n",
        "# Evaluation\n",
        "difference_test_mlp_X = abs(prediction_mlp_X - X_test['class'])\n",
        "correct_test_mlp_X = len(difference_test_mlp_X.loc[lambda x : x == 0])\n",
        "\n",
        "print(f\"Accuracy : {correct_test_mlp_X / len(test_X)}\")"
      ],
      "metadata": {
        "id": "incR3wiOK-ps",
        "outputId": "ad770ae7-d246-42f6-f018-cca7c5c95a02",
        "colab": {
          "base_uri": "https://localhost:8080/"
        }
      },
      "execution_count": 24,
      "outputs": [
        {
          "output_type": "stream",
          "name": "stdout",
          "text": [
            "Accuracy : 0.7291666666666666\n"
          ]
        }
      ]
    },
    {
      "cell_type": "markdown",
      "source": [
        "Adjusting the amount of max itterations or the learning rate did not improve performance, thus we left it with the default arguments and a high iteration cap."
      ],
      "metadata": {
        "id": "NtZqdzZU33p0"
      }
    },
    {
      "cell_type": "markdown",
      "source": [
        "# Task 5 - Evaluation of classification methods"
      ],
      "metadata": {
        "id": "aFKVBo-dLAIv"
      }
    },
    {
      "cell_type": "markdown",
      "source": [
        "## Task 5.1 - Manually implement a confusion matrix"
      ],
      "metadata": {
        "id": "zDjjLjrRLCL-"
      }
    },
    {
      "cell_type": "markdown",
      "source": [
        "Our implementation of a confusion matrix function, compares the actual class of each data point with the result of classification. Counts of the four different combinations are then stored in a matrix like structure with costumized labels."
      ],
      "metadata": {
        "id": "5wNpaVq_4ehj"
      }
    },
    {
      "cell_type": "code",
      "source": [
        "def ConfusionMatrix(test_data, prediction_labels):\n",
        "  comparison_table = pd.DataFrame()\n",
        "  comparison_table['class'] = test_data['class']\n",
        "  comparison_table['prediction'] = prediction_labels\n",
        "\n",
        "  TP = len(comparison_table[(comparison_table['class'] == 1) & (comparison_table['prediction'] == 1)])\n",
        "  TN = len(comparison_table[(comparison_table['class'] == 0) & (comparison_table['prediction'] == 0)])\n",
        "  FP = len(comparison_table[(comparison_table['class'] == 0) & (comparison_table['prediction'] == 1)])\n",
        "  FN = len(comparison_table[(comparison_table['class'] == 1) & (comparison_table['prediction'] == 0)])\n",
        "\n",
        "  ConfusionMatrix = pd.DataFrame({\n",
        "    \"Actual Positive\": [TP, FN],\n",
        "    \"Actual Negative\": [FP, TN]\n",
        "  })\n",
        "\n",
        "  ConfusionMatrix = ConfusionMatrix.rename(index={0: \"Predicted Positive\", 1: \"Predicted Negative\"})\n",
        "\n",
        "  return ConfusionMatrix"
      ],
      "metadata": {
        "id": "C1ULufY_LAlY"
      },
      "execution_count": 25,
      "outputs": []
    },
    {
      "cell_type": "markdown",
      "source": [
        "From the confusion matrix implementation, one can easiliy compute both recall and precision. Each function uses the relevant formula and the associated entries in the confusion matrix."
      ],
      "metadata": {
        "id": "n1dOxHHS5Ka8"
      }
    },
    {
      "cell_type": "code",
      "source": [
        "def recall(matrix):\n",
        "  TP = matrix['Actual Positive'][0]\n",
        "  FN = matrix['Actual Positive'][1]\n",
        "  return float(TP / (TP + FN))"
      ],
      "metadata": {
        "id": "1r-ZpDxAWAtz"
      },
      "execution_count": 26,
      "outputs": []
    },
    {
      "cell_type": "code",
      "source": [
        "def precision(matrix):\n",
        "  TP = matrix['Actual Positive'][0]\n",
        "  FP = matrix['Actual Negative'][0]\n",
        "  return float(TP / (TP + FP))"
      ],
      "metadata": {
        "id": "5vz7CpPzW2mk"
      },
      "execution_count": 27,
      "outputs": []
    },
    {
      "cell_type": "markdown",
      "source": [
        "We want a general comparison of the model's performance on the two different splits. Because of this we store recall and precision results from each combination of split and model. These results are used for visualization."
      ],
      "metadata": {
        "id": "x7wl8BlX5dd8"
      }
    },
    {
      "cell_type": "code",
      "source": [
        "# Set up a dataframe for overview of all results\n",
        "recall_precision = pd.DataFrame({\n",
        "    \"Recall\": [None, None, None, None, None, None, None, None],\n",
        "    \"Precision\": [None, None, None, None, None, None, None, None]\n",
        "  })\n",
        "\n",
        "recall_precision = recall_precision.rename(index={\n",
        "    0: \"KNN_X\", 1: \"KNN_Y\",\n",
        "    2: \"Naive_Bayes_X\", 3: \"Naive_Bayes_Y\",\n",
        "    4: \"SVC_X\", 5: \"SVC_Y\",\n",
        "    6: \"MLP_X\", 7: \"MLP_Y\"\n",
        "    })"
      ],
      "metadata": {
        "id": "_i4njqsVf2nP"
      },
      "execution_count": 28,
      "outputs": []
    },
    {
      "cell_type": "markdown",
      "source": [
        "### KNN Evaluation"
      ],
      "metadata": {
        "id": "_AlmltdnDdxW"
      }
    },
    {
      "cell_type": "code",
      "source": [
        "# With the X-split (80/20)\n",
        "test_knn_X = X_test.copy()\n",
        "test_knn_X['result'] = test_knn_X.apply(lambda row: K_nearest(X_train, row, 10), axis=1)\n",
        "\n",
        "# Get confusion matrix\n",
        "CM_knn_X = ConfusionMatrix(test_knn_X,test_knn_X['result'])\n",
        "\n",
        "# Add information to a container (We will use this for visualization later)\n",
        "recall_precision.loc['KNN_X']['Recall'] = recall(CM_knn_X)\n",
        "recall_precision.loc['KNN_X']['Precision'] = precision(CM_knn_X)\n",
        "\n",
        "# Print information\n",
        "print(CM_knn_X)\n",
        "print()\n",
        "print(f\"Recall : {recall(CM_knn_X)}\")\n",
        "print(f\"Precision : {precision(CM_knn_X)}\")"
      ],
      "metadata": {
        "colab": {
          "base_uri": "https://localhost:8080/"
        },
        "id": "OQvBnQmfCFNt",
        "outputId": "eb0459f2-af51-4677-a58e-84a13f70d885"
      },
      "execution_count": 29,
      "outputs": [
        {
          "output_type": "stream",
          "name": "stdout",
          "text": [
            "                    Actual Positive  Actual Negative\n",
            "Predicted Positive                8               16\n",
            "Predicted Negative               33               87\n",
            "\n",
            "Recall : 0.1951219512195122\n",
            "Precision : 0.3333333333333333\n"
          ]
        }
      ]
    },
    {
      "cell_type": "markdown",
      "source": [
        "On split X, the KNN classifier does a poor job of succesfully classifiying class 1, but does significantly better when it comes to class 0. Here the precision is 87 / 120 = 0.725 and recall is 87 / 103 = 0.84"
      ],
      "metadata": {
        "id": "eTdxtJGU6CPp"
      }
    },
    {
      "cell_type": "code",
      "source": [
        "# With the Y-split (60/40)\n",
        "test_knn_Y = Y_test.copy()\n",
        "test_knn_Y['result'] = test_knn_Y.apply(lambda row: K_nearest(Y_train, row, 10), axis=1)\n",
        "\n",
        "# Get confusion matrix\n",
        "CM_knn_Y = ConfusionMatrix(test_knn_Y,test_knn_Y['result'])\n",
        "\n",
        "# Add information to a container (We will use this for visualization later)\n",
        "recall_precision.loc['KNN_Y']['Recall'] = recall(CM_knn_Y)\n",
        "recall_precision.loc['KNN_Y']['Precision'] = precision(CM_knn_Y)\n",
        "\n",
        "# Print information\n",
        "print(CM_knn_Y)\n",
        "print()\n",
        "print(f\"Recall : {recall(CM_knn_Y)}\")\n",
        "print(f\"Precision : {precision(CM_knn_Y)}\")"
      ],
      "metadata": {
        "colab": {
          "base_uri": "https://localhost:8080/"
        },
        "id": "SKVrDJsiD9Al",
        "outputId": "a9d3baef-8f99-4c43-db47-3311b852fac2"
      },
      "execution_count": 30,
      "outputs": [
        {
          "output_type": "stream",
          "name": "stdout",
          "text": [
            "                    Actual Positive  Actual Negative\n",
            "Predicted Positive               10                8\n",
            "Predicted Negative               76              194\n",
            "\n",
            "Recall : 0.11627906976744186\n",
            "Precision : 0.5555555555555556\n"
          ]
        }
      ]
    },
    {
      "cell_type": "markdown",
      "source": [
        "On split Y, The precision is quite a bit better, but this comes at a sacrifice of recall dropiing to 0.116, which is ultimately quite a shallow prediction. The recall of class 0 is a staggering 0.96 and the precision is 0.72. If we want to determine wether or not we think a given blood donor won't return, then this model will likely not overlook many."
      ],
      "metadata": {
        "id": "xjdJ6RZ378PL"
      }
    },
    {
      "cell_type": "markdown",
      "source": [
        "### Naive Bayes Evaluation"
      ],
      "metadata": {
        "id": "2VauMyY1E5Iu"
      }
    },
    {
      "cell_type": "code",
      "source": [
        "# With the X-split (80/20)\n",
        "\n",
        "# Get confusion matrix\n",
        "CM_Naive_Bayes_X = ConfusionMatrix(X_test, prediction_naive_bayes_X)\n",
        "\n",
        "# Add information to a container (We will use this for visualization later)\n",
        "recall_precision.loc['Naive_Bayes_X']['Recall'] = recall(CM_Naive_Bayes_X)\n",
        "recall_precision.loc['Naive_Bayes_X']['Precision'] = precision(CM_Naive_Bayes_X)\n",
        "\n",
        "# Print information\n",
        "print(CM_Naive_Bayes_X)\n",
        "print()\n",
        "print(f\"Recall : {recall(CM_Naive_Bayes_X)}\")\n",
        "print(f\"Precision : {precision(CM_Naive_Bayes_X)}\")"
      ],
      "metadata": {
        "colab": {
          "base_uri": "https://localhost:8080/"
        },
        "id": "xirOFab8E_jb",
        "outputId": "34b6a2f6-9560-4991-b563-8cf5d9379420"
      },
      "execution_count": 31,
      "outputs": [
        {
          "output_type": "stream",
          "name": "stdout",
          "text": [
            "                    Actual Positive  Actual Negative\n",
            "Predicted Positive                4                3\n",
            "Predicted Negative               37              100\n",
            "\n",
            "Recall : 0.0975609756097561\n",
            "Precision : 0.5714285714285714\n"
          ]
        }
      ]
    },
    {
      "cell_type": "code",
      "source": [
        "# With the Y-split (60/40)\n",
        "\n",
        "clf_naive_bayes_Y = GaussianNB()\n",
        "clf_naive_bayes_Y.fit(attributes_Y, target_Y)\n",
        "\n",
        "# Prediction\n",
        "prediction_naive_bayes_Y = clf_naive_bayes_Y.predict(test_Y)\n",
        "\n",
        "# Get confusion matrix\n",
        "CM_Naive_Bayes_Y = ConfusionMatrix(Y_test, prediction_naive_bayes_Y)\n",
        "\n",
        "# Add information to a container (We will use this for visualization later)\n",
        "recall_precision.loc['Naive_Bayes_Y']['Recall'] = recall(CM_Naive_Bayes_Y)\n",
        "recall_precision.loc['Naive_Bayes_Y']['Precision'] = precision(CM_Naive_Bayes_Y)\n",
        "\n",
        "# With the X-split (80/20)\n",
        "print(CM_Naive_Bayes_Y)\n",
        "print()\n",
        "print(f\"Recall : {recall(CM_Naive_Bayes_Y)}\")\n",
        "print(f\"Precision : {precision(CM_Naive_Bayes_Y)}\")"
      ],
      "metadata": {
        "colab": {
          "base_uri": "https://localhost:8080/"
        },
        "id": "r81TRj6CG-YX",
        "outputId": "2f6cb686-3164-4af6-b5d7-5cf93c8ef36c"
      },
      "execution_count": 32,
      "outputs": [
        {
          "output_type": "stream",
          "name": "stdout",
          "text": [
            "                    Actual Positive  Actual Negative\n",
            "Predicted Positive                4                4\n",
            "Predicted Negative               82              198\n",
            "\n",
            "Recall : 0.046511627906976744\n",
            "Precision : 0.5\n"
          ]
        }
      ]
    },
    {
      "cell_type": "markdown",
      "source": [
        "### SVC Evaluation"
      ],
      "metadata": {
        "id": "dRLNf9rgHV1o"
      }
    },
    {
      "cell_type": "code",
      "source": [
        "# With the X-split (80/20)\n",
        "\n",
        "# Get confusion matrix\n",
        "CM_svc_X = ConfusionMatrix(X_test, prediction_svc_X)\n",
        "\n",
        "# Add information to a container (We will use this for visualization later)\n",
        "recall_precision.loc['SVC_X']['Recall'] = recall(CM_svc_X)\n",
        "recall_precision.loc['SVC_X']['Precision'] = precision(CM_svc_X)\n",
        "\n",
        "# Print information\n",
        "print(CM_svc_X)\n",
        "print()\n",
        "print(f\"Recall : {recall(CM_svc_X)}\")\n",
        "print(f\"Precision : {precision(CM_svc_X)}\")"
      ],
      "metadata": {
        "colab": {
          "base_uri": "https://localhost:8080/"
        },
        "id": "1tk8BV-oHYBw",
        "outputId": "9da9d171-8a11-4115-f44b-92512c6dd78f"
      },
      "execution_count": 33,
      "outputs": [
        {
          "output_type": "stream",
          "name": "stdout",
          "text": [
            "                    Actual Positive  Actual Negative\n",
            "Predicted Positive               15                9\n",
            "Predicted Negative               26               94\n",
            "\n",
            "Recall : 0.36585365853658536\n",
            "Precision : 0.625\n"
          ]
        }
      ]
    },
    {
      "cell_type": "code",
      "source": [
        "# With the Y-split (60/40)\n",
        "\n",
        "clf_svc_Y = make_pipeline(StandardScaler(), SVC(kernel ='sigmoid'))\n",
        "clf_svc_Y.fit(attributes_Y, target_Y)\n",
        "\n",
        "# Prediction\n",
        "prediction_svc_Y = clf_svc_Y.predict(test_Y)\n",
        "\n",
        "# Get confusion matrix\n",
        "CM_svc_Y = ConfusionMatrix(Y_test, prediction_svc_Y)\n",
        "\n",
        "# Add information to a container (We will use this for visualization later)\n",
        "recall_precision.loc['SVC_Y']['Recall'] = recall(CM_svc_Y)\n",
        "recall_precision.loc['SVC_Y']['Precision'] = precision(CM_svc_Y)\n",
        "\n",
        "\n",
        "print(CM_svc_Y)\n",
        "print()\n",
        "print(f\"Recall : {recall(CM_svc_Y)}\")\n",
        "print(f\"Precision : {precision(CM_svc_Y)}\")"
      ],
      "metadata": {
        "colab": {
          "base_uri": "https://localhost:8080/"
        },
        "id": "30o02XU0HYgN",
        "outputId": "845a45f6-240c-453f-ce2f-952b4fd7065f"
      },
      "execution_count": 34,
      "outputs": [
        {
          "output_type": "stream",
          "name": "stdout",
          "text": [
            "                    Actual Positive  Actual Negative\n",
            "Predicted Positive               16               24\n",
            "Predicted Negative               70              178\n",
            "\n",
            "Recall : 0.18604651162790697\n",
            "Precision : 0.4\n"
          ]
        }
      ]
    },
    {
      "cell_type": "markdown",
      "source": [
        "### MLP Evaluation"
      ],
      "metadata": {
        "id": "J9MbB-0JIODi"
      }
    },
    {
      "cell_type": "code",
      "source": [
        "# With the X-split (80/20)\n",
        "\n",
        "# Get confusion matrix\n",
        "CM_mlp_X = ConfusionMatrix(X_test, prediction_mlp_X)\n",
        "\n",
        "# Add information to a container (We will use this for visualization later)\n",
        "recall_precision.loc['MLP_X']['Recall'] = recall(CM_mlp_X)\n",
        "recall_precision.loc['MLP_X']['Precision'] = precision(CM_mlp_X)\n",
        "\n",
        "print(CM_mlp_X)\n",
        "print()\n",
        "print(f\"Recall : {recall(CM_mlp_X)}\")\n",
        "print(f\"Precision : {precision(CM_mlp_X)}\")"
      ],
      "metadata": {
        "colab": {
          "base_uri": "https://localhost:8080/"
        },
        "id": "C5Hf8zU6IQN2",
        "outputId": "ee65398f-a287-4007-c4ec-383715650850"
      },
      "execution_count": 35,
      "outputs": [
        {
          "output_type": "stream",
          "name": "stdout",
          "text": [
            "                    Actual Positive  Actual Negative\n",
            "Predicted Positive                3                1\n",
            "Predicted Negative               38              102\n",
            "\n",
            "Recall : 0.07317073170731707\n",
            "Precision : 0.75\n"
          ]
        }
      ]
    },
    {
      "cell_type": "code",
      "source": [
        "# With the Y-split (60/40)\n",
        "\n",
        "clf_mlp_Y = MLPClassifier(random_state=42, max_iter=300)\n",
        "clf_mlp_Y.fit(attributes_Y, target_Y)\n",
        "\n",
        "# Prediction\n",
        "prediction_mlp_Y = clf_mlp_Y.predict(test_Y)\n",
        "\n",
        "# Get confusion matrix\n",
        "CM_mlp_Y = ConfusionMatrix(Y_test, prediction_mlp_Y)\n",
        "\n",
        "# Add information to a container (We will use this for visualization later)\n",
        "recall_precision.loc['MLP_Y']['Recall'] = recall(CM_mlp_Y)\n",
        "recall_precision.loc['MLP_Y']['Precision'] = precision(CM_mlp_Y)\n",
        "\n",
        "print(CM_mlp_Y)\n",
        "print()\n",
        "print(f\"Recall : {recall(CM_mlp_Y)}\")\n",
        "print(f\"Precision : {precision(CM_mlp_Y)}\")"
      ],
      "metadata": {
        "id": "jJgkcL2IIeRz",
        "outputId": "3565b023-2af4-4275-da61-5bfd18ef2e10",
        "colab": {
          "base_uri": "https://localhost:8080/"
        }
      },
      "execution_count": 36,
      "outputs": [
        {
          "output_type": "stream",
          "name": "stdout",
          "text": [
            "                    Actual Positive  Actual Negative\n",
            "Predicted Positive                2                1\n",
            "Predicted Negative               84              201\n",
            "\n",
            "Recall : 0.023255813953488372\n",
            "Precision : 0.6666666666666666\n"
          ]
        }
      ]
    },
    {
      "cell_type": "markdown",
      "source": [
        "We generally observe that our models tend to be overly inclined to classify points with label “0”. This pattern is consistent across all model types.\n",
        "\n",
        "Furthermore, the X-split performs better in terms of both precision and recall for all models except the KNN classifier. This supports our hypothesis that it is generally advantageous to prioritize a larger training set.\n",
        "\n",
        "The KNN classifier performs better on the Y-split 60/40 than on the X-split 80/20, possibly because the higher density of points in the X-split training data does not align well with our chosen K-value. In contrast, the lower density of training points in the Y-split may cause artificially homogeneous clusters to form, which could improve KNNs local classification performance under certain conditions."
      ],
      "metadata": {
        "id": "_UybFqmD9ir9"
      }
    },
    {
      "cell_type": "markdown",
      "source": [
        "#### Overview of Results"
      ],
      "metadata": {
        "id": "g5EQhAsFm_tB"
      }
    },
    {
      "cell_type": "code",
      "source": [
        "overview = px.scatter(\n",
        "    data_frame = recall_precision,\n",
        "    x = recall_precision['Recall'],\n",
        "    y = recall_precision['Precision'],\n",
        "    color = recall_precision.index\n",
        "    )\n",
        "\n",
        "overview.update_layout(yaxis_range=[0,1])\n",
        "overview.update_layout(xaxis_range=[0,1])"
      ],
      "metadata": {
        "id": "Fek5lyO5m_Yw",
        "outputId": "1093e304-46a6-4788-8df5-e1ac2840aedc",
        "colab": {
          "base_uri": "https://localhost:8080/",
          "height": 542
        }
      },
      "execution_count": 37,
      "outputs": [
        {
          "output_type": "display_data",
          "data": {
            "text/html": [
              "<html>\n",
              "<head><meta charset=\"utf-8\" /></head>\n",
              "<body>\n",
              "    <div>            <script src=\"https://cdnjs.cloudflare.com/ajax/libs/mathjax/2.7.5/MathJax.js?config=TeX-AMS-MML_SVG\"></script><script type=\"text/javascript\">if (window.MathJax && window.MathJax.Hub && window.MathJax.Hub.Config) {window.MathJax.Hub.Config({SVG: {font: \"STIX-Web\"}});}</script>                <script type=\"text/javascript\">window.PlotlyConfig = {MathJaxConfig: 'local'};</script>\n",
              "        <script charset=\"utf-8\" src=\"https://cdn.plot.ly/plotly-2.35.2.min.js\"></script>                <div id=\"bc4d9adf-60fc-4ddf-8172-e4011fe64f2e\" class=\"plotly-graph-div\" style=\"height:525px; width:100%;\"></div>            <script type=\"text/javascript\">                                    window.PLOTLYENV=window.PLOTLYENV || {};                                    if (document.getElementById(\"bc4d9adf-60fc-4ddf-8172-e4011fe64f2e\")) {                    Plotly.newPlot(                        \"bc4d9adf-60fc-4ddf-8172-e4011fe64f2e\",                        [{\"hovertemplate\":\"index=KNN_X\\u003cbr\\u003eRecall=%{x}\\u003cbr\\u003ePrecision=%{y}\\u003cextra\\u003e\\u003c\\u002fextra\\u003e\",\"legendgroup\":\"KNN_X\",\"marker\":{\"color\":\"#636efa\",\"symbol\":\"circle\"},\"mode\":\"markers\",\"name\":\"KNN_X\",\"orientation\":\"v\",\"showlegend\":true,\"x\":[0.1951219512195122],\"xaxis\":\"x\",\"y\":[0.3333333333333333],\"yaxis\":\"y\",\"type\":\"scatter\"},{\"hovertemplate\":\"index=KNN_Y\\u003cbr\\u003eRecall=%{x}\\u003cbr\\u003ePrecision=%{y}\\u003cextra\\u003e\\u003c\\u002fextra\\u003e\",\"legendgroup\":\"KNN_Y\",\"marker\":{\"color\":\"#EF553B\",\"symbol\":\"circle\"},\"mode\":\"markers\",\"name\":\"KNN_Y\",\"orientation\":\"v\",\"showlegend\":true,\"x\":[0.11627906976744186],\"xaxis\":\"x\",\"y\":[0.5555555555555556],\"yaxis\":\"y\",\"type\":\"scatter\"},{\"hovertemplate\":\"index=Naive_Bayes_X\\u003cbr\\u003eRecall=%{x}\\u003cbr\\u003ePrecision=%{y}\\u003cextra\\u003e\\u003c\\u002fextra\\u003e\",\"legendgroup\":\"Naive_Bayes_X\",\"marker\":{\"color\":\"#00cc96\",\"symbol\":\"circle\"},\"mode\":\"markers\",\"name\":\"Naive_Bayes_X\",\"orientation\":\"v\",\"showlegend\":true,\"x\":[0.0975609756097561],\"xaxis\":\"x\",\"y\":[0.5714285714285714],\"yaxis\":\"y\",\"type\":\"scatter\"},{\"hovertemplate\":\"index=Naive_Bayes_Y\\u003cbr\\u003eRecall=%{x}\\u003cbr\\u003ePrecision=%{y}\\u003cextra\\u003e\\u003c\\u002fextra\\u003e\",\"legendgroup\":\"Naive_Bayes_Y\",\"marker\":{\"color\":\"#ab63fa\",\"symbol\":\"circle\"},\"mode\":\"markers\",\"name\":\"Naive_Bayes_Y\",\"orientation\":\"v\",\"showlegend\":true,\"x\":[0.046511627906976744],\"xaxis\":\"x\",\"y\":[0.5],\"yaxis\":\"y\",\"type\":\"scatter\"},{\"hovertemplate\":\"index=SVC_X\\u003cbr\\u003eRecall=%{x}\\u003cbr\\u003ePrecision=%{y}\\u003cextra\\u003e\\u003c\\u002fextra\\u003e\",\"legendgroup\":\"SVC_X\",\"marker\":{\"color\":\"#FFA15A\",\"symbol\":\"circle\"},\"mode\":\"markers\",\"name\":\"SVC_X\",\"orientation\":\"v\",\"showlegend\":true,\"x\":[0.36585365853658536],\"xaxis\":\"x\",\"y\":[0.625],\"yaxis\":\"y\",\"type\":\"scatter\"},{\"hovertemplate\":\"index=SVC_Y\\u003cbr\\u003eRecall=%{x}\\u003cbr\\u003ePrecision=%{y}\\u003cextra\\u003e\\u003c\\u002fextra\\u003e\",\"legendgroup\":\"SVC_Y\",\"marker\":{\"color\":\"#19d3f3\",\"symbol\":\"circle\"},\"mode\":\"markers\",\"name\":\"SVC_Y\",\"orientation\":\"v\",\"showlegend\":true,\"x\":[0.18604651162790697],\"xaxis\":\"x\",\"y\":[0.4],\"yaxis\":\"y\",\"type\":\"scatter\"},{\"hovertemplate\":\"index=MLP_X\\u003cbr\\u003eRecall=%{x}\\u003cbr\\u003ePrecision=%{y}\\u003cextra\\u003e\\u003c\\u002fextra\\u003e\",\"legendgroup\":\"MLP_X\",\"marker\":{\"color\":\"#FF6692\",\"symbol\":\"circle\"},\"mode\":\"markers\",\"name\":\"MLP_X\",\"orientation\":\"v\",\"showlegend\":true,\"x\":[0.07317073170731707],\"xaxis\":\"x\",\"y\":[0.75],\"yaxis\":\"y\",\"type\":\"scatter\"},{\"hovertemplate\":\"index=MLP_Y\\u003cbr\\u003eRecall=%{x}\\u003cbr\\u003ePrecision=%{y}\\u003cextra\\u003e\\u003c\\u002fextra\\u003e\",\"legendgroup\":\"MLP_Y\",\"marker\":{\"color\":\"#B6E880\",\"symbol\":\"circle\"},\"mode\":\"markers\",\"name\":\"MLP_Y\",\"orientation\":\"v\",\"showlegend\":true,\"x\":[0.023255813953488372],\"xaxis\":\"x\",\"y\":[0.6666666666666666],\"yaxis\":\"y\",\"type\":\"scatter\"}],                        {\"template\":{\"data\":{\"histogram2dcontour\":[{\"type\":\"histogram2dcontour\",\"colorbar\":{\"outlinewidth\":0,\"ticks\":\"\"},\"colorscale\":[[0.0,\"#0d0887\"],[0.1111111111111111,\"#46039f\"],[0.2222222222222222,\"#7201a8\"],[0.3333333333333333,\"#9c179e\"],[0.4444444444444444,\"#bd3786\"],[0.5555555555555556,\"#d8576b\"],[0.6666666666666666,\"#ed7953\"],[0.7777777777777778,\"#fb9f3a\"],[0.8888888888888888,\"#fdca26\"],[1.0,\"#f0f921\"]]}],\"choropleth\":[{\"type\":\"choropleth\",\"colorbar\":{\"outlinewidth\":0,\"ticks\":\"\"}}],\"histogram2d\":[{\"type\":\"histogram2d\",\"colorbar\":{\"outlinewidth\":0,\"ticks\":\"\"},\"colorscale\":[[0.0,\"#0d0887\"],[0.1111111111111111,\"#46039f\"],[0.2222222222222222,\"#7201a8\"],[0.3333333333333333,\"#9c179e\"],[0.4444444444444444,\"#bd3786\"],[0.5555555555555556,\"#d8576b\"],[0.6666666666666666,\"#ed7953\"],[0.7777777777777778,\"#fb9f3a\"],[0.8888888888888888,\"#fdca26\"],[1.0,\"#f0f921\"]]}],\"heatmap\":[{\"type\":\"heatmap\",\"colorbar\":{\"outlinewidth\":0,\"ticks\":\"\"},\"colorscale\":[[0.0,\"#0d0887\"],[0.1111111111111111,\"#46039f\"],[0.2222222222222222,\"#7201a8\"],[0.3333333333333333,\"#9c179e\"],[0.4444444444444444,\"#bd3786\"],[0.5555555555555556,\"#d8576b\"],[0.6666666666666666,\"#ed7953\"],[0.7777777777777778,\"#fb9f3a\"],[0.8888888888888888,\"#fdca26\"],[1.0,\"#f0f921\"]]}],\"heatmapgl\":[{\"type\":\"heatmapgl\",\"colorbar\":{\"outlinewidth\":0,\"ticks\":\"\"},\"colorscale\":[[0.0,\"#0d0887\"],[0.1111111111111111,\"#46039f\"],[0.2222222222222222,\"#7201a8\"],[0.3333333333333333,\"#9c179e\"],[0.4444444444444444,\"#bd3786\"],[0.5555555555555556,\"#d8576b\"],[0.6666666666666666,\"#ed7953\"],[0.7777777777777778,\"#fb9f3a\"],[0.8888888888888888,\"#fdca26\"],[1.0,\"#f0f921\"]]}],\"contourcarpet\":[{\"type\":\"contourcarpet\",\"colorbar\":{\"outlinewidth\":0,\"ticks\":\"\"}}],\"contour\":[{\"type\":\"contour\",\"colorbar\":{\"outlinewidth\":0,\"ticks\":\"\"},\"colorscale\":[[0.0,\"#0d0887\"],[0.1111111111111111,\"#46039f\"],[0.2222222222222222,\"#7201a8\"],[0.3333333333333333,\"#9c179e\"],[0.4444444444444444,\"#bd3786\"],[0.5555555555555556,\"#d8576b\"],[0.6666666666666666,\"#ed7953\"],[0.7777777777777778,\"#fb9f3a\"],[0.8888888888888888,\"#fdca26\"],[1.0,\"#f0f921\"]]}],\"surface\":[{\"type\":\"surface\",\"colorbar\":{\"outlinewidth\":0,\"ticks\":\"\"},\"colorscale\":[[0.0,\"#0d0887\"],[0.1111111111111111,\"#46039f\"],[0.2222222222222222,\"#7201a8\"],[0.3333333333333333,\"#9c179e\"],[0.4444444444444444,\"#bd3786\"],[0.5555555555555556,\"#d8576b\"],[0.6666666666666666,\"#ed7953\"],[0.7777777777777778,\"#fb9f3a\"],[0.8888888888888888,\"#fdca26\"],[1.0,\"#f0f921\"]]}],\"mesh3d\":[{\"type\":\"mesh3d\",\"colorbar\":{\"outlinewidth\":0,\"ticks\":\"\"}}],\"scatter\":[{\"fillpattern\":{\"fillmode\":\"overlay\",\"size\":10,\"solidity\":0.2},\"type\":\"scatter\"}],\"parcoords\":[{\"type\":\"parcoords\",\"line\":{\"colorbar\":{\"outlinewidth\":0,\"ticks\":\"\"}}}],\"scatterpolargl\":[{\"type\":\"scatterpolargl\",\"marker\":{\"colorbar\":{\"outlinewidth\":0,\"ticks\":\"\"}}}],\"bar\":[{\"error_x\":{\"color\":\"#2a3f5f\"},\"error_y\":{\"color\":\"#2a3f5f\"},\"marker\":{\"line\":{\"color\":\"#E5ECF6\",\"width\":0.5},\"pattern\":{\"fillmode\":\"overlay\",\"size\":10,\"solidity\":0.2}},\"type\":\"bar\"}],\"scattergeo\":[{\"type\":\"scattergeo\",\"marker\":{\"colorbar\":{\"outlinewidth\":0,\"ticks\":\"\"}}}],\"scatterpolar\":[{\"type\":\"scatterpolar\",\"marker\":{\"colorbar\":{\"outlinewidth\":0,\"ticks\":\"\"}}}],\"histogram\":[{\"marker\":{\"pattern\":{\"fillmode\":\"overlay\",\"size\":10,\"solidity\":0.2}},\"type\":\"histogram\"}],\"scattergl\":[{\"type\":\"scattergl\",\"marker\":{\"colorbar\":{\"outlinewidth\":0,\"ticks\":\"\"}}}],\"scatter3d\":[{\"type\":\"scatter3d\",\"line\":{\"colorbar\":{\"outlinewidth\":0,\"ticks\":\"\"}},\"marker\":{\"colorbar\":{\"outlinewidth\":0,\"ticks\":\"\"}}}],\"scattermapbox\":[{\"type\":\"scattermapbox\",\"marker\":{\"colorbar\":{\"outlinewidth\":0,\"ticks\":\"\"}}}],\"scatterternary\":[{\"type\":\"scatterternary\",\"marker\":{\"colorbar\":{\"outlinewidth\":0,\"ticks\":\"\"}}}],\"scattercarpet\":[{\"type\":\"scattercarpet\",\"marker\":{\"colorbar\":{\"outlinewidth\":0,\"ticks\":\"\"}}}],\"carpet\":[{\"aaxis\":{\"endlinecolor\":\"#2a3f5f\",\"gridcolor\":\"white\",\"linecolor\":\"white\",\"minorgridcolor\":\"white\",\"startlinecolor\":\"#2a3f5f\"},\"baxis\":{\"endlinecolor\":\"#2a3f5f\",\"gridcolor\":\"white\",\"linecolor\":\"white\",\"minorgridcolor\":\"white\",\"startlinecolor\":\"#2a3f5f\"},\"type\":\"carpet\"}],\"table\":[{\"cells\":{\"fill\":{\"color\":\"#EBF0F8\"},\"line\":{\"color\":\"white\"}},\"header\":{\"fill\":{\"color\":\"#C8D4E3\"},\"line\":{\"color\":\"white\"}},\"type\":\"table\"}],\"barpolar\":[{\"marker\":{\"line\":{\"color\":\"#E5ECF6\",\"width\":0.5},\"pattern\":{\"fillmode\":\"overlay\",\"size\":10,\"solidity\":0.2}},\"type\":\"barpolar\"}],\"pie\":[{\"automargin\":true,\"type\":\"pie\"}]},\"layout\":{\"autotypenumbers\":\"strict\",\"colorway\":[\"#636efa\",\"#EF553B\",\"#00cc96\",\"#ab63fa\",\"#FFA15A\",\"#19d3f3\",\"#FF6692\",\"#B6E880\",\"#FF97FF\",\"#FECB52\"],\"font\":{\"color\":\"#2a3f5f\"},\"hovermode\":\"closest\",\"hoverlabel\":{\"align\":\"left\"},\"paper_bgcolor\":\"white\",\"plot_bgcolor\":\"#E5ECF6\",\"polar\":{\"bgcolor\":\"#E5ECF6\",\"angularaxis\":{\"gridcolor\":\"white\",\"linecolor\":\"white\",\"ticks\":\"\"},\"radialaxis\":{\"gridcolor\":\"white\",\"linecolor\":\"white\",\"ticks\":\"\"}},\"ternary\":{\"bgcolor\":\"#E5ECF6\",\"aaxis\":{\"gridcolor\":\"white\",\"linecolor\":\"white\",\"ticks\":\"\"},\"baxis\":{\"gridcolor\":\"white\",\"linecolor\":\"white\",\"ticks\":\"\"},\"caxis\":{\"gridcolor\":\"white\",\"linecolor\":\"white\",\"ticks\":\"\"}},\"coloraxis\":{\"colorbar\":{\"outlinewidth\":0,\"ticks\":\"\"}},\"colorscale\":{\"sequential\":[[0.0,\"#0d0887\"],[0.1111111111111111,\"#46039f\"],[0.2222222222222222,\"#7201a8\"],[0.3333333333333333,\"#9c179e\"],[0.4444444444444444,\"#bd3786\"],[0.5555555555555556,\"#d8576b\"],[0.6666666666666666,\"#ed7953\"],[0.7777777777777778,\"#fb9f3a\"],[0.8888888888888888,\"#fdca26\"],[1.0,\"#f0f921\"]],\"sequentialminus\":[[0.0,\"#0d0887\"],[0.1111111111111111,\"#46039f\"],[0.2222222222222222,\"#7201a8\"],[0.3333333333333333,\"#9c179e\"],[0.4444444444444444,\"#bd3786\"],[0.5555555555555556,\"#d8576b\"],[0.6666666666666666,\"#ed7953\"],[0.7777777777777778,\"#fb9f3a\"],[0.8888888888888888,\"#fdca26\"],[1.0,\"#f0f921\"]],\"diverging\":[[0,\"#8e0152\"],[0.1,\"#c51b7d\"],[0.2,\"#de77ae\"],[0.3,\"#f1b6da\"],[0.4,\"#fde0ef\"],[0.5,\"#f7f7f7\"],[0.6,\"#e6f5d0\"],[0.7,\"#b8e186\"],[0.8,\"#7fbc41\"],[0.9,\"#4d9221\"],[1,\"#276419\"]]},\"xaxis\":{\"gridcolor\":\"white\",\"linecolor\":\"white\",\"ticks\":\"\",\"title\":{\"standoff\":15},\"zerolinecolor\":\"white\",\"automargin\":true,\"zerolinewidth\":2},\"yaxis\":{\"gridcolor\":\"white\",\"linecolor\":\"white\",\"ticks\":\"\",\"title\":{\"standoff\":15},\"zerolinecolor\":\"white\",\"automargin\":true,\"zerolinewidth\":2},\"scene\":{\"xaxis\":{\"backgroundcolor\":\"#E5ECF6\",\"gridcolor\":\"white\",\"linecolor\":\"white\",\"showbackground\":true,\"ticks\":\"\",\"zerolinecolor\":\"white\",\"gridwidth\":2},\"yaxis\":{\"backgroundcolor\":\"#E5ECF6\",\"gridcolor\":\"white\",\"linecolor\":\"white\",\"showbackground\":true,\"ticks\":\"\",\"zerolinecolor\":\"white\",\"gridwidth\":2},\"zaxis\":{\"backgroundcolor\":\"#E5ECF6\",\"gridcolor\":\"white\",\"linecolor\":\"white\",\"showbackground\":true,\"ticks\":\"\",\"zerolinecolor\":\"white\",\"gridwidth\":2}},\"shapedefaults\":{\"line\":{\"color\":\"#2a3f5f\"}},\"annotationdefaults\":{\"arrowcolor\":\"#2a3f5f\",\"arrowhead\":0,\"arrowwidth\":1},\"geo\":{\"bgcolor\":\"white\",\"landcolor\":\"#E5ECF6\",\"subunitcolor\":\"white\",\"showland\":true,\"showlakes\":true,\"lakecolor\":\"white\"},\"title\":{\"x\":0.05},\"mapbox\":{\"style\":\"light\"}}},\"xaxis\":{\"anchor\":\"y\",\"domain\":[0.0,1.0],\"title\":{\"text\":\"Recall\"},\"range\":[0,1]},\"yaxis\":{\"anchor\":\"x\",\"domain\":[0.0,1.0],\"title\":{\"text\":\"Precision\"},\"range\":[0,1]},\"legend\":{\"title\":{\"text\":\"index\"},\"tracegroupgap\":0},\"margin\":{\"t\":60}},                        {\"responsive\": true}                    ).then(function(){\n",
              "                            \n",
              "var gd = document.getElementById('bc4d9adf-60fc-4ddf-8172-e4011fe64f2e');\n",
              "var x = new MutationObserver(function (mutations, observer) {{\n",
              "        var display = window.getComputedStyle(gd).display;\n",
              "        if (!display || display === 'none') {{\n",
              "            console.log([gd, 'removed!']);\n",
              "            Plotly.purge(gd);\n",
              "            observer.disconnect();\n",
              "        }}\n",
              "}});\n",
              "\n",
              "// Listen for the removal of the full notebook cells\n",
              "var notebookContainer = gd.closest('#notebook-container');\n",
              "if (notebookContainer) {{\n",
              "    x.observe(notebookContainer, {childList: true});\n",
              "}}\n",
              "\n",
              "// Listen for the clearing of the current output cell\n",
              "var outputEl = gd.closest('.output');\n",
              "if (outputEl) {{\n",
              "    x.observe(outputEl, {childList: true});\n",
              "}}\n",
              "\n",
              "                        })                };                            </script>        </div>\n",
              "</body>\n",
              "</html>"
            ]
          },
          "metadata": {}
        }
      ]
    },
    {
      "cell_type": "markdown",
      "source": [
        "## Task 5.2 - Sklearn's classification report"
      ],
      "metadata": {
        "id": "0-ayL20ALKuU"
      }
    },
    {
      "cell_type": "code",
      "source": [
        "class_names = ['class 0', 'class 1']"
      ],
      "metadata": {
        "id": "ZtPJl5lfLCzN"
      },
      "execution_count": 38,
      "outputs": []
    },
    {
      "cell_type": "markdown",
      "source": [
        "### KNN Evaluation"
      ],
      "metadata": {
        "id": "gpnx_hLlKkvy"
      }
    },
    {
      "cell_type": "code",
      "source": [
        "# X-Split (80/20)\n",
        "print(classification_report(X_test['class'], test_knn_X['result'],target_names=class_names))"
      ],
      "metadata": {
        "id": "VH45iVCdLLRF",
        "colab": {
          "base_uri": "https://localhost:8080/"
        },
        "outputId": "a667cff6-e583-4cde-da1c-11d415476a99"
      },
      "execution_count": 39,
      "outputs": [
        {
          "output_type": "stream",
          "name": "stdout",
          "text": [
            "              precision    recall  f1-score   support\n",
            "\n",
            "     class 0       0.72      0.84      0.78       103\n",
            "     class 1       0.33      0.20      0.25        41\n",
            "\n",
            "    accuracy                           0.66       144\n",
            "   macro avg       0.53      0.52      0.51       144\n",
            "weighted avg       0.61      0.66      0.63       144\n",
            "\n"
          ]
        }
      ]
    },
    {
      "cell_type": "code",
      "source": [
        "# Y-Split (60/40)\n",
        "print(classification_report(Y_test['class'], test_knn_Y['result'],target_names=class_names))"
      ],
      "metadata": {
        "id": "Eluvn-3KLOnk",
        "outputId": "20ed761b-6030-4892-d85c-e9ba02c581b5",
        "colab": {
          "base_uri": "https://localhost:8080/"
        }
      },
      "execution_count": 40,
      "outputs": [
        {
          "output_type": "stream",
          "name": "stdout",
          "text": [
            "              precision    recall  f1-score   support\n",
            "\n",
            "     class 0       0.72      0.96      0.82       202\n",
            "     class 1       0.56      0.12      0.19        86\n",
            "\n",
            "    accuracy                           0.71       288\n",
            "   macro avg       0.64      0.54      0.51       288\n",
            "weighted avg       0.67      0.71      0.63       288\n",
            "\n"
          ]
        }
      ]
    },
    {
      "cell_type": "markdown",
      "source": [
        "### Naive Bayes Evaluation"
      ],
      "metadata": {
        "id": "NLPa5zUeLXtm"
      }
    },
    {
      "cell_type": "code",
      "source": [
        "# X-Split (80/20)\n",
        "print(classification_report(X_test['class'], prediction_naive_bayes_X,target_names=class_names))"
      ],
      "metadata": {
        "id": "X9-v1VqLLard",
        "outputId": "8b6d3644-0bd0-48c1-d5a0-c15cf85abe62",
        "colab": {
          "base_uri": "https://localhost:8080/"
        }
      },
      "execution_count": 41,
      "outputs": [
        {
          "output_type": "stream",
          "name": "stdout",
          "text": [
            "              precision    recall  f1-score   support\n",
            "\n",
            "     class 0       0.73      0.97      0.83       103\n",
            "     class 1       0.57      0.10      0.17        41\n",
            "\n",
            "    accuracy                           0.72       144\n",
            "   macro avg       0.65      0.53      0.50       144\n",
            "weighted avg       0.68      0.72      0.64       144\n",
            "\n"
          ]
        }
      ]
    },
    {
      "cell_type": "code",
      "source": [
        "# Y-Split (60/40)\n",
        "print(classification_report(Y_test['class'], prediction_naive_bayes_Y,target_names=class_names))"
      ],
      "metadata": {
        "id": "KDYqXy2_Lp0e",
        "outputId": "58af635b-b16f-4ffe-eea1-2f0b6ee6e442",
        "colab": {
          "base_uri": "https://localhost:8080/"
        }
      },
      "execution_count": 42,
      "outputs": [
        {
          "output_type": "stream",
          "name": "stdout",
          "text": [
            "              precision    recall  f1-score   support\n",
            "\n",
            "     class 0       0.71      0.98      0.82       202\n",
            "     class 1       0.50      0.05      0.09        86\n",
            "\n",
            "    accuracy                           0.70       288\n",
            "   macro avg       0.60      0.51      0.45       288\n",
            "weighted avg       0.65      0.70      0.60       288\n",
            "\n"
          ]
        }
      ]
    },
    {
      "cell_type": "markdown",
      "source": [
        "### SVC Evaluation"
      ],
      "metadata": {
        "id": "pEHyINU8LykY"
      }
    },
    {
      "cell_type": "code",
      "source": [
        "# X-Split (80/20)\n",
        "print(classification_report(X_test['class'], prediction_svc_X,target_names=class_names))"
      ],
      "metadata": {
        "id": "Qy8AEPpVL2x6",
        "outputId": "8ba9bfa1-19ab-4a39-dc1d-ce4f05ab7c04",
        "colab": {
          "base_uri": "https://localhost:8080/"
        }
      },
      "execution_count": 43,
      "outputs": [
        {
          "output_type": "stream",
          "name": "stdout",
          "text": [
            "              precision    recall  f1-score   support\n",
            "\n",
            "     class 0       0.78      0.91      0.84       103\n",
            "     class 1       0.62      0.37      0.46        41\n",
            "\n",
            "    accuracy                           0.76       144\n",
            "   macro avg       0.70      0.64      0.65       144\n",
            "weighted avg       0.74      0.76      0.73       144\n",
            "\n"
          ]
        }
      ]
    },
    {
      "cell_type": "code",
      "source": [
        "# Y-Split (60/40)\n",
        "print(classification_report(Y_test['class'], prediction_svc_Y,target_names=class_names))"
      ],
      "metadata": {
        "id": "TF0cydBaL4sB",
        "outputId": "35e68bf9-5ba4-498e-9281-ba428bd820f0",
        "colab": {
          "base_uri": "https://localhost:8080/"
        }
      },
      "execution_count": 44,
      "outputs": [
        {
          "output_type": "stream",
          "name": "stdout",
          "text": [
            "              precision    recall  f1-score   support\n",
            "\n",
            "     class 0       0.72      0.88      0.79       202\n",
            "     class 1       0.40      0.19      0.25        86\n",
            "\n",
            "    accuracy                           0.67       288\n",
            "   macro avg       0.56      0.53      0.52       288\n",
            "weighted avg       0.62      0.67      0.63       288\n",
            "\n"
          ]
        }
      ]
    },
    {
      "cell_type": "markdown",
      "source": [
        "### MLP Evaluation"
      ],
      "metadata": {
        "id": "U8DGRfjMMDq6"
      }
    },
    {
      "cell_type": "code",
      "source": [
        "# X-Split (80/20)\n",
        "print(classification_report(X_test['class'], prediction_mlp_X,target_names=class_names))"
      ],
      "metadata": {
        "id": "UF7A9YH0MFm5",
        "outputId": "8c6810be-e772-4b51-82c3-440bdded94db",
        "colab": {
          "base_uri": "https://localhost:8080/"
        }
      },
      "execution_count": 45,
      "outputs": [
        {
          "output_type": "stream",
          "name": "stdout",
          "text": [
            "              precision    recall  f1-score   support\n",
            "\n",
            "     class 0       0.73      0.99      0.84       103\n",
            "     class 1       0.75      0.07      0.13        41\n",
            "\n",
            "    accuracy                           0.73       144\n",
            "   macro avg       0.74      0.53      0.49       144\n",
            "weighted avg       0.73      0.73      0.64       144\n",
            "\n"
          ]
        }
      ]
    },
    {
      "cell_type": "code",
      "source": [
        "# Y-Split (60/40)\n",
        "print(classification_report(Y_test['class'], prediction_mlp_Y,target_names=class_names))"
      ],
      "metadata": {
        "id": "psacgG0YMJP9",
        "outputId": "24e845b6-65ee-4de5-9beb-d22cd2da1a10",
        "colab": {
          "base_uri": "https://localhost:8080/"
        }
      },
      "execution_count": 46,
      "outputs": [
        {
          "output_type": "stream",
          "name": "stdout",
          "text": [
            "              precision    recall  f1-score   support\n",
            "\n",
            "     class 0       0.71      1.00      0.83       202\n",
            "     class 1       0.67      0.02      0.04        86\n",
            "\n",
            "    accuracy                           0.70       288\n",
            "   macro avg       0.69      0.51      0.44       288\n",
            "weighted avg       0.69      0.70      0.59       288\n",
            "\n"
          ]
        }
      ]
    },
    {
      "cell_type": "markdown",
      "source": [
        "The classification repport clearly shows how much better all of the models are at detecting class 0 than class 1."
      ],
      "metadata": {
        "id": "JWOhtjhTATC6"
      }
    },
    {
      "cell_type": "markdown",
      "source": [
        "## Task 5.3 - Sklearn's fbeta score function"
      ],
      "metadata": {
        "id": "dc0Es6ZvLOt0"
      }
    },
    {
      "cell_type": "markdown",
      "source": [
        "Since all our models have had significantly better precision than recall with regards to class 1, we have chosen a low beta score to prioritize the effect of precision."
      ],
      "metadata": {
        "id": "M8JgKi6vAtqz"
      }
    },
    {
      "cell_type": "markdown",
      "source": [
        "### KNN Evaluation\n",
        "\n"
      ],
      "metadata": {
        "id": "fZdssr4HMz5a"
      }
    },
    {
      "cell_type": "code",
      "source": [
        "print(f\"KNN - split X : {fbeta_score(X_test['class'], test_knn_X['result'], average='macro', beta=0.5)}\")\n",
        "print(f\"KNN - split Y : {fbeta_score(Y_test['class'], test_knn_Y['result'], average='macro', beta=0.5)}\")"
      ],
      "metadata": {
        "id": "ezTdtdXZLPJr",
        "colab": {
          "base_uri": "https://localhost:8080/"
        },
        "outputId": "cf91b84a-ff8d-4f24-9544-95ff06eb8f75"
      },
      "execution_count": 52,
      "outputs": [
        {
          "output_type": "stream",
          "name": "stdout",
          "text": [
            "KNN - split X : 0.5190557273603686\n",
            "KNN - split Y : 0.53654298070657\n"
          ]
        }
      ]
    },
    {
      "cell_type": "markdown",
      "source": [
        "### Naive Bayes Evaluation"
      ],
      "metadata": {
        "id": "bu96T6AbNid7"
      }
    },
    {
      "cell_type": "code",
      "source": [
        "print(f\"Naive Bayes - split X : {fbeta_score(X_test['class'], prediction_naive_bayes_X, average='macro', beta=0.5)}\")\n",
        "print(f\"Naive Bayes - split Y : {fbeta_score(Y_test['class'], prediction_naive_bayes_Y, average='macro', beta=0.5)}\")"
      ],
      "metadata": {
        "id": "CJCYXUJANoO6",
        "outputId": "02f5035d-605a-426f-dd8a-d0b2a18c4949",
        "colab": {
          "base_uri": "https://localhost:8080/"
        }
      },
      "execution_count": 53,
      "outputs": [
        {
          "output_type": "stream",
          "name": "stdout",
          "text": [
            "Naive Bayes - split X : 0.5289521138048487\n",
            "Naive Bayes - split Y : 0.4591784404728326\n"
          ]
        }
      ]
    },
    {
      "cell_type": "markdown",
      "source": [
        "### SVC Evaluation"
      ],
      "metadata": {
        "id": "Qjf2UypyNi5x"
      }
    },
    {
      "cell_type": "code",
      "source": [
        "print(f\"SVC - split X : {fbeta_score(X_test['class'], prediction_svc_X, average='macro', beta=0.5)}\")\n",
        "print(f\"SVC - split Y : {fbeta_score(Y_test['class'], prediction_svc_Y, average='macro', beta=0.5)}\")"
      ],
      "metadata": {
        "id": "blS1Kcc0NolB",
        "outputId": "5495d08a-e5b7-40bb-8277-affbf714ee9d",
        "colab": {
          "base_uri": "https://localhost:8080/"
        }
      },
      "execution_count": 54,
      "outputs": [
        {
          "output_type": "stream",
          "name": "stdout",
          "text": [
            "SVC - split X : 0.6768101062964029\n",
            "SVC - split Y : 0.5352984434366956\n"
          ]
        }
      ]
    },
    {
      "cell_type": "markdown",
      "source": [
        "### MLP Evaluation"
      ],
      "metadata": {
        "id": "lDgChpLPNjYO"
      }
    },
    {
      "cell_type": "code",
      "source": [
        "print(f\"MLP - split X : {fbeta_score(X_test['class'], prediction_mlp_X, average='macro', beta=0.5)}\")\n",
        "print(f\"MLP - split Y : {fbeta_score(Y_test['class'], prediction_mlp_Y, average='macro', beta=0.5)}\")"
      ],
      "metadata": {
        "id": "jsXCwMT5NpAo",
        "outputId": "ffdd8b75-2167-49bf-8608-ac393a4e4573",
        "colab": {
          "base_uri": "https://localhost:8080/"
        }
      },
      "execution_count": 55,
      "outputs": [
        {
          "output_type": "stream",
          "name": "stdout",
          "text": [
            "MLP - split X : 0.5161943319838057\n",
            "MLP - split Y : 0.42546154080111925\n"
          ]
        }
      ]
    },
    {
      "cell_type": "markdown",
      "source": [
        "# Task 6 - Cross-validation\n"
      ],
      "metadata": {
        "id": "htOlMMZ2LQjl"
      }
    },
    {
      "cell_type": "markdown",
      "source": [
        "I am not quite sure where 6.1 ends and 6.2 starts\n"
      ],
      "metadata": {
        "id": "mCPkVCbCLTJq"
      }
    },
    {
      "cell_type": "code",
      "source": [],
      "metadata": {
        "id": "Nr7Ypy4HLQ48"
      },
      "execution_count": null,
      "outputs": []
    }
  ]
}