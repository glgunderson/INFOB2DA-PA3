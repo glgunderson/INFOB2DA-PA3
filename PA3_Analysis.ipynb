{
  "nbformat": 4,
  "nbformat_minor": 0,
  "metadata": {
    "colab": {
      "provenance": [],
      "include_colab_link": true
    },
    "kernelspec": {
      "name": "python3",
      "display_name": "Python 3"
    },
    "language_info": {
      "name": "python"
    }
  },
  "cells": [
    {
      "cell_type": "markdown",
      "metadata": {
        "id": "view-in-github",
        "colab_type": "text"
      },
      "source": [
        "<a href=\"https://colab.research.google.com/github/glgunderson/INFOB2DA-PA3/blob/main/PA3_Analysis.ipynb\" target=\"_parent\"><img src=\"https://colab.research.google.com/assets/colab-badge.svg\" alt=\"Open In Colab\"/></a>"
      ]
    },
    {
      "cell_type": "markdown",
      "source": [
        "# Task 0 : Setup Environment\n",
        "\n"
      ],
      "metadata": {
        "id": "L2vstPQiI-f4"
      }
    },
    {
      "cell_type": "code",
      "execution_count": 8,
      "metadata": {
        "colab": {
          "base_uri": "https://localhost:8080/",
          "height": 204
        },
        "id": "9BV1GJ2GCysE",
        "outputId": "023f3ab1-6fd4-4f7a-ad8f-aefae459db56"
      },
      "outputs": [
        {
          "output_type": "execute_result",
          "data": {
            "text/plain": [
              "   months_since_last_donation  total_number_of_donations  total_blood_donated  \\\n",
              "0                         2.0                       50.0              12500.0   \n",
              "1                         0.0                       13.0               3250.0   \n",
              "2                         1.0                       16.0               4000.0   \n",
              "3                         2.0                       20.0               5000.0   \n",
              "4                         1.0                       24.0               6000.0   \n",
              "\n",
              "   months_since_first_donation  class  \n",
              "0                         98.0      1  \n",
              "1                         28.0      1  \n",
              "2                         35.0      1  \n",
              "3                         45.0      1  \n",
              "4                         77.0      0  "
            ],
            "text/html": [
              "\n",
              "  <div id=\"df-210e07dd-3223-4ae5-8bfb-aa8018f8ebf4\" class=\"colab-df-container\">\n",
              "    <div>\n",
              "<style scoped>\n",
              "    .dataframe tbody tr th:only-of-type {\n",
              "        vertical-align: middle;\n",
              "    }\n",
              "\n",
              "    .dataframe tbody tr th {\n",
              "        vertical-align: top;\n",
              "    }\n",
              "\n",
              "    .dataframe thead th {\n",
              "        text-align: right;\n",
              "    }\n",
              "</style>\n",
              "<table border=\"1\" class=\"dataframe\">\n",
              "  <thead>\n",
              "    <tr style=\"text-align: right;\">\n",
              "      <th></th>\n",
              "      <th>months_since_last_donation</th>\n",
              "      <th>total_number_of_donations</th>\n",
              "      <th>total_blood_donated</th>\n",
              "      <th>months_since_first_donation</th>\n",
              "      <th>class</th>\n",
              "    </tr>\n",
              "  </thead>\n",
              "  <tbody>\n",
              "    <tr>\n",
              "      <th>0</th>\n",
              "      <td>2.0</td>\n",
              "      <td>50.0</td>\n",
              "      <td>12500.0</td>\n",
              "      <td>98.0</td>\n",
              "      <td>1</td>\n",
              "    </tr>\n",
              "    <tr>\n",
              "      <th>1</th>\n",
              "      <td>0.0</td>\n",
              "      <td>13.0</td>\n",
              "      <td>3250.0</td>\n",
              "      <td>28.0</td>\n",
              "      <td>1</td>\n",
              "    </tr>\n",
              "    <tr>\n",
              "      <th>2</th>\n",
              "      <td>1.0</td>\n",
              "      <td>16.0</td>\n",
              "      <td>4000.0</td>\n",
              "      <td>35.0</td>\n",
              "      <td>1</td>\n",
              "    </tr>\n",
              "    <tr>\n",
              "      <th>3</th>\n",
              "      <td>2.0</td>\n",
              "      <td>20.0</td>\n",
              "      <td>5000.0</td>\n",
              "      <td>45.0</td>\n",
              "      <td>1</td>\n",
              "    </tr>\n",
              "    <tr>\n",
              "      <th>4</th>\n",
              "      <td>1.0</td>\n",
              "      <td>24.0</td>\n",
              "      <td>6000.0</td>\n",
              "      <td>77.0</td>\n",
              "      <td>0</td>\n",
              "    </tr>\n",
              "  </tbody>\n",
              "</table>\n",
              "</div>\n",
              "    <div class=\"colab-df-buttons\">\n",
              "\n",
              "  <div class=\"colab-df-container\">\n",
              "    <button class=\"colab-df-convert\" onclick=\"convertToInteractive('df-210e07dd-3223-4ae5-8bfb-aa8018f8ebf4')\"\n",
              "            title=\"Convert this dataframe to an interactive table.\"\n",
              "            style=\"display:none;\">\n",
              "\n",
              "  <svg xmlns=\"http://www.w3.org/2000/svg\" height=\"24px\" viewBox=\"0 -960 960 960\">\n",
              "    <path d=\"M120-120v-720h720v720H120Zm60-500h600v-160H180v160Zm220 220h160v-160H400v160Zm0 220h160v-160H400v160ZM180-400h160v-160H180v160Zm440 0h160v-160H620v160ZM180-180h160v-160H180v160Zm440 0h160v-160H620v160Z\"/>\n",
              "  </svg>\n",
              "    </button>\n",
              "\n",
              "  <style>\n",
              "    .colab-df-container {\n",
              "      display:flex;\n",
              "      gap: 12px;\n",
              "    }\n",
              "\n",
              "    .colab-df-convert {\n",
              "      background-color: #E8F0FE;\n",
              "      border: none;\n",
              "      border-radius: 50%;\n",
              "      cursor: pointer;\n",
              "      display: none;\n",
              "      fill: #1967D2;\n",
              "      height: 32px;\n",
              "      padding: 0 0 0 0;\n",
              "      width: 32px;\n",
              "    }\n",
              "\n",
              "    .colab-df-convert:hover {\n",
              "      background-color: #E2EBFA;\n",
              "      box-shadow: 0px 1px 2px rgba(60, 64, 67, 0.3), 0px 1px 3px 1px rgba(60, 64, 67, 0.15);\n",
              "      fill: #174EA6;\n",
              "    }\n",
              "\n",
              "    .colab-df-buttons div {\n",
              "      margin-bottom: 4px;\n",
              "    }\n",
              "\n",
              "    [theme=dark] .colab-df-convert {\n",
              "      background-color: #3B4455;\n",
              "      fill: #D2E3FC;\n",
              "    }\n",
              "\n",
              "    [theme=dark] .colab-df-convert:hover {\n",
              "      background-color: #434B5C;\n",
              "      box-shadow: 0px 1px 3px 1px rgba(0, 0, 0, 0.15);\n",
              "      filter: drop-shadow(0px 1px 2px rgba(0, 0, 0, 0.3));\n",
              "      fill: #FFFFFF;\n",
              "    }\n",
              "  </style>\n",
              "\n",
              "    <script>\n",
              "      const buttonEl =\n",
              "        document.querySelector('#df-210e07dd-3223-4ae5-8bfb-aa8018f8ebf4 button.colab-df-convert');\n",
              "      buttonEl.style.display =\n",
              "        google.colab.kernel.accessAllowed ? 'block' : 'none';\n",
              "\n",
              "      async function convertToInteractive(key) {\n",
              "        const element = document.querySelector('#df-210e07dd-3223-4ae5-8bfb-aa8018f8ebf4');\n",
              "        const dataTable =\n",
              "          await google.colab.kernel.invokeFunction('convertToInteractive',\n",
              "                                                    [key], {});\n",
              "        if (!dataTable) return;\n",
              "\n",
              "        const docLinkHtml = 'Like what you see? Visit the ' +\n",
              "          '<a target=\"_blank\" href=https://colab.research.google.com/notebooks/data_table.ipynb>data table notebook</a>'\n",
              "          + ' to learn more about interactive tables.';\n",
              "        element.innerHTML = '';\n",
              "        dataTable['output_type'] = 'display_data';\n",
              "        await google.colab.output.renderOutput(dataTable, element);\n",
              "        const docLink = document.createElement('div');\n",
              "        docLink.innerHTML = docLinkHtml;\n",
              "        element.appendChild(docLink);\n",
              "      }\n",
              "    </script>\n",
              "  </div>\n",
              "\n",
              "\n",
              "    <div id=\"df-b3b9d2b6-ef13-4478-8833-ef8b362e7c9e\">\n",
              "      <button class=\"colab-df-quickchart\" onclick=\"quickchart('df-b3b9d2b6-ef13-4478-8833-ef8b362e7c9e')\"\n",
              "                title=\"Suggest charts\"\n",
              "                style=\"display:none;\">\n",
              "\n",
              "<svg xmlns=\"http://www.w3.org/2000/svg\" height=\"24px\"viewBox=\"0 0 24 24\"\n",
              "     width=\"24px\">\n",
              "    <g>\n",
              "        <path d=\"M19 3H5c-1.1 0-2 .9-2 2v14c0 1.1.9 2 2 2h14c1.1 0 2-.9 2-2V5c0-1.1-.9-2-2-2zM9 17H7v-7h2v7zm4 0h-2V7h2v10zm4 0h-2v-4h2v4z\"/>\n",
              "    </g>\n",
              "</svg>\n",
              "      </button>\n",
              "\n",
              "<style>\n",
              "  .colab-df-quickchart {\n",
              "      --bg-color: #E8F0FE;\n",
              "      --fill-color: #1967D2;\n",
              "      --hover-bg-color: #E2EBFA;\n",
              "      --hover-fill-color: #174EA6;\n",
              "      --disabled-fill-color: #AAA;\n",
              "      --disabled-bg-color: #DDD;\n",
              "  }\n",
              "\n",
              "  [theme=dark] .colab-df-quickchart {\n",
              "      --bg-color: #3B4455;\n",
              "      --fill-color: #D2E3FC;\n",
              "      --hover-bg-color: #434B5C;\n",
              "      --hover-fill-color: #FFFFFF;\n",
              "      --disabled-bg-color: #3B4455;\n",
              "      --disabled-fill-color: #666;\n",
              "  }\n",
              "\n",
              "  .colab-df-quickchart {\n",
              "    background-color: var(--bg-color);\n",
              "    border: none;\n",
              "    border-radius: 50%;\n",
              "    cursor: pointer;\n",
              "    display: none;\n",
              "    fill: var(--fill-color);\n",
              "    height: 32px;\n",
              "    padding: 0;\n",
              "    width: 32px;\n",
              "  }\n",
              "\n",
              "  .colab-df-quickchart:hover {\n",
              "    background-color: var(--hover-bg-color);\n",
              "    box-shadow: 0 1px 2px rgba(60, 64, 67, 0.3), 0 1px 3px 1px rgba(60, 64, 67, 0.15);\n",
              "    fill: var(--button-hover-fill-color);\n",
              "  }\n",
              "\n",
              "  .colab-df-quickchart-complete:disabled,\n",
              "  .colab-df-quickchart-complete:disabled:hover {\n",
              "    background-color: var(--disabled-bg-color);\n",
              "    fill: var(--disabled-fill-color);\n",
              "    box-shadow: none;\n",
              "  }\n",
              "\n",
              "  .colab-df-spinner {\n",
              "    border: 2px solid var(--fill-color);\n",
              "    border-color: transparent;\n",
              "    border-bottom-color: var(--fill-color);\n",
              "    animation:\n",
              "      spin 1s steps(1) infinite;\n",
              "  }\n",
              "\n",
              "  @keyframes spin {\n",
              "    0% {\n",
              "      border-color: transparent;\n",
              "      border-bottom-color: var(--fill-color);\n",
              "      border-left-color: var(--fill-color);\n",
              "    }\n",
              "    20% {\n",
              "      border-color: transparent;\n",
              "      border-left-color: var(--fill-color);\n",
              "      border-top-color: var(--fill-color);\n",
              "    }\n",
              "    30% {\n",
              "      border-color: transparent;\n",
              "      border-left-color: var(--fill-color);\n",
              "      border-top-color: var(--fill-color);\n",
              "      border-right-color: var(--fill-color);\n",
              "    }\n",
              "    40% {\n",
              "      border-color: transparent;\n",
              "      border-right-color: var(--fill-color);\n",
              "      border-top-color: var(--fill-color);\n",
              "    }\n",
              "    60% {\n",
              "      border-color: transparent;\n",
              "      border-right-color: var(--fill-color);\n",
              "    }\n",
              "    80% {\n",
              "      border-color: transparent;\n",
              "      border-right-color: var(--fill-color);\n",
              "      border-bottom-color: var(--fill-color);\n",
              "    }\n",
              "    90% {\n",
              "      border-color: transparent;\n",
              "      border-bottom-color: var(--fill-color);\n",
              "    }\n",
              "  }\n",
              "</style>\n",
              "\n",
              "      <script>\n",
              "        async function quickchart(key) {\n",
              "          const quickchartButtonEl =\n",
              "            document.querySelector('#' + key + ' button');\n",
              "          quickchartButtonEl.disabled = true;  // To prevent multiple clicks.\n",
              "          quickchartButtonEl.classList.add('colab-df-spinner');\n",
              "          try {\n",
              "            const charts = await google.colab.kernel.invokeFunction(\n",
              "                'suggestCharts', [key], {});\n",
              "          } catch (error) {\n",
              "            console.error('Error during call to suggestCharts:', error);\n",
              "          }\n",
              "          quickchartButtonEl.classList.remove('colab-df-spinner');\n",
              "          quickchartButtonEl.classList.add('colab-df-quickchart-complete');\n",
              "        }\n",
              "        (() => {\n",
              "          let quickchartButtonEl =\n",
              "            document.querySelector('#df-b3b9d2b6-ef13-4478-8833-ef8b362e7c9e button');\n",
              "          quickchartButtonEl.style.display =\n",
              "            google.colab.kernel.accessAllowed ? 'block' : 'none';\n",
              "        })();\n",
              "      </script>\n",
              "    </div>\n",
              "\n",
              "    </div>\n",
              "  </div>\n"
            ],
            "application/vnd.google.colaboratory.intrinsic+json": {
              "type": "dataframe",
              "variable_name": "df",
              "summary": "{\n  \"name\": \"df\",\n  \"rows\": 748,\n  \"fields\": [\n    {\n      \"column\": \"months_since_last_donation\",\n      \"properties\": {\n        \"dtype\": \"number\",\n        \"std\": 8.095395635299203,\n        \"min\": 0.0,\n        \"max\": 74.0,\n        \"num_unique_values\": 31,\n        \"samples\": [\n          17.0,\n          16.0,\n          38.0\n        ],\n        \"semantic_type\": \"\",\n        \"description\": \"\"\n      }\n    },\n    {\n      \"column\": \"total_number_of_donations\",\n      \"properties\": {\n        \"dtype\": \"number\",\n        \"std\": 5.839307123090031,\n        \"min\": 1.0,\n        \"max\": 50.0,\n        \"num_unique_values\": 33,\n        \"samples\": [\n          21.0,\n          14.0,\n          43.0\n        ],\n        \"semantic_type\": \"\",\n        \"description\": \"\"\n      }\n    },\n    {\n      \"column\": \"total_blood_donated\",\n      \"properties\": {\n        \"dtype\": \"number\",\n        \"std\": 1459.826780772503,\n        \"min\": 250.0,\n        \"max\": 12500.0,\n        \"num_unique_values\": 33,\n        \"samples\": [\n          5250.0,\n          3500.0,\n          10750.0\n        ],\n        \"semantic_type\": \"\",\n        \"description\": \"\"\n      }\n    },\n    {\n      \"column\": \"months_since_first_donation\",\n      \"properties\": {\n        \"dtype\": \"number\",\n        \"std\": 24.376714368614156,\n        \"min\": 2.0,\n        \"max\": 98.0,\n        \"num_unique_values\": 78,\n        \"samples\": [\n          71.0,\n          98.0,\n          23.0\n        ],\n        \"semantic_type\": \"\",\n        \"description\": \"\"\n      }\n    },\n    {\n      \"column\": \"class\",\n      \"properties\": {\n        \"dtype\": \"number\",\n        \"std\": 0,\n        \"min\": 0,\n        \"max\": 1,\n        \"num_unique_values\": 2,\n        \"samples\": [\n          0,\n          1\n        ],\n        \"semantic_type\": \"\",\n        \"description\": \"\"\n      }\n    }\n  ]\n}"
            }
          },
          "metadata": {},
          "execution_count": 8
        }
      ],
      "source": [
        "# Import Relevant Libraries\n",
        "import pandas as pd\n",
        "import plotly.express as px\n",
        "import numpy as np\n",
        "\n",
        "\n",
        "url = \"https://raw.githubusercontent.com/glgunderson/INFOB2DA-PA3/main/blood_transfusion.csv\"\n",
        "df = pd.read_csv(url)\n",
        "\n",
        "# Display dataframe\n",
        "df.head()"
      ]
    },
    {
      "cell_type": "markdown",
      "source": [
        "# Task 1 - Get dataset on screen"
      ],
      "metadata": {
        "id": "nlUek69tJZNf"
      }
    },
    {
      "cell_type": "markdown",
      "source": [
        "### 1.1) Explore dataset"
      ],
      "metadata": {
        "id": "JW_O0rilJiyP"
      }
    },
    {
      "cell_type": "markdown",
      "source": [
        "##### 1.1.a) Basic Statistics\n"
      ],
      "metadata": {
        "id": "4MHoTLaqJsM2"
      }
    },
    {
      "cell_type": "code",
      "source": [
        "# Display Basic Statistics:\n",
        "df.describe()"
      ],
      "metadata": {
        "id": "KlyQ8896Js2j",
        "outputId": "c4c99ee6-0cbe-41d7-92e3-33079be2e8c0",
        "colab": {
          "base_uri": "https://localhost:8080/",
          "height": 297
        }
      },
      "execution_count": 9,
      "outputs": [
        {
          "output_type": "execute_result",
          "data": {
            "text/plain": [
              "       months_since_last_donation  total_number_of_donations  \\\n",
              "count                  748.000000                 748.000000   \n",
              "mean                     9.506684                   5.514706   \n",
              "std                      8.095396                   5.839307   \n",
              "min                      0.000000                   1.000000   \n",
              "25%                      2.750000                   2.000000   \n",
              "50%                      7.000000                   4.000000   \n",
              "75%                     14.000000                   7.000000   \n",
              "max                     74.000000                  50.000000   \n",
              "\n",
              "       total_blood_donated  months_since_first_donation       class  \n",
              "count           748.000000                   748.000000  748.000000  \n",
              "mean           1378.676471                    34.282086    0.237968  \n",
              "std            1459.826781                    24.376714    0.426124  \n",
              "min             250.000000                     2.000000    0.000000  \n",
              "25%             500.000000                    16.000000    0.000000  \n",
              "50%            1000.000000                    28.000000    0.000000  \n",
              "75%            1750.000000                    50.000000    0.000000  \n",
              "max           12500.000000                    98.000000    1.000000  "
            ],
            "text/html": [
              "\n",
              "  <div id=\"df-e2726929-31d3-4602-a6ee-e5a6772eca33\" class=\"colab-df-container\">\n",
              "    <div>\n",
              "<style scoped>\n",
              "    .dataframe tbody tr th:only-of-type {\n",
              "        vertical-align: middle;\n",
              "    }\n",
              "\n",
              "    .dataframe tbody tr th {\n",
              "        vertical-align: top;\n",
              "    }\n",
              "\n",
              "    .dataframe thead th {\n",
              "        text-align: right;\n",
              "    }\n",
              "</style>\n",
              "<table border=\"1\" class=\"dataframe\">\n",
              "  <thead>\n",
              "    <tr style=\"text-align: right;\">\n",
              "      <th></th>\n",
              "      <th>months_since_last_donation</th>\n",
              "      <th>total_number_of_donations</th>\n",
              "      <th>total_blood_donated</th>\n",
              "      <th>months_since_first_donation</th>\n",
              "      <th>class</th>\n",
              "    </tr>\n",
              "  </thead>\n",
              "  <tbody>\n",
              "    <tr>\n",
              "      <th>count</th>\n",
              "      <td>748.000000</td>\n",
              "      <td>748.000000</td>\n",
              "      <td>748.000000</td>\n",
              "      <td>748.000000</td>\n",
              "      <td>748.000000</td>\n",
              "    </tr>\n",
              "    <tr>\n",
              "      <th>mean</th>\n",
              "      <td>9.506684</td>\n",
              "      <td>5.514706</td>\n",
              "      <td>1378.676471</td>\n",
              "      <td>34.282086</td>\n",
              "      <td>0.237968</td>\n",
              "    </tr>\n",
              "    <tr>\n",
              "      <th>std</th>\n",
              "      <td>8.095396</td>\n",
              "      <td>5.839307</td>\n",
              "      <td>1459.826781</td>\n",
              "      <td>24.376714</td>\n",
              "      <td>0.426124</td>\n",
              "    </tr>\n",
              "    <tr>\n",
              "      <th>min</th>\n",
              "      <td>0.000000</td>\n",
              "      <td>1.000000</td>\n",
              "      <td>250.000000</td>\n",
              "      <td>2.000000</td>\n",
              "      <td>0.000000</td>\n",
              "    </tr>\n",
              "    <tr>\n",
              "      <th>25%</th>\n",
              "      <td>2.750000</td>\n",
              "      <td>2.000000</td>\n",
              "      <td>500.000000</td>\n",
              "      <td>16.000000</td>\n",
              "      <td>0.000000</td>\n",
              "    </tr>\n",
              "    <tr>\n",
              "      <th>50%</th>\n",
              "      <td>7.000000</td>\n",
              "      <td>4.000000</td>\n",
              "      <td>1000.000000</td>\n",
              "      <td>28.000000</td>\n",
              "      <td>0.000000</td>\n",
              "    </tr>\n",
              "    <tr>\n",
              "      <th>75%</th>\n",
              "      <td>14.000000</td>\n",
              "      <td>7.000000</td>\n",
              "      <td>1750.000000</td>\n",
              "      <td>50.000000</td>\n",
              "      <td>0.000000</td>\n",
              "    </tr>\n",
              "    <tr>\n",
              "      <th>max</th>\n",
              "      <td>74.000000</td>\n",
              "      <td>50.000000</td>\n",
              "      <td>12500.000000</td>\n",
              "      <td>98.000000</td>\n",
              "      <td>1.000000</td>\n",
              "    </tr>\n",
              "  </tbody>\n",
              "</table>\n",
              "</div>\n",
              "    <div class=\"colab-df-buttons\">\n",
              "\n",
              "  <div class=\"colab-df-container\">\n",
              "    <button class=\"colab-df-convert\" onclick=\"convertToInteractive('df-e2726929-31d3-4602-a6ee-e5a6772eca33')\"\n",
              "            title=\"Convert this dataframe to an interactive table.\"\n",
              "            style=\"display:none;\">\n",
              "\n",
              "  <svg xmlns=\"http://www.w3.org/2000/svg\" height=\"24px\" viewBox=\"0 -960 960 960\">\n",
              "    <path d=\"M120-120v-720h720v720H120Zm60-500h600v-160H180v160Zm220 220h160v-160H400v160Zm0 220h160v-160H400v160ZM180-400h160v-160H180v160Zm440 0h160v-160H620v160ZM180-180h160v-160H180v160Zm440 0h160v-160H620v160Z\"/>\n",
              "  </svg>\n",
              "    </button>\n",
              "\n",
              "  <style>\n",
              "    .colab-df-container {\n",
              "      display:flex;\n",
              "      gap: 12px;\n",
              "    }\n",
              "\n",
              "    .colab-df-convert {\n",
              "      background-color: #E8F0FE;\n",
              "      border: none;\n",
              "      border-radius: 50%;\n",
              "      cursor: pointer;\n",
              "      display: none;\n",
              "      fill: #1967D2;\n",
              "      height: 32px;\n",
              "      padding: 0 0 0 0;\n",
              "      width: 32px;\n",
              "    }\n",
              "\n",
              "    .colab-df-convert:hover {\n",
              "      background-color: #E2EBFA;\n",
              "      box-shadow: 0px 1px 2px rgba(60, 64, 67, 0.3), 0px 1px 3px 1px rgba(60, 64, 67, 0.15);\n",
              "      fill: #174EA6;\n",
              "    }\n",
              "\n",
              "    .colab-df-buttons div {\n",
              "      margin-bottom: 4px;\n",
              "    }\n",
              "\n",
              "    [theme=dark] .colab-df-convert {\n",
              "      background-color: #3B4455;\n",
              "      fill: #D2E3FC;\n",
              "    }\n",
              "\n",
              "    [theme=dark] .colab-df-convert:hover {\n",
              "      background-color: #434B5C;\n",
              "      box-shadow: 0px 1px 3px 1px rgba(0, 0, 0, 0.15);\n",
              "      filter: drop-shadow(0px 1px 2px rgba(0, 0, 0, 0.3));\n",
              "      fill: #FFFFFF;\n",
              "    }\n",
              "  </style>\n",
              "\n",
              "    <script>\n",
              "      const buttonEl =\n",
              "        document.querySelector('#df-e2726929-31d3-4602-a6ee-e5a6772eca33 button.colab-df-convert');\n",
              "      buttonEl.style.display =\n",
              "        google.colab.kernel.accessAllowed ? 'block' : 'none';\n",
              "\n",
              "      async function convertToInteractive(key) {\n",
              "        const element = document.querySelector('#df-e2726929-31d3-4602-a6ee-e5a6772eca33');\n",
              "        const dataTable =\n",
              "          await google.colab.kernel.invokeFunction('convertToInteractive',\n",
              "                                                    [key], {});\n",
              "        if (!dataTable) return;\n",
              "\n",
              "        const docLinkHtml = 'Like what you see? Visit the ' +\n",
              "          '<a target=\"_blank\" href=https://colab.research.google.com/notebooks/data_table.ipynb>data table notebook</a>'\n",
              "          + ' to learn more about interactive tables.';\n",
              "        element.innerHTML = '';\n",
              "        dataTable['output_type'] = 'display_data';\n",
              "        await google.colab.output.renderOutput(dataTable, element);\n",
              "        const docLink = document.createElement('div');\n",
              "        docLink.innerHTML = docLinkHtml;\n",
              "        element.appendChild(docLink);\n",
              "      }\n",
              "    </script>\n",
              "  </div>\n",
              "\n",
              "\n",
              "    <div id=\"df-d187d29d-bb21-4f58-ba7f-61686f9d3bc1\">\n",
              "      <button class=\"colab-df-quickchart\" onclick=\"quickchart('df-d187d29d-bb21-4f58-ba7f-61686f9d3bc1')\"\n",
              "                title=\"Suggest charts\"\n",
              "                style=\"display:none;\">\n",
              "\n",
              "<svg xmlns=\"http://www.w3.org/2000/svg\" height=\"24px\"viewBox=\"0 0 24 24\"\n",
              "     width=\"24px\">\n",
              "    <g>\n",
              "        <path d=\"M19 3H5c-1.1 0-2 .9-2 2v14c0 1.1.9 2 2 2h14c1.1 0 2-.9 2-2V5c0-1.1-.9-2-2-2zM9 17H7v-7h2v7zm4 0h-2V7h2v10zm4 0h-2v-4h2v4z\"/>\n",
              "    </g>\n",
              "</svg>\n",
              "      </button>\n",
              "\n",
              "<style>\n",
              "  .colab-df-quickchart {\n",
              "      --bg-color: #E8F0FE;\n",
              "      --fill-color: #1967D2;\n",
              "      --hover-bg-color: #E2EBFA;\n",
              "      --hover-fill-color: #174EA6;\n",
              "      --disabled-fill-color: #AAA;\n",
              "      --disabled-bg-color: #DDD;\n",
              "  }\n",
              "\n",
              "  [theme=dark] .colab-df-quickchart {\n",
              "      --bg-color: #3B4455;\n",
              "      --fill-color: #D2E3FC;\n",
              "      --hover-bg-color: #434B5C;\n",
              "      --hover-fill-color: #FFFFFF;\n",
              "      --disabled-bg-color: #3B4455;\n",
              "      --disabled-fill-color: #666;\n",
              "  }\n",
              "\n",
              "  .colab-df-quickchart {\n",
              "    background-color: var(--bg-color);\n",
              "    border: none;\n",
              "    border-radius: 50%;\n",
              "    cursor: pointer;\n",
              "    display: none;\n",
              "    fill: var(--fill-color);\n",
              "    height: 32px;\n",
              "    padding: 0;\n",
              "    width: 32px;\n",
              "  }\n",
              "\n",
              "  .colab-df-quickchart:hover {\n",
              "    background-color: var(--hover-bg-color);\n",
              "    box-shadow: 0 1px 2px rgba(60, 64, 67, 0.3), 0 1px 3px 1px rgba(60, 64, 67, 0.15);\n",
              "    fill: var(--button-hover-fill-color);\n",
              "  }\n",
              "\n",
              "  .colab-df-quickchart-complete:disabled,\n",
              "  .colab-df-quickchart-complete:disabled:hover {\n",
              "    background-color: var(--disabled-bg-color);\n",
              "    fill: var(--disabled-fill-color);\n",
              "    box-shadow: none;\n",
              "  }\n",
              "\n",
              "  .colab-df-spinner {\n",
              "    border: 2px solid var(--fill-color);\n",
              "    border-color: transparent;\n",
              "    border-bottom-color: var(--fill-color);\n",
              "    animation:\n",
              "      spin 1s steps(1) infinite;\n",
              "  }\n",
              "\n",
              "  @keyframes spin {\n",
              "    0% {\n",
              "      border-color: transparent;\n",
              "      border-bottom-color: var(--fill-color);\n",
              "      border-left-color: var(--fill-color);\n",
              "    }\n",
              "    20% {\n",
              "      border-color: transparent;\n",
              "      border-left-color: var(--fill-color);\n",
              "      border-top-color: var(--fill-color);\n",
              "    }\n",
              "    30% {\n",
              "      border-color: transparent;\n",
              "      border-left-color: var(--fill-color);\n",
              "      border-top-color: var(--fill-color);\n",
              "      border-right-color: var(--fill-color);\n",
              "    }\n",
              "    40% {\n",
              "      border-color: transparent;\n",
              "      border-right-color: var(--fill-color);\n",
              "      border-top-color: var(--fill-color);\n",
              "    }\n",
              "    60% {\n",
              "      border-color: transparent;\n",
              "      border-right-color: var(--fill-color);\n",
              "    }\n",
              "    80% {\n",
              "      border-color: transparent;\n",
              "      border-right-color: var(--fill-color);\n",
              "      border-bottom-color: var(--fill-color);\n",
              "    }\n",
              "    90% {\n",
              "      border-color: transparent;\n",
              "      border-bottom-color: var(--fill-color);\n",
              "    }\n",
              "  }\n",
              "</style>\n",
              "\n",
              "      <script>\n",
              "        async function quickchart(key) {\n",
              "          const quickchartButtonEl =\n",
              "            document.querySelector('#' + key + ' button');\n",
              "          quickchartButtonEl.disabled = true;  // To prevent multiple clicks.\n",
              "          quickchartButtonEl.classList.add('colab-df-spinner');\n",
              "          try {\n",
              "            const charts = await google.colab.kernel.invokeFunction(\n",
              "                'suggestCharts', [key], {});\n",
              "          } catch (error) {\n",
              "            console.error('Error during call to suggestCharts:', error);\n",
              "          }\n",
              "          quickchartButtonEl.classList.remove('colab-df-spinner');\n",
              "          quickchartButtonEl.classList.add('colab-df-quickchart-complete');\n",
              "        }\n",
              "        (() => {\n",
              "          let quickchartButtonEl =\n",
              "            document.querySelector('#df-d187d29d-bb21-4f58-ba7f-61686f9d3bc1 button');\n",
              "          quickchartButtonEl.style.display =\n",
              "            google.colab.kernel.accessAllowed ? 'block' : 'none';\n",
              "        })();\n",
              "      </script>\n",
              "    </div>\n",
              "\n",
              "    </div>\n",
              "  </div>\n"
            ],
            "application/vnd.google.colaboratory.intrinsic+json": {
              "type": "dataframe",
              "summary": "{\n  \"name\": \"df\",\n  \"rows\": 8,\n  \"fields\": [\n    {\n      \"column\": \"months_since_last_donation\",\n      \"properties\": {\n        \"dtype\": \"number\",\n        \"std\": 259.7296322821676,\n        \"min\": 0.0,\n        \"max\": 748.0,\n        \"num_unique_values\": 8,\n        \"samples\": [\n          9.506684491978609,\n          7.0,\n          748.0\n        ],\n        \"semantic_type\": \"\",\n        \"description\": \"\"\n      }\n    },\n    {\n      \"column\": \"total_number_of_donations\",\n      \"properties\": {\n        \"dtype\": \"number\",\n        \"std\": 261.15116876933445,\n        \"min\": 1.0,\n        \"max\": 748.0,\n        \"num_unique_values\": 8,\n        \"samples\": [\n          5.514705882352941,\n          4.0,\n          748.0\n        ],\n        \"semantic_type\": \"\",\n        \"description\": \"\"\n      }\n    },\n    {\n      \"column\": \"total_blood_donated\",\n      \"properties\": {\n        \"dtype\": \"number\",\n        \"std\": 4092.893812773351,\n        \"min\": 250.0,\n        \"max\": 12500.0,\n        \"num_unique_values\": 8,\n        \"samples\": [\n          1378.6764705882354,\n          1000.0,\n          748.0\n        ],\n        \"semantic_type\": \"\",\n        \"description\": \"\"\n      }\n    },\n    {\n      \"column\": \"months_since_first_donation\",\n      \"properties\": {\n        \"dtype\": \"number\",\n        \"std\": 253.33679766529838,\n        \"min\": 2.0,\n        \"max\": 748.0,\n        \"num_unique_values\": 8,\n        \"samples\": [\n          34.282085561497325,\n          28.0,\n          748.0\n        ],\n        \"semantic_type\": \"\",\n        \"description\": \"\"\n      }\n    },\n    {\n      \"column\": \"class\",\n      \"properties\": {\n        \"dtype\": \"number\",\n        \"std\": 264.37411446957356,\n        \"min\": 0.0,\n        \"max\": 748.0,\n        \"num_unique_values\": 5,\n        \"samples\": [\n          0.23796791443850268,\n          1.0,\n          0.42612432780145154\n        ],\n        \"semantic_type\": \"\",\n        \"description\": \"\"\n      }\n    }\n  ]\n}"
            }
          },
          "metadata": {},
          "execution_count": 9
        }
      ]
    },
    {
      "cell_type": "markdown",
      "source": [
        "Summary of Basic Statistics:\n",
        "- blah blah\n",
        "- blah blah\n",
        "- blah blah\n",
        "- blah blah\n",
        "- blah blah"
      ],
      "metadata": {
        "id": "1Ma6g8cmJ7Yc"
      }
    },
    {
      "cell_type": "markdown",
      "source": [
        "##### 1.1.b) Interesting One Minute Story"
      ],
      "metadata": {
        "id": "Qrv8Kqg1J-IA"
      }
    },
    {
      "cell_type": "markdown",
      "source": [
        "blah blah"
      ],
      "metadata": {
        "id": "Hesn1kLWKDpH"
      }
    },
    {
      "cell_type": "markdown",
      "source": [
        "### 1.2) Create Visualization comparing classes"
      ],
      "metadata": {
        "id": "WInHSy9UKGMI"
      }
    },
    {
      "cell_type": "code",
      "source": [
        "# Prepare dataframe for visualization:\n",
        "df_mean = df.groupby(['class'],as_index=False).mean().copy()\n",
        "df_mean['class'] = df_mean['class'].map({0: \"Did not return\", 1: \"Returned\"})"
      ],
      "metadata": {
        "id": "nDkwscgKKGkF"
      },
      "execution_count": 10,
      "outputs": []
    },
    {
      "cell_type": "code",
      "source": [
        "# classes vs. months_since_last_donation\n",
        "fig1 = px.bar(\n",
        "    data_frame = df_mean,\n",
        "    x = df_mean['class'],\n",
        "    y = df_mean['months_since_last_donation'],\n",
        "    color = df_mean['class'],\n",
        "    labels={'months_since_last_donation':'average (#months)'},\n",
        "    title=\"Average amount of months since last donation\",\n",
        "    color_discrete_sequence=['darksalmon','darkred']\n",
        "    )\n",
        "\n",
        "fig1.update_xaxes(type='category')\n",
        "\n",
        "fig1.show()"
      ],
      "metadata": {
        "id": "DXWHBsBsKJHA",
        "outputId": "16a9b4b5-7825-4c24-c8b2-08c4d5b621bd",
        "colab": {
          "base_uri": "https://localhost:8080/",
          "height": 542
        }
      },
      "execution_count": 11,
      "outputs": [
        {
          "output_type": "display_data",
          "data": {
            "text/html": [
              "<html>\n",
              "<head><meta charset=\"utf-8\" /></head>\n",
              "<body>\n",
              "    <div>            <script src=\"https://cdnjs.cloudflare.com/ajax/libs/mathjax/2.7.5/MathJax.js?config=TeX-AMS-MML_SVG\"></script><script type=\"text/javascript\">if (window.MathJax && window.MathJax.Hub && window.MathJax.Hub.Config) {window.MathJax.Hub.Config({SVG: {font: \"STIX-Web\"}});}</script>                <script type=\"text/javascript\">window.PlotlyConfig = {MathJaxConfig: 'local'};</script>\n",
              "        <script charset=\"utf-8\" src=\"https://cdn.plot.ly/plotly-2.35.2.min.js\"></script>                <div id=\"52bb8e53-36ee-4d8a-9dd1-a77706d2152a\" class=\"plotly-graph-div\" style=\"height:525px; width:100%;\"></div>            <script type=\"text/javascript\">                                    window.PLOTLYENV=window.PLOTLYENV || {};                                    if (document.getElementById(\"52bb8e53-36ee-4d8a-9dd1-a77706d2152a\")) {                    Plotly.newPlot(                        \"52bb8e53-36ee-4d8a-9dd1-a77706d2152a\",                        [{\"alignmentgroup\":\"True\",\"hovertemplate\":\"class=%{x}\\u003cbr\\u003eaverage (#months)=%{y}\\u003cextra\\u003e\\u003c\\u002fextra\\u003e\",\"legendgroup\":\"Did not return\",\"marker\":{\"color\":\"darksalmon\",\"pattern\":{\"shape\":\"\"}},\"name\":\"Did not return\",\"offsetgroup\":\"Did not return\",\"orientation\":\"v\",\"showlegend\":true,\"textposition\":\"auto\",\"x\":[\"Did not return\"],\"xaxis\":\"x\",\"y\":[10.771929824561404],\"yaxis\":\"y\",\"type\":\"bar\"},{\"alignmentgroup\":\"True\",\"hovertemplate\":\"class=%{x}\\u003cbr\\u003eaverage (#months)=%{y}\\u003cextra\\u003e\\u003c\\u002fextra\\u003e\",\"legendgroup\":\"Returned\",\"marker\":{\"color\":\"darkred\",\"pattern\":{\"shape\":\"\"}},\"name\":\"Returned\",\"offsetgroup\":\"Returned\",\"orientation\":\"v\",\"showlegend\":true,\"textposition\":\"auto\",\"x\":[\"Returned\"],\"xaxis\":\"x\",\"y\":[5.455056179775281],\"yaxis\":\"y\",\"type\":\"bar\"}],                        {\"template\":{\"data\":{\"histogram2dcontour\":[{\"type\":\"histogram2dcontour\",\"colorbar\":{\"outlinewidth\":0,\"ticks\":\"\"},\"colorscale\":[[0.0,\"#0d0887\"],[0.1111111111111111,\"#46039f\"],[0.2222222222222222,\"#7201a8\"],[0.3333333333333333,\"#9c179e\"],[0.4444444444444444,\"#bd3786\"],[0.5555555555555556,\"#d8576b\"],[0.6666666666666666,\"#ed7953\"],[0.7777777777777778,\"#fb9f3a\"],[0.8888888888888888,\"#fdca26\"],[1.0,\"#f0f921\"]]}],\"choropleth\":[{\"type\":\"choropleth\",\"colorbar\":{\"outlinewidth\":0,\"ticks\":\"\"}}],\"histogram2d\":[{\"type\":\"histogram2d\",\"colorbar\":{\"outlinewidth\":0,\"ticks\":\"\"},\"colorscale\":[[0.0,\"#0d0887\"],[0.1111111111111111,\"#46039f\"],[0.2222222222222222,\"#7201a8\"],[0.3333333333333333,\"#9c179e\"],[0.4444444444444444,\"#bd3786\"],[0.5555555555555556,\"#d8576b\"],[0.6666666666666666,\"#ed7953\"],[0.7777777777777778,\"#fb9f3a\"],[0.8888888888888888,\"#fdca26\"],[1.0,\"#f0f921\"]]}],\"heatmap\":[{\"type\":\"heatmap\",\"colorbar\":{\"outlinewidth\":0,\"ticks\":\"\"},\"colorscale\":[[0.0,\"#0d0887\"],[0.1111111111111111,\"#46039f\"],[0.2222222222222222,\"#7201a8\"],[0.3333333333333333,\"#9c179e\"],[0.4444444444444444,\"#bd3786\"],[0.5555555555555556,\"#d8576b\"],[0.6666666666666666,\"#ed7953\"],[0.7777777777777778,\"#fb9f3a\"],[0.8888888888888888,\"#fdca26\"],[1.0,\"#f0f921\"]]}],\"heatmapgl\":[{\"type\":\"heatmapgl\",\"colorbar\":{\"outlinewidth\":0,\"ticks\":\"\"},\"colorscale\":[[0.0,\"#0d0887\"],[0.1111111111111111,\"#46039f\"],[0.2222222222222222,\"#7201a8\"],[0.3333333333333333,\"#9c179e\"],[0.4444444444444444,\"#bd3786\"],[0.5555555555555556,\"#d8576b\"],[0.6666666666666666,\"#ed7953\"],[0.7777777777777778,\"#fb9f3a\"],[0.8888888888888888,\"#fdca26\"],[1.0,\"#f0f921\"]]}],\"contourcarpet\":[{\"type\":\"contourcarpet\",\"colorbar\":{\"outlinewidth\":0,\"ticks\":\"\"}}],\"contour\":[{\"type\":\"contour\",\"colorbar\":{\"outlinewidth\":0,\"ticks\":\"\"},\"colorscale\":[[0.0,\"#0d0887\"],[0.1111111111111111,\"#46039f\"],[0.2222222222222222,\"#7201a8\"],[0.3333333333333333,\"#9c179e\"],[0.4444444444444444,\"#bd3786\"],[0.5555555555555556,\"#d8576b\"],[0.6666666666666666,\"#ed7953\"],[0.7777777777777778,\"#fb9f3a\"],[0.8888888888888888,\"#fdca26\"],[1.0,\"#f0f921\"]]}],\"surface\":[{\"type\":\"surface\",\"colorbar\":{\"outlinewidth\":0,\"ticks\":\"\"},\"colorscale\":[[0.0,\"#0d0887\"],[0.1111111111111111,\"#46039f\"],[0.2222222222222222,\"#7201a8\"],[0.3333333333333333,\"#9c179e\"],[0.4444444444444444,\"#bd3786\"],[0.5555555555555556,\"#d8576b\"],[0.6666666666666666,\"#ed7953\"],[0.7777777777777778,\"#fb9f3a\"],[0.8888888888888888,\"#fdca26\"],[1.0,\"#f0f921\"]]}],\"mesh3d\":[{\"type\":\"mesh3d\",\"colorbar\":{\"outlinewidth\":0,\"ticks\":\"\"}}],\"scatter\":[{\"fillpattern\":{\"fillmode\":\"overlay\",\"size\":10,\"solidity\":0.2},\"type\":\"scatter\"}],\"parcoords\":[{\"type\":\"parcoords\",\"line\":{\"colorbar\":{\"outlinewidth\":0,\"ticks\":\"\"}}}],\"scatterpolargl\":[{\"type\":\"scatterpolargl\",\"marker\":{\"colorbar\":{\"outlinewidth\":0,\"ticks\":\"\"}}}],\"bar\":[{\"error_x\":{\"color\":\"#2a3f5f\"},\"error_y\":{\"color\":\"#2a3f5f\"},\"marker\":{\"line\":{\"color\":\"#E5ECF6\",\"width\":0.5},\"pattern\":{\"fillmode\":\"overlay\",\"size\":10,\"solidity\":0.2}},\"type\":\"bar\"}],\"scattergeo\":[{\"type\":\"scattergeo\",\"marker\":{\"colorbar\":{\"outlinewidth\":0,\"ticks\":\"\"}}}],\"scatterpolar\":[{\"type\":\"scatterpolar\",\"marker\":{\"colorbar\":{\"outlinewidth\":0,\"ticks\":\"\"}}}],\"histogram\":[{\"marker\":{\"pattern\":{\"fillmode\":\"overlay\",\"size\":10,\"solidity\":0.2}},\"type\":\"histogram\"}],\"scattergl\":[{\"type\":\"scattergl\",\"marker\":{\"colorbar\":{\"outlinewidth\":0,\"ticks\":\"\"}}}],\"scatter3d\":[{\"type\":\"scatter3d\",\"line\":{\"colorbar\":{\"outlinewidth\":0,\"ticks\":\"\"}},\"marker\":{\"colorbar\":{\"outlinewidth\":0,\"ticks\":\"\"}}}],\"scattermapbox\":[{\"type\":\"scattermapbox\",\"marker\":{\"colorbar\":{\"outlinewidth\":0,\"ticks\":\"\"}}}],\"scatterternary\":[{\"type\":\"scatterternary\",\"marker\":{\"colorbar\":{\"outlinewidth\":0,\"ticks\":\"\"}}}],\"scattercarpet\":[{\"type\":\"scattercarpet\",\"marker\":{\"colorbar\":{\"outlinewidth\":0,\"ticks\":\"\"}}}],\"carpet\":[{\"aaxis\":{\"endlinecolor\":\"#2a3f5f\",\"gridcolor\":\"white\",\"linecolor\":\"white\",\"minorgridcolor\":\"white\",\"startlinecolor\":\"#2a3f5f\"},\"baxis\":{\"endlinecolor\":\"#2a3f5f\",\"gridcolor\":\"white\",\"linecolor\":\"white\",\"minorgridcolor\":\"white\",\"startlinecolor\":\"#2a3f5f\"},\"type\":\"carpet\"}],\"table\":[{\"cells\":{\"fill\":{\"color\":\"#EBF0F8\"},\"line\":{\"color\":\"white\"}},\"header\":{\"fill\":{\"color\":\"#C8D4E3\"},\"line\":{\"color\":\"white\"}},\"type\":\"table\"}],\"barpolar\":[{\"marker\":{\"line\":{\"color\":\"#E5ECF6\",\"width\":0.5},\"pattern\":{\"fillmode\":\"overlay\",\"size\":10,\"solidity\":0.2}},\"type\":\"barpolar\"}],\"pie\":[{\"automargin\":true,\"type\":\"pie\"}]},\"layout\":{\"autotypenumbers\":\"strict\",\"colorway\":[\"#636efa\",\"#EF553B\",\"#00cc96\",\"#ab63fa\",\"#FFA15A\",\"#19d3f3\",\"#FF6692\",\"#B6E880\",\"#FF97FF\",\"#FECB52\"],\"font\":{\"color\":\"#2a3f5f\"},\"hovermode\":\"closest\",\"hoverlabel\":{\"align\":\"left\"},\"paper_bgcolor\":\"white\",\"plot_bgcolor\":\"#E5ECF6\",\"polar\":{\"bgcolor\":\"#E5ECF6\",\"angularaxis\":{\"gridcolor\":\"white\",\"linecolor\":\"white\",\"ticks\":\"\"},\"radialaxis\":{\"gridcolor\":\"white\",\"linecolor\":\"white\",\"ticks\":\"\"}},\"ternary\":{\"bgcolor\":\"#E5ECF6\",\"aaxis\":{\"gridcolor\":\"white\",\"linecolor\":\"white\",\"ticks\":\"\"},\"baxis\":{\"gridcolor\":\"white\",\"linecolor\":\"white\",\"ticks\":\"\"},\"caxis\":{\"gridcolor\":\"white\",\"linecolor\":\"white\",\"ticks\":\"\"}},\"coloraxis\":{\"colorbar\":{\"outlinewidth\":0,\"ticks\":\"\"}},\"colorscale\":{\"sequential\":[[0.0,\"#0d0887\"],[0.1111111111111111,\"#46039f\"],[0.2222222222222222,\"#7201a8\"],[0.3333333333333333,\"#9c179e\"],[0.4444444444444444,\"#bd3786\"],[0.5555555555555556,\"#d8576b\"],[0.6666666666666666,\"#ed7953\"],[0.7777777777777778,\"#fb9f3a\"],[0.8888888888888888,\"#fdca26\"],[1.0,\"#f0f921\"]],\"sequentialminus\":[[0.0,\"#0d0887\"],[0.1111111111111111,\"#46039f\"],[0.2222222222222222,\"#7201a8\"],[0.3333333333333333,\"#9c179e\"],[0.4444444444444444,\"#bd3786\"],[0.5555555555555556,\"#d8576b\"],[0.6666666666666666,\"#ed7953\"],[0.7777777777777778,\"#fb9f3a\"],[0.8888888888888888,\"#fdca26\"],[1.0,\"#f0f921\"]],\"diverging\":[[0,\"#8e0152\"],[0.1,\"#c51b7d\"],[0.2,\"#de77ae\"],[0.3,\"#f1b6da\"],[0.4,\"#fde0ef\"],[0.5,\"#f7f7f7\"],[0.6,\"#e6f5d0\"],[0.7,\"#b8e186\"],[0.8,\"#7fbc41\"],[0.9,\"#4d9221\"],[1,\"#276419\"]]},\"xaxis\":{\"gridcolor\":\"white\",\"linecolor\":\"white\",\"ticks\":\"\",\"title\":{\"standoff\":15},\"zerolinecolor\":\"white\",\"automargin\":true,\"zerolinewidth\":2},\"yaxis\":{\"gridcolor\":\"white\",\"linecolor\":\"white\",\"ticks\":\"\",\"title\":{\"standoff\":15},\"zerolinecolor\":\"white\",\"automargin\":true,\"zerolinewidth\":2},\"scene\":{\"xaxis\":{\"backgroundcolor\":\"#E5ECF6\",\"gridcolor\":\"white\",\"linecolor\":\"white\",\"showbackground\":true,\"ticks\":\"\",\"zerolinecolor\":\"white\",\"gridwidth\":2},\"yaxis\":{\"backgroundcolor\":\"#E5ECF6\",\"gridcolor\":\"white\",\"linecolor\":\"white\",\"showbackground\":true,\"ticks\":\"\",\"zerolinecolor\":\"white\",\"gridwidth\":2},\"zaxis\":{\"backgroundcolor\":\"#E5ECF6\",\"gridcolor\":\"white\",\"linecolor\":\"white\",\"showbackground\":true,\"ticks\":\"\",\"zerolinecolor\":\"white\",\"gridwidth\":2}},\"shapedefaults\":{\"line\":{\"color\":\"#2a3f5f\"}},\"annotationdefaults\":{\"arrowcolor\":\"#2a3f5f\",\"arrowhead\":0,\"arrowwidth\":1},\"geo\":{\"bgcolor\":\"white\",\"landcolor\":\"#E5ECF6\",\"subunitcolor\":\"white\",\"showland\":true,\"showlakes\":true,\"lakecolor\":\"white\"},\"title\":{\"x\":0.05},\"mapbox\":{\"style\":\"light\"}}},\"xaxis\":{\"anchor\":\"y\",\"domain\":[0.0,1.0],\"title\":{\"text\":\"class\"},\"categoryorder\":\"array\",\"categoryarray\":[\"Did not return\",\"Returned\"],\"type\":\"category\"},\"yaxis\":{\"anchor\":\"x\",\"domain\":[0.0,1.0],\"title\":{\"text\":\"average (#months)\"}},\"legend\":{\"title\":{\"text\":\"class\"},\"tracegroupgap\":0},\"title\":{\"text\":\"Average amount of months since last donation\"},\"barmode\":\"relative\"},                        {\"responsive\": true}                    ).then(function(){\n",
              "                            \n",
              "var gd = document.getElementById('52bb8e53-36ee-4d8a-9dd1-a77706d2152a');\n",
              "var x = new MutationObserver(function (mutations, observer) {{\n",
              "        var display = window.getComputedStyle(gd).display;\n",
              "        if (!display || display === 'none') {{\n",
              "            console.log([gd, 'removed!']);\n",
              "            Plotly.purge(gd);\n",
              "            observer.disconnect();\n",
              "        }}\n",
              "}});\n",
              "\n",
              "// Listen for the removal of the full notebook cells\n",
              "var notebookContainer = gd.closest('#notebook-container');\n",
              "if (notebookContainer) {{\n",
              "    x.observe(notebookContainer, {childList: true});\n",
              "}}\n",
              "\n",
              "// Listen for the clearing of the current output cell\n",
              "var outputEl = gd.closest('.output');\n",
              "if (outputEl) {{\n",
              "    x.observe(outputEl, {childList: true});\n",
              "}}\n",
              "\n",
              "                        })                };                            </script>        </div>\n",
              "</body>\n",
              "</html>"
            ]
          },
          "metadata": {}
        }
      ]
    },
    {
      "cell_type": "code",
      "source": [
        "# classes vs. total_number_of_donations\n",
        "fig2 = px.bar(\n",
        "    data_frame = df_mean,\n",
        "    x = df_mean['class'],\n",
        "    y = df_mean['total_number_of_donations'],\n",
        "    color = df_mean['class'],\n",
        "    labels={'total_number_of_donations':'average (#Donations)',},\n",
        "    title=\"Average amount of donations\",\n",
        "    color_discrete_sequence=['darksalmon','darkred']\n",
        "    )\n",
        "\n",
        "fig2.update_xaxes(type='category')\n",
        "\n",
        "fig2.show()"
      ],
      "metadata": {
        "id": "NsiOYaGlKO5L",
        "outputId": "0f4c50f1-7555-44ef-b0c2-828bdf153752",
        "colab": {
          "base_uri": "https://localhost:8080/",
          "height": 542
        }
      },
      "execution_count": 12,
      "outputs": [
        {
          "output_type": "display_data",
          "data": {
            "text/html": [
              "<html>\n",
              "<head><meta charset=\"utf-8\" /></head>\n",
              "<body>\n",
              "    <div>            <script src=\"https://cdnjs.cloudflare.com/ajax/libs/mathjax/2.7.5/MathJax.js?config=TeX-AMS-MML_SVG\"></script><script type=\"text/javascript\">if (window.MathJax && window.MathJax.Hub && window.MathJax.Hub.Config) {window.MathJax.Hub.Config({SVG: {font: \"STIX-Web\"}});}</script>                <script type=\"text/javascript\">window.PlotlyConfig = {MathJaxConfig: 'local'};</script>\n",
              "        <script charset=\"utf-8\" src=\"https://cdn.plot.ly/plotly-2.35.2.min.js\"></script>                <div id=\"63b64797-7ec2-44aa-a126-e7c27061d537\" class=\"plotly-graph-div\" style=\"height:525px; width:100%;\"></div>            <script type=\"text/javascript\">                                    window.PLOTLYENV=window.PLOTLYENV || {};                                    if (document.getElementById(\"63b64797-7ec2-44aa-a126-e7c27061d537\")) {                    Plotly.newPlot(                        \"63b64797-7ec2-44aa-a126-e7c27061d537\",                        [{\"alignmentgroup\":\"True\",\"hovertemplate\":\"class=%{x}\\u003cbr\\u003eaverage (#Donations)=%{y}\\u003cextra\\u003e\\u003c\\u002fextra\\u003e\",\"legendgroup\":\"Did not return\",\"marker\":{\"color\":\"darksalmon\",\"pattern\":{\"shape\":\"\"}},\"name\":\"Did not return\",\"offsetgroup\":\"Did not return\",\"orientation\":\"v\",\"showlegend\":true,\"textposition\":\"auto\",\"x\":[\"Did not return\"],\"xaxis\":\"x\",\"y\":[4.801754385964912],\"yaxis\":\"y\",\"type\":\"bar\"},{\"alignmentgroup\":\"True\",\"hovertemplate\":\"class=%{x}\\u003cbr\\u003eaverage (#Donations)=%{y}\\u003cextra\\u003e\\u003c\\u002fextra\\u003e\",\"legendgroup\":\"Returned\",\"marker\":{\"color\":\"darkred\",\"pattern\":{\"shape\":\"\"}},\"name\":\"Returned\",\"offsetgroup\":\"Returned\",\"orientation\":\"v\",\"showlegend\":true,\"textposition\":\"auto\",\"x\":[\"Returned\"],\"xaxis\":\"x\",\"y\":[7.797752808988764],\"yaxis\":\"y\",\"type\":\"bar\"}],                        {\"template\":{\"data\":{\"histogram2dcontour\":[{\"type\":\"histogram2dcontour\",\"colorbar\":{\"outlinewidth\":0,\"ticks\":\"\"},\"colorscale\":[[0.0,\"#0d0887\"],[0.1111111111111111,\"#46039f\"],[0.2222222222222222,\"#7201a8\"],[0.3333333333333333,\"#9c179e\"],[0.4444444444444444,\"#bd3786\"],[0.5555555555555556,\"#d8576b\"],[0.6666666666666666,\"#ed7953\"],[0.7777777777777778,\"#fb9f3a\"],[0.8888888888888888,\"#fdca26\"],[1.0,\"#f0f921\"]]}],\"choropleth\":[{\"type\":\"choropleth\",\"colorbar\":{\"outlinewidth\":0,\"ticks\":\"\"}}],\"histogram2d\":[{\"type\":\"histogram2d\",\"colorbar\":{\"outlinewidth\":0,\"ticks\":\"\"},\"colorscale\":[[0.0,\"#0d0887\"],[0.1111111111111111,\"#46039f\"],[0.2222222222222222,\"#7201a8\"],[0.3333333333333333,\"#9c179e\"],[0.4444444444444444,\"#bd3786\"],[0.5555555555555556,\"#d8576b\"],[0.6666666666666666,\"#ed7953\"],[0.7777777777777778,\"#fb9f3a\"],[0.8888888888888888,\"#fdca26\"],[1.0,\"#f0f921\"]]}],\"heatmap\":[{\"type\":\"heatmap\",\"colorbar\":{\"outlinewidth\":0,\"ticks\":\"\"},\"colorscale\":[[0.0,\"#0d0887\"],[0.1111111111111111,\"#46039f\"],[0.2222222222222222,\"#7201a8\"],[0.3333333333333333,\"#9c179e\"],[0.4444444444444444,\"#bd3786\"],[0.5555555555555556,\"#d8576b\"],[0.6666666666666666,\"#ed7953\"],[0.7777777777777778,\"#fb9f3a\"],[0.8888888888888888,\"#fdca26\"],[1.0,\"#f0f921\"]]}],\"heatmapgl\":[{\"type\":\"heatmapgl\",\"colorbar\":{\"outlinewidth\":0,\"ticks\":\"\"},\"colorscale\":[[0.0,\"#0d0887\"],[0.1111111111111111,\"#46039f\"],[0.2222222222222222,\"#7201a8\"],[0.3333333333333333,\"#9c179e\"],[0.4444444444444444,\"#bd3786\"],[0.5555555555555556,\"#d8576b\"],[0.6666666666666666,\"#ed7953\"],[0.7777777777777778,\"#fb9f3a\"],[0.8888888888888888,\"#fdca26\"],[1.0,\"#f0f921\"]]}],\"contourcarpet\":[{\"type\":\"contourcarpet\",\"colorbar\":{\"outlinewidth\":0,\"ticks\":\"\"}}],\"contour\":[{\"type\":\"contour\",\"colorbar\":{\"outlinewidth\":0,\"ticks\":\"\"},\"colorscale\":[[0.0,\"#0d0887\"],[0.1111111111111111,\"#46039f\"],[0.2222222222222222,\"#7201a8\"],[0.3333333333333333,\"#9c179e\"],[0.4444444444444444,\"#bd3786\"],[0.5555555555555556,\"#d8576b\"],[0.6666666666666666,\"#ed7953\"],[0.7777777777777778,\"#fb9f3a\"],[0.8888888888888888,\"#fdca26\"],[1.0,\"#f0f921\"]]}],\"surface\":[{\"type\":\"surface\",\"colorbar\":{\"outlinewidth\":0,\"ticks\":\"\"},\"colorscale\":[[0.0,\"#0d0887\"],[0.1111111111111111,\"#46039f\"],[0.2222222222222222,\"#7201a8\"],[0.3333333333333333,\"#9c179e\"],[0.4444444444444444,\"#bd3786\"],[0.5555555555555556,\"#d8576b\"],[0.6666666666666666,\"#ed7953\"],[0.7777777777777778,\"#fb9f3a\"],[0.8888888888888888,\"#fdca26\"],[1.0,\"#f0f921\"]]}],\"mesh3d\":[{\"type\":\"mesh3d\",\"colorbar\":{\"outlinewidth\":0,\"ticks\":\"\"}}],\"scatter\":[{\"fillpattern\":{\"fillmode\":\"overlay\",\"size\":10,\"solidity\":0.2},\"type\":\"scatter\"}],\"parcoords\":[{\"type\":\"parcoords\",\"line\":{\"colorbar\":{\"outlinewidth\":0,\"ticks\":\"\"}}}],\"scatterpolargl\":[{\"type\":\"scatterpolargl\",\"marker\":{\"colorbar\":{\"outlinewidth\":0,\"ticks\":\"\"}}}],\"bar\":[{\"error_x\":{\"color\":\"#2a3f5f\"},\"error_y\":{\"color\":\"#2a3f5f\"},\"marker\":{\"line\":{\"color\":\"#E5ECF6\",\"width\":0.5},\"pattern\":{\"fillmode\":\"overlay\",\"size\":10,\"solidity\":0.2}},\"type\":\"bar\"}],\"scattergeo\":[{\"type\":\"scattergeo\",\"marker\":{\"colorbar\":{\"outlinewidth\":0,\"ticks\":\"\"}}}],\"scatterpolar\":[{\"type\":\"scatterpolar\",\"marker\":{\"colorbar\":{\"outlinewidth\":0,\"ticks\":\"\"}}}],\"histogram\":[{\"marker\":{\"pattern\":{\"fillmode\":\"overlay\",\"size\":10,\"solidity\":0.2}},\"type\":\"histogram\"}],\"scattergl\":[{\"type\":\"scattergl\",\"marker\":{\"colorbar\":{\"outlinewidth\":0,\"ticks\":\"\"}}}],\"scatter3d\":[{\"type\":\"scatter3d\",\"line\":{\"colorbar\":{\"outlinewidth\":0,\"ticks\":\"\"}},\"marker\":{\"colorbar\":{\"outlinewidth\":0,\"ticks\":\"\"}}}],\"scattermapbox\":[{\"type\":\"scattermapbox\",\"marker\":{\"colorbar\":{\"outlinewidth\":0,\"ticks\":\"\"}}}],\"scatterternary\":[{\"type\":\"scatterternary\",\"marker\":{\"colorbar\":{\"outlinewidth\":0,\"ticks\":\"\"}}}],\"scattercarpet\":[{\"type\":\"scattercarpet\",\"marker\":{\"colorbar\":{\"outlinewidth\":0,\"ticks\":\"\"}}}],\"carpet\":[{\"aaxis\":{\"endlinecolor\":\"#2a3f5f\",\"gridcolor\":\"white\",\"linecolor\":\"white\",\"minorgridcolor\":\"white\",\"startlinecolor\":\"#2a3f5f\"},\"baxis\":{\"endlinecolor\":\"#2a3f5f\",\"gridcolor\":\"white\",\"linecolor\":\"white\",\"minorgridcolor\":\"white\",\"startlinecolor\":\"#2a3f5f\"},\"type\":\"carpet\"}],\"table\":[{\"cells\":{\"fill\":{\"color\":\"#EBF0F8\"},\"line\":{\"color\":\"white\"}},\"header\":{\"fill\":{\"color\":\"#C8D4E3\"},\"line\":{\"color\":\"white\"}},\"type\":\"table\"}],\"barpolar\":[{\"marker\":{\"line\":{\"color\":\"#E5ECF6\",\"width\":0.5},\"pattern\":{\"fillmode\":\"overlay\",\"size\":10,\"solidity\":0.2}},\"type\":\"barpolar\"}],\"pie\":[{\"automargin\":true,\"type\":\"pie\"}]},\"layout\":{\"autotypenumbers\":\"strict\",\"colorway\":[\"#636efa\",\"#EF553B\",\"#00cc96\",\"#ab63fa\",\"#FFA15A\",\"#19d3f3\",\"#FF6692\",\"#B6E880\",\"#FF97FF\",\"#FECB52\"],\"font\":{\"color\":\"#2a3f5f\"},\"hovermode\":\"closest\",\"hoverlabel\":{\"align\":\"left\"},\"paper_bgcolor\":\"white\",\"plot_bgcolor\":\"#E5ECF6\",\"polar\":{\"bgcolor\":\"#E5ECF6\",\"angularaxis\":{\"gridcolor\":\"white\",\"linecolor\":\"white\",\"ticks\":\"\"},\"radialaxis\":{\"gridcolor\":\"white\",\"linecolor\":\"white\",\"ticks\":\"\"}},\"ternary\":{\"bgcolor\":\"#E5ECF6\",\"aaxis\":{\"gridcolor\":\"white\",\"linecolor\":\"white\",\"ticks\":\"\"},\"baxis\":{\"gridcolor\":\"white\",\"linecolor\":\"white\",\"ticks\":\"\"},\"caxis\":{\"gridcolor\":\"white\",\"linecolor\":\"white\",\"ticks\":\"\"}},\"coloraxis\":{\"colorbar\":{\"outlinewidth\":0,\"ticks\":\"\"}},\"colorscale\":{\"sequential\":[[0.0,\"#0d0887\"],[0.1111111111111111,\"#46039f\"],[0.2222222222222222,\"#7201a8\"],[0.3333333333333333,\"#9c179e\"],[0.4444444444444444,\"#bd3786\"],[0.5555555555555556,\"#d8576b\"],[0.6666666666666666,\"#ed7953\"],[0.7777777777777778,\"#fb9f3a\"],[0.8888888888888888,\"#fdca26\"],[1.0,\"#f0f921\"]],\"sequentialminus\":[[0.0,\"#0d0887\"],[0.1111111111111111,\"#46039f\"],[0.2222222222222222,\"#7201a8\"],[0.3333333333333333,\"#9c179e\"],[0.4444444444444444,\"#bd3786\"],[0.5555555555555556,\"#d8576b\"],[0.6666666666666666,\"#ed7953\"],[0.7777777777777778,\"#fb9f3a\"],[0.8888888888888888,\"#fdca26\"],[1.0,\"#f0f921\"]],\"diverging\":[[0,\"#8e0152\"],[0.1,\"#c51b7d\"],[0.2,\"#de77ae\"],[0.3,\"#f1b6da\"],[0.4,\"#fde0ef\"],[0.5,\"#f7f7f7\"],[0.6,\"#e6f5d0\"],[0.7,\"#b8e186\"],[0.8,\"#7fbc41\"],[0.9,\"#4d9221\"],[1,\"#276419\"]]},\"xaxis\":{\"gridcolor\":\"white\",\"linecolor\":\"white\",\"ticks\":\"\",\"title\":{\"standoff\":15},\"zerolinecolor\":\"white\",\"automargin\":true,\"zerolinewidth\":2},\"yaxis\":{\"gridcolor\":\"white\",\"linecolor\":\"white\",\"ticks\":\"\",\"title\":{\"standoff\":15},\"zerolinecolor\":\"white\",\"automargin\":true,\"zerolinewidth\":2},\"scene\":{\"xaxis\":{\"backgroundcolor\":\"#E5ECF6\",\"gridcolor\":\"white\",\"linecolor\":\"white\",\"showbackground\":true,\"ticks\":\"\",\"zerolinecolor\":\"white\",\"gridwidth\":2},\"yaxis\":{\"backgroundcolor\":\"#E5ECF6\",\"gridcolor\":\"white\",\"linecolor\":\"white\",\"showbackground\":true,\"ticks\":\"\",\"zerolinecolor\":\"white\",\"gridwidth\":2},\"zaxis\":{\"backgroundcolor\":\"#E5ECF6\",\"gridcolor\":\"white\",\"linecolor\":\"white\",\"showbackground\":true,\"ticks\":\"\",\"zerolinecolor\":\"white\",\"gridwidth\":2}},\"shapedefaults\":{\"line\":{\"color\":\"#2a3f5f\"}},\"annotationdefaults\":{\"arrowcolor\":\"#2a3f5f\",\"arrowhead\":0,\"arrowwidth\":1},\"geo\":{\"bgcolor\":\"white\",\"landcolor\":\"#E5ECF6\",\"subunitcolor\":\"white\",\"showland\":true,\"showlakes\":true,\"lakecolor\":\"white\"},\"title\":{\"x\":0.05},\"mapbox\":{\"style\":\"light\"}}},\"xaxis\":{\"anchor\":\"y\",\"domain\":[0.0,1.0],\"title\":{\"text\":\"class\"},\"categoryorder\":\"array\",\"categoryarray\":[\"Did not return\",\"Returned\"],\"type\":\"category\"},\"yaxis\":{\"anchor\":\"x\",\"domain\":[0.0,1.0],\"title\":{\"text\":\"average (#Donations)\"}},\"legend\":{\"title\":{\"text\":\"class\"},\"tracegroupgap\":0},\"title\":{\"text\":\"Average amount of donations\"},\"barmode\":\"relative\"},                        {\"responsive\": true}                    ).then(function(){\n",
              "                            \n",
              "var gd = document.getElementById('63b64797-7ec2-44aa-a126-e7c27061d537');\n",
              "var x = new MutationObserver(function (mutations, observer) {{\n",
              "        var display = window.getComputedStyle(gd).display;\n",
              "        if (!display || display === 'none') {{\n",
              "            console.log([gd, 'removed!']);\n",
              "            Plotly.purge(gd);\n",
              "            observer.disconnect();\n",
              "        }}\n",
              "}});\n",
              "\n",
              "// Listen for the removal of the full notebook cells\n",
              "var notebookContainer = gd.closest('#notebook-container');\n",
              "if (notebookContainer) {{\n",
              "    x.observe(notebookContainer, {childList: true});\n",
              "}}\n",
              "\n",
              "// Listen for the clearing of the current output cell\n",
              "var outputEl = gd.closest('.output');\n",
              "if (outputEl) {{\n",
              "    x.observe(outputEl, {childList: true});\n",
              "}}\n",
              "\n",
              "                        })                };                            </script>        </div>\n",
              "</body>\n",
              "</html>"
            ]
          },
          "metadata": {}
        }
      ]
    },
    {
      "cell_type": "code",
      "source": [
        "# classes vs. total_blood_donated\n",
        "fig3 = px.bar(\n",
        "    data_frame = df_mean,\n",
        "    x = df_mean['class'],\n",
        "    y = df_mean['total_blood_donated'],\n",
        "    color = df_mean['class'],\n",
        "    labels={'total_blood_donated':'average (#mL)'},\n",
        "    title=\"Average amount of blood donated\",\n",
        "    color_discrete_sequence=['darksalmon','darkred']\n",
        "    )\n",
        "\n",
        "fig3.update_xaxes(type='category')\n",
        "\n",
        "fig3.show()"
      ],
      "metadata": {
        "id": "hyXFgRGgKPxJ",
        "outputId": "32940965-a591-44de-f110-798d831c94fb",
        "colab": {
          "base_uri": "https://localhost:8080/",
          "height": 542
        }
      },
      "execution_count": 13,
      "outputs": [
        {
          "output_type": "display_data",
          "data": {
            "text/html": [
              "<html>\n",
              "<head><meta charset=\"utf-8\" /></head>\n",
              "<body>\n",
              "    <div>            <script src=\"https://cdnjs.cloudflare.com/ajax/libs/mathjax/2.7.5/MathJax.js?config=TeX-AMS-MML_SVG\"></script><script type=\"text/javascript\">if (window.MathJax && window.MathJax.Hub && window.MathJax.Hub.Config) {window.MathJax.Hub.Config({SVG: {font: \"STIX-Web\"}});}</script>                <script type=\"text/javascript\">window.PlotlyConfig = {MathJaxConfig: 'local'};</script>\n",
              "        <script charset=\"utf-8\" src=\"https://cdn.plot.ly/plotly-2.35.2.min.js\"></script>                <div id=\"f04c9845-7b99-42d0-87e9-94d4bfdb9d21\" class=\"plotly-graph-div\" style=\"height:525px; width:100%;\"></div>            <script type=\"text/javascript\">                                    window.PLOTLYENV=window.PLOTLYENV || {};                                    if (document.getElementById(\"f04c9845-7b99-42d0-87e9-94d4bfdb9d21\")) {                    Plotly.newPlot(                        \"f04c9845-7b99-42d0-87e9-94d4bfdb9d21\",                        [{\"alignmentgroup\":\"True\",\"hovertemplate\":\"class=%{x}\\u003cbr\\u003eaverage (#mL)=%{y}\\u003cextra\\u003e\\u003c\\u002fextra\\u003e\",\"legendgroup\":\"Did not return\",\"marker\":{\"color\":\"darksalmon\",\"pattern\":{\"shape\":\"\"}},\"name\":\"Did not return\",\"offsetgroup\":\"Did not return\",\"orientation\":\"v\",\"showlegend\":true,\"textposition\":\"auto\",\"x\":[\"Did not return\"],\"xaxis\":\"x\",\"y\":[1200.438596491228],\"yaxis\":\"y\",\"type\":\"bar\"},{\"alignmentgroup\":\"True\",\"hovertemplate\":\"class=%{x}\\u003cbr\\u003eaverage (#mL)=%{y}\\u003cextra\\u003e\\u003c\\u002fextra\\u003e\",\"legendgroup\":\"Returned\",\"marker\":{\"color\":\"darkred\",\"pattern\":{\"shape\":\"\"}},\"name\":\"Returned\",\"offsetgroup\":\"Returned\",\"orientation\":\"v\",\"showlegend\":true,\"textposition\":\"auto\",\"x\":[\"Returned\"],\"xaxis\":\"x\",\"y\":[1949.438202247191],\"yaxis\":\"y\",\"type\":\"bar\"}],                        {\"template\":{\"data\":{\"histogram2dcontour\":[{\"type\":\"histogram2dcontour\",\"colorbar\":{\"outlinewidth\":0,\"ticks\":\"\"},\"colorscale\":[[0.0,\"#0d0887\"],[0.1111111111111111,\"#46039f\"],[0.2222222222222222,\"#7201a8\"],[0.3333333333333333,\"#9c179e\"],[0.4444444444444444,\"#bd3786\"],[0.5555555555555556,\"#d8576b\"],[0.6666666666666666,\"#ed7953\"],[0.7777777777777778,\"#fb9f3a\"],[0.8888888888888888,\"#fdca26\"],[1.0,\"#f0f921\"]]}],\"choropleth\":[{\"type\":\"choropleth\",\"colorbar\":{\"outlinewidth\":0,\"ticks\":\"\"}}],\"histogram2d\":[{\"type\":\"histogram2d\",\"colorbar\":{\"outlinewidth\":0,\"ticks\":\"\"},\"colorscale\":[[0.0,\"#0d0887\"],[0.1111111111111111,\"#46039f\"],[0.2222222222222222,\"#7201a8\"],[0.3333333333333333,\"#9c179e\"],[0.4444444444444444,\"#bd3786\"],[0.5555555555555556,\"#d8576b\"],[0.6666666666666666,\"#ed7953\"],[0.7777777777777778,\"#fb9f3a\"],[0.8888888888888888,\"#fdca26\"],[1.0,\"#f0f921\"]]}],\"heatmap\":[{\"type\":\"heatmap\",\"colorbar\":{\"outlinewidth\":0,\"ticks\":\"\"},\"colorscale\":[[0.0,\"#0d0887\"],[0.1111111111111111,\"#46039f\"],[0.2222222222222222,\"#7201a8\"],[0.3333333333333333,\"#9c179e\"],[0.4444444444444444,\"#bd3786\"],[0.5555555555555556,\"#d8576b\"],[0.6666666666666666,\"#ed7953\"],[0.7777777777777778,\"#fb9f3a\"],[0.8888888888888888,\"#fdca26\"],[1.0,\"#f0f921\"]]}],\"heatmapgl\":[{\"type\":\"heatmapgl\",\"colorbar\":{\"outlinewidth\":0,\"ticks\":\"\"},\"colorscale\":[[0.0,\"#0d0887\"],[0.1111111111111111,\"#46039f\"],[0.2222222222222222,\"#7201a8\"],[0.3333333333333333,\"#9c179e\"],[0.4444444444444444,\"#bd3786\"],[0.5555555555555556,\"#d8576b\"],[0.6666666666666666,\"#ed7953\"],[0.7777777777777778,\"#fb9f3a\"],[0.8888888888888888,\"#fdca26\"],[1.0,\"#f0f921\"]]}],\"contourcarpet\":[{\"type\":\"contourcarpet\",\"colorbar\":{\"outlinewidth\":0,\"ticks\":\"\"}}],\"contour\":[{\"type\":\"contour\",\"colorbar\":{\"outlinewidth\":0,\"ticks\":\"\"},\"colorscale\":[[0.0,\"#0d0887\"],[0.1111111111111111,\"#46039f\"],[0.2222222222222222,\"#7201a8\"],[0.3333333333333333,\"#9c179e\"],[0.4444444444444444,\"#bd3786\"],[0.5555555555555556,\"#d8576b\"],[0.6666666666666666,\"#ed7953\"],[0.7777777777777778,\"#fb9f3a\"],[0.8888888888888888,\"#fdca26\"],[1.0,\"#f0f921\"]]}],\"surface\":[{\"type\":\"surface\",\"colorbar\":{\"outlinewidth\":0,\"ticks\":\"\"},\"colorscale\":[[0.0,\"#0d0887\"],[0.1111111111111111,\"#46039f\"],[0.2222222222222222,\"#7201a8\"],[0.3333333333333333,\"#9c179e\"],[0.4444444444444444,\"#bd3786\"],[0.5555555555555556,\"#d8576b\"],[0.6666666666666666,\"#ed7953\"],[0.7777777777777778,\"#fb9f3a\"],[0.8888888888888888,\"#fdca26\"],[1.0,\"#f0f921\"]]}],\"mesh3d\":[{\"type\":\"mesh3d\",\"colorbar\":{\"outlinewidth\":0,\"ticks\":\"\"}}],\"scatter\":[{\"fillpattern\":{\"fillmode\":\"overlay\",\"size\":10,\"solidity\":0.2},\"type\":\"scatter\"}],\"parcoords\":[{\"type\":\"parcoords\",\"line\":{\"colorbar\":{\"outlinewidth\":0,\"ticks\":\"\"}}}],\"scatterpolargl\":[{\"type\":\"scatterpolargl\",\"marker\":{\"colorbar\":{\"outlinewidth\":0,\"ticks\":\"\"}}}],\"bar\":[{\"error_x\":{\"color\":\"#2a3f5f\"},\"error_y\":{\"color\":\"#2a3f5f\"},\"marker\":{\"line\":{\"color\":\"#E5ECF6\",\"width\":0.5},\"pattern\":{\"fillmode\":\"overlay\",\"size\":10,\"solidity\":0.2}},\"type\":\"bar\"}],\"scattergeo\":[{\"type\":\"scattergeo\",\"marker\":{\"colorbar\":{\"outlinewidth\":0,\"ticks\":\"\"}}}],\"scatterpolar\":[{\"type\":\"scatterpolar\",\"marker\":{\"colorbar\":{\"outlinewidth\":0,\"ticks\":\"\"}}}],\"histogram\":[{\"marker\":{\"pattern\":{\"fillmode\":\"overlay\",\"size\":10,\"solidity\":0.2}},\"type\":\"histogram\"}],\"scattergl\":[{\"type\":\"scattergl\",\"marker\":{\"colorbar\":{\"outlinewidth\":0,\"ticks\":\"\"}}}],\"scatter3d\":[{\"type\":\"scatter3d\",\"line\":{\"colorbar\":{\"outlinewidth\":0,\"ticks\":\"\"}},\"marker\":{\"colorbar\":{\"outlinewidth\":0,\"ticks\":\"\"}}}],\"scattermapbox\":[{\"type\":\"scattermapbox\",\"marker\":{\"colorbar\":{\"outlinewidth\":0,\"ticks\":\"\"}}}],\"scatterternary\":[{\"type\":\"scatterternary\",\"marker\":{\"colorbar\":{\"outlinewidth\":0,\"ticks\":\"\"}}}],\"scattercarpet\":[{\"type\":\"scattercarpet\",\"marker\":{\"colorbar\":{\"outlinewidth\":0,\"ticks\":\"\"}}}],\"carpet\":[{\"aaxis\":{\"endlinecolor\":\"#2a3f5f\",\"gridcolor\":\"white\",\"linecolor\":\"white\",\"minorgridcolor\":\"white\",\"startlinecolor\":\"#2a3f5f\"},\"baxis\":{\"endlinecolor\":\"#2a3f5f\",\"gridcolor\":\"white\",\"linecolor\":\"white\",\"minorgridcolor\":\"white\",\"startlinecolor\":\"#2a3f5f\"},\"type\":\"carpet\"}],\"table\":[{\"cells\":{\"fill\":{\"color\":\"#EBF0F8\"},\"line\":{\"color\":\"white\"}},\"header\":{\"fill\":{\"color\":\"#C8D4E3\"},\"line\":{\"color\":\"white\"}},\"type\":\"table\"}],\"barpolar\":[{\"marker\":{\"line\":{\"color\":\"#E5ECF6\",\"width\":0.5},\"pattern\":{\"fillmode\":\"overlay\",\"size\":10,\"solidity\":0.2}},\"type\":\"barpolar\"}],\"pie\":[{\"automargin\":true,\"type\":\"pie\"}]},\"layout\":{\"autotypenumbers\":\"strict\",\"colorway\":[\"#636efa\",\"#EF553B\",\"#00cc96\",\"#ab63fa\",\"#FFA15A\",\"#19d3f3\",\"#FF6692\",\"#B6E880\",\"#FF97FF\",\"#FECB52\"],\"font\":{\"color\":\"#2a3f5f\"},\"hovermode\":\"closest\",\"hoverlabel\":{\"align\":\"left\"},\"paper_bgcolor\":\"white\",\"plot_bgcolor\":\"#E5ECF6\",\"polar\":{\"bgcolor\":\"#E5ECF6\",\"angularaxis\":{\"gridcolor\":\"white\",\"linecolor\":\"white\",\"ticks\":\"\"},\"radialaxis\":{\"gridcolor\":\"white\",\"linecolor\":\"white\",\"ticks\":\"\"}},\"ternary\":{\"bgcolor\":\"#E5ECF6\",\"aaxis\":{\"gridcolor\":\"white\",\"linecolor\":\"white\",\"ticks\":\"\"},\"baxis\":{\"gridcolor\":\"white\",\"linecolor\":\"white\",\"ticks\":\"\"},\"caxis\":{\"gridcolor\":\"white\",\"linecolor\":\"white\",\"ticks\":\"\"}},\"coloraxis\":{\"colorbar\":{\"outlinewidth\":0,\"ticks\":\"\"}},\"colorscale\":{\"sequential\":[[0.0,\"#0d0887\"],[0.1111111111111111,\"#46039f\"],[0.2222222222222222,\"#7201a8\"],[0.3333333333333333,\"#9c179e\"],[0.4444444444444444,\"#bd3786\"],[0.5555555555555556,\"#d8576b\"],[0.6666666666666666,\"#ed7953\"],[0.7777777777777778,\"#fb9f3a\"],[0.8888888888888888,\"#fdca26\"],[1.0,\"#f0f921\"]],\"sequentialminus\":[[0.0,\"#0d0887\"],[0.1111111111111111,\"#46039f\"],[0.2222222222222222,\"#7201a8\"],[0.3333333333333333,\"#9c179e\"],[0.4444444444444444,\"#bd3786\"],[0.5555555555555556,\"#d8576b\"],[0.6666666666666666,\"#ed7953\"],[0.7777777777777778,\"#fb9f3a\"],[0.8888888888888888,\"#fdca26\"],[1.0,\"#f0f921\"]],\"diverging\":[[0,\"#8e0152\"],[0.1,\"#c51b7d\"],[0.2,\"#de77ae\"],[0.3,\"#f1b6da\"],[0.4,\"#fde0ef\"],[0.5,\"#f7f7f7\"],[0.6,\"#e6f5d0\"],[0.7,\"#b8e186\"],[0.8,\"#7fbc41\"],[0.9,\"#4d9221\"],[1,\"#276419\"]]},\"xaxis\":{\"gridcolor\":\"white\",\"linecolor\":\"white\",\"ticks\":\"\",\"title\":{\"standoff\":15},\"zerolinecolor\":\"white\",\"automargin\":true,\"zerolinewidth\":2},\"yaxis\":{\"gridcolor\":\"white\",\"linecolor\":\"white\",\"ticks\":\"\",\"title\":{\"standoff\":15},\"zerolinecolor\":\"white\",\"automargin\":true,\"zerolinewidth\":2},\"scene\":{\"xaxis\":{\"backgroundcolor\":\"#E5ECF6\",\"gridcolor\":\"white\",\"linecolor\":\"white\",\"showbackground\":true,\"ticks\":\"\",\"zerolinecolor\":\"white\",\"gridwidth\":2},\"yaxis\":{\"backgroundcolor\":\"#E5ECF6\",\"gridcolor\":\"white\",\"linecolor\":\"white\",\"showbackground\":true,\"ticks\":\"\",\"zerolinecolor\":\"white\",\"gridwidth\":2},\"zaxis\":{\"backgroundcolor\":\"#E5ECF6\",\"gridcolor\":\"white\",\"linecolor\":\"white\",\"showbackground\":true,\"ticks\":\"\",\"zerolinecolor\":\"white\",\"gridwidth\":2}},\"shapedefaults\":{\"line\":{\"color\":\"#2a3f5f\"}},\"annotationdefaults\":{\"arrowcolor\":\"#2a3f5f\",\"arrowhead\":0,\"arrowwidth\":1},\"geo\":{\"bgcolor\":\"white\",\"landcolor\":\"#E5ECF6\",\"subunitcolor\":\"white\",\"showland\":true,\"showlakes\":true,\"lakecolor\":\"white\"},\"title\":{\"x\":0.05},\"mapbox\":{\"style\":\"light\"}}},\"xaxis\":{\"anchor\":\"y\",\"domain\":[0.0,1.0],\"title\":{\"text\":\"class\"},\"categoryorder\":\"array\",\"categoryarray\":[\"Did not return\",\"Returned\"],\"type\":\"category\"},\"yaxis\":{\"anchor\":\"x\",\"domain\":[0.0,1.0],\"title\":{\"text\":\"average (#mL)\"}},\"legend\":{\"title\":{\"text\":\"class\"},\"tracegroupgap\":0},\"title\":{\"text\":\"Average amount of blood donated\"},\"barmode\":\"relative\"},                        {\"responsive\": true}                    ).then(function(){\n",
              "                            \n",
              "var gd = document.getElementById('f04c9845-7b99-42d0-87e9-94d4bfdb9d21');\n",
              "var x = new MutationObserver(function (mutations, observer) {{\n",
              "        var display = window.getComputedStyle(gd).display;\n",
              "        if (!display || display === 'none') {{\n",
              "            console.log([gd, 'removed!']);\n",
              "            Plotly.purge(gd);\n",
              "            observer.disconnect();\n",
              "        }}\n",
              "}});\n",
              "\n",
              "// Listen for the removal of the full notebook cells\n",
              "var notebookContainer = gd.closest('#notebook-container');\n",
              "if (notebookContainer) {{\n",
              "    x.observe(notebookContainer, {childList: true});\n",
              "}}\n",
              "\n",
              "// Listen for the clearing of the current output cell\n",
              "var outputEl = gd.closest('.output');\n",
              "if (outputEl) {{\n",
              "    x.observe(outputEl, {childList: true});\n",
              "}}\n",
              "\n",
              "                        })                };                            </script>        </div>\n",
              "</body>\n",
              "</html>"
            ]
          },
          "metadata": {}
        }
      ]
    },
    {
      "cell_type": "code",
      "source": [
        "# classes vs. months_since_first_donation\n",
        "fig4 = px.bar(\n",
        "    data_frame = df_mean,\n",
        "    x = df_mean['class'],\n",
        "    y = df_mean['months_since_first_donation'],\n",
        "    color = df_mean['class'],\n",
        "    labels={'months_since_first_donation':'average (#Months)',},\n",
        "    title=\"Average amount of months since first donation\",\n",
        "    color_discrete_sequence=['darksalmon','darkred']\n",
        "    )\n",
        "\n",
        "fig4.update_xaxes(type='category')\n",
        "\n",
        "fig4.show()"
      ],
      "metadata": {
        "id": "FO-PxPmGKS8A",
        "outputId": "be6cecc4-37e8-4fe4-ff50-45faa83d2fd3",
        "colab": {
          "base_uri": "https://localhost:8080/",
          "height": 542
        }
      },
      "execution_count": 14,
      "outputs": [
        {
          "output_type": "display_data",
          "data": {
            "text/html": [
              "<html>\n",
              "<head><meta charset=\"utf-8\" /></head>\n",
              "<body>\n",
              "    <div>            <script src=\"https://cdnjs.cloudflare.com/ajax/libs/mathjax/2.7.5/MathJax.js?config=TeX-AMS-MML_SVG\"></script><script type=\"text/javascript\">if (window.MathJax && window.MathJax.Hub && window.MathJax.Hub.Config) {window.MathJax.Hub.Config({SVG: {font: \"STIX-Web\"}});}</script>                <script type=\"text/javascript\">window.PlotlyConfig = {MathJaxConfig: 'local'};</script>\n",
              "        <script charset=\"utf-8\" src=\"https://cdn.plot.ly/plotly-2.35.2.min.js\"></script>                <div id=\"5acc303b-1954-4383-b47d-91e7a6977703\" class=\"plotly-graph-div\" style=\"height:525px; width:100%;\"></div>            <script type=\"text/javascript\">                                    window.PLOTLYENV=window.PLOTLYENV || {};                                    if (document.getElementById(\"5acc303b-1954-4383-b47d-91e7a6977703\")) {                    Plotly.newPlot(                        \"5acc303b-1954-4383-b47d-91e7a6977703\",                        [{\"alignmentgroup\":\"True\",\"hovertemplate\":\"class=%{x}\\u003cbr\\u003eaverage (#Months)=%{y}\\u003cextra\\u003e\\u003c\\u002fextra\\u003e\",\"legendgroup\":\"Did not return\",\"marker\":{\"color\":\"darksalmon\",\"pattern\":{\"shape\":\"\"}},\"name\":\"Did not return\",\"offsetgroup\":\"Did not return\",\"orientation\":\"v\",\"showlegend\":true,\"textposition\":\"auto\",\"x\":[\"Did not return\"],\"xaxis\":\"x\",\"y\":[34.77017543859649],\"yaxis\":\"y\",\"type\":\"bar\"},{\"alignmentgroup\":\"True\",\"hovertemplate\":\"class=%{x}\\u003cbr\\u003eaverage (#Months)=%{y}\\u003cextra\\u003e\\u003c\\u002fextra\\u003e\",\"legendgroup\":\"Returned\",\"marker\":{\"color\":\"darkred\",\"pattern\":{\"shape\":\"\"}},\"name\":\"Returned\",\"offsetgroup\":\"Returned\",\"orientation\":\"v\",\"showlegend\":true,\"textposition\":\"auto\",\"x\":[\"Returned\"],\"xaxis\":\"x\",\"y\":[32.71910112359551],\"yaxis\":\"y\",\"type\":\"bar\"}],                        {\"template\":{\"data\":{\"histogram2dcontour\":[{\"type\":\"histogram2dcontour\",\"colorbar\":{\"outlinewidth\":0,\"ticks\":\"\"},\"colorscale\":[[0.0,\"#0d0887\"],[0.1111111111111111,\"#46039f\"],[0.2222222222222222,\"#7201a8\"],[0.3333333333333333,\"#9c179e\"],[0.4444444444444444,\"#bd3786\"],[0.5555555555555556,\"#d8576b\"],[0.6666666666666666,\"#ed7953\"],[0.7777777777777778,\"#fb9f3a\"],[0.8888888888888888,\"#fdca26\"],[1.0,\"#f0f921\"]]}],\"choropleth\":[{\"type\":\"choropleth\",\"colorbar\":{\"outlinewidth\":0,\"ticks\":\"\"}}],\"histogram2d\":[{\"type\":\"histogram2d\",\"colorbar\":{\"outlinewidth\":0,\"ticks\":\"\"},\"colorscale\":[[0.0,\"#0d0887\"],[0.1111111111111111,\"#46039f\"],[0.2222222222222222,\"#7201a8\"],[0.3333333333333333,\"#9c179e\"],[0.4444444444444444,\"#bd3786\"],[0.5555555555555556,\"#d8576b\"],[0.6666666666666666,\"#ed7953\"],[0.7777777777777778,\"#fb9f3a\"],[0.8888888888888888,\"#fdca26\"],[1.0,\"#f0f921\"]]}],\"heatmap\":[{\"type\":\"heatmap\",\"colorbar\":{\"outlinewidth\":0,\"ticks\":\"\"},\"colorscale\":[[0.0,\"#0d0887\"],[0.1111111111111111,\"#46039f\"],[0.2222222222222222,\"#7201a8\"],[0.3333333333333333,\"#9c179e\"],[0.4444444444444444,\"#bd3786\"],[0.5555555555555556,\"#d8576b\"],[0.6666666666666666,\"#ed7953\"],[0.7777777777777778,\"#fb9f3a\"],[0.8888888888888888,\"#fdca26\"],[1.0,\"#f0f921\"]]}],\"heatmapgl\":[{\"type\":\"heatmapgl\",\"colorbar\":{\"outlinewidth\":0,\"ticks\":\"\"},\"colorscale\":[[0.0,\"#0d0887\"],[0.1111111111111111,\"#46039f\"],[0.2222222222222222,\"#7201a8\"],[0.3333333333333333,\"#9c179e\"],[0.4444444444444444,\"#bd3786\"],[0.5555555555555556,\"#d8576b\"],[0.6666666666666666,\"#ed7953\"],[0.7777777777777778,\"#fb9f3a\"],[0.8888888888888888,\"#fdca26\"],[1.0,\"#f0f921\"]]}],\"contourcarpet\":[{\"type\":\"contourcarpet\",\"colorbar\":{\"outlinewidth\":0,\"ticks\":\"\"}}],\"contour\":[{\"type\":\"contour\",\"colorbar\":{\"outlinewidth\":0,\"ticks\":\"\"},\"colorscale\":[[0.0,\"#0d0887\"],[0.1111111111111111,\"#46039f\"],[0.2222222222222222,\"#7201a8\"],[0.3333333333333333,\"#9c179e\"],[0.4444444444444444,\"#bd3786\"],[0.5555555555555556,\"#d8576b\"],[0.6666666666666666,\"#ed7953\"],[0.7777777777777778,\"#fb9f3a\"],[0.8888888888888888,\"#fdca26\"],[1.0,\"#f0f921\"]]}],\"surface\":[{\"type\":\"surface\",\"colorbar\":{\"outlinewidth\":0,\"ticks\":\"\"},\"colorscale\":[[0.0,\"#0d0887\"],[0.1111111111111111,\"#46039f\"],[0.2222222222222222,\"#7201a8\"],[0.3333333333333333,\"#9c179e\"],[0.4444444444444444,\"#bd3786\"],[0.5555555555555556,\"#d8576b\"],[0.6666666666666666,\"#ed7953\"],[0.7777777777777778,\"#fb9f3a\"],[0.8888888888888888,\"#fdca26\"],[1.0,\"#f0f921\"]]}],\"mesh3d\":[{\"type\":\"mesh3d\",\"colorbar\":{\"outlinewidth\":0,\"ticks\":\"\"}}],\"scatter\":[{\"fillpattern\":{\"fillmode\":\"overlay\",\"size\":10,\"solidity\":0.2},\"type\":\"scatter\"}],\"parcoords\":[{\"type\":\"parcoords\",\"line\":{\"colorbar\":{\"outlinewidth\":0,\"ticks\":\"\"}}}],\"scatterpolargl\":[{\"type\":\"scatterpolargl\",\"marker\":{\"colorbar\":{\"outlinewidth\":0,\"ticks\":\"\"}}}],\"bar\":[{\"error_x\":{\"color\":\"#2a3f5f\"},\"error_y\":{\"color\":\"#2a3f5f\"},\"marker\":{\"line\":{\"color\":\"#E5ECF6\",\"width\":0.5},\"pattern\":{\"fillmode\":\"overlay\",\"size\":10,\"solidity\":0.2}},\"type\":\"bar\"}],\"scattergeo\":[{\"type\":\"scattergeo\",\"marker\":{\"colorbar\":{\"outlinewidth\":0,\"ticks\":\"\"}}}],\"scatterpolar\":[{\"type\":\"scatterpolar\",\"marker\":{\"colorbar\":{\"outlinewidth\":0,\"ticks\":\"\"}}}],\"histogram\":[{\"marker\":{\"pattern\":{\"fillmode\":\"overlay\",\"size\":10,\"solidity\":0.2}},\"type\":\"histogram\"}],\"scattergl\":[{\"type\":\"scattergl\",\"marker\":{\"colorbar\":{\"outlinewidth\":0,\"ticks\":\"\"}}}],\"scatter3d\":[{\"type\":\"scatter3d\",\"line\":{\"colorbar\":{\"outlinewidth\":0,\"ticks\":\"\"}},\"marker\":{\"colorbar\":{\"outlinewidth\":0,\"ticks\":\"\"}}}],\"scattermapbox\":[{\"type\":\"scattermapbox\",\"marker\":{\"colorbar\":{\"outlinewidth\":0,\"ticks\":\"\"}}}],\"scatterternary\":[{\"type\":\"scatterternary\",\"marker\":{\"colorbar\":{\"outlinewidth\":0,\"ticks\":\"\"}}}],\"scattercarpet\":[{\"type\":\"scattercarpet\",\"marker\":{\"colorbar\":{\"outlinewidth\":0,\"ticks\":\"\"}}}],\"carpet\":[{\"aaxis\":{\"endlinecolor\":\"#2a3f5f\",\"gridcolor\":\"white\",\"linecolor\":\"white\",\"minorgridcolor\":\"white\",\"startlinecolor\":\"#2a3f5f\"},\"baxis\":{\"endlinecolor\":\"#2a3f5f\",\"gridcolor\":\"white\",\"linecolor\":\"white\",\"minorgridcolor\":\"white\",\"startlinecolor\":\"#2a3f5f\"},\"type\":\"carpet\"}],\"table\":[{\"cells\":{\"fill\":{\"color\":\"#EBF0F8\"},\"line\":{\"color\":\"white\"}},\"header\":{\"fill\":{\"color\":\"#C8D4E3\"},\"line\":{\"color\":\"white\"}},\"type\":\"table\"}],\"barpolar\":[{\"marker\":{\"line\":{\"color\":\"#E5ECF6\",\"width\":0.5},\"pattern\":{\"fillmode\":\"overlay\",\"size\":10,\"solidity\":0.2}},\"type\":\"barpolar\"}],\"pie\":[{\"automargin\":true,\"type\":\"pie\"}]},\"layout\":{\"autotypenumbers\":\"strict\",\"colorway\":[\"#636efa\",\"#EF553B\",\"#00cc96\",\"#ab63fa\",\"#FFA15A\",\"#19d3f3\",\"#FF6692\",\"#B6E880\",\"#FF97FF\",\"#FECB52\"],\"font\":{\"color\":\"#2a3f5f\"},\"hovermode\":\"closest\",\"hoverlabel\":{\"align\":\"left\"},\"paper_bgcolor\":\"white\",\"plot_bgcolor\":\"#E5ECF6\",\"polar\":{\"bgcolor\":\"#E5ECF6\",\"angularaxis\":{\"gridcolor\":\"white\",\"linecolor\":\"white\",\"ticks\":\"\"},\"radialaxis\":{\"gridcolor\":\"white\",\"linecolor\":\"white\",\"ticks\":\"\"}},\"ternary\":{\"bgcolor\":\"#E5ECF6\",\"aaxis\":{\"gridcolor\":\"white\",\"linecolor\":\"white\",\"ticks\":\"\"},\"baxis\":{\"gridcolor\":\"white\",\"linecolor\":\"white\",\"ticks\":\"\"},\"caxis\":{\"gridcolor\":\"white\",\"linecolor\":\"white\",\"ticks\":\"\"}},\"coloraxis\":{\"colorbar\":{\"outlinewidth\":0,\"ticks\":\"\"}},\"colorscale\":{\"sequential\":[[0.0,\"#0d0887\"],[0.1111111111111111,\"#46039f\"],[0.2222222222222222,\"#7201a8\"],[0.3333333333333333,\"#9c179e\"],[0.4444444444444444,\"#bd3786\"],[0.5555555555555556,\"#d8576b\"],[0.6666666666666666,\"#ed7953\"],[0.7777777777777778,\"#fb9f3a\"],[0.8888888888888888,\"#fdca26\"],[1.0,\"#f0f921\"]],\"sequentialminus\":[[0.0,\"#0d0887\"],[0.1111111111111111,\"#46039f\"],[0.2222222222222222,\"#7201a8\"],[0.3333333333333333,\"#9c179e\"],[0.4444444444444444,\"#bd3786\"],[0.5555555555555556,\"#d8576b\"],[0.6666666666666666,\"#ed7953\"],[0.7777777777777778,\"#fb9f3a\"],[0.8888888888888888,\"#fdca26\"],[1.0,\"#f0f921\"]],\"diverging\":[[0,\"#8e0152\"],[0.1,\"#c51b7d\"],[0.2,\"#de77ae\"],[0.3,\"#f1b6da\"],[0.4,\"#fde0ef\"],[0.5,\"#f7f7f7\"],[0.6,\"#e6f5d0\"],[0.7,\"#b8e186\"],[0.8,\"#7fbc41\"],[0.9,\"#4d9221\"],[1,\"#276419\"]]},\"xaxis\":{\"gridcolor\":\"white\",\"linecolor\":\"white\",\"ticks\":\"\",\"title\":{\"standoff\":15},\"zerolinecolor\":\"white\",\"automargin\":true,\"zerolinewidth\":2},\"yaxis\":{\"gridcolor\":\"white\",\"linecolor\":\"white\",\"ticks\":\"\",\"title\":{\"standoff\":15},\"zerolinecolor\":\"white\",\"automargin\":true,\"zerolinewidth\":2},\"scene\":{\"xaxis\":{\"backgroundcolor\":\"#E5ECF6\",\"gridcolor\":\"white\",\"linecolor\":\"white\",\"showbackground\":true,\"ticks\":\"\",\"zerolinecolor\":\"white\",\"gridwidth\":2},\"yaxis\":{\"backgroundcolor\":\"#E5ECF6\",\"gridcolor\":\"white\",\"linecolor\":\"white\",\"showbackground\":true,\"ticks\":\"\",\"zerolinecolor\":\"white\",\"gridwidth\":2},\"zaxis\":{\"backgroundcolor\":\"#E5ECF6\",\"gridcolor\":\"white\",\"linecolor\":\"white\",\"showbackground\":true,\"ticks\":\"\",\"zerolinecolor\":\"white\",\"gridwidth\":2}},\"shapedefaults\":{\"line\":{\"color\":\"#2a3f5f\"}},\"annotationdefaults\":{\"arrowcolor\":\"#2a3f5f\",\"arrowhead\":0,\"arrowwidth\":1},\"geo\":{\"bgcolor\":\"white\",\"landcolor\":\"#E5ECF6\",\"subunitcolor\":\"white\",\"showland\":true,\"showlakes\":true,\"lakecolor\":\"white\"},\"title\":{\"x\":0.05},\"mapbox\":{\"style\":\"light\"}}},\"xaxis\":{\"anchor\":\"y\",\"domain\":[0.0,1.0],\"title\":{\"text\":\"class\"},\"categoryorder\":\"array\",\"categoryarray\":[\"Did not return\",\"Returned\"],\"type\":\"category\"},\"yaxis\":{\"anchor\":\"x\",\"domain\":[0.0,1.0],\"title\":{\"text\":\"average (#Months)\"}},\"legend\":{\"title\":{\"text\":\"class\"},\"tracegroupgap\":0},\"title\":{\"text\":\"Average amount of months since first donation\"},\"barmode\":\"relative\"},                        {\"responsive\": true}                    ).then(function(){\n",
              "                            \n",
              "var gd = document.getElementById('5acc303b-1954-4383-b47d-91e7a6977703');\n",
              "var x = new MutationObserver(function (mutations, observer) {{\n",
              "        var display = window.getComputedStyle(gd).display;\n",
              "        if (!display || display === 'none') {{\n",
              "            console.log([gd, 'removed!']);\n",
              "            Plotly.purge(gd);\n",
              "            observer.disconnect();\n",
              "        }}\n",
              "}});\n",
              "\n",
              "// Listen for the removal of the full notebook cells\n",
              "var notebookContainer = gd.closest('#notebook-container');\n",
              "if (notebookContainer) {{\n",
              "    x.observe(notebookContainer, {childList: true});\n",
              "}}\n",
              "\n",
              "// Listen for the clearing of the current output cell\n",
              "var outputEl = gd.closest('.output');\n",
              "if (outputEl) {{\n",
              "    x.observe(outputEl, {childList: true});\n",
              "}}\n",
              "\n",
              "                        })                };                            </script>        </div>\n",
              "</body>\n",
              "</html>"
            ]
          },
          "metadata": {}
        }
      ]
    },
    {
      "cell_type": "markdown",
      "source": [
        "# Task 2 - Preprocessing"
      ],
      "metadata": {
        "id": "MUyP-akzKbyt"
      }
    },
    {
      "cell_type": "markdown",
      "source": [
        "### 2.1) Normalization"
      ],
      "metadata": {
        "id": "atU4M3zaKd1K"
      }
    },
    {
      "cell_type": "code",
      "source": [
        "# Log normalization\n",
        "def log_normalization(column: pd.Series) -> pd.Series:\n",
        "    min = column.min()\n",
        "    max = column.max()\n",
        "\n",
        "    c = 0000000000000.1\n",
        "\n",
        "    normalized = (np.log(column + c) - np.log(min + c)) / (np.log(max + c) - np.log(min + c))\n",
        "\n",
        "    return normalized\n",
        "\n",
        "# Remove the target feature from preprocessing\n",
        "df_norm = df.drop(columns=['class'])\n",
        "\n",
        "for c in df_norm.columns:\n",
        "  df_norm[c] = log_normalization(df_norm[c])\n",
        "\n",
        "df_norm.describe()"
      ],
      "metadata": {
        "id": "lT6vkLyzKcNU",
        "outputId": "edf83372-d2f7-40d9-8516-ad299f389fe0",
        "colab": {
          "base_uri": "https://localhost:8080/",
          "height": 297
        }
      },
      "execution_count": 15,
      "outputs": [
        {
          "output_type": "execute_result",
          "data": {
            "text/plain": [
              "       months_since_last_donation  total_number_of_donations  \\\n",
              "count                  748.000000                 748.000000   \n",
              "mean                     0.631986                   0.323562   \n",
              "std                      0.145038                   0.231728   \n",
              "min                      0.000000                   0.000000   \n",
              "25%                      0.504937                   0.169331   \n",
              "50%                      0.645079                   0.344534   \n",
              "75%                      0.748904                   0.488328   \n",
              "max                      1.000000                   1.000000   \n",
              "\n",
              "       total_blood_donated  months_since_first_donation  \n",
              "count           748.000000                   748.000000  \n",
              "mean              0.330235                     0.636763  \n",
              "std               0.233763                     0.251530  \n",
              "min               0.000000                     0.000000  \n",
              "25%               0.177150                     0.529879  \n",
              "50%               0.354326                     0.674765  \n",
              "75%               0.497380                     0.825193  \n",
              "max               1.000000                     1.000000  "
            ],
            "text/html": [
              "\n",
              "  <div id=\"df-a2218ec2-9e66-493a-a4d1-fefde9495408\" class=\"colab-df-container\">\n",
              "    <div>\n",
              "<style scoped>\n",
              "    .dataframe tbody tr th:only-of-type {\n",
              "        vertical-align: middle;\n",
              "    }\n",
              "\n",
              "    .dataframe tbody tr th {\n",
              "        vertical-align: top;\n",
              "    }\n",
              "\n",
              "    .dataframe thead th {\n",
              "        text-align: right;\n",
              "    }\n",
              "</style>\n",
              "<table border=\"1\" class=\"dataframe\">\n",
              "  <thead>\n",
              "    <tr style=\"text-align: right;\">\n",
              "      <th></th>\n",
              "      <th>months_since_last_donation</th>\n",
              "      <th>total_number_of_donations</th>\n",
              "      <th>total_blood_donated</th>\n",
              "      <th>months_since_first_donation</th>\n",
              "    </tr>\n",
              "  </thead>\n",
              "  <tbody>\n",
              "    <tr>\n",
              "      <th>count</th>\n",
              "      <td>748.000000</td>\n",
              "      <td>748.000000</td>\n",
              "      <td>748.000000</td>\n",
              "      <td>748.000000</td>\n",
              "    </tr>\n",
              "    <tr>\n",
              "      <th>mean</th>\n",
              "      <td>0.631986</td>\n",
              "      <td>0.323562</td>\n",
              "      <td>0.330235</td>\n",
              "      <td>0.636763</td>\n",
              "    </tr>\n",
              "    <tr>\n",
              "      <th>std</th>\n",
              "      <td>0.145038</td>\n",
              "      <td>0.231728</td>\n",
              "      <td>0.233763</td>\n",
              "      <td>0.251530</td>\n",
              "    </tr>\n",
              "    <tr>\n",
              "      <th>min</th>\n",
              "      <td>0.000000</td>\n",
              "      <td>0.000000</td>\n",
              "      <td>0.000000</td>\n",
              "      <td>0.000000</td>\n",
              "    </tr>\n",
              "    <tr>\n",
              "      <th>25%</th>\n",
              "      <td>0.504937</td>\n",
              "      <td>0.169331</td>\n",
              "      <td>0.177150</td>\n",
              "      <td>0.529879</td>\n",
              "    </tr>\n",
              "    <tr>\n",
              "      <th>50%</th>\n",
              "      <td>0.645079</td>\n",
              "      <td>0.344534</td>\n",
              "      <td>0.354326</td>\n",
              "      <td>0.674765</td>\n",
              "    </tr>\n",
              "    <tr>\n",
              "      <th>75%</th>\n",
              "      <td>0.748904</td>\n",
              "      <td>0.488328</td>\n",
              "      <td>0.497380</td>\n",
              "      <td>0.825193</td>\n",
              "    </tr>\n",
              "    <tr>\n",
              "      <th>max</th>\n",
              "      <td>1.000000</td>\n",
              "      <td>1.000000</td>\n",
              "      <td>1.000000</td>\n",
              "      <td>1.000000</td>\n",
              "    </tr>\n",
              "  </tbody>\n",
              "</table>\n",
              "</div>\n",
              "    <div class=\"colab-df-buttons\">\n",
              "\n",
              "  <div class=\"colab-df-container\">\n",
              "    <button class=\"colab-df-convert\" onclick=\"convertToInteractive('df-a2218ec2-9e66-493a-a4d1-fefde9495408')\"\n",
              "            title=\"Convert this dataframe to an interactive table.\"\n",
              "            style=\"display:none;\">\n",
              "\n",
              "  <svg xmlns=\"http://www.w3.org/2000/svg\" height=\"24px\" viewBox=\"0 -960 960 960\">\n",
              "    <path d=\"M120-120v-720h720v720H120Zm60-500h600v-160H180v160Zm220 220h160v-160H400v160Zm0 220h160v-160H400v160ZM180-400h160v-160H180v160Zm440 0h160v-160H620v160ZM180-180h160v-160H180v160Zm440 0h160v-160H620v160Z\"/>\n",
              "  </svg>\n",
              "    </button>\n",
              "\n",
              "  <style>\n",
              "    .colab-df-container {\n",
              "      display:flex;\n",
              "      gap: 12px;\n",
              "    }\n",
              "\n",
              "    .colab-df-convert {\n",
              "      background-color: #E8F0FE;\n",
              "      border: none;\n",
              "      border-radius: 50%;\n",
              "      cursor: pointer;\n",
              "      display: none;\n",
              "      fill: #1967D2;\n",
              "      height: 32px;\n",
              "      padding: 0 0 0 0;\n",
              "      width: 32px;\n",
              "    }\n",
              "\n",
              "    .colab-df-convert:hover {\n",
              "      background-color: #E2EBFA;\n",
              "      box-shadow: 0px 1px 2px rgba(60, 64, 67, 0.3), 0px 1px 3px 1px rgba(60, 64, 67, 0.15);\n",
              "      fill: #174EA6;\n",
              "    }\n",
              "\n",
              "    .colab-df-buttons div {\n",
              "      margin-bottom: 4px;\n",
              "    }\n",
              "\n",
              "    [theme=dark] .colab-df-convert {\n",
              "      background-color: #3B4455;\n",
              "      fill: #D2E3FC;\n",
              "    }\n",
              "\n",
              "    [theme=dark] .colab-df-convert:hover {\n",
              "      background-color: #434B5C;\n",
              "      box-shadow: 0px 1px 3px 1px rgba(0, 0, 0, 0.15);\n",
              "      filter: drop-shadow(0px 1px 2px rgba(0, 0, 0, 0.3));\n",
              "      fill: #FFFFFF;\n",
              "    }\n",
              "  </style>\n",
              "\n",
              "    <script>\n",
              "      const buttonEl =\n",
              "        document.querySelector('#df-a2218ec2-9e66-493a-a4d1-fefde9495408 button.colab-df-convert');\n",
              "      buttonEl.style.display =\n",
              "        google.colab.kernel.accessAllowed ? 'block' : 'none';\n",
              "\n",
              "      async function convertToInteractive(key) {\n",
              "        const element = document.querySelector('#df-a2218ec2-9e66-493a-a4d1-fefde9495408');\n",
              "        const dataTable =\n",
              "          await google.colab.kernel.invokeFunction('convertToInteractive',\n",
              "                                                    [key], {});\n",
              "        if (!dataTable) return;\n",
              "\n",
              "        const docLinkHtml = 'Like what you see? Visit the ' +\n",
              "          '<a target=\"_blank\" href=https://colab.research.google.com/notebooks/data_table.ipynb>data table notebook</a>'\n",
              "          + ' to learn more about interactive tables.';\n",
              "        element.innerHTML = '';\n",
              "        dataTable['output_type'] = 'display_data';\n",
              "        await google.colab.output.renderOutput(dataTable, element);\n",
              "        const docLink = document.createElement('div');\n",
              "        docLink.innerHTML = docLinkHtml;\n",
              "        element.appendChild(docLink);\n",
              "      }\n",
              "    </script>\n",
              "  </div>\n",
              "\n",
              "\n",
              "    <div id=\"df-3118935a-b2e6-4b94-befc-1d41f0b6c1ec\">\n",
              "      <button class=\"colab-df-quickchart\" onclick=\"quickchart('df-3118935a-b2e6-4b94-befc-1d41f0b6c1ec')\"\n",
              "                title=\"Suggest charts\"\n",
              "                style=\"display:none;\">\n",
              "\n",
              "<svg xmlns=\"http://www.w3.org/2000/svg\" height=\"24px\"viewBox=\"0 0 24 24\"\n",
              "     width=\"24px\">\n",
              "    <g>\n",
              "        <path d=\"M19 3H5c-1.1 0-2 .9-2 2v14c0 1.1.9 2 2 2h14c1.1 0 2-.9 2-2V5c0-1.1-.9-2-2-2zM9 17H7v-7h2v7zm4 0h-2V7h2v10zm4 0h-2v-4h2v4z\"/>\n",
              "    </g>\n",
              "</svg>\n",
              "      </button>\n",
              "\n",
              "<style>\n",
              "  .colab-df-quickchart {\n",
              "      --bg-color: #E8F0FE;\n",
              "      --fill-color: #1967D2;\n",
              "      --hover-bg-color: #E2EBFA;\n",
              "      --hover-fill-color: #174EA6;\n",
              "      --disabled-fill-color: #AAA;\n",
              "      --disabled-bg-color: #DDD;\n",
              "  }\n",
              "\n",
              "  [theme=dark] .colab-df-quickchart {\n",
              "      --bg-color: #3B4455;\n",
              "      --fill-color: #D2E3FC;\n",
              "      --hover-bg-color: #434B5C;\n",
              "      --hover-fill-color: #FFFFFF;\n",
              "      --disabled-bg-color: #3B4455;\n",
              "      --disabled-fill-color: #666;\n",
              "  }\n",
              "\n",
              "  .colab-df-quickchart {\n",
              "    background-color: var(--bg-color);\n",
              "    border: none;\n",
              "    border-radius: 50%;\n",
              "    cursor: pointer;\n",
              "    display: none;\n",
              "    fill: var(--fill-color);\n",
              "    height: 32px;\n",
              "    padding: 0;\n",
              "    width: 32px;\n",
              "  }\n",
              "\n",
              "  .colab-df-quickchart:hover {\n",
              "    background-color: var(--hover-bg-color);\n",
              "    box-shadow: 0 1px 2px rgba(60, 64, 67, 0.3), 0 1px 3px 1px rgba(60, 64, 67, 0.15);\n",
              "    fill: var(--button-hover-fill-color);\n",
              "  }\n",
              "\n",
              "  .colab-df-quickchart-complete:disabled,\n",
              "  .colab-df-quickchart-complete:disabled:hover {\n",
              "    background-color: var(--disabled-bg-color);\n",
              "    fill: var(--disabled-fill-color);\n",
              "    box-shadow: none;\n",
              "  }\n",
              "\n",
              "  .colab-df-spinner {\n",
              "    border: 2px solid var(--fill-color);\n",
              "    border-color: transparent;\n",
              "    border-bottom-color: var(--fill-color);\n",
              "    animation:\n",
              "      spin 1s steps(1) infinite;\n",
              "  }\n",
              "\n",
              "  @keyframes spin {\n",
              "    0% {\n",
              "      border-color: transparent;\n",
              "      border-bottom-color: var(--fill-color);\n",
              "      border-left-color: var(--fill-color);\n",
              "    }\n",
              "    20% {\n",
              "      border-color: transparent;\n",
              "      border-left-color: var(--fill-color);\n",
              "      border-top-color: var(--fill-color);\n",
              "    }\n",
              "    30% {\n",
              "      border-color: transparent;\n",
              "      border-left-color: var(--fill-color);\n",
              "      border-top-color: var(--fill-color);\n",
              "      border-right-color: var(--fill-color);\n",
              "    }\n",
              "    40% {\n",
              "      border-color: transparent;\n",
              "      border-right-color: var(--fill-color);\n",
              "      border-top-color: var(--fill-color);\n",
              "    }\n",
              "    60% {\n",
              "      border-color: transparent;\n",
              "      border-right-color: var(--fill-color);\n",
              "    }\n",
              "    80% {\n",
              "      border-color: transparent;\n",
              "      border-right-color: var(--fill-color);\n",
              "      border-bottom-color: var(--fill-color);\n",
              "    }\n",
              "    90% {\n",
              "      border-color: transparent;\n",
              "      border-bottom-color: var(--fill-color);\n",
              "    }\n",
              "  }\n",
              "</style>\n",
              "\n",
              "      <script>\n",
              "        async function quickchart(key) {\n",
              "          const quickchartButtonEl =\n",
              "            document.querySelector('#' + key + ' button');\n",
              "          quickchartButtonEl.disabled = true;  // To prevent multiple clicks.\n",
              "          quickchartButtonEl.classList.add('colab-df-spinner');\n",
              "          try {\n",
              "            const charts = await google.colab.kernel.invokeFunction(\n",
              "                'suggestCharts', [key], {});\n",
              "          } catch (error) {\n",
              "            console.error('Error during call to suggestCharts:', error);\n",
              "          }\n",
              "          quickchartButtonEl.classList.remove('colab-df-spinner');\n",
              "          quickchartButtonEl.classList.add('colab-df-quickchart-complete');\n",
              "        }\n",
              "        (() => {\n",
              "          let quickchartButtonEl =\n",
              "            document.querySelector('#df-3118935a-b2e6-4b94-befc-1d41f0b6c1ec button');\n",
              "          quickchartButtonEl.style.display =\n",
              "            google.colab.kernel.accessAllowed ? 'block' : 'none';\n",
              "        })();\n",
              "      </script>\n",
              "    </div>\n",
              "\n",
              "    </div>\n",
              "  </div>\n"
            ],
            "application/vnd.google.colaboratory.intrinsic+json": {
              "type": "dataframe",
              "summary": "{\n  \"name\": \"df_norm\",\n  \"rows\": 8,\n  \"fields\": [\n    {\n      \"column\": \"months_since_last_donation\",\n      \"properties\": {\n        \"dtype\": \"number\",\n        \"std\": 264.27246813978644,\n        \"min\": 0.0,\n        \"max\": 748.0,\n        \"num_unique_values\": 8,\n        \"samples\": [\n          0.6319856820020031,\n          0.6450786128444587,\n          748.0\n        ],\n        \"semantic_type\": \"\",\n        \"description\": \"\"\n      }\n    },\n    {\n      \"column\": \"total_number_of_donations\",\n      \"properties\": {\n        \"dtype\": \"number\",\n        \"std\": 264.32892849145486,\n        \"min\": 0.0,\n        \"max\": 748.0,\n        \"num_unique_values\": 8,\n        \"samples\": [\n          0.32356242259951934,\n          0.34453428213528764,\n          748.0\n        ],\n        \"semantic_type\": \"\",\n        \"description\": \"\"\n      }\n    },\n    {\n      \"column\": \"total_blood_donated\",\n      \"properties\": {\n        \"dtype\": \"number\",\n        \"std\": 264.32714136938694,\n        \"min\": 0.0,\n        \"max\": 748.0,\n        \"num_unique_values\": 8,\n        \"samples\": [\n          0.3302352565206852,\n          0.3543264704284066,\n          748.0\n        ],\n        \"semantic_type\": \"\",\n        \"description\": \"\"\n      }\n    },\n    {\n      \"column\": \"months_since_first_donation\",\n      \"properties\": {\n        \"dtype\": \"number\",\n        \"std\": 264.26022789168553,\n        \"min\": 0.0,\n        \"max\": 748.0,\n        \"num_unique_values\": 8,\n        \"samples\": [\n          0.6367630402157781,\n          0.6747654731005414,\n          748.0\n        ],\n        \"semantic_type\": \"\",\n        \"description\": \"\"\n      }\n    }\n  ]\n}"
            }
          },
          "metadata": {},
          "execution_count": 15
        }
      ]
    },
    {
      "cell_type": "markdown",
      "source": [
        "### 2.2) Dimensionality Reduction"
      ],
      "metadata": {
        "id": "8-rSjQyYKk2K"
      }
    },
    {
      "cell_type": "code",
      "source": [
        "fig5 = px.scatter(\n",
        "    data_frame= df,\n",
        "    y = df['total_blood_donated'],\n",
        "    x = df['total_number_of_donations'],\n",
        "    title=\"#Donations vs. #Blood (mL)\",\n",
        "\n",
        ")\n",
        "fig5.show()\n",
        "\n",
        "df['ratio'] = df['total_blood_donated'] / df['total_number_of_donations']\n",
        "print(df['ratio'].std())"
      ],
      "metadata": {
        "id": "pNFgb2RoKlOv",
        "outputId": "4012b80f-3577-4d73-b867-e08971cc0903",
        "colab": {
          "base_uri": "https://localhost:8080/",
          "height": 559
        }
      },
      "execution_count": 16,
      "outputs": [
        {
          "output_type": "display_data",
          "data": {
            "text/html": [
              "<html>\n",
              "<head><meta charset=\"utf-8\" /></head>\n",
              "<body>\n",
              "    <div>            <script src=\"https://cdnjs.cloudflare.com/ajax/libs/mathjax/2.7.5/MathJax.js?config=TeX-AMS-MML_SVG\"></script><script type=\"text/javascript\">if (window.MathJax && window.MathJax.Hub && window.MathJax.Hub.Config) {window.MathJax.Hub.Config({SVG: {font: \"STIX-Web\"}});}</script>                <script type=\"text/javascript\">window.PlotlyConfig = {MathJaxConfig: 'local'};</script>\n",
              "        <script charset=\"utf-8\" src=\"https://cdn.plot.ly/plotly-2.35.2.min.js\"></script>                <div id=\"514ea0b4-6a07-4333-ab1f-fd800b9424f4\" class=\"plotly-graph-div\" style=\"height:525px; width:100%;\"></div>            <script type=\"text/javascript\">                                    window.PLOTLYENV=window.PLOTLYENV || {};                                    if (document.getElementById(\"514ea0b4-6a07-4333-ab1f-fd800b9424f4\")) {                    Plotly.newPlot(                        \"514ea0b4-6a07-4333-ab1f-fd800b9424f4\",                        [{\"hovertemplate\":\"total_number_of_donations=%{x}\\u003cbr\\u003etotal_blood_donated=%{y}\\u003cextra\\u003e\\u003c\\u002fextra\\u003e\",\"legendgroup\":\"\",\"marker\":{\"color\":\"#636efa\",\"symbol\":\"circle\"},\"mode\":\"markers\",\"name\":\"\",\"orientation\":\"v\",\"showlegend\":false,\"x\":[50.0,13.0,16.0,20.0,24.0,4.0,7.0,12.0,9.0,46.0,23.0,3.0,10.0,13.0,6.0,5.0,14.0,15.0,6.0,3.0,3.0,11.0,6.0,6.0,9.0,14.0,6.0,12.0,5.0,8.0,14.0,10.0,10.0,9.0,16.0,8.0,12.0,6.0,14.0,7.0,13.0,5.0,5.0,5.0,20.0,9.0,9.0,2.0,2.0,2.0,11.0,11.0,6.0,12.0,5.0,19.0,8.0,7.0,16.0,6.0,7.0,8.0,10.0,5.0,3.0,16.0,4.0,2.0,7.0,9.0,4.0,4.0,17.0,2.0,2.0,2.0,4.0,2.0,2.0,2.0,6.0,4.0,4.0,4.0,6.0,6.0,2.0,2.0,2.0,7.0,2.0,2.0,2.0,2.0,11.0,7.0,17.0,9.0,4.0,7.0,8.0,13.0,9.0,5.0,5.0,17.0,8.0,5.0,3.0,10.0,5.0,9.0,5.0,8.0,12.0,24.0,7.0,11.0,7.0,11.0,3.0,5.0,6.0,5.0,4.0,5.0,8.0,4.0,8.0,2.0,5.0,12.0,2.0,6.0,11.0,3.0,5.0,12.0,5.0,2.0,9.0,14.0,3.0,3.0,2.0,3.0,3.0,2.0,2.0,2.0,7.0,6.0,11.0,1.0,1.0,1.0,1.0,1.0,1.0,1.0,1.0,1.0,1.0,1.0,1.0,1.0,1.0,1.0,1.0,1.0,1.0,1.0,1.0,1.0,1.0,10.0,4.0,5.0,6.0,3.0,4.0,4.0,4.0,12.0,8.0,9.0,5.0,4.0,15.0,5.0,7.0,7.0,4.0,11.0,2.0,5.0,8.0,6.0,7.0,9.0,6.0,7.0,2.0,7.0,9.0,6.0,2.0,7.0,6.0,3.0,1.0,1.0,1.0,1.0,1.0,1.0,1.0,1.0,1.0,1.0,1.0,1.0,1.0,1.0,1.0,1.0,1.0,3.0,1.0,1.0,1.0,1.0,1.0,8.0,7.0,10.0,3.0,2.0,4.0,9.0,8.0,22.0,3.0,17.0,2.0,5.0,12.0,12.0,2.0,2.0,2.0,6.0,8.0,3.0,13.0,3.0,8.0,7.0,3.0,12.0,4.0,14.0,2.0,3.0,5.0,4.0,2.0,8.0,7.0,4.0,11.0,7.0,2.0,5.0,5.0,4.0,13.0,3.0,18.0,8.0,16.0,4.0,5.0,2.0,5.0,2.0,2.0,2.0,5.0,3.0,4.0,12.0,4.0,5.0,5.0,4.0,5.0,2.0,2.0,2.0,2.0,2.0,2.0,3.0,6.0,5.0,5.0,3.0,4.0,3.0,5.0,2.0,9.0,1.0,1.0,2.0,2.0,4.0,9.0,5.0,16.0,5.0,4.0,8.0,7.0,2.0,2.0,16.0,4.0,7.0,7.0,6.0,6.0,7.0,2.0,3.0,3.0,7.0,1.0,3.0,4.0,38.0,6.0,1.0,1.0,1.0,1.0,1.0,1.0,1.0,1.0,2.0,5.0,2.0,4.0,2.0,6.0,3.0,2.0,16.0,6.0,2.0,3.0,13.0,6.0,2.0,15.0,4.0,2.0,5.0,2.0,3.0,2.0,4.0,4.0,3.0,5.0,1.0,1.0,1.0,1.0,1.0,1.0,1.0,1.0,7.0,1.0,1.0,3.0,7.0,4.0,4.0,2.0,4.0,4.0,10.0,2.0,3.0,8.0,3.0,2.0,5.0,8.0,3.0,5.0,3.0,1.0,1.0,1.0,1.0,1.0,1.0,1.0,4.0,1.0,1.0,1.0,1.0,1.0,2.0,2.0,2.0,2.0,2.0,4.0,5.0,2.0,5.0,3.0,3.0,2.0,2.0,7.0,4.0,2.0,7.0,2.0,3.0,14.0,8.0,3.0,3.0,2.0,3.0,12.0,3.0,2.0,2.0,8.0,3.0,3.0,3.0,2.0,1.0,1.0,1.0,1.0,1.0,1.0,1.0,1.0,1.0,1.0,1.0,1.0,5.0,4.0,4.0,1.0,2.0,5.0,3.0,3.0,3.0,2.0,5.0,6.0,1.0,1.0,1.0,1.0,1.0,1.0,1.0,1.0,4.0,6.0,3.0,2.0,3.0,2.0,3.0,4.0,3.0,2.0,3.0,1.0,1.0,1.0,1.0,43.0,22.0,34.0,44.0,26.0,41.0,21.0,11.0,21.0,13.0,4.0,11.0,11.0,14.0,16.0,6.0,5.0,33.0,10.0,10.0,11.0,11.0,13.0,10.0,9.0,4.0,5.0,15.0,24.0,6.0,5.0,4.0,8.0,4.0,6.0,5.0,7.0,6.0,8.0,2.0,6.0,10.0,16.0,2.0,14.0,2.0,14.0,3.0,12.0,7.0,4.0,6.0,6.0,3.0,4.0,4.0,6.0,6.0,5.0,8.0,11.0,9.0,16.0,10.0,14.0,9.0,6.0,9.0,6.0,6.0,6.0,2.0,2.0,2.0,2.0,6.0,4.0,9.0,5.0,3.0,1.0,1.0,1.0,1.0,1.0,1.0,1.0,1.0,1.0,1.0,1.0,11.0,3.0,11.0,11.0,5.0,1.0,6.0,3.0,11.0,2.0,6.0,3.0,8.0,2.0,11.0,7.0,7.0,1.0,1.0,1.0,1.0,1.0,1.0,1.0,1.0,1.0,1.0,1.0,1.0,7.0,1.0,4.0,6.0,3.0,5.0,9.0,2.0,5.0,11.0,9.0,2.0,3.0,15.0,3.0,16.0,5.0,7.0,4.0,9.0,8.0,5.0,6.0,5.0,2.0,2.0,2.0,2.0,3.0,8.0,1.0,5.0,4.0,2.0,3.0,16.0,2.0,8.0,3.0,7.0,5.0,2.0,3.0,8.0,1.0,1.0,1.0,1.0,1.0,3.0,3.0,4.0,15.0,14.0,10.0,3.0,3.0,19.0,7.0,3.0,14.0,2.0,2.0,3.0,4.0,7.0,7.0,6.0,3.0,1.0,1.0,1.0,1.0,1.0,1.0,7.0,3.0,3.0,7.0,2.0,3.0,1.0,1.0,1.0,1.0,1.0,2.0,4.0,2.0,6.0,2.0,6.0,2.0,6.0,4.0,5.0,2.0,3.0,3.0,8.0,3.0,3.0,3.0,2.0,1.0,1.0,6.0,1.0,1.0,3.0,2.0,3.0,1.0,1.0,1.0,1.0,1.0,1.0,1.0,4.0,1.0,7.0,3.0,2.0,2.0,3.0,1.0,1.0],\"xaxis\":\"x\",\"y\":[12500.0,3250.0,4000.0,5000.0,6000.0,1000.0,1750.0,3000.0,2250.0,11500.0,5750.0,750.0,2500.0,3250.0,1500.0,1250.0,3500.0,3750.0,1500.0,750.0,750.0,2750.0,1500.0,1500.0,2250.0,3500.0,1500.0,3000.0,1250.0,2000.0,3500.0,2500.0,2500.0,2250.0,4000.0,2000.0,3000.0,1500.0,3500.0,1750.0,3250.0,1250.0,1250.0,1250.0,5000.0,2250.0,2250.0,500.0,500.0,500.0,2750.0,2750.0,1500.0,3000.0,1250.0,4750.0,2000.0,1750.0,4000.0,1500.0,1750.0,2000.0,2500.0,1250.0,750.0,4000.0,1000.0,500.0,1750.0,2250.0,1000.0,1000.0,4250.0,500.0,500.0,500.0,1000.0,500.0,500.0,500.0,1500.0,1000.0,1000.0,1000.0,1500.0,1500.0,500.0,500.0,500.0,1750.0,500.0,500.0,500.0,500.0,2750.0,1750.0,4250.0,2250.0,1000.0,1750.0,2000.0,3250.0,2250.0,1250.0,1250.0,4250.0,2000.0,1250.0,750.0,2500.0,1250.0,2250.0,1250.0,2000.0,3000.0,6000.0,1750.0,2750.0,1750.0,2750.0,750.0,1250.0,1500.0,1250.0,1000.0,1250.0,2000.0,1000.0,2000.0,500.0,1250.0,3000.0,500.0,1500.0,2750.0,750.0,1250.0,3000.0,1250.0,500.0,2250.0,3500.0,750.0,750.0,500.0,750.0,750.0,500.0,500.0,500.0,1750.0,1500.0,2750.0,250.0,250.0,250.0,250.0,250.0,250.0,250.0,250.0,250.0,250.0,250.0,250.0,250.0,250.0,250.0,250.0,250.0,250.0,250.0,250.0,250.0,250.0,2500.0,1000.0,1250.0,1500.0,750.0,1000.0,1000.0,1000.0,3000.0,2000.0,2250.0,1250.0,1000.0,3750.0,1250.0,1750.0,1750.0,1000.0,2750.0,500.0,1250.0,2000.0,1500.0,1750.0,2250.0,1500.0,1750.0,500.0,1750.0,2250.0,1500.0,500.0,1750.0,1500.0,750.0,250.0,250.0,250.0,250.0,250.0,250.0,250.0,250.0,250.0,250.0,250.0,250.0,250.0,250.0,250.0,250.0,250.0,750.0,250.0,250.0,250.0,250.0,250.0,2000.0,1750.0,2500.0,750.0,500.0,1000.0,2250.0,2000.0,5500.0,750.0,4250.0,500.0,1250.0,3000.0,3000.0,500.0,500.0,500.0,1500.0,2000.0,750.0,3250.0,750.0,2000.0,1750.0,750.0,3000.0,1000.0,3500.0,500.0,750.0,1250.0,1000.0,500.0,2000.0,1750.0,1000.0,2750.0,1750.0,500.0,1250.0,1250.0,1000.0,3250.0,750.0,4500.0,2000.0,4000.0,1000.0,1250.0,500.0,1250.0,500.0,500.0,500.0,1250.0,750.0,1000.0,3000.0,1000.0,1250.0,1250.0,1000.0,1250.0,500.0,500.0,500.0,500.0,500.0,500.0,750.0,1500.0,1250.0,1250.0,750.0,1000.0,750.0,1250.0,500.0,2250.0,250.0,250.0,500.0,500.0,1000.0,2250.0,1250.0,4000.0,1250.0,1000.0,2000.0,1750.0,500.0,500.0,4000.0,1000.0,1750.0,1750.0,1500.0,1500.0,1750.0,500.0,750.0,750.0,1750.0,250.0,750.0,1000.0,9500.0,1500.0,250.0,250.0,250.0,250.0,250.0,250.0,250.0,250.0,500.0,1250.0,500.0,1000.0,500.0,1500.0,750.0,500.0,4000.0,1500.0,500.0,750.0,3250.0,1500.0,500.0,3750.0,1000.0,500.0,1250.0,500.0,750.0,500.0,1000.0,1000.0,750.0,1250.0,250.0,250.0,250.0,250.0,250.0,250.0,250.0,250.0,1750.0,250.0,250.0,750.0,1750.0,1000.0,1000.0,500.0,1000.0,1000.0,2500.0,500.0,750.0,2000.0,750.0,500.0,1250.0,2000.0,750.0,1250.0,750.0,250.0,250.0,250.0,250.0,250.0,250.0,250.0,1000.0,250.0,250.0,250.0,250.0,250.0,500.0,500.0,500.0,500.0,500.0,1000.0,1250.0,500.0,1250.0,750.0,750.0,500.0,500.0,1750.0,1000.0,500.0,1750.0,500.0,750.0,3500.0,2000.0,750.0,750.0,500.0,750.0,3000.0,750.0,500.0,500.0,2000.0,750.0,750.0,750.0,500.0,250.0,250.0,250.0,250.0,250.0,250.0,250.0,250.0,250.0,250.0,250.0,250.0,1250.0,1000.0,1000.0,250.0,500.0,1250.0,750.0,750.0,750.0,500.0,1250.0,1500.0,250.0,250.0,250.0,250.0,250.0,250.0,250.0,250.0,1000.0,1500.0,750.0,500.0,750.0,500.0,750.0,1000.0,750.0,500.0,750.0,250.0,250.0,250.0,250.0,10750.0,5500.0,8500.0,11000.0,6500.0,10250.0,5250.0,2750.0,5250.0,3250.0,1000.0,2750.0,2750.0,3500.0,4000.0,1500.0,1250.0,8250.0,2500.0,2500.0,2750.0,2750.0,3250.0,2500.0,2250.0,1000.0,1250.0,3750.0,6000.0,1500.0,1250.0,1000.0,2000.0,1000.0,1500.0,1250.0,1750.0,1500.0,2000.0,500.0,1500.0,2500.0,4000.0,500.0,3500.0,500.0,3500.0,750.0,3000.0,1750.0,1000.0,1500.0,1500.0,750.0,1000.0,1000.0,1500.0,1500.0,1250.0,2000.0,2750.0,2250.0,4000.0,2500.0,3500.0,2250.0,1500.0,2250.0,1500.0,1500.0,1500.0,500.0,500.0,500.0,500.0,1500.0,1000.0,2250.0,1250.0,750.0,250.0,250.0,250.0,250.0,250.0,250.0,250.0,250.0,250.0,250.0,250.0,2750.0,750.0,2750.0,2750.0,1250.0,250.0,1500.0,750.0,2750.0,500.0,1500.0,750.0,2000.0,500.0,2750.0,1750.0,1750.0,250.0,250.0,250.0,250.0,250.0,250.0,250.0,250.0,250.0,250.0,250.0,250.0,1750.0,250.0,1000.0,1500.0,750.0,1250.0,2250.0,500.0,1250.0,2750.0,2250.0,500.0,750.0,3750.0,750.0,4000.0,1250.0,1750.0,1000.0,2250.0,2000.0,1250.0,1500.0,1250.0,500.0,500.0,500.0,500.0,750.0,2000.0,250.0,1250.0,1000.0,500.0,750.0,4000.0,500.0,2000.0,750.0,1750.0,1250.0,500.0,750.0,2000.0,250.0,250.0,250.0,250.0,250.0,750.0,750.0,1000.0,3750.0,3500.0,2500.0,750.0,750.0,4750.0,1750.0,750.0,3500.0,500.0,500.0,750.0,1000.0,1750.0,1750.0,1500.0,750.0,250.0,250.0,250.0,250.0,250.0,250.0,1750.0,750.0,750.0,1750.0,500.0,750.0,250.0,250.0,250.0,250.0,250.0,500.0,1000.0,500.0,1500.0,500.0,1500.0,500.0,1500.0,1000.0,1250.0,500.0,750.0,750.0,2000.0,750.0,750.0,750.0,500.0,250.0,250.0,1500.0,250.0,250.0,750.0,500.0,750.0,250.0,250.0,250.0,250.0,250.0,250.0,250.0,1000.0,250.0,1750.0,750.0,500.0,500.0,750.0,250.0,250.0],\"yaxis\":\"y\",\"type\":\"scatter\"}],                        {\"template\":{\"data\":{\"histogram2dcontour\":[{\"type\":\"histogram2dcontour\",\"colorbar\":{\"outlinewidth\":0,\"ticks\":\"\"},\"colorscale\":[[0.0,\"#0d0887\"],[0.1111111111111111,\"#46039f\"],[0.2222222222222222,\"#7201a8\"],[0.3333333333333333,\"#9c179e\"],[0.4444444444444444,\"#bd3786\"],[0.5555555555555556,\"#d8576b\"],[0.6666666666666666,\"#ed7953\"],[0.7777777777777778,\"#fb9f3a\"],[0.8888888888888888,\"#fdca26\"],[1.0,\"#f0f921\"]]}],\"choropleth\":[{\"type\":\"choropleth\",\"colorbar\":{\"outlinewidth\":0,\"ticks\":\"\"}}],\"histogram2d\":[{\"type\":\"histogram2d\",\"colorbar\":{\"outlinewidth\":0,\"ticks\":\"\"},\"colorscale\":[[0.0,\"#0d0887\"],[0.1111111111111111,\"#46039f\"],[0.2222222222222222,\"#7201a8\"],[0.3333333333333333,\"#9c179e\"],[0.4444444444444444,\"#bd3786\"],[0.5555555555555556,\"#d8576b\"],[0.6666666666666666,\"#ed7953\"],[0.7777777777777778,\"#fb9f3a\"],[0.8888888888888888,\"#fdca26\"],[1.0,\"#f0f921\"]]}],\"heatmap\":[{\"type\":\"heatmap\",\"colorbar\":{\"outlinewidth\":0,\"ticks\":\"\"},\"colorscale\":[[0.0,\"#0d0887\"],[0.1111111111111111,\"#46039f\"],[0.2222222222222222,\"#7201a8\"],[0.3333333333333333,\"#9c179e\"],[0.4444444444444444,\"#bd3786\"],[0.5555555555555556,\"#d8576b\"],[0.6666666666666666,\"#ed7953\"],[0.7777777777777778,\"#fb9f3a\"],[0.8888888888888888,\"#fdca26\"],[1.0,\"#f0f921\"]]}],\"heatmapgl\":[{\"type\":\"heatmapgl\",\"colorbar\":{\"outlinewidth\":0,\"ticks\":\"\"},\"colorscale\":[[0.0,\"#0d0887\"],[0.1111111111111111,\"#46039f\"],[0.2222222222222222,\"#7201a8\"],[0.3333333333333333,\"#9c179e\"],[0.4444444444444444,\"#bd3786\"],[0.5555555555555556,\"#d8576b\"],[0.6666666666666666,\"#ed7953\"],[0.7777777777777778,\"#fb9f3a\"],[0.8888888888888888,\"#fdca26\"],[1.0,\"#f0f921\"]]}],\"contourcarpet\":[{\"type\":\"contourcarpet\",\"colorbar\":{\"outlinewidth\":0,\"ticks\":\"\"}}],\"contour\":[{\"type\":\"contour\",\"colorbar\":{\"outlinewidth\":0,\"ticks\":\"\"},\"colorscale\":[[0.0,\"#0d0887\"],[0.1111111111111111,\"#46039f\"],[0.2222222222222222,\"#7201a8\"],[0.3333333333333333,\"#9c179e\"],[0.4444444444444444,\"#bd3786\"],[0.5555555555555556,\"#d8576b\"],[0.6666666666666666,\"#ed7953\"],[0.7777777777777778,\"#fb9f3a\"],[0.8888888888888888,\"#fdca26\"],[1.0,\"#f0f921\"]]}],\"surface\":[{\"type\":\"surface\",\"colorbar\":{\"outlinewidth\":0,\"ticks\":\"\"},\"colorscale\":[[0.0,\"#0d0887\"],[0.1111111111111111,\"#46039f\"],[0.2222222222222222,\"#7201a8\"],[0.3333333333333333,\"#9c179e\"],[0.4444444444444444,\"#bd3786\"],[0.5555555555555556,\"#d8576b\"],[0.6666666666666666,\"#ed7953\"],[0.7777777777777778,\"#fb9f3a\"],[0.8888888888888888,\"#fdca26\"],[1.0,\"#f0f921\"]]}],\"mesh3d\":[{\"type\":\"mesh3d\",\"colorbar\":{\"outlinewidth\":0,\"ticks\":\"\"}}],\"scatter\":[{\"fillpattern\":{\"fillmode\":\"overlay\",\"size\":10,\"solidity\":0.2},\"type\":\"scatter\"}],\"parcoords\":[{\"type\":\"parcoords\",\"line\":{\"colorbar\":{\"outlinewidth\":0,\"ticks\":\"\"}}}],\"scatterpolargl\":[{\"type\":\"scatterpolargl\",\"marker\":{\"colorbar\":{\"outlinewidth\":0,\"ticks\":\"\"}}}],\"bar\":[{\"error_x\":{\"color\":\"#2a3f5f\"},\"error_y\":{\"color\":\"#2a3f5f\"},\"marker\":{\"line\":{\"color\":\"#E5ECF6\",\"width\":0.5},\"pattern\":{\"fillmode\":\"overlay\",\"size\":10,\"solidity\":0.2}},\"type\":\"bar\"}],\"scattergeo\":[{\"type\":\"scattergeo\",\"marker\":{\"colorbar\":{\"outlinewidth\":0,\"ticks\":\"\"}}}],\"scatterpolar\":[{\"type\":\"scatterpolar\",\"marker\":{\"colorbar\":{\"outlinewidth\":0,\"ticks\":\"\"}}}],\"histogram\":[{\"marker\":{\"pattern\":{\"fillmode\":\"overlay\",\"size\":10,\"solidity\":0.2}},\"type\":\"histogram\"}],\"scattergl\":[{\"type\":\"scattergl\",\"marker\":{\"colorbar\":{\"outlinewidth\":0,\"ticks\":\"\"}}}],\"scatter3d\":[{\"type\":\"scatter3d\",\"line\":{\"colorbar\":{\"outlinewidth\":0,\"ticks\":\"\"}},\"marker\":{\"colorbar\":{\"outlinewidth\":0,\"ticks\":\"\"}}}],\"scattermapbox\":[{\"type\":\"scattermapbox\",\"marker\":{\"colorbar\":{\"outlinewidth\":0,\"ticks\":\"\"}}}],\"scatterternary\":[{\"type\":\"scatterternary\",\"marker\":{\"colorbar\":{\"outlinewidth\":0,\"ticks\":\"\"}}}],\"scattercarpet\":[{\"type\":\"scattercarpet\",\"marker\":{\"colorbar\":{\"outlinewidth\":0,\"ticks\":\"\"}}}],\"carpet\":[{\"aaxis\":{\"endlinecolor\":\"#2a3f5f\",\"gridcolor\":\"white\",\"linecolor\":\"white\",\"minorgridcolor\":\"white\",\"startlinecolor\":\"#2a3f5f\"},\"baxis\":{\"endlinecolor\":\"#2a3f5f\",\"gridcolor\":\"white\",\"linecolor\":\"white\",\"minorgridcolor\":\"white\",\"startlinecolor\":\"#2a3f5f\"},\"type\":\"carpet\"}],\"table\":[{\"cells\":{\"fill\":{\"color\":\"#EBF0F8\"},\"line\":{\"color\":\"white\"}},\"header\":{\"fill\":{\"color\":\"#C8D4E3\"},\"line\":{\"color\":\"white\"}},\"type\":\"table\"}],\"barpolar\":[{\"marker\":{\"line\":{\"color\":\"#E5ECF6\",\"width\":0.5},\"pattern\":{\"fillmode\":\"overlay\",\"size\":10,\"solidity\":0.2}},\"type\":\"barpolar\"}],\"pie\":[{\"automargin\":true,\"type\":\"pie\"}]},\"layout\":{\"autotypenumbers\":\"strict\",\"colorway\":[\"#636efa\",\"#EF553B\",\"#00cc96\",\"#ab63fa\",\"#FFA15A\",\"#19d3f3\",\"#FF6692\",\"#B6E880\",\"#FF97FF\",\"#FECB52\"],\"font\":{\"color\":\"#2a3f5f\"},\"hovermode\":\"closest\",\"hoverlabel\":{\"align\":\"left\"},\"paper_bgcolor\":\"white\",\"plot_bgcolor\":\"#E5ECF6\",\"polar\":{\"bgcolor\":\"#E5ECF6\",\"angularaxis\":{\"gridcolor\":\"white\",\"linecolor\":\"white\",\"ticks\":\"\"},\"radialaxis\":{\"gridcolor\":\"white\",\"linecolor\":\"white\",\"ticks\":\"\"}},\"ternary\":{\"bgcolor\":\"#E5ECF6\",\"aaxis\":{\"gridcolor\":\"white\",\"linecolor\":\"white\",\"ticks\":\"\"},\"baxis\":{\"gridcolor\":\"white\",\"linecolor\":\"white\",\"ticks\":\"\"},\"caxis\":{\"gridcolor\":\"white\",\"linecolor\":\"white\",\"ticks\":\"\"}},\"coloraxis\":{\"colorbar\":{\"outlinewidth\":0,\"ticks\":\"\"}},\"colorscale\":{\"sequential\":[[0.0,\"#0d0887\"],[0.1111111111111111,\"#46039f\"],[0.2222222222222222,\"#7201a8\"],[0.3333333333333333,\"#9c179e\"],[0.4444444444444444,\"#bd3786\"],[0.5555555555555556,\"#d8576b\"],[0.6666666666666666,\"#ed7953\"],[0.7777777777777778,\"#fb9f3a\"],[0.8888888888888888,\"#fdca26\"],[1.0,\"#f0f921\"]],\"sequentialminus\":[[0.0,\"#0d0887\"],[0.1111111111111111,\"#46039f\"],[0.2222222222222222,\"#7201a8\"],[0.3333333333333333,\"#9c179e\"],[0.4444444444444444,\"#bd3786\"],[0.5555555555555556,\"#d8576b\"],[0.6666666666666666,\"#ed7953\"],[0.7777777777777778,\"#fb9f3a\"],[0.8888888888888888,\"#fdca26\"],[1.0,\"#f0f921\"]],\"diverging\":[[0,\"#8e0152\"],[0.1,\"#c51b7d\"],[0.2,\"#de77ae\"],[0.3,\"#f1b6da\"],[0.4,\"#fde0ef\"],[0.5,\"#f7f7f7\"],[0.6,\"#e6f5d0\"],[0.7,\"#b8e186\"],[0.8,\"#7fbc41\"],[0.9,\"#4d9221\"],[1,\"#276419\"]]},\"xaxis\":{\"gridcolor\":\"white\",\"linecolor\":\"white\",\"ticks\":\"\",\"title\":{\"standoff\":15},\"zerolinecolor\":\"white\",\"automargin\":true,\"zerolinewidth\":2},\"yaxis\":{\"gridcolor\":\"white\",\"linecolor\":\"white\",\"ticks\":\"\",\"title\":{\"standoff\":15},\"zerolinecolor\":\"white\",\"automargin\":true,\"zerolinewidth\":2},\"scene\":{\"xaxis\":{\"backgroundcolor\":\"#E5ECF6\",\"gridcolor\":\"white\",\"linecolor\":\"white\",\"showbackground\":true,\"ticks\":\"\",\"zerolinecolor\":\"white\",\"gridwidth\":2},\"yaxis\":{\"backgroundcolor\":\"#E5ECF6\",\"gridcolor\":\"white\",\"linecolor\":\"white\",\"showbackground\":true,\"ticks\":\"\",\"zerolinecolor\":\"white\",\"gridwidth\":2},\"zaxis\":{\"backgroundcolor\":\"#E5ECF6\",\"gridcolor\":\"white\",\"linecolor\":\"white\",\"showbackground\":true,\"ticks\":\"\",\"zerolinecolor\":\"white\",\"gridwidth\":2}},\"shapedefaults\":{\"line\":{\"color\":\"#2a3f5f\"}},\"annotationdefaults\":{\"arrowcolor\":\"#2a3f5f\",\"arrowhead\":0,\"arrowwidth\":1},\"geo\":{\"bgcolor\":\"white\",\"landcolor\":\"#E5ECF6\",\"subunitcolor\":\"white\",\"showland\":true,\"showlakes\":true,\"lakecolor\":\"white\"},\"title\":{\"x\":0.05},\"mapbox\":{\"style\":\"light\"}}},\"xaxis\":{\"anchor\":\"y\",\"domain\":[0.0,1.0],\"title\":{\"text\":\"total_number_of_donations\"}},\"yaxis\":{\"anchor\":\"x\",\"domain\":[0.0,1.0],\"title\":{\"text\":\"total_blood_donated\"}},\"legend\":{\"tracegroupgap\":0},\"title\":{\"text\":\"#Donations vs. #Blood (mL)\"}},                        {\"responsive\": true}                    ).then(function(){\n",
              "                            \n",
              "var gd = document.getElementById('514ea0b4-6a07-4333-ab1f-fd800b9424f4');\n",
              "var x = new MutationObserver(function (mutations, observer) {{\n",
              "        var display = window.getComputedStyle(gd).display;\n",
              "        if (!display || display === 'none') {{\n",
              "            console.log([gd, 'removed!']);\n",
              "            Plotly.purge(gd);\n",
              "            observer.disconnect();\n",
              "        }}\n",
              "}});\n",
              "\n",
              "// Listen for the removal of the full notebook cells\n",
              "var notebookContainer = gd.closest('#notebook-container');\n",
              "if (notebookContainer) {{\n",
              "    x.observe(notebookContainer, {childList: true});\n",
              "}}\n",
              "\n",
              "// Listen for the clearing of the current output cell\n",
              "var outputEl = gd.closest('.output');\n",
              "if (outputEl) {{\n",
              "    x.observe(outputEl, {childList: true});\n",
              "}}\n",
              "\n",
              "                        })                };                            </script>        </div>\n",
              "</body>\n",
              "</html>"
            ]
          },
          "metadata": {}
        },
        {
          "output_type": "stream",
          "name": "stdout",
          "text": [
            "0.0\n"
          ]
        }
      ]
    },
    {
      "cell_type": "code",
      "source": [
        "df_prep = df_norm.drop(columns=['total_blood_donated'])\n",
        "#df_prep['class'] = df['class'].astype(str)\n",
        "px.scatter_3d(\n",
        "    data_frame=df_prep,\n",
        "    x = 'total_number_of_donations',\n",
        "    y = 'months_since_first_donation',\n",
        "    z = 'months_since_last_donation',\n",
        "    color=df['class'].astype(str),\n",
        "    color_discrete_sequence=['darkred','darksalmon']\n",
        "    )"
      ],
      "metadata": {
        "id": "frECD5-tKmtN",
        "outputId": "f1204eb0-f116-41e8-cade-b2e59f130225",
        "colab": {
          "base_uri": "https://localhost:8080/",
          "height": 542
        }
      },
      "execution_count": 17,
      "outputs": [
        {
          "output_type": "display_data",
          "data": {
            "text/html": [
              "<html>\n",
              "<head><meta charset=\"utf-8\" /></head>\n",
              "<body>\n",
              "    <div>            <script src=\"https://cdnjs.cloudflare.com/ajax/libs/mathjax/2.7.5/MathJax.js?config=TeX-AMS-MML_SVG\"></script><script type=\"text/javascript\">if (window.MathJax && window.MathJax.Hub && window.MathJax.Hub.Config) {window.MathJax.Hub.Config({SVG: {font: \"STIX-Web\"}});}</script>                <script type=\"text/javascript\">window.PlotlyConfig = {MathJaxConfig: 'local'};</script>\n",
              "        <script charset=\"utf-8\" src=\"https://cdn.plot.ly/plotly-2.35.2.min.js\"></script>                <div id=\"d06b33b6-479d-4831-9f3f-decf25a0cb72\" class=\"plotly-graph-div\" style=\"height:525px; width:100%;\"></div>            <script type=\"text/javascript\">                                    window.PLOTLYENV=window.PLOTLYENV || {};                                    if (document.getElementById(\"d06b33b6-479d-4831-9f3f-decf25a0cb72\")) {                    Plotly.newPlot(                        \"d06b33b6-479d-4831-9f3f-decf25a0cb72\",                        [{\"hovertemplate\":\"color=1\\u003cbr\\u003etotal_number_of_donations=%{x}\\u003cbr\\u003emonths_since_first_donation=%{y}\\u003cbr\\u003emonths_since_last_donation=%{z}\\u003cextra\\u003e\\u003c\\u002fextra\\u003e\",\"legendgroup\":\"1\",\"marker\":{\"color\":\"darkred\",\"symbol\":\"circle\"},\"mode\":\"markers\",\"name\":\"1\",\"scene\":\"scene\",\"showlegend\":true,\"x\":[1.0,0.6487273223341655,0.70272644692246,0.760835204839116,0.4883283097609405,0.5533187320880734,0.9782104323082371,0.5806214043805425,0.4485750999228125,0.40168801171421764,0.6679910399825703,0.6859342542027217,0.4485750999228125,0.2713198192468749,0.2713198192468749,0.4485750999228125,0.4485750999228125,0.6279331901845885,0.40168801171421764,0.5806214043805425,0.5806214043805425,0.5533187320880734,0.5228345301992788,0.6279331901845885,0.4485750999228125,0.6679910399825703,0.4883283097609405,0.6487273223341655,0.40168801171421764,0.760835204839116,0.5533187320880734,0.6053443249462345,0.40168801171421764,0.7474716687382837,0.5228345301992788,0.4883283097609405,0.5228345301992788,0.40168801171421764,0.2713198192468749,0.34453428213528764,0.7185064298087882,0.16933127277804444,0.16933127277804444,0.34453428213528764,0.4485750999228125,0.4485750999228125,0.4883283097609405,0.16933127277804444,0.5533187320880734,0.34453428213528764,0.4883283097609405,0.5228345301992788,0.6487273223341655,0.40168801171421764,0.5228345301992788,0.4883283097609405,0.6053443249462345,0.2713198192468749,0.40168801171421764,0.4485750999228125,0.40168801171421764,0.5228345301992788,0.5228345301992788,0.16933127277804444,0.16933127277804444,0.2713198192468749,0.16933127277804444,0.4883283097609405,0.0,0.0,0.0,0.0,0.34453428213528764,0.40168801171421764,0.4485750999228125,0.34453428213528764,0.40168801171421764,0.40168801171421764,0.5228345301992788,0.16933127277804444,0.0,0.0,0.0,0.0,0.0,0.0,0.5228345301992788,0.2713198192468749,0.7185064298087882,0.5228345301992788,0.2713198192468749,0.6679910399825703,0.2713198192468749,0.34453428213528764,0.34453428213528764,0.16933127277804444,0.40168801171421764,0.2713198192468749,0.34453428213528764,0.40168801171421764,0.5533187320880734,0.40168801171421764,0.5228345301992788,0.34453428213528764,0.4485750999228125,0.4883283097609405,0.2713198192468749,0.0,0.16933127277804444,0.40168801171421764,0.16933127277804444,0.2713198192468749,0.16933127277804444,0.2713198192468749,0.4883283097609405,0.0,0.0,0.40168801171421764,0.9605893146277725,0.7856754710242466,0.8992530094314634,0.8292393105725759,0.9481466663770713,0.7735497641760892,0.7735497641760892,0.6487273223341655,0.34453428213528764,0.70272644692246,0.40168801171421764,0.8914587293079251,0.5806214043805425,0.5806214043805425,0.6053443249462345,0.6053443249462345,0.6487273223341655,0.5806214043805425,0.40168801171421764,0.4485750999228125,0.40168801171421764,0.34453428213528764,0.40168801171421764,0.4883283097609405,0.4485750999228125,0.5228345301992788,0.16933127277804444,0.4485750999228125,0.70272644692246,0.16933127277804444,0.16933127277804444,0.6279331901845885,0.4883283097609405,0.4485750999228125,0.4485750999228125,0.6053443249462345,0.70272644692246,0.4485750999228125,0.16933127277804444,0.16933127277804444,0.4485750999228125,0.34453428213528764,0.0,0.0,0.6053443249462345,0.0,0.0,0.0,0.34453428213528764,0.2713198192468749,0.5533187320880734,0.5228345301992788,0.16933127277804444,0.0,0.2713198192468749,0.6679910399825703,0.4883283097609405,0.16933127277804444,0.16933127277804444,0.0],\"y\":[1.0,0.6747654731005414,0.7326293283751244,0.7978420895547238,0.4953727037460086,0.6122813830259535,1.0,0.6747654731005414,0.5131976399584474,0.4331389430752244,0.8145952353871563,0.819948146398158,0.5131976399584474,0.17404810686108046,0.17404810686108046,0.5298791419693946,0.5298791419693946,0.7251102414698766,0.4331389430752244,0.6747654731005414,0.6747654731005414,0.6555580586310299,0.6747654731005414,0.8091298600746685,0.5298791419693946,0.8592153466176707,0.6122813830259535,0.8403219430455522,0.5298791419693946,0.9088376494045263,0.6747654731005414,0.8035471931224089,0.4953727037460086,0.9088376494045263,0.6555580586310299,0.6747654731005414,0.7326293283751244,0.5298791419693946,0.38145629231193184,0.4953727037460086,0.9162601870597201,0.17404810686108046,0.17404810686108046,0.5298791419693946,0.6237939826936434,0.6747654731005414,0.7326293283751244,0.17404810686108046,0.7539644179797953,0.4953727037460086,0.6555580586310299,0.7251102414698766,0.9339396989475183,0.6237939826936434,0.7672738317202942,0.8035471931224089,0.9439979993562735,0.5298791419693946,0.6555580586310299,0.7736816014032347,0.717367339650875,0.8035471931224089,0.8145952353871563,0.4085789909584107,0.38145629231193184,0.5298791419693946,0.4331389430752244,0.8637318193735538,0.0,0.0,0.0,0.0,0.5298791419693946,0.717367339650875,0.7736816014032347,0.6555580586310299,0.7326293283751244,0.8091298600746685,0.7539644179797953,0.4331389430752244,0.17404810686108046,0.17404810686108046,0.17404810686108046,0.17404810686108046,0.17404810686108046,0.17404810686108046,0.835376123043069,0.645394957742923,0.9439979993562735,0.7736816014032347,0.5298791419693946,0.9234768022933705,0.7539644179797953,0.7860422302549752,0.6122813830259535,0.5298791419693946,0.6747654731005414,0.574329412411061,0.6237939826936434,0.7470453320240613,0.9198935184165833,0.8303344478724696,0.8251931284290327,0.6747654731005414,0.7326293283751244,0.8810521780325872,0.6002356063636876,0.4331389430752244,0.6002356063636876,0.7672738317202942,0.8303344478724696,0.7672738317202942,0.6002356063636876,0.6555580586310299,0.9690611511200177,0.6002356063636876,0.6122813830259535,0.819948146398158,0.9660571651262977,0.6747654731005414,0.9373358607111437,0.9339396989475183,1.0,0.7799353231419097,0.835376123043069,0.7093868888053504,0.17404810686108046,0.7539644179797953,0.45557890712206944,1.0,0.717367339650875,0.6747654731005414,0.7672738317202942,0.7736816014032347,0.7607042326834162,0.7860422302549752,0.5298791419693946,0.6122813830259535,0.5298791419693946,0.4953727037460086,0.5298791419693946,0.7093868888053504,0.6555580586310299,0.7539644179797953,0.17404810686108046,0.6747654731005414,0.9125753903770112,0.17404810686108046,0.17404810686108046,0.9125753903770112,0.7093868888053504,0.7326293283751244,0.6747654731005414,0.8892982660925969,1.0,0.7326293283751244,0.4331389430752244,0.4331389430752244,0.7539644179797953,0.6838622844424995,0.0,0.0,0.819948146398158,0.10131625877623329,0.17404810686108046,0.17404810686108046,0.7251102414698766,0.4953727037460086,0.9749670187568359,0.835376123043069,0.4953727037460086,0.4331389430752244,0.9304986131077424,0.9088376494045263,0.8637318193735538,0.7539644179797953,0.7326293283751244,0.6237939826936434],\"z\":[0.46073277082763675,0.0,0.36287757958420697,0.46073277082763675,0.46073277082763675,0.46073277082763675,0.5950098760089252,0.46073277082763675,0.46073277082763675,0.46073277082763675,0.46073277082763675,0.46073277082763675,0.46073277082763675,0.46073277082763675,0.46073277082763675,0.46073277082763675,0.46073277082763675,0.5619811917826373,0.5619811917826373,0.5619811917826373,0.5619811917826373,0.5619811917826373,0.46073277082763675,0.46073277082763675,0.5619811917826373,0.46073277082763675,0.5619811917826373,0.46073277082763675,0.46073277082763675,0.5619811917826373,0.5619811917826373,0.46073277082763675,0.5619811917826373,0.5619811917826373,0.5619811917826373,0.46073277082763675,0.46073277082763675,0.5619811917826373,0.46073277082763675,0.46073277082763675,0.5619811917826373,0.46073277082763675,0.46073277082763675,0.46073277082763675,0.5619811917826373,0.46073277082763675,0.46073277082763675,0.5619811917826373,0.5619811917826373,0.5619811917826373,0.5950098760089252,0.5619811917826373,0.46073277082763675,0.5619811917826373,0.5619811917826373,0.46073277082763675,0.46073277082763675,0.46073277082763675,0.5619811917826373,0.46073277082763675,0.46073277082763675,0.5619811917826373,0.5619811917826373,0.46073277082763675,0.5619811917826373,0.5619811917826373,0.46073277082763675,0.46073277082763675,0.46073277082763675,0.46073277082763675,0.46073277082763675,0.46073277082763675,0.7127012342105086,0.5619811917826373,0.5619811917826373,0.5619811917826373,0.5619811917826373,0.46073277082763675,0.6826360592716696,0.6221055501170012,0.5619811917826373,0.5619811917826373,0.5619811917826373,0.5619811917826373,0.5619811917826373,0.5619811917826373,0.6650194822697273,0.5619811917826373,0.7127012342105086,0.7127012342105086,0.7127012342105086,0.7127012342105086,0.46073277082763675,0.5619811917826373,0.7489042708975875,0.6826360592716696,0.7489042708975875,0.7489042708975875,0.7489042708975875,0.7127012342105086,0.7127012342105086,0.6826360592716696,0.7489042708975875,0.7489042708975875,0.7689775853731519,0.7127012342105086,0.7689775853731519,0.7127012342105086,0.7489042708975875,0.7689775853731519,0.5619811917826373,0.7127012342105086,0.8099058152308003,0.8099058152308003,0.7689775853731519,0.8099058152308003,0.816913164452958,0.8420883596804081,0.46073277082763675,0.6221055501170012,0.46073277082763675,0.0,0.46073277082763675,0.5196711379444335,0.46073277082763675,0.46073277082763675,0.5619811917826373,0.5619811917826373,0.5196711379444335,0.5619811917826373,0.5196711379444335,0.5619811917826373,0.46073277082763675,0.46073277082763675,0.5619811917826373,0.36287757958420697,0.46073277082763675,0.46073277082763675,0.5619811917826373,0.46073277082763675,0.5619811917826373,0.46073277082763675,0.46073277082763675,0.46073277082763675,0.46073277082763675,0.46073277082763675,0.5619811917826373,0.5619811917826373,0.5619811917826373,0.46073277082763675,0.5619811917826373,0.46073277082763675,0.5619811917826373,0.5619811917826373,0.5619811917826373,0.5619811917826373,0.46073277082763675,0.46073277082763675,0.5619811917826373,0.5196711379444335,0.46073277082763675,0.46073277082763675,0.6826360592716696,0.5196711379444335,0.5619811917826373,0.5619811917826373,0.5619811917826373,0.7377719221966185,0.6450786128444587,0.7127012342105086,0.7489042708975875,0.7127012342105086,0.46073277082763675,0.8025581728545083,0.7780967115559672,0.7127012342105086,0.7489042708975875,0.8236103504118437],\"type\":\"scatter3d\"},{\"hovertemplate\":\"color=0\\u003cbr\\u003etotal_number_of_donations=%{x}\\u003cbr\\u003emonths_since_first_donation=%{y}\\u003cbr\\u003emonths_since_last_donation=%{z}\\u003cextra\\u003e\\u003c\\u002fextra\\u003e\",\"legendgroup\":\"0\",\"marker\":{\"color\":\"darksalmon\",\"symbol\":\"circle\"},\"mode\":\"markers\",\"name\":\"0\",\"scene\":\"scene\",\"showlegend\":true,\"x\":[0.8083622456632616,0.34453428213528764,0.6279331901845885,0.7972644629626329,0.2713198192468749,0.6487273223341655,0.6053443249462345,0.5533187320880734,0.6679910399825703,0.4485750999228125,0.5228345301992788,0.6679910399825703,0.70272644692246,0.40168801171421764,0.40168801171421764,0.5533187320880734,0.16933127277804444,0.16933127277804444,0.16933127277804444,0.6053443249462345,0.4485750999228125,0.6279331901845885,0.70272644692246,0.4485750999228125,0.4883283097609405,0.5806214043805425,0.70272644692246,0.16933127277804444,0.4883283097609405,0.5533187320880734,0.34453428213528764,0.34453428213528764,0.16933127277804444,0.16933127277804444,0.16933127277804444,0.16933127277804444,0.34453428213528764,0.34453428213528764,0.34453428213528764,0.4485750999228125,0.16933127277804444,0.16933127277804444,0.16933127277804444,0.16933127277804444,0.16933127277804444,0.16933127277804444,0.6053443249462345,0.4883283097609405,0.7185064298087882,0.5533187320880734,0.40168801171421764,0.40168801171421764,0.7185064298087882,0.5228345301992788,0.40168801171421764,0.2713198192468749,0.5806214043805425,0.5533187320880734,0.40168801171421764,0.6279331901845885,0.8083622456632616,0.6053443249462345,0.4883283097609405,0.34453428213528764,0.40168801171421764,0.34453428213528764,0.40168801171421764,0.6279331901845885,0.16933127277804444,0.4485750999228125,0.6053443249462345,0.2713198192468749,0.40168801171421764,0.6279331901845885,0.40168801171421764,0.16933127277804444,0.5533187320880734,0.6679910399825703,0.2713198192468749,0.2713198192468749,0.2713198192468749,0.16933127277804444,0.16933127277804444,0.4485750999228125,0.6053443249462345,0.0,0.0,0.0,0.0,0.0,0.0,0.0,0.0,0.0,0.0,0.0,0.0,0.0,0.0,0.0,0.0,0.0,0.0,0.5806214043805425,0.2713198192468749,0.34453428213528764,0.34453428213528764,0.6279331901845885,0.5228345301992788,0.5533187320880734,0.40168801171421764,0.34453428213528764,0.6859342542027217,0.4883283097609405,0.4883283097609405,0.34453428213528764,0.6053443249462345,0.16933127277804444,0.4485750999228125,0.4883283097609405,0.5533187320880734,0.4485750999228125,0.4883283097609405,0.4883283097609405,0.5533187320880734,0.4485750999228125,0.16933127277804444,0.4883283097609405,0.4485750999228125,0.2713198192468749,0.0,0.0,0.0,0.0,0.0,0.0,0.0,0.0,0.0,0.0,0.0,0.0,0.2713198192468749,0.0,0.0,0.0,0.0,0.5228345301992788,0.4883283097609405,0.5806214043805425,0.2713198192468749,0.16933127277804444,0.34453428213528764,0.5533187320880734,0.7856754710242466,0.16933127277804444,0.40168801171421764,0.6279331901845885,0.6279331901845885,0.16933127277804444,0.16933127277804444,0.16933127277804444,0.4485750999228125,0.6487273223341655,0.2713198192468749,0.5228345301992788,0.4883283097609405,0.2713198192468749,0.6279331901845885,0.34453428213528764,0.16933127277804444,0.40168801171421764,0.16933127277804444,0.5228345301992788,0.4883283097609405,0.34453428213528764,0.6053443249462345,0.4883283097609405,0.16933127277804444,0.40168801171421764,0.40168801171421764,0.34453428213528764,0.6487273223341655,0.2713198192468749,0.733389325455712,0.5228345301992788,0.70272644692246,0.40168801171421764,0.16933127277804444,0.40168801171421764,0.16933127277804444,0.16933127277804444,0.6279331901845885,0.34453428213528764,0.40168801171421764,0.40168801171421764,0.34453428213528764,0.40168801171421764,0.16933127277804444,0.16933127277804444,0.16933127277804444,0.16933127277804444,0.16933127277804444,0.16933127277804444,0.2713198192468749,0.4485750999228125,0.40168801171421764,0.2713198192468749,0.34453428213528764,0.2713198192468749,0.40168801171421764,0.16933127277804444,0.5533187320880734,0.0,0.0,0.16933127277804444,0.16933127277804444,0.34453428213528764,0.40168801171421764,0.70272644692246,0.34453428213528764,0.4883283097609405,0.16933127277804444,0.16933127277804444,0.70272644692246,0.4883283097609405,0.4883283097609405,0.4485750999228125,0.16933127277804444,0.2713198192468749,0.4883283097609405,0.2713198192468749,0.34453428213528764,0.928298648871241,0.4485750999228125,0.0,0.0,0.0,0.0,0.0,0.0,0.0,0.0,0.16933127277804444,0.40168801171421764,0.16933127277804444,0.34453428213528764,0.16933127277804444,0.4485750999228125,0.2713198192468749,0.16933127277804444,0.70272644692246,0.4485750999228125,0.16933127277804444,0.2713198192468749,0.6487273223341655,0.4485750999228125,0.6859342542027217,0.34453428213528764,0.16933127277804444,0.2713198192468749,0.16933127277804444,0.34453428213528764,0.34453428213528764,0.40168801171421764,0.0,0.0,0.0,0.0,0.0,0.0,0.0,0.0,0.4883283097609405,0.0,0.0,0.2713198192468749,0.4883283097609405,0.34453428213528764,0.34453428213528764,0.16933127277804444,0.34453428213528764,0.34453428213528764,0.5806214043805425,0.2713198192468749,0.5228345301992788,0.16933127277804444,0.40168801171421764,0.5228345301992788,0.2713198192468749,0.40168801171421764,0.2713198192468749,0.0,0.0,0.0,0.0,0.0,0.0,0.0,0.34453428213528764,0.0,0.0,0.0,0.0,0.0,0.16933127277804444,0.16933127277804444,0.16933127277804444,0.16933127277804444,0.16933127277804444,0.34453428213528764,0.40168801171421764,0.16933127277804444,0.40168801171421764,0.2713198192468749,0.2713198192468749,0.16933127277804444,0.16933127277804444,0.34453428213528764,0.16933127277804444,0.4883283097609405,0.16933127277804444,0.2713198192468749,0.6679910399825703,0.5228345301992788,0.2713198192468749,0.2713198192468749,0.16933127277804444,0.2713198192468749,0.6279331901845885,0.2713198192468749,0.16933127277804444,0.16933127277804444,0.5228345301992788,0.2713198192468749,0.2713198192468749,0.2713198192468749,0.16933127277804444,0.0,0.0,0.0,0.0,0.0,0.0,0.0,0.0,0.0,0.0,0.0,0.40168801171421764,0.34453428213528764,0.34453428213528764,0.16933127277804444,0.40168801171421764,0.2713198192468749,0.2713198192468749,0.2713198192468749,0.16933127277804444,0.4485750999228125,0.0,0.0,0.0,0.0,0.0,0.0,0.0,0.0,0.34453428213528764,0.4485750999228125,0.2713198192468749,0.16933127277804444,0.2713198192468749,0.16933127277804444,0.2713198192468749,0.34453428213528764,0.2713198192468749,0.16933127277804444,0.2713198192468749,0.0,0.0,0.0,0.0,0.9665957357406774,0.6053443249462345,0.6053443249462345,0.6053443249462345,0.6679910399825703,0.4485750999228125,0.5533187320880734,0.34453428213528764,0.6859342542027217,0.8083622456632616,0.5228345301992788,0.34453428213528764,0.4485750999228125,0.5806214043805425,0.6679910399825703,0.6679910399825703,0.2713198192468749,0.34453428213528764,0.2713198192468749,0.34453428213528764,0.34453428213528764,0.4485750999228125,0.4485750999228125,0.40168801171421764,0.5228345301992788,0.5533187320880734,0.5806214043805425,0.6679910399825703,0.5533187320880734,0.4485750999228125,0.5533187320880734,0.4485750999228125,0.4485750999228125,0.16933127277804444,0.16933127277804444,0.5533187320880734,0.40168801171421764,0.2713198192468749,0.0,0.0,0.0,0.0,0.0,0.0,0.0,0.0,0.0,0.6053443249462345,0.2713198192468749,0.6053443249462345,0.40168801171421764,0.4485750999228125,0.2713198192468749,0.6053443249462345,0.16933127277804444,0.4485750999228125,0.2713198192468749,0.5228345301992788,0.16933127277804444,0.6053443249462345,0.4883283097609405,0.4883283097609405,0.0,0.0,0.0,0.0,0.0,0.0,0.0,0.0,0.0,0.0,0.4883283097609405,0.0,0.4485750999228125,0.40168801171421764,0.5533187320880734,0.16933127277804444,0.40168801171421764,0.6053443249462345,0.5533187320880734,0.16933127277804444,0.2713198192468749,0.6859342542027217,0.2713198192468749,0.70272644692246,0.40168801171421764,0.4883283097609405,0.34453428213528764,0.40168801171421764,0.4485750999228125,0.40168801171421764,0.16933127277804444,0.16933127277804444,0.16933127277804444,0.2713198192468749,0.5228345301992788,0.0,0.40168801171421764,0.34453428213528764,0.16933127277804444,0.2713198192468749,0.70272644692246,0.16933127277804444,0.5228345301992788,0.2713198192468749,0.4883283097609405,0.40168801171421764,0.16933127277804444,0.2713198192468749,0.5228345301992788,0.0,0.0,0.0,0.0,0.2713198192468749,0.34453428213528764,0.6859342542027217,0.6679910399825703,0.5806214043805425,0.2713198192468749,0.2713198192468749,0.7474716687382837,0.4883283097609405,0.2713198192468749,0.16933127277804444,0.16933127277804444,0.2713198192468749,0.34453428213528764,0.4883283097609405,0.4883283097609405,0.4485750999228125,0.2713198192468749,0.0,0.0,0.0,0.0,0.0,0.0,0.2713198192468749,0.2713198192468749,0.4883283097609405,0.16933127277804444,0.2713198192468749,0.0,0.0,0.0,0.0,0.0,0.16933127277804444,0.34453428213528764,0.4485750999228125,0.16933127277804444,0.4485750999228125,0.4485750999228125,0.34453428213528764,0.40168801171421764,0.16933127277804444,0.2713198192468749,0.2713198192468749,0.5228345301992788,0.2713198192468749,0.2713198192468749,0.2713198192468749,0.16933127277804444,0.0,0.0,0.4485750999228125,0.0,0.0,0.2713198192468749,0.16933127277804444,0.2713198192468749,0.0,0.0,0.0,0.0,0.0,0.0,0.34453428213528764,0.0,0.4883283097609405,0.2713198192468749,0.16933127277804444,0.16933127277804444,0.2713198192468749,0.0,0.0],\"y\":[0.9373358607111437,0.17404810686108046,0.7326293283751244,0.8637318193735538,0.17404810686108046,0.8091298600746685,0.6747654731005414,0.5298791419693946,0.7672738317202942,0.4953727037460086,0.6002356063636876,0.8637318193735538,0.8892982660925969,0.5298791419693946,0.5298791419693946,0.7399371767921319,0.0,0.0,0.0,0.8035471931224089,0.6122813830259535,0.835376123043069,0.9504937749590566,0.6002356063636876,0.6838622844424995,0.819948146398158,0.927011398739594,0.17404810686108046,0.645394957742923,0.8303344478724696,0.5298791419693946,0.5298791419693946,0.17404810686108046,0.17404810686108046,0.17404810686108046,0.17404810686108046,0.5298791419693946,0.5298791419693946,0.5298791419693946,0.6747654731005414,0.17404810686108046,0.17404810686108046,0.17404810686108046,0.17404810686108046,0.17404810686108046,0.17404810686108046,0.6237939826936434,0.6747654731005414,0.9660571651262977,0.7672738317202942,0.6555580586310299,0.6555580586310299,0.9125753903770112,0.868171215442081,0.6555580586310299,0.4953727037460086,0.8892982660925969,0.8035471931224089,0.6237939826936434,0.9536818331964318,0.8892982660925969,0.8768289960579404,0.8592153466176707,0.6555580586310299,0.7251102414698766,0.6555580586310299,0.6747654731005414,0.9919203972780013,0.4085789909584107,0.7326293283751244,0.9720308442870714,0.574329412411061,0.7470453320240613,1.0,0.574329412411061,0.4331389430752244,0.927011398739594,0.9660571651262977,0.5298791419693946,0.5298791419693946,0.4953727037460086,0.4331389430752244,0.4331389430752244,0.7607042326834162,0.9406882562843372,0.0,0.0,0.0,0.0,0.0,0.0,0.0,0.0,0.0,0.0,0.0,0.0,0.0,0.0,0.0,0.0,0.0,0.0,0.7326293283751244,0.6122813830259535,0.5298791419693946,0.7326293283751244,0.9720308442870714,0.6555580586310299,0.717367339650875,0.7251102414698766,0.6555580586310299,0.9373358607111437,0.835376123043069,0.835376123043069,0.7326293283751244,0.7799353231419097,0.4953727037460086,0.8091298600746685,0.6838622844424995,0.7978420895547238,0.835376123043069,0.8637318193735538,0.8637318193735538,0.7539644179797953,0.6555580586310299,0.5298791419693946,0.9339396989475183,0.665338996273197,0.4953727037460086,0.17404810686108046,0.17404810686108046,0.17404810686108046,0.17404810686108046,0.17404810686108046,0.17404810686108046,0.17404810686108046,0.17404810686108046,0.17404810686108046,0.17404810686108046,0.17404810686108046,0.17404810686108046,0.634818611074664,0.17404810686108046,0.17404810686108046,0.17404810686108046,0.17404810686108046,0.7607042326834162,0.6555580586310299,0.885207894143711,0.5131976399584474,0.4953727037460086,0.7860422302549752,0.8637318193735538,1.0,0.4331389430752244,0.8035471931224089,0.8637318193735538,0.9660571651262977,0.4331389430752244,0.4331389430752244,0.4331389430752244,0.9304986131077424,0.868171215442081,0.7326293283751244,0.6747654731005414,0.7470453320240613,0.6747654731005414,0.8637318193735538,0.7736816014032347,0.6237939826936434,0.8637318193735538,0.6237939826936434,0.8035471931224089,0.9536818331964318,0.6002356063636876,0.7672738317202942,0.6747654731005414,0.5298791419693946,0.8637318193735538,0.8637318193735538,0.8035471931224089,0.8592153466176707,0.7251102414698766,0.9406882562843372,0.8145952353871563,0.9125753903770112,0.6555580586310299,0.5298791419693946,0.717367339650875,0.4953727037460086,0.6237939826936434,0.8251931284290327,0.6747654731005414,0.7326293283751244,0.7326293283751244,0.9125753903770112,0.6747654731005414,0.4953727037460086,0.4953727037460086,0.4953727037460086,0.4953727037460086,0.4953727037460086,0.4953727037460086,0.835376123043069,0.7251102414698766,0.927011398739594,0.6237939826936434,0.6237939826936434,0.574329412411061,0.7539644179797953,0.5298791419693946,0.8725361214744611,0.38145629231193184,0.38145629231193184,0.6838622844424995,0.5455551064276623,0.6555580586310299,0.7736816014032347,0.9536818331964318,0.7251102414698766,0.7539644179797953,0.5298791419693946,0.7736816014032347,1.0,0.7607042326834162,0.8091298600746685,0.7326293283751244,0.5298791419693946,0.6747654731005414,0.8892982660925969,0.7251102414698766,0.6926517115793488,1.0,0.8637318193735538,0.4331389430752244,0.4331389430752244,0.4331389430752244,0.4331389430752244,0.4331389430752244,0.4331389430752244,0.4331389430752244,0.4331389430752244,0.6002356063636876,0.8251931284290327,0.6002356063636876,0.6747654731005414,0.7736816014032347,0.7672738317202942,0.6555580586310299,0.6555580586310299,0.8892982660925969,0.8303344478724696,0.634818611074664,0.9162601870597201,0.8592153466176707,0.9162601870597201,0.8592153466176707,0.7539644179797953,0.6555580586310299,0.7011538505329667,0.835376123043069,0.8933253170414507,0.7672738317202942,0.8251931284290327,0.4953727037460086,0.4953727037460086,0.4953727037460086,0.4953727037460086,0.4953727037460086,0.4953727037460086,0.4953727037460086,0.4953727037460086,0.9198935184165833,0.4953727037460086,0.4953727037460086,0.835376123043069,0.9234768022933705,0.8637318193735538,0.868171215442081,0.868171215442081,0.8768289960579404,0.7672738317202942,0.9749670187568359,0.6555580586310299,0.9339396989475183,0.6237939826936434,0.717367339650875,0.8035471931224089,0.7251102414698766,0.8892982660925969,0.7736816014032347,0.5298791419693946,0.5298791419693946,0.5298791419693946,0.5298791419693946,0.5298791419693946,0.5298791419693946,0.5298791419693946,0.7978420895547238,0.5298791419693946,0.5298791419693946,0.5298791419693946,0.5298791419693946,0.5298791419693946,0.6555580586310299,0.6237939826936434,0.665338996273197,0.6237939826936434,0.6237939826936434,0.8592153466176707,0.8725361214744611,0.6237939826936434,0.927011398739594,0.6747654731005414,0.7672738317202942,0.835376123043069,0.835376123043069,0.8892982660925969,0.7326293283751244,0.9863911286296869,0.645394957742923,0.835376123043069,0.9863911286296869,0.9919203972780013,0.8035471931224089,0.9339396989475183,0.835376123043069,0.9339396989475183,0.9660571651262977,0.7326293283751244,0.6555580586310299,0.6555580586310299,0.8892982660925969,0.8251931284290327,0.717367339650875,0.7539644179797953,0.6747654731005414,0.6002356063636876,0.6002356063636876,0.6002356063636876,0.6002356063636876,0.6002356063636876,0.6002356063636876,0.6002356063636876,0.6002356063636876,0.6002356063636876,0.6002356063636876,0.6002356063636876,0.8725361214744611,0.7978420895547238,0.835376123043069,0.9125753903770112,0.8637318193735538,0.7672738317202942,0.7736816014032347,0.9568312941384668,0.7326293283751244,0.9125753903770112,0.6237939826936434,0.6237939826936434,0.6237939826936434,0.6237939826936434,0.6237939826936434,0.6237939826936434,0.6237939826936434,0.6237939826936434,0.8403219430455522,0.9660571651262977,0.8145952353871563,0.7736816014032347,0.8892982660925969,0.9125753903770112,0.9125753903770112,0.9690611511200177,0.9749670187568359,0.9690611511200177,0.8892982660925969,0.7539644179797953,0.7539644179797953,0.7672738317202942,0.927011398739594,1.0,0.6237939826936434,0.6555580586310299,0.6747654731005414,0.7326293283751244,0.4953727037460086,0.6747654731005414,0.4331389430752244,0.8892982660925969,0.9439979993562735,0.6747654731005414,0.4953727037460086,0.6555580586310299,0.835376123043069,0.9919203972780013,0.8145952353871563,0.4331389430752244,0.5298791419693946,0.4953727037460086,0.6237939826936434,0.5603398970626012,0.6747654731005414,0.6926517115793488,0.4953727037460086,0.8251931284290327,0.835376123043069,0.8091298600746685,0.9660571651262977,0.9304986131077424,0.7326293283751244,0.8499401289954995,0.7978420895547238,0.8091298600746685,0.38145629231193184,0.4331389430752244,0.7539644179797953,0.5603398970626012,0.6002356063636876,0.0,0.0,0.0,0.0,0.0,0.0,0.0,0.0,0.0,0.7539644179797953,0.6122813830259535,0.9304986131077424,0.7539644179797953,0.7860422302549752,0.634818611074664,0.7607042326834162,0.4953727037460086,0.8035471931224089,0.4953727037460086,0.6555580586310299,0.47623596859453204,0.9919203972780013,0.9373358607111437,0.9373358607111437,0.17404810686108046,0.17404810686108046,0.17404810686108046,0.17404810686108046,0.17404810686108046,0.17404810686108046,0.17404810686108046,0.17404810686108046,0.17404810686108046,0.17404810686108046,0.8810521780325872,0.17404810686108046,0.6747654731005414,0.7326293283751244,0.8451754848825552,0.4331389430752244,0.885207894143711,0.9749670187568359,0.8892982660925969,0.6122813830259535,0.6555580586310299,0.9162601870597201,0.5298791419693946,0.9749670187568359,0.8637318193735538,0.7326293283751244,0.665338996273197,0.835376123043069,0.7736816014032347,0.7539644179797953,0.4953727037460086,0.4953727037460086,0.717367339650875,0.6237939826936434,0.8035471931224089,0.38145629231193184,0.665338996273197,0.6555580586310299,0.6926517115793488,0.6002356063636876,0.9373358607111437,0.7011538505329667,0.8251931284290327,0.6555580586310299,0.7978420895547238,0.717367339650875,0.5298791419693946,0.6002356063636876,0.9198935184165833,0.4331389430752244,0.4331389430752244,0.4331389430752244,0.4331389430752244,0.9373358607111437,0.6747654731005414,0.9690611511200177,0.9568312941384668,0.8810521780325872,0.6237939826936434,0.6555580586310299,0.8810521780325872,0.9304986131077424,0.6747654731005414,0.8035471931224089,0.645394957742923,0.7470453320240613,0.717367339650875,0.7539644179797953,0.9339396989475183,0.8251931284290327,0.717367339650875,0.4953727037460086,0.4953727037460086,0.4953727037460086,0.4953727037460086,0.4953727037460086,0.4953727037460086,0.7326293283751244,0.7326293283751244,0.8892982660925969,0.6002356063636876,0.7326293283751244,0.5298791419693946,0.5298791419693946,0.5298791419693946,0.5298791419693946,0.5298791419693946,0.6838622844424995,0.927011398739594,0.8145952353871563,0.6237939826936434,0.7978420895547238,0.9504937749590566,0.8637318193735538,0.9162601870597201,0.6555580586310299,0.7326293283751244,0.7326293283751244,0.9088376494045263,0.7539644179797953,0.7326293283751244,0.7672738317202942,0.6747654731005414,0.6002356063636876,0.6002356063636876,0.8251931284290327,0.6002356063636876,0.6002356063636876,0.7607042326834162,0.717367339650875,0.9439979993562735,0.6237939826936434,0.6237939826936434,0.6237939826936434,0.6237939826936434,0.6237939826936434,0.6237939826936434,0.835376123043069,0.6237939826936434,0.9720308442870714,0.9660571651262977,0.7539644179797953,0.835376123043069,0.8810521780325872,0.7607042326834162,0.9198935184165833],\"z\":[0.36287757958420697,0.5619811917826373,0.36287757958420697,0.5619811917826373,0.0,0.36287757958420697,0.5619811917826373,0.6826360592716696,0.5619811917826373,0.5619811917826373,0.5619811917826373,0.36287757958420697,0.46073277082763675,0.46073277082763675,0.46073277082763675,0.46073277082763675,0.46073277082763675,0.46073277082763675,0.46073277082763675,0.46073277082763675,0.46073277082763675,0.46073277082763675,0.46073277082763675,0.5196711379444335,0.46073277082763675,0.46073277082763675,0.5196711379444335,0.0,0.5619811917826373,0.36287757958420697,0.46073277082763675,0.46073277082763675,0.46073277082763675,0.46073277082763675,0.46073277082763675,0.46073277082763675,0.46073277082763675,0.46073277082763675,0.46073277082763675,0.46073277082763675,0.5619811917826373,0.5619811917826373,0.5619811917826373,0.5619811917826373,0.5619811917826373,0.5619811917826373,0.725755159168414,0.5619811917826373,0.5196711379444335,0.5619811917826373,0.46073277082763675,0.46073277082763675,0.6221055501170012,0.0,0.5196711379444335,0.46073277082763675,0.46073277082763675,0.5619811917826373,0.5619811917826373,0.46073277082763675,0.7127012342105086,0.5619811917826373,0.36287757958420697,0.46073277082763675,0.46073277082763675,0.46073277082763675,0.5619811917826373,0.46073277082763675,0.46073277082763675,0.5619811917826373,0.46073277082763675,0.46073277082763675,0.46073277082763675,0.46073277082763675,0.6826360592716696,0.46073277082763675,0.46073277082763675,0.5950098760089252,0.5619811917826373,0.5619811917826373,0.6221055501170012,0.46073277082763675,0.46073277082763675,0.5619811917826373,0.5619811917826373,0.46073277082763675,0.46073277082763675,0.46073277082763675,0.46073277082763675,0.46073277082763675,0.46073277082763675,0.46073277082763675,0.46073277082763675,0.46073277082763675,0.46073277082763675,0.46073277082763675,0.46073277082763675,0.46073277082763675,0.46073277082763675,0.46073277082763675,0.46073277082763675,0.46073277082763675,0.46073277082763675,0.7127012342105086,0.46073277082763675,0.6984140557090923,0.46073277082763675,0.5619811917826373,0.7377719221966185,0.7127012342105086,0.5619811917826373,0.5619811917826373,0.6650194822697273,0.5619811917826373,0.5619811917826373,0.46073277082763675,0.7127012342105086,0.46073277082763675,0.5619811917826373,0.7127012342105086,0.6826360592716696,0.5619811917826373,0.5619811917826373,0.5619811917826373,0.7127012342105086,0.7127012342105086,0.46073277082763675,0.46073277082763675,0.7127012342105086,0.7127012342105086,0.5619811917826373,0.5619811917826373,0.5619811917826373,0.5619811917826373,0.5619811917826373,0.5619811917826373,0.5619811917826373,0.5619811917826373,0.5619811917826373,0.5619811917826373,0.5619811917826373,0.5619811917826373,0.5619811917826373,0.5619811917826373,0.5619811917826373,0.5619811917826373,0.5619811917826373,0.6984140557090923,0.7489042708975875,0.6650194822697273,0.7127012342105086,0.5619811917826373,0.46073277082763675,0.6650194822697273,0.7127012342105086,0.6826360592716696,0.5619811917826373,0.7127012342105086,0.6450786128444587,0.7127012342105086,0.7127012342105086,0.7127012342105086,0.46073277082763675,0.725755159168414,0.46073277082763675,0.7689775853731519,0.7127012342105086,0.5619811917826373,0.725755159168414,0.5619811917826373,0.46073277082763675,0.5619811917826373,0.5196711379444335,0.7127012342105086,0.5619811917826373,0.7377719221966185,0.7689775853731519,0.7689775853731519,0.6450786128444587,0.5619811917826373,0.5619811917826373,0.5619811917826373,0.7489042708975875,0.5619811917826373,0.7489042708975875,0.7127012342105086,0.7489042708975875,0.7489042708975875,0.6650194822697273,0.7127012342105086,0.7127012342105086,0.5619811917826373,0.7689775853731519,0.7127012342105086,0.7127012342105086,0.7127012342105086,0.46073277082763675,0.7489042708975875,0.7489042708975875,0.7489042708975875,0.7489042708975875,0.7489042708975875,0.7489042708975875,0.7489042708975875,0.46073277082763675,0.7489042708975875,0.5619811917826373,0.7127012342105086,0.7689775853731519,0.7689775853731519,0.7127012342105086,0.7127012342105086,0.725755159168414,0.6826360592716696,0.6826360592716696,0.5619811917826373,0.7127012342105086,0.7489042708975875,0.7127012342105086,0.7592735112052313,0.7127012342105086,0.7689775853731519,0.7489042708975875,0.46073277082763675,0.7489042708975875,0.7689775853731519,0.7489042708975875,0.7689775853731519,0.7689775853731519,0.7127012342105086,0.7127012342105086,0.6826360592716696,0.7489042708975875,0.8236103504118437,0.7127012342105086,0.7127012342105086,0.7127012342105086,0.7127012342105086,0.7127012342105086,0.7127012342105086,0.7127012342105086,0.7127012342105086,0.7127012342105086,0.7127012342105086,0.7127012342105086,0.7127012342105086,0.7689775853731519,0.5619811917826373,0.7689775853731519,0.7489042708975875,0.6826360592716696,0.8099058152308003,0.7489042708975875,0.7127012342105086,0.5619811917826373,0.8099058152308003,0.7127012342105086,0.8236103504118437,0.7489042708975875,0.7127012342105086,0.7489042708975875,0.5619811917826373,0.6826360592716696,0.7489042708975875,0.7489042708975875,0.7489042708975875,0.7489042708975875,0.7489042708975875,0.7489042708975875,0.7489042708975875,0.7489042708975875,0.7489042708975875,0.7489042708975875,0.7489042708975875,0.7489042708975875,0.7489042708975875,0.6826360592716696,0.7489042708975875,0.7127012342105086,0.7127012342105086,0.5619811917826373,0.7127012342105086,0.7689775853731519,0.7689775853731519,0.8099058152308003,0.7689775853731519,0.7866974181820532,0.8236103504118437,0.8236103504118437,0.7689775853731519,0.7489042708975875,0.7489042708975875,0.7689775853731519,0.7689775853731519,0.7689775853731519,0.7689775853731519,0.7689775853731519,0.7689775853731519,0.7689775853731519,0.7689775853731519,0.7689775853731519,0.7689775853731519,0.7689775853731519,0.7689775853731519,0.7689775853731519,0.7689775853731519,0.8099058152308003,0.7689775853731519,0.8099058152308003,0.8099058152308003,0.7489042708975875,0.7689775853731519,0.8236103504118437,0.7489042708975875,0.8236103504118437,0.7689775853731519,0.6826360592716696,0.6826360592716696,0.7489042708975875,0.7489042708975875,0.7689775853731519,0.8099058152308003,0.7489042708975875,0.8236103504118437,0.7866974181820532,0.7689775853731519,0.7127012342105086,0.7127012342105086,0.7127012342105086,0.8236103504118437,0.8099058152308003,0.8236103504118437,0.8236103504118437,0.8236103504118437,0.7689775853731519,0.8236103504118437,0.8099058152308003,0.8236103504118437,0.8099058152308003,0.8099058152308003,0.8099058152308003,0.8099058152308003,0.8099058152308003,0.8099058152308003,0.8099058152308003,0.8099058152308003,0.8099058152308003,0.8099058152308003,0.8099058152308003,0.8099058152308003,0.8236103504118437,0.8099058152308003,0.7127012342105086,0.8236103504118437,0.8236103504118437,0.8236103504118437,0.7489042708975875,0.8099058152308003,0.8236103504118437,0.8236103504118437,0.8236103504118437,0.8236103504118437,0.8236103504118437,0.8236103504118437,0.8236103504118437,0.8236103504118437,0.8236103504118437,0.8236103504118437,0.8099058152308003,0.8236103504118437,0.8099058152308003,0.8099058152308003,0.7689775853731519,0.8099058152308003,0.8236103504118437,0.8236103504118437,0.8236103504118437,0.8869227707137601,0.8993339607712914,0.8993339607712914,0.9070764013491592,1.0,0.46073277082763675,0.46073277082763675,0.46073277082763675,0.46073277082763675,0.5196711379444335,0.5619811917826373,0.5619811917826373,0.46073277082763675,0.46073277082763675,0.5950098760089252,0.5619811917826373,0.46073277082763675,0.46073277082763675,0.46073277082763675,0.36287757958420697,0.6450786128444587,0.46073277082763675,0.5619811917826373,0.46073277082763675,0.46073277082763675,0.5619811917826373,0.5950098760089252,0.5619811917826373,0.7489042708975875,0.5196711379444335,0.5619811917826373,0.6450786128444587,0.5619811917826373,0.46073277082763675,0.5619811917826373,0.5619811917826373,0.46073277082763675,0.46073277082763675,0.5619811917826373,0.46073277082763675,0.6826360592716696,0.7127012342105086,0.46073277082763675,0.46073277082763675,0.46073277082763675,0.46073277082763675,0.46073277082763675,0.46073277082763675,0.46073277082763675,0.46073277082763675,0.46073277082763675,0.46073277082763675,0.7127012342105086,0.46073277082763675,0.5950098760089252,0.5196711379444335,0.5619811917826373,0.46073277082763675,0.725755159168414,0.46073277082763675,0.5619811917826373,0.6826360592716696,0.7489042708975875,0.5619811917826373,0.5619811917826373,0.46073277082763675,0.46073277082763675,0.5619811917826373,0.5619811917826373,0.5619811917826373,0.5619811917826373,0.5619811917826373,0.5619811917826373,0.5619811917826373,0.5619811917826373,0.5619811917826373,0.5619811917826373,0.5619811917826373,0.5619811917826373,0.7127012342105086,0.6450786128444587,0.6826360592716696,0.7127012342105086,0.46073277082763675,0.6450786128444587,0.6650194822697273,0.46073277082763675,0.6221055501170012,0.725755159168414,0.7377719221966185,0.7127012342105086,0.5619811917826373,0.7489042708975875,0.7127012342105086,0.6450786128444587,0.7127012342105086,0.6984140557090923,0.7489042708975875,0.7489042708975875,0.46073277082763675,0.7127012342105086,0.7489042708975875,0.6826360592716696,0.7689775853731519,0.7489042708975875,0.5619811917826373,0.7489042708975875,0.7689775853731519,0.5619811917826373,0.7489042708975875,0.7127012342105086,0.7489042708975875,0.7592735112052313,0.7689775853731519,0.7689775853731519,0.7127012342105086,0.7127012342105086,0.7127012342105086,0.7127012342105086,0.7127012342105086,0.46073277082763675,0.7689775853731519,0.7689775853731519,0.7689775853731519,0.7689775853731519,0.7689775853731519,0.7489042708975875,0.8236103504118437,0.7127012342105086,0.7489042708975875,0.5619811917826373,0.7127012342105086,0.7127012342105086,0.7689775853731519,0.8099058152308003,0.7377719221966185,0.7689775853731519,0.7489042708975875,0.7489042708975875,0.7489042708975875,0.7489042708975875,0.7489042708975875,0.7489042708975875,0.7489042708975875,0.7489042708975875,0.7489042708975875,0.7689775853731519,0.8099058152308003,0.7689775853731519,0.7689775853731519,0.7689775853731519,0.7689775853731519,0.7689775853731519,0.7689775853731519,0.7489042708975875,0.7127012342105086,0.8099058152308003,0.8236103504118437,0.8236103504118437,0.7689775853731519,0.7689775853731519,0.7689775853731519,0.8099058152308003,0.8099058152308003,0.8099058152308003,0.8236103504118437,0.8099058152308003,0.8236103504118437,0.8099058152308003,0.8236103504118437,0.8099058152308003,0.8099058152308003,0.8361762131165359,0.8099058152308003,0.8099058152308003,0.8236103504118437,0.8099058152308003,0.7489042708975875,0.8236103504118437,0.8236103504118437,0.8236103504118437,0.8236103504118437,0.8236103504118437,0.8236103504118437,0.8236103504118437,0.8236103504118437,0.8236103504118437,0.7689775853731519,0.8236103504118437,0.8099058152308003,0.8236103504118437,0.9032546905544402,0.9958593393731842],\"type\":\"scatter3d\"}],                        {\"template\":{\"data\":{\"histogram2dcontour\":[{\"type\":\"histogram2dcontour\",\"colorbar\":{\"outlinewidth\":0,\"ticks\":\"\"},\"colorscale\":[[0.0,\"#0d0887\"],[0.1111111111111111,\"#46039f\"],[0.2222222222222222,\"#7201a8\"],[0.3333333333333333,\"#9c179e\"],[0.4444444444444444,\"#bd3786\"],[0.5555555555555556,\"#d8576b\"],[0.6666666666666666,\"#ed7953\"],[0.7777777777777778,\"#fb9f3a\"],[0.8888888888888888,\"#fdca26\"],[1.0,\"#f0f921\"]]}],\"choropleth\":[{\"type\":\"choropleth\",\"colorbar\":{\"outlinewidth\":0,\"ticks\":\"\"}}],\"histogram2d\":[{\"type\":\"histogram2d\",\"colorbar\":{\"outlinewidth\":0,\"ticks\":\"\"},\"colorscale\":[[0.0,\"#0d0887\"],[0.1111111111111111,\"#46039f\"],[0.2222222222222222,\"#7201a8\"],[0.3333333333333333,\"#9c179e\"],[0.4444444444444444,\"#bd3786\"],[0.5555555555555556,\"#d8576b\"],[0.6666666666666666,\"#ed7953\"],[0.7777777777777778,\"#fb9f3a\"],[0.8888888888888888,\"#fdca26\"],[1.0,\"#f0f921\"]]}],\"heatmap\":[{\"type\":\"heatmap\",\"colorbar\":{\"outlinewidth\":0,\"ticks\":\"\"},\"colorscale\":[[0.0,\"#0d0887\"],[0.1111111111111111,\"#46039f\"],[0.2222222222222222,\"#7201a8\"],[0.3333333333333333,\"#9c179e\"],[0.4444444444444444,\"#bd3786\"],[0.5555555555555556,\"#d8576b\"],[0.6666666666666666,\"#ed7953\"],[0.7777777777777778,\"#fb9f3a\"],[0.8888888888888888,\"#fdca26\"],[1.0,\"#f0f921\"]]}],\"heatmapgl\":[{\"type\":\"heatmapgl\",\"colorbar\":{\"outlinewidth\":0,\"ticks\":\"\"},\"colorscale\":[[0.0,\"#0d0887\"],[0.1111111111111111,\"#46039f\"],[0.2222222222222222,\"#7201a8\"],[0.3333333333333333,\"#9c179e\"],[0.4444444444444444,\"#bd3786\"],[0.5555555555555556,\"#d8576b\"],[0.6666666666666666,\"#ed7953\"],[0.7777777777777778,\"#fb9f3a\"],[0.8888888888888888,\"#fdca26\"],[1.0,\"#f0f921\"]]}],\"contourcarpet\":[{\"type\":\"contourcarpet\",\"colorbar\":{\"outlinewidth\":0,\"ticks\":\"\"}}],\"contour\":[{\"type\":\"contour\",\"colorbar\":{\"outlinewidth\":0,\"ticks\":\"\"},\"colorscale\":[[0.0,\"#0d0887\"],[0.1111111111111111,\"#46039f\"],[0.2222222222222222,\"#7201a8\"],[0.3333333333333333,\"#9c179e\"],[0.4444444444444444,\"#bd3786\"],[0.5555555555555556,\"#d8576b\"],[0.6666666666666666,\"#ed7953\"],[0.7777777777777778,\"#fb9f3a\"],[0.8888888888888888,\"#fdca26\"],[1.0,\"#f0f921\"]]}],\"surface\":[{\"type\":\"surface\",\"colorbar\":{\"outlinewidth\":0,\"ticks\":\"\"},\"colorscale\":[[0.0,\"#0d0887\"],[0.1111111111111111,\"#46039f\"],[0.2222222222222222,\"#7201a8\"],[0.3333333333333333,\"#9c179e\"],[0.4444444444444444,\"#bd3786\"],[0.5555555555555556,\"#d8576b\"],[0.6666666666666666,\"#ed7953\"],[0.7777777777777778,\"#fb9f3a\"],[0.8888888888888888,\"#fdca26\"],[1.0,\"#f0f921\"]]}],\"mesh3d\":[{\"type\":\"mesh3d\",\"colorbar\":{\"outlinewidth\":0,\"ticks\":\"\"}}],\"scatter\":[{\"fillpattern\":{\"fillmode\":\"overlay\",\"size\":10,\"solidity\":0.2},\"type\":\"scatter\"}],\"parcoords\":[{\"type\":\"parcoords\",\"line\":{\"colorbar\":{\"outlinewidth\":0,\"ticks\":\"\"}}}],\"scatterpolargl\":[{\"type\":\"scatterpolargl\",\"marker\":{\"colorbar\":{\"outlinewidth\":0,\"ticks\":\"\"}}}],\"bar\":[{\"error_x\":{\"color\":\"#2a3f5f\"},\"error_y\":{\"color\":\"#2a3f5f\"},\"marker\":{\"line\":{\"color\":\"#E5ECF6\",\"width\":0.5},\"pattern\":{\"fillmode\":\"overlay\",\"size\":10,\"solidity\":0.2}},\"type\":\"bar\"}],\"scattergeo\":[{\"type\":\"scattergeo\",\"marker\":{\"colorbar\":{\"outlinewidth\":0,\"ticks\":\"\"}}}],\"scatterpolar\":[{\"type\":\"scatterpolar\",\"marker\":{\"colorbar\":{\"outlinewidth\":0,\"ticks\":\"\"}}}],\"histogram\":[{\"marker\":{\"pattern\":{\"fillmode\":\"overlay\",\"size\":10,\"solidity\":0.2}},\"type\":\"histogram\"}],\"scattergl\":[{\"type\":\"scattergl\",\"marker\":{\"colorbar\":{\"outlinewidth\":0,\"ticks\":\"\"}}}],\"scatter3d\":[{\"type\":\"scatter3d\",\"line\":{\"colorbar\":{\"outlinewidth\":0,\"ticks\":\"\"}},\"marker\":{\"colorbar\":{\"outlinewidth\":0,\"ticks\":\"\"}}}],\"scattermapbox\":[{\"type\":\"scattermapbox\",\"marker\":{\"colorbar\":{\"outlinewidth\":0,\"ticks\":\"\"}}}],\"scatterternary\":[{\"type\":\"scatterternary\",\"marker\":{\"colorbar\":{\"outlinewidth\":0,\"ticks\":\"\"}}}],\"scattercarpet\":[{\"type\":\"scattercarpet\",\"marker\":{\"colorbar\":{\"outlinewidth\":0,\"ticks\":\"\"}}}],\"carpet\":[{\"aaxis\":{\"endlinecolor\":\"#2a3f5f\",\"gridcolor\":\"white\",\"linecolor\":\"white\",\"minorgridcolor\":\"white\",\"startlinecolor\":\"#2a3f5f\"},\"baxis\":{\"endlinecolor\":\"#2a3f5f\",\"gridcolor\":\"white\",\"linecolor\":\"white\",\"minorgridcolor\":\"white\",\"startlinecolor\":\"#2a3f5f\"},\"type\":\"carpet\"}],\"table\":[{\"cells\":{\"fill\":{\"color\":\"#EBF0F8\"},\"line\":{\"color\":\"white\"}},\"header\":{\"fill\":{\"color\":\"#C8D4E3\"},\"line\":{\"color\":\"white\"}},\"type\":\"table\"}],\"barpolar\":[{\"marker\":{\"line\":{\"color\":\"#E5ECF6\",\"width\":0.5},\"pattern\":{\"fillmode\":\"overlay\",\"size\":10,\"solidity\":0.2}},\"type\":\"barpolar\"}],\"pie\":[{\"automargin\":true,\"type\":\"pie\"}]},\"layout\":{\"autotypenumbers\":\"strict\",\"colorway\":[\"#636efa\",\"#EF553B\",\"#00cc96\",\"#ab63fa\",\"#FFA15A\",\"#19d3f3\",\"#FF6692\",\"#B6E880\",\"#FF97FF\",\"#FECB52\"],\"font\":{\"color\":\"#2a3f5f\"},\"hovermode\":\"closest\",\"hoverlabel\":{\"align\":\"left\"},\"paper_bgcolor\":\"white\",\"plot_bgcolor\":\"#E5ECF6\",\"polar\":{\"bgcolor\":\"#E5ECF6\",\"angularaxis\":{\"gridcolor\":\"white\",\"linecolor\":\"white\",\"ticks\":\"\"},\"radialaxis\":{\"gridcolor\":\"white\",\"linecolor\":\"white\",\"ticks\":\"\"}},\"ternary\":{\"bgcolor\":\"#E5ECF6\",\"aaxis\":{\"gridcolor\":\"white\",\"linecolor\":\"white\",\"ticks\":\"\"},\"baxis\":{\"gridcolor\":\"white\",\"linecolor\":\"white\",\"ticks\":\"\"},\"caxis\":{\"gridcolor\":\"white\",\"linecolor\":\"white\",\"ticks\":\"\"}},\"coloraxis\":{\"colorbar\":{\"outlinewidth\":0,\"ticks\":\"\"}},\"colorscale\":{\"sequential\":[[0.0,\"#0d0887\"],[0.1111111111111111,\"#46039f\"],[0.2222222222222222,\"#7201a8\"],[0.3333333333333333,\"#9c179e\"],[0.4444444444444444,\"#bd3786\"],[0.5555555555555556,\"#d8576b\"],[0.6666666666666666,\"#ed7953\"],[0.7777777777777778,\"#fb9f3a\"],[0.8888888888888888,\"#fdca26\"],[1.0,\"#f0f921\"]],\"sequentialminus\":[[0.0,\"#0d0887\"],[0.1111111111111111,\"#46039f\"],[0.2222222222222222,\"#7201a8\"],[0.3333333333333333,\"#9c179e\"],[0.4444444444444444,\"#bd3786\"],[0.5555555555555556,\"#d8576b\"],[0.6666666666666666,\"#ed7953\"],[0.7777777777777778,\"#fb9f3a\"],[0.8888888888888888,\"#fdca26\"],[1.0,\"#f0f921\"]],\"diverging\":[[0,\"#8e0152\"],[0.1,\"#c51b7d\"],[0.2,\"#de77ae\"],[0.3,\"#f1b6da\"],[0.4,\"#fde0ef\"],[0.5,\"#f7f7f7\"],[0.6,\"#e6f5d0\"],[0.7,\"#b8e186\"],[0.8,\"#7fbc41\"],[0.9,\"#4d9221\"],[1,\"#276419\"]]},\"xaxis\":{\"gridcolor\":\"white\",\"linecolor\":\"white\",\"ticks\":\"\",\"title\":{\"standoff\":15},\"zerolinecolor\":\"white\",\"automargin\":true,\"zerolinewidth\":2},\"yaxis\":{\"gridcolor\":\"white\",\"linecolor\":\"white\",\"ticks\":\"\",\"title\":{\"standoff\":15},\"zerolinecolor\":\"white\",\"automargin\":true,\"zerolinewidth\":2},\"scene\":{\"xaxis\":{\"backgroundcolor\":\"#E5ECF6\",\"gridcolor\":\"white\",\"linecolor\":\"white\",\"showbackground\":true,\"ticks\":\"\",\"zerolinecolor\":\"white\",\"gridwidth\":2},\"yaxis\":{\"backgroundcolor\":\"#E5ECF6\",\"gridcolor\":\"white\",\"linecolor\":\"white\",\"showbackground\":true,\"ticks\":\"\",\"zerolinecolor\":\"white\",\"gridwidth\":2},\"zaxis\":{\"backgroundcolor\":\"#E5ECF6\",\"gridcolor\":\"white\",\"linecolor\":\"white\",\"showbackground\":true,\"ticks\":\"\",\"zerolinecolor\":\"white\",\"gridwidth\":2}},\"shapedefaults\":{\"line\":{\"color\":\"#2a3f5f\"}},\"annotationdefaults\":{\"arrowcolor\":\"#2a3f5f\",\"arrowhead\":0,\"arrowwidth\":1},\"geo\":{\"bgcolor\":\"white\",\"landcolor\":\"#E5ECF6\",\"subunitcolor\":\"white\",\"showland\":true,\"showlakes\":true,\"lakecolor\":\"white\"},\"title\":{\"x\":0.05},\"mapbox\":{\"style\":\"light\"}}},\"scene\":{\"domain\":{\"x\":[0.0,1.0],\"y\":[0.0,1.0]},\"xaxis\":{\"title\":{\"text\":\"total_number_of_donations\"}},\"yaxis\":{\"title\":{\"text\":\"months_since_first_donation\"}},\"zaxis\":{\"title\":{\"text\":\"months_since_last_donation\"}}},\"legend\":{\"title\":{\"text\":\"color\"},\"tracegroupgap\":0},\"margin\":{\"t\":60}},                        {\"responsive\": true}                    ).then(function(){\n",
              "                            \n",
              "var gd = document.getElementById('d06b33b6-479d-4831-9f3f-decf25a0cb72');\n",
              "var x = new MutationObserver(function (mutations, observer) {{\n",
              "        var display = window.getComputedStyle(gd).display;\n",
              "        if (!display || display === 'none') {{\n",
              "            console.log([gd, 'removed!']);\n",
              "            Plotly.purge(gd);\n",
              "            observer.disconnect();\n",
              "        }}\n",
              "}});\n",
              "\n",
              "// Listen for the removal of the full notebook cells\n",
              "var notebookContainer = gd.closest('#notebook-container');\n",
              "if (notebookContainer) {{\n",
              "    x.observe(notebookContainer, {childList: true});\n",
              "}}\n",
              "\n",
              "// Listen for the clearing of the current output cell\n",
              "var outputEl = gd.closest('.output');\n",
              "if (outputEl) {{\n",
              "    x.observe(outputEl, {childList: true});\n",
              "}}\n",
              "\n",
              "                        })                };                            </script>        </div>\n",
              "</body>\n",
              "</html>"
            ]
          },
          "metadata": {}
        }
      ]
    },
    {
      "cell_type": "code",
      "source": [
        "px.scatter(\n",
        "    data_frame=df_prep,\n",
        "    x = 'months_since_first_donation',\n",
        "    y = 'months_since_last_donation',\n",
        "    color='total_number_of_donations',\n",
        "    color_continuous_scale='RdBu'\n",
        ")"
      ],
      "metadata": {
        "id": "5tuobsisKo9F",
        "outputId": "adff0b5d-7b68-4945-cca4-c866a7ee13bd",
        "colab": {
          "base_uri": "https://localhost:8080/",
          "height": 542
        }
      },
      "execution_count": 18,
      "outputs": [
        {
          "output_type": "display_data",
          "data": {
            "text/html": [
              "<html>\n",
              "<head><meta charset=\"utf-8\" /></head>\n",
              "<body>\n",
              "    <div>            <script src=\"https://cdnjs.cloudflare.com/ajax/libs/mathjax/2.7.5/MathJax.js?config=TeX-AMS-MML_SVG\"></script><script type=\"text/javascript\">if (window.MathJax && window.MathJax.Hub && window.MathJax.Hub.Config) {window.MathJax.Hub.Config({SVG: {font: \"STIX-Web\"}});}</script>                <script type=\"text/javascript\">window.PlotlyConfig = {MathJaxConfig: 'local'};</script>\n",
              "        <script charset=\"utf-8\" src=\"https://cdn.plot.ly/plotly-2.35.2.min.js\"></script>                <div id=\"a309b163-79c0-4390-957d-9bdc8b67d0dc\" class=\"plotly-graph-div\" style=\"height:525px; width:100%;\"></div>            <script type=\"text/javascript\">                                    window.PLOTLYENV=window.PLOTLYENV || {};                                    if (document.getElementById(\"a309b163-79c0-4390-957d-9bdc8b67d0dc\")) {                    Plotly.newPlot(                        \"a309b163-79c0-4390-957d-9bdc8b67d0dc\",                        [{\"hovertemplate\":\"months_since_first_donation=%{x}\\u003cbr\\u003emonths_since_last_donation=%{y}\\u003cbr\\u003etotal_number_of_donations=%{marker.color}\\u003cextra\\u003e\\u003c\\u002fextra\\u003e\",\"legendgroup\":\"\",\"marker\":{\"color\":[1.0,0.6487273223341655,0.70272644692246,0.760835204839116,0.8083622456632616,0.34453428213528764,0.4883283097609405,0.6279331901845885,0.5533187320880734,0.9782104323082371,0.7972644629626329,0.2713198192468749,0.5806214043805425,0.6487273223341655,0.4485750999228125,0.40168801171421764,0.6679910399825703,0.6859342542027217,0.4485750999228125,0.2713198192468749,0.2713198192468749,0.6053443249462345,0.4485750999228125,0.4485750999228125,0.5533187320880734,0.6679910399825703,0.4485750999228125,0.6279331901845885,0.40168801171421764,0.5228345301992788,0.6679910399825703,0.5806214043805425,0.5806214043805425,0.5533187320880734,0.70272644692246,0.5228345301992788,0.6279331901845885,0.4485750999228125,0.6679910399825703,0.4883283097609405,0.6487273223341655,0.40168801171421764,0.40168801171421764,0.40168801171421764,0.760835204839116,0.5533187320880734,0.5533187320880734,0.16933127277804444,0.16933127277804444,0.16933127277804444,0.6053443249462345,0.6053443249462345,0.4485750999228125,0.6279331901845885,0.40168801171421764,0.7474716687382837,0.5228345301992788,0.4883283097609405,0.70272644692246,0.4485750999228125,0.4883283097609405,0.5228345301992788,0.5806214043805425,0.40168801171421764,0.2713198192468749,0.70272644692246,0.34453428213528764,0.16933127277804444,0.4883283097609405,0.5533187320880734,0.34453428213528764,0.34453428213528764,0.7185064298087882,0.16933127277804444,0.16933127277804444,0.16933127277804444,0.34453428213528764,0.16933127277804444,0.16933127277804444,0.16933127277804444,0.4485750999228125,0.34453428213528764,0.34453428213528764,0.34453428213528764,0.4485750999228125,0.4485750999228125,0.16933127277804444,0.16933127277804444,0.16933127277804444,0.4883283097609405,0.16933127277804444,0.16933127277804444,0.16933127277804444,0.16933127277804444,0.6053443249462345,0.4883283097609405,0.7185064298087882,0.5533187320880734,0.34453428213528764,0.4883283097609405,0.5228345301992788,0.6487273223341655,0.5533187320880734,0.40168801171421764,0.40168801171421764,0.7185064298087882,0.5228345301992788,0.40168801171421764,0.2713198192468749,0.5806214043805425,0.40168801171421764,0.5533187320880734,0.40168801171421764,0.5228345301992788,0.6279331901845885,0.8083622456632616,0.4883283097609405,0.6053443249462345,0.4883283097609405,0.6053443249462345,0.2713198192468749,0.40168801171421764,0.4485750999228125,0.40168801171421764,0.34453428213528764,0.40168801171421764,0.5228345301992788,0.34453428213528764,0.5228345301992788,0.16933127277804444,0.40168801171421764,0.6279331901845885,0.16933127277804444,0.4485750999228125,0.6053443249462345,0.2713198192468749,0.40168801171421764,0.6279331901845885,0.40168801171421764,0.16933127277804444,0.5533187320880734,0.6679910399825703,0.2713198192468749,0.2713198192468749,0.16933127277804444,0.2713198192468749,0.2713198192468749,0.16933127277804444,0.16933127277804444,0.16933127277804444,0.4883283097609405,0.4485750999228125,0.6053443249462345,0.0,0.0,0.0,0.0,0.0,0.0,0.0,0.0,0.0,0.0,0.0,0.0,0.0,0.0,0.0,0.0,0.0,0.0,0.0,0.0,0.0,0.0,0.5806214043805425,0.34453428213528764,0.40168801171421764,0.4485750999228125,0.2713198192468749,0.34453428213528764,0.34453428213528764,0.34453428213528764,0.6279331901845885,0.5228345301992788,0.5533187320880734,0.40168801171421764,0.34453428213528764,0.6859342542027217,0.40168801171421764,0.4883283097609405,0.4883283097609405,0.34453428213528764,0.6053443249462345,0.16933127277804444,0.40168801171421764,0.5228345301992788,0.4485750999228125,0.4883283097609405,0.5533187320880734,0.4485750999228125,0.4883283097609405,0.16933127277804444,0.4883283097609405,0.5533187320880734,0.4485750999228125,0.16933127277804444,0.4883283097609405,0.4485750999228125,0.2713198192468749,0.0,0.0,0.0,0.0,0.0,0.0,0.0,0.0,0.0,0.0,0.0,0.0,0.0,0.0,0.0,0.0,0.0,0.2713198192468749,0.0,0.0,0.0,0.0,0.0,0.5228345301992788,0.4883283097609405,0.5806214043805425,0.2713198192468749,0.16933127277804444,0.34453428213528764,0.5533187320880734,0.5228345301992788,0.7856754710242466,0.2713198192468749,0.7185064298087882,0.16933127277804444,0.40168801171421764,0.6279331901845885,0.6279331901845885,0.16933127277804444,0.16933127277804444,0.16933127277804444,0.4485750999228125,0.5228345301992788,0.2713198192468749,0.6487273223341655,0.2713198192468749,0.5228345301992788,0.4883283097609405,0.2713198192468749,0.6279331901845885,0.34453428213528764,0.6679910399825703,0.16933127277804444,0.2713198192468749,0.40168801171421764,0.34453428213528764,0.16933127277804444,0.5228345301992788,0.4883283097609405,0.34453428213528764,0.6053443249462345,0.4883283097609405,0.16933127277804444,0.40168801171421764,0.40168801171421764,0.34453428213528764,0.6487273223341655,0.2713198192468749,0.733389325455712,0.5228345301992788,0.70272644692246,0.34453428213528764,0.40168801171421764,0.16933127277804444,0.40168801171421764,0.16933127277804444,0.16933127277804444,0.16933127277804444,0.40168801171421764,0.2713198192468749,0.34453428213528764,0.6279331901845885,0.34453428213528764,0.40168801171421764,0.40168801171421764,0.34453428213528764,0.40168801171421764,0.16933127277804444,0.16933127277804444,0.16933127277804444,0.16933127277804444,0.16933127277804444,0.16933127277804444,0.2713198192468749,0.4485750999228125,0.40168801171421764,0.40168801171421764,0.2713198192468749,0.34453428213528764,0.2713198192468749,0.40168801171421764,0.16933127277804444,0.5533187320880734,0.0,0.0,0.16933127277804444,0.16933127277804444,0.34453428213528764,0.5533187320880734,0.40168801171421764,0.70272644692246,0.40168801171421764,0.34453428213528764,0.5228345301992788,0.4883283097609405,0.16933127277804444,0.16933127277804444,0.70272644692246,0.34453428213528764,0.4883283097609405,0.4883283097609405,0.4485750999228125,0.4485750999228125,0.4883283097609405,0.16933127277804444,0.2713198192468749,0.2713198192468749,0.4883283097609405,0.0,0.2713198192468749,0.34453428213528764,0.928298648871241,0.4485750999228125,0.0,0.0,0.0,0.0,0.0,0.0,0.0,0.0,0.16933127277804444,0.40168801171421764,0.16933127277804444,0.34453428213528764,0.16933127277804444,0.4485750999228125,0.2713198192468749,0.16933127277804444,0.70272644692246,0.4485750999228125,0.16933127277804444,0.2713198192468749,0.6487273223341655,0.4485750999228125,0.16933127277804444,0.6859342542027217,0.34453428213528764,0.16933127277804444,0.40168801171421764,0.16933127277804444,0.2713198192468749,0.16933127277804444,0.34453428213528764,0.34453428213528764,0.2713198192468749,0.40168801171421764,0.0,0.0,0.0,0.0,0.0,0.0,0.0,0.0,0.4883283097609405,0.0,0.0,0.2713198192468749,0.4883283097609405,0.34453428213528764,0.34453428213528764,0.16933127277804444,0.34453428213528764,0.34453428213528764,0.5806214043805425,0.16933127277804444,0.2713198192468749,0.5228345301992788,0.2713198192468749,0.16933127277804444,0.40168801171421764,0.5228345301992788,0.2713198192468749,0.40168801171421764,0.2713198192468749,0.0,0.0,0.0,0.0,0.0,0.0,0.0,0.34453428213528764,0.0,0.0,0.0,0.0,0.0,0.16933127277804444,0.16933127277804444,0.16933127277804444,0.16933127277804444,0.16933127277804444,0.34453428213528764,0.40168801171421764,0.16933127277804444,0.40168801171421764,0.2713198192468749,0.2713198192468749,0.16933127277804444,0.16933127277804444,0.4883283097609405,0.34453428213528764,0.16933127277804444,0.4883283097609405,0.16933127277804444,0.2713198192468749,0.6679910399825703,0.5228345301992788,0.2713198192468749,0.2713198192468749,0.16933127277804444,0.2713198192468749,0.6279331901845885,0.2713198192468749,0.16933127277804444,0.16933127277804444,0.5228345301992788,0.2713198192468749,0.2713198192468749,0.2713198192468749,0.16933127277804444,0.0,0.0,0.0,0.0,0.0,0.0,0.0,0.0,0.0,0.0,0.0,0.0,0.40168801171421764,0.34453428213528764,0.34453428213528764,0.0,0.16933127277804444,0.40168801171421764,0.2713198192468749,0.2713198192468749,0.2713198192468749,0.16933127277804444,0.40168801171421764,0.4485750999228125,0.0,0.0,0.0,0.0,0.0,0.0,0.0,0.0,0.34453428213528764,0.4485750999228125,0.2713198192468749,0.16933127277804444,0.2713198192468749,0.16933127277804444,0.2713198192468749,0.34453428213528764,0.2713198192468749,0.16933127277804444,0.2713198192468749,0.0,0.0,0.0,0.0,0.9605893146277725,0.7856754710242466,0.8992530094314634,0.9665957357406774,0.8292393105725759,0.9481466663770713,0.7735497641760892,0.6053443249462345,0.7735497641760892,0.6487273223341655,0.34453428213528764,0.6053443249462345,0.6053443249462345,0.6679910399825703,0.70272644692246,0.4485750999228125,0.40168801171421764,0.8914587293079251,0.5806214043805425,0.5806214043805425,0.6053443249462345,0.6053443249462345,0.6487273223341655,0.5806214043805425,0.5533187320880734,0.34453428213528764,0.40168801171421764,0.6859342542027217,0.8083622456632616,0.4485750999228125,0.40168801171421764,0.34453428213528764,0.5228345301992788,0.34453428213528764,0.4485750999228125,0.40168801171421764,0.4883283097609405,0.4485750999228125,0.5228345301992788,0.16933127277804444,0.4485750999228125,0.5806214043805425,0.70272644692246,0.16933127277804444,0.6679910399825703,0.16933127277804444,0.6679910399825703,0.2713198192468749,0.6279331901845885,0.4883283097609405,0.34453428213528764,0.4485750999228125,0.4485750999228125,0.2713198192468749,0.34453428213528764,0.34453428213528764,0.4485750999228125,0.4485750999228125,0.40168801171421764,0.5228345301992788,0.6053443249462345,0.5533187320880734,0.70272644692246,0.5806214043805425,0.6679910399825703,0.5533187320880734,0.4485750999228125,0.5533187320880734,0.4485750999228125,0.4485750999228125,0.4485750999228125,0.16933127277804444,0.16933127277804444,0.16933127277804444,0.16933127277804444,0.4485750999228125,0.34453428213528764,0.5533187320880734,0.40168801171421764,0.2713198192468749,0.0,0.0,0.0,0.0,0.0,0.0,0.0,0.0,0.0,0.0,0.0,0.6053443249462345,0.2713198192468749,0.6053443249462345,0.6053443249462345,0.40168801171421764,0.0,0.4485750999228125,0.2713198192468749,0.6053443249462345,0.16933127277804444,0.4485750999228125,0.2713198192468749,0.5228345301992788,0.16933127277804444,0.6053443249462345,0.4883283097609405,0.4883283097609405,0.0,0.0,0.0,0.0,0.0,0.0,0.0,0.0,0.0,0.0,0.0,0.0,0.4883283097609405,0.0,0.34453428213528764,0.4485750999228125,0.2713198192468749,0.40168801171421764,0.5533187320880734,0.16933127277804444,0.40168801171421764,0.6053443249462345,0.5533187320880734,0.16933127277804444,0.2713198192468749,0.6859342542027217,0.2713198192468749,0.70272644692246,0.40168801171421764,0.4883283097609405,0.34453428213528764,0.5533187320880734,0.5228345301992788,0.40168801171421764,0.4485750999228125,0.40168801171421764,0.16933127277804444,0.16933127277804444,0.16933127277804444,0.16933127277804444,0.2713198192468749,0.5228345301992788,0.0,0.40168801171421764,0.34453428213528764,0.16933127277804444,0.2713198192468749,0.70272644692246,0.16933127277804444,0.5228345301992788,0.2713198192468749,0.4883283097609405,0.40168801171421764,0.16933127277804444,0.2713198192468749,0.5228345301992788,0.0,0.0,0.0,0.0,0.0,0.2713198192468749,0.2713198192468749,0.34453428213528764,0.6859342542027217,0.6679910399825703,0.5806214043805425,0.2713198192468749,0.2713198192468749,0.7474716687382837,0.4883283097609405,0.2713198192468749,0.6679910399825703,0.16933127277804444,0.16933127277804444,0.2713198192468749,0.34453428213528764,0.4883283097609405,0.4883283097609405,0.4485750999228125,0.2713198192468749,0.0,0.0,0.0,0.0,0.0,0.0,0.4883283097609405,0.2713198192468749,0.2713198192468749,0.4883283097609405,0.16933127277804444,0.2713198192468749,0.0,0.0,0.0,0.0,0.0,0.16933127277804444,0.34453428213528764,0.16933127277804444,0.4485750999228125,0.16933127277804444,0.4485750999228125,0.16933127277804444,0.4485750999228125,0.34453428213528764,0.40168801171421764,0.16933127277804444,0.2713198192468749,0.2713198192468749,0.5228345301992788,0.2713198192468749,0.2713198192468749,0.2713198192468749,0.16933127277804444,0.0,0.0,0.4485750999228125,0.0,0.0,0.2713198192468749,0.16933127277804444,0.2713198192468749,0.0,0.0,0.0,0.0,0.0,0.0,0.0,0.34453428213528764,0.0,0.4883283097609405,0.2713198192468749,0.16933127277804444,0.16933127277804444,0.2713198192468749,0.0,0.0],\"coloraxis\":\"coloraxis\",\"symbol\":\"circle\"},\"mode\":\"markers\",\"name\":\"\",\"orientation\":\"v\",\"showlegend\":false,\"x\":[1.0,0.6747654731005414,0.7326293283751244,0.7978420895547238,0.9373358607111437,0.17404810686108046,0.4953727037460086,0.7326293283751244,0.6122813830259535,1.0,0.8637318193735538,0.17404810686108046,0.6747654731005414,0.8091298600746685,0.5131976399584474,0.4331389430752244,0.8145952353871563,0.819948146398158,0.5131976399584474,0.17404810686108046,0.17404810686108046,0.6747654731005414,0.5298791419693946,0.5298791419693946,0.5298791419693946,0.7672738317202942,0.4953727037460086,0.7251102414698766,0.4331389430752244,0.6002356063636876,0.8637318193735538,0.6747654731005414,0.6747654731005414,0.6555580586310299,0.8892982660925969,0.6747654731005414,0.8091298600746685,0.5298791419693946,0.8592153466176707,0.6122813830259535,0.8403219430455522,0.5298791419693946,0.5298791419693946,0.5298791419693946,0.9088376494045263,0.6747654731005414,0.7399371767921319,0.0,0.0,0.0,0.8035471931224089,0.8035471931224089,0.6122813830259535,0.835376123043069,0.4953727037460086,0.9088376494045263,0.6555580586310299,0.6747654731005414,0.9504937749590566,0.6002356063636876,0.6838622844424995,0.7326293283751244,0.819948146398158,0.5298791419693946,0.38145629231193184,0.927011398739594,0.4953727037460086,0.17404810686108046,0.645394957742923,0.8303344478724696,0.5298791419693946,0.5298791419693946,0.9162601870597201,0.17404810686108046,0.17404810686108046,0.17404810686108046,0.5298791419693946,0.17404810686108046,0.17404810686108046,0.17404810686108046,0.6237939826936434,0.5298791419693946,0.5298791419693946,0.5298791419693946,0.6747654731005414,0.6747654731005414,0.17404810686108046,0.17404810686108046,0.17404810686108046,0.7326293283751244,0.17404810686108046,0.17404810686108046,0.17404810686108046,0.17404810686108046,0.6237939826936434,0.6747654731005414,0.9660571651262977,0.7539644179797953,0.4953727037460086,0.6555580586310299,0.7251102414698766,0.9339396989475183,0.7672738317202942,0.6555580586310299,0.6555580586310299,0.9125753903770112,0.868171215442081,0.6555580586310299,0.4953727037460086,0.8892982660925969,0.6237939826936434,0.8035471931224089,0.6237939826936434,0.7672738317202942,0.9536818331964318,0.8892982660925969,0.8035471931224089,0.8768289960579404,0.8592153466176707,0.9439979993562735,0.5298791419693946,0.6555580586310299,0.7736816014032347,0.717367339650875,0.6555580586310299,0.7251102414698766,0.8035471931224089,0.6555580586310299,0.8145952353871563,0.4085789909584107,0.6747654731005414,0.9919203972780013,0.4085789909584107,0.7326293283751244,0.9720308442870714,0.574329412411061,0.7470453320240613,1.0,0.574329412411061,0.4331389430752244,0.927011398739594,0.9660571651262977,0.5298791419693946,0.5298791419693946,0.38145629231193184,0.5298791419693946,0.4953727037460086,0.4331389430752244,0.4331389430752244,0.4331389430752244,0.8637318193735538,0.7607042326834162,0.9406882562843372,0.0,0.0,0.0,0.0,0.0,0.0,0.0,0.0,0.0,0.0,0.0,0.0,0.0,0.0,0.0,0.0,0.0,0.0,0.0,0.0,0.0,0.0,0.7326293283751244,0.5298791419693946,0.717367339650875,0.7736816014032347,0.6122813830259535,0.6555580586310299,0.5298791419693946,0.7326293283751244,0.9720308442870714,0.6555580586310299,0.717367339650875,0.7251102414698766,0.6555580586310299,0.9373358607111437,0.7326293283751244,0.835376123043069,0.835376123043069,0.7326293283751244,0.7799353231419097,0.4953727037460086,0.8091298600746685,0.7539644179797953,0.8091298600746685,0.6838622844424995,0.7978420895547238,0.835376123043069,0.8637318193735538,0.4331389430752244,0.8637318193735538,0.7539644179797953,0.6555580586310299,0.5298791419693946,0.9339396989475183,0.665338996273197,0.4953727037460086,0.17404810686108046,0.17404810686108046,0.17404810686108046,0.17404810686108046,0.17404810686108046,0.17404810686108046,0.17404810686108046,0.17404810686108046,0.17404810686108046,0.17404810686108046,0.17404810686108046,0.17404810686108046,0.17404810686108046,0.17404810686108046,0.17404810686108046,0.17404810686108046,0.17404810686108046,0.634818611074664,0.17404810686108046,0.17404810686108046,0.17404810686108046,0.17404810686108046,0.17404810686108046,0.7607042326834162,0.6555580586310299,0.885207894143711,0.5131976399584474,0.4953727037460086,0.7860422302549752,0.8637318193735538,0.835376123043069,1.0,0.645394957742923,0.9439979993562735,0.4331389430752244,0.8035471931224089,0.8637318193735538,0.9660571651262977,0.4331389430752244,0.4331389430752244,0.4331389430752244,0.9304986131077424,0.7736816014032347,0.5298791419693946,0.868171215442081,0.7326293283751244,0.6747654731005414,0.7470453320240613,0.6747654731005414,0.8637318193735538,0.7736816014032347,0.9234768022933705,0.6237939826936434,0.7539644179797953,0.8637318193735538,0.7860422302549752,0.6237939826936434,0.8035471931224089,0.9536818331964318,0.6002356063636876,0.7672738317202942,0.6747654731005414,0.5298791419693946,0.8637318193735538,0.8637318193735538,0.8035471931224089,0.8592153466176707,0.7251102414698766,0.9406882562843372,0.8145952353871563,0.9125753903770112,0.6122813830259535,0.6555580586310299,0.5298791419693946,0.717367339650875,0.4953727037460086,0.6237939826936434,0.5298791419693946,0.6747654731005414,0.574329412411061,0.6237939826936434,0.8251931284290327,0.6747654731005414,0.7326293283751244,0.7326293283751244,0.9125753903770112,0.6747654731005414,0.4953727037460086,0.4953727037460086,0.4953727037460086,0.4953727037460086,0.4953727037460086,0.4953727037460086,0.835376123043069,0.7251102414698766,0.7470453320240613,0.927011398739594,0.6237939826936434,0.6237939826936434,0.574329412411061,0.7539644179797953,0.5298791419693946,0.8725361214744611,0.38145629231193184,0.38145629231193184,0.6838622844424995,0.5455551064276623,0.6555580586310299,0.9198935184165833,0.7736816014032347,0.9536818331964318,0.8303344478724696,0.7251102414698766,0.8251931284290327,0.7539644179797953,0.5298791419693946,0.7736816014032347,1.0,0.6747654731005414,0.7607042326834162,0.8091298600746685,0.7326293283751244,0.7326293283751244,0.8810521780325872,0.5298791419693946,0.6002356063636876,0.6747654731005414,0.8892982660925969,0.4331389430752244,0.7251102414698766,0.6926517115793488,1.0,0.8637318193735538,0.4331389430752244,0.4331389430752244,0.4331389430752244,0.4331389430752244,0.4331389430752244,0.4331389430752244,0.4331389430752244,0.4331389430752244,0.6002356063636876,0.8251931284290327,0.6002356063636876,0.6747654731005414,0.7736816014032347,0.7672738317202942,0.6555580586310299,0.6555580586310299,0.8892982660925969,0.8303344478724696,0.634818611074664,0.9162601870597201,0.8592153466176707,0.9162601870597201,0.6002356063636876,0.8592153466176707,0.7539644179797953,0.6555580586310299,0.7672738317202942,0.8303344478724696,0.7011538505329667,0.835376123043069,0.8933253170414507,0.7672738317202942,0.7672738317202942,0.8251931284290327,0.4953727037460086,0.4953727037460086,0.4953727037460086,0.4953727037460086,0.4953727037460086,0.4953727037460086,0.4953727037460086,0.4953727037460086,0.9198935184165833,0.4953727037460086,0.4953727037460086,0.835376123043069,0.9234768022933705,0.8637318193735538,0.868171215442081,0.868171215442081,0.8768289960579404,0.7672738317202942,0.9749670187568359,0.6002356063636876,0.6555580586310299,0.9339396989475183,0.6555580586310299,0.6237939826936434,0.717367339650875,0.8035471931224089,0.7251102414698766,0.8892982660925969,0.7736816014032347,0.5298791419693946,0.5298791419693946,0.5298791419693946,0.5298791419693946,0.5298791419693946,0.5298791419693946,0.5298791419693946,0.7978420895547238,0.5298791419693946,0.5298791419693946,0.5298791419693946,0.5298791419693946,0.5298791419693946,0.6555580586310299,0.6237939826936434,0.665338996273197,0.6237939826936434,0.6237939826936434,0.8592153466176707,0.8725361214744611,0.6237939826936434,0.927011398739594,0.6747654731005414,0.7672738317202942,0.835376123043069,0.835376123043069,0.9690611511200177,0.8892982660925969,0.7326293283751244,0.9863911286296869,0.645394957742923,0.835376123043069,0.9863911286296869,0.9919203972780013,0.8035471931224089,0.9339396989475183,0.835376123043069,0.9339396989475183,0.9660571651262977,0.7326293283751244,0.6555580586310299,0.6555580586310299,0.8892982660925969,0.8251931284290327,0.717367339650875,0.7539644179797953,0.6747654731005414,0.6002356063636876,0.6002356063636876,0.6002356063636876,0.6002356063636876,0.6002356063636876,0.6002356063636876,0.6002356063636876,0.6002356063636876,0.6002356063636876,0.6002356063636876,0.6002356063636876,0.6002356063636876,0.8725361214744611,0.7978420895547238,0.835376123043069,0.6122813830259535,0.9125753903770112,0.8637318193735538,0.7672738317202942,0.7736816014032347,0.9568312941384668,0.7326293283751244,0.819948146398158,0.9125753903770112,0.6237939826936434,0.6237939826936434,0.6237939826936434,0.6237939826936434,0.6237939826936434,0.6237939826936434,0.6237939826936434,0.6237939826936434,0.8403219430455522,0.9660571651262977,0.8145952353871563,0.7736816014032347,0.8892982660925969,0.9125753903770112,0.9125753903770112,0.9690611511200177,0.9749670187568359,0.9690611511200177,0.8892982660925969,0.7539644179797953,0.7539644179797953,0.7672738317202942,0.927011398739594,0.9660571651262977,0.6747654731005414,0.9373358607111437,1.0,0.9339396989475183,1.0,0.7799353231419097,0.6237939826936434,0.835376123043069,0.7093868888053504,0.17404810686108046,0.6555580586310299,0.6747654731005414,0.7326293283751244,0.7539644179797953,0.4953727037460086,0.45557890712206944,1.0,0.717367339650875,0.6747654731005414,0.7672738317202942,0.7736816014032347,0.7607042326834162,0.7860422302549752,0.6747654731005414,0.4331389430752244,0.5298791419693946,0.8892982660925969,0.9439979993562735,0.6122813830259535,0.5298791419693946,0.4953727037460086,0.6747654731005414,0.4953727037460086,0.6555580586310299,0.5298791419693946,0.7093868888053504,0.6555580586310299,0.7539644179797953,0.17404810686108046,0.6747654731005414,0.835376123043069,0.9125753903770112,0.17404810686108046,0.9919203972780013,0.17404810686108046,0.8145952353871563,0.4331389430752244,0.9125753903770112,0.7093868888053504,0.5298791419693946,0.7326293283751244,0.6747654731005414,0.4953727037460086,0.6237939826936434,0.5603398970626012,0.6747654731005414,0.6926517115793488,0.4953727037460086,0.8251931284290327,0.8892982660925969,0.835376123043069,1.0,0.8091298600746685,0.9660571651262977,0.9304986131077424,0.7326293283751244,0.8499401289954995,0.7326293283751244,0.7978420895547238,0.8091298600746685,0.38145629231193184,0.4331389430752244,0.4331389430752244,0.4331389430752244,0.7539644179797953,0.6838622844424995,0.7539644179797953,0.5603398970626012,0.6002356063636876,0.0,0.0,0.0,0.0,0.0,0.0,0.0,0.0,0.0,0.0,0.0,0.7539644179797953,0.6122813830259535,0.819948146398158,0.9304986131077424,0.7539644179797953,0.10131625877623329,0.7860422302549752,0.634818611074664,0.7607042326834162,0.4953727037460086,0.8035471931224089,0.4953727037460086,0.6555580586310299,0.47623596859453204,0.9919203972780013,0.9373358607111437,0.9373358607111437,0.17404810686108046,0.17404810686108046,0.17404810686108046,0.17404810686108046,0.17404810686108046,0.17404810686108046,0.17404810686108046,0.17404810686108046,0.17404810686108046,0.17404810686108046,0.17404810686108046,0.17404810686108046,0.8810521780325872,0.17404810686108046,0.7251102414698766,0.6747654731005414,0.4953727037460086,0.7326293283751244,0.8451754848825552,0.4331389430752244,0.885207894143711,0.9749670187568359,0.8892982660925969,0.6122813830259535,0.6555580586310299,0.9162601870597201,0.5298791419693946,0.9749670187568359,0.8637318193735538,0.7326293283751244,0.665338996273197,0.9749670187568359,0.835376123043069,0.835376123043069,0.7736816014032347,0.7539644179797953,0.4953727037460086,0.4953727037460086,0.4953727037460086,0.717367339650875,0.6237939826936434,0.8035471931224089,0.38145629231193184,0.665338996273197,0.6555580586310299,0.6926517115793488,0.6002356063636876,0.9373358607111437,0.7011538505329667,0.8251931284290327,0.6555580586310299,0.7978420895547238,0.717367339650875,0.5298791419693946,0.6002356063636876,0.9198935184165833,0.4331389430752244,0.4331389430752244,0.4331389430752244,0.4331389430752244,0.4331389430752244,0.9304986131077424,0.9373358607111437,0.6747654731005414,0.9690611511200177,0.9568312941384668,0.8810521780325872,0.6237939826936434,0.6555580586310299,0.8810521780325872,0.9304986131077424,0.6747654731005414,0.9088376494045263,0.8035471931224089,0.645394957742923,0.7470453320240613,0.717367339650875,0.7539644179797953,0.9339396989475183,0.8251931284290327,0.717367339650875,0.4953727037460086,0.4953727037460086,0.4953727037460086,0.4953727037460086,0.4953727037460086,0.4953727037460086,0.8637318193735538,0.7326293283751244,0.7326293283751244,0.8892982660925969,0.6002356063636876,0.7326293283751244,0.5298791419693946,0.5298791419693946,0.5298791419693946,0.5298791419693946,0.5298791419693946,0.6838622844424995,0.927011398739594,0.7539644179797953,0.8145952353871563,0.6237939826936434,0.7978420895547238,0.7326293283751244,0.9504937749590566,0.8637318193735538,0.9162601870597201,0.6555580586310299,0.7326293283751244,0.7326293283751244,0.9088376494045263,0.7539644179797953,0.7326293283751244,0.7672738317202942,0.6747654731005414,0.6002356063636876,0.6002356063636876,0.8251931284290327,0.6002356063636876,0.6002356063636876,0.7607042326834162,0.717367339650875,0.9439979993562735,0.6237939826936434,0.6237939826936434,0.6237939826936434,0.6237939826936434,0.6237939826936434,0.6237939826936434,0.6237939826936434,0.835376123043069,0.6237939826936434,0.9720308442870714,0.9660571651262977,0.7539644179797953,0.835376123043069,0.8810521780325872,0.7607042326834162,0.9198935184165833],\"xaxis\":\"x\",\"y\":[0.46073277082763675,0.0,0.36287757958420697,0.46073277082763675,0.36287757958420697,0.5619811917826373,0.46073277082763675,0.36287757958420697,0.46073277082763675,0.5950098760089252,0.5619811917826373,0.0,0.46073277082763675,0.36287757958420697,0.46073277082763675,0.46073277082763675,0.46073277082763675,0.46073277082763675,0.46073277082763675,0.46073277082763675,0.46073277082763675,0.5619811917826373,0.46073277082763675,0.46073277082763675,0.6826360592716696,0.5619811917826373,0.5619811917826373,0.5619811917826373,0.5619811917826373,0.5619811917826373,0.36287757958420697,0.5619811917826373,0.5619811917826373,0.5619811917826373,0.46073277082763675,0.46073277082763675,0.46073277082763675,0.5619811917826373,0.46073277082763675,0.5619811917826373,0.46073277082763675,0.46073277082763675,0.46073277082763675,0.46073277082763675,0.5619811917826373,0.5619811917826373,0.46073277082763675,0.46073277082763675,0.46073277082763675,0.46073277082763675,0.46073277082763675,0.46073277082763675,0.46073277082763675,0.46073277082763675,0.5619811917826373,0.5619811917826373,0.5619811917826373,0.46073277082763675,0.46073277082763675,0.5196711379444335,0.46073277082763675,0.46073277082763675,0.46073277082763675,0.5619811917826373,0.46073277082763675,0.5196711379444335,0.46073277082763675,0.0,0.5619811917826373,0.36287757958420697,0.46073277082763675,0.46073277082763675,0.5619811917826373,0.46073277082763675,0.46073277082763675,0.46073277082763675,0.46073277082763675,0.46073277082763675,0.46073277082763675,0.46073277082763675,0.5619811917826373,0.46073277082763675,0.46073277082763675,0.46073277082763675,0.46073277082763675,0.46073277082763675,0.5619811917826373,0.5619811917826373,0.5619811917826373,0.46073277082763675,0.5619811917826373,0.5619811917826373,0.5619811917826373,0.5619811917826373,0.725755159168414,0.5619811917826373,0.5196711379444335,0.5619811917826373,0.5619811917826373,0.5950098760089252,0.5619811917826373,0.46073277082763675,0.5619811917826373,0.46073277082763675,0.46073277082763675,0.6221055501170012,0.0,0.5196711379444335,0.46073277082763675,0.46073277082763675,0.5619811917826373,0.5619811917826373,0.5619811917826373,0.5619811917826373,0.46073277082763675,0.7127012342105086,0.46073277082763675,0.5619811917826373,0.36287757958420697,0.46073277082763675,0.46073277082763675,0.5619811917826373,0.46073277082763675,0.46073277082763675,0.46073277082763675,0.46073277082763675,0.5619811917826373,0.46073277082763675,0.5619811917826373,0.46073277082763675,0.5619811917826373,0.46073277082763675,0.46073277082763675,0.5619811917826373,0.46073277082763675,0.46073277082763675,0.46073277082763675,0.46073277082763675,0.6826360592716696,0.46073277082763675,0.46073277082763675,0.5950098760089252,0.5619811917826373,0.5619811917826373,0.5619811917826373,0.5619811917826373,0.6221055501170012,0.46073277082763675,0.46073277082763675,0.46073277082763675,0.46073277082763675,0.5619811917826373,0.5619811917826373,0.46073277082763675,0.46073277082763675,0.46073277082763675,0.46073277082763675,0.46073277082763675,0.46073277082763675,0.46073277082763675,0.46073277082763675,0.46073277082763675,0.46073277082763675,0.46073277082763675,0.46073277082763675,0.46073277082763675,0.46073277082763675,0.46073277082763675,0.46073277082763675,0.46073277082763675,0.46073277082763675,0.46073277082763675,0.46073277082763675,0.46073277082763675,0.46073277082763675,0.7127012342105086,0.7127012342105086,0.5619811917826373,0.5619811917826373,0.46073277082763675,0.5619811917826373,0.6984140557090923,0.46073277082763675,0.5619811917826373,0.7377719221966185,0.7127012342105086,0.5619811917826373,0.5619811917826373,0.6650194822697273,0.5619811917826373,0.5619811917826373,0.5619811917826373,0.46073277082763675,0.7127012342105086,0.46073277082763675,0.46073277082763675,0.6826360592716696,0.5619811917826373,0.7127012342105086,0.6826360592716696,0.5619811917826373,0.5619811917826373,0.6221055501170012,0.5619811917826373,0.7127012342105086,0.7127012342105086,0.46073277082763675,0.46073277082763675,0.7127012342105086,0.7127012342105086,0.5619811917826373,0.5619811917826373,0.5619811917826373,0.5619811917826373,0.5619811917826373,0.5619811917826373,0.5619811917826373,0.5619811917826373,0.5619811917826373,0.5619811917826373,0.5619811917826373,0.5619811917826373,0.5619811917826373,0.5619811917826373,0.5619811917826373,0.5619811917826373,0.5619811917826373,0.5619811917826373,0.5619811917826373,0.5619811917826373,0.5619811917826373,0.5619811917826373,0.5619811917826373,0.6984140557090923,0.7489042708975875,0.6650194822697273,0.7127012342105086,0.5619811917826373,0.46073277082763675,0.6650194822697273,0.6650194822697273,0.7127012342105086,0.5619811917826373,0.7127012342105086,0.6826360592716696,0.5619811917826373,0.7127012342105086,0.6450786128444587,0.7127012342105086,0.7127012342105086,0.7127012342105086,0.46073277082763675,0.7127012342105086,0.7127012342105086,0.725755159168414,0.46073277082763675,0.7689775853731519,0.7127012342105086,0.5619811917826373,0.725755159168414,0.5619811917826373,0.7127012342105086,0.46073277082763675,0.46073277082763675,0.5619811917826373,0.5619811917826373,0.5196711379444335,0.7127012342105086,0.5619811917826373,0.7377719221966185,0.7689775853731519,0.7689775853731519,0.6450786128444587,0.5619811917826373,0.5619811917826373,0.5619811917826373,0.7489042708975875,0.5619811917826373,0.7489042708975875,0.7127012342105086,0.7489042708975875,0.7489042708975875,0.7489042708975875,0.6650194822697273,0.7127012342105086,0.7127012342105086,0.5619811917826373,0.6826360592716696,0.7489042708975875,0.7489042708975875,0.7489042708975875,0.7689775853731519,0.7127012342105086,0.7127012342105086,0.7127012342105086,0.46073277082763675,0.7489042708975875,0.7489042708975875,0.7489042708975875,0.7489042708975875,0.7489042708975875,0.7489042708975875,0.7489042708975875,0.46073277082763675,0.7489042708975875,0.7127012342105086,0.5619811917826373,0.7127012342105086,0.7689775853731519,0.7689775853731519,0.7127012342105086,0.7127012342105086,0.725755159168414,0.6826360592716696,0.6826360592716696,0.5619811917826373,0.7127012342105086,0.7489042708975875,0.7127012342105086,0.7127012342105086,0.7592735112052313,0.6826360592716696,0.7127012342105086,0.7489042708975875,0.7689775853731519,0.7489042708975875,0.46073277082763675,0.7489042708975875,0.7489042708975875,0.7689775853731519,0.7489042708975875,0.7689775853731519,0.7689775853731519,0.7127012342105086,0.7689775853731519,0.7689775853731519,0.7127012342105086,0.7127012342105086,0.7127012342105086,0.6826360592716696,0.7489042708975875,0.8236103504118437,0.7127012342105086,0.7127012342105086,0.7127012342105086,0.7127012342105086,0.7127012342105086,0.7127012342105086,0.7127012342105086,0.7127012342105086,0.7127012342105086,0.7127012342105086,0.7127012342105086,0.7127012342105086,0.7689775853731519,0.5619811917826373,0.7689775853731519,0.7489042708975875,0.6826360592716696,0.8099058152308003,0.7489042708975875,0.7127012342105086,0.5619811917826373,0.8099058152308003,0.7127012342105086,0.7489042708975875,0.8236103504118437,0.7489042708975875,0.7127012342105086,0.7689775853731519,0.5619811917826373,0.7489042708975875,0.5619811917826373,0.6826360592716696,0.7489042708975875,0.7127012342105086,0.7489042708975875,0.7489042708975875,0.7489042708975875,0.7489042708975875,0.7489042708975875,0.7489042708975875,0.7489042708975875,0.7489042708975875,0.7489042708975875,0.7489042708975875,0.7489042708975875,0.7489042708975875,0.6826360592716696,0.7489042708975875,0.7127012342105086,0.7127012342105086,0.5619811917826373,0.7127012342105086,0.7689775853731519,0.7689775853731519,0.8099058152308003,0.8099058152308003,0.7689775853731519,0.8099058152308003,0.7866974181820532,0.8236103504118437,0.8236103504118437,0.7689775853731519,0.7489042708975875,0.7489042708975875,0.7689775853731519,0.7689775853731519,0.7689775853731519,0.7689775853731519,0.7689775853731519,0.7689775853731519,0.7689775853731519,0.7689775853731519,0.7689775853731519,0.7689775853731519,0.7689775853731519,0.7689775853731519,0.7689775853731519,0.7689775853731519,0.8099058152308003,0.7689775853731519,0.8099058152308003,0.8099058152308003,0.7489042708975875,0.7689775853731519,0.8236103504118437,0.7489042708975875,0.8236103504118437,0.7689775853731519,0.6826360592716696,0.6826360592716696,0.7689775853731519,0.7489042708975875,0.7489042708975875,0.7689775853731519,0.8099058152308003,0.7489042708975875,0.8236103504118437,0.7866974181820532,0.7689775853731519,0.7127012342105086,0.7127012342105086,0.7127012342105086,0.8236103504118437,0.8099058152308003,0.8236103504118437,0.8236103504118437,0.8236103504118437,0.7689775853731519,0.8236103504118437,0.8099058152308003,0.8236103504118437,0.8099058152308003,0.8099058152308003,0.8099058152308003,0.8099058152308003,0.8099058152308003,0.8099058152308003,0.8099058152308003,0.8099058152308003,0.8099058152308003,0.8099058152308003,0.8099058152308003,0.8099058152308003,0.8099058152308003,0.8236103504118437,0.8099058152308003,0.816913164452958,0.7127012342105086,0.8236103504118437,0.8236103504118437,0.8236103504118437,0.7489042708975875,0.8099058152308003,0.8420883596804081,0.8236103504118437,0.8236103504118437,0.8236103504118437,0.8236103504118437,0.8236103504118437,0.8236103504118437,0.8236103504118437,0.8236103504118437,0.8236103504118437,0.8236103504118437,0.8099058152308003,0.8236103504118437,0.8099058152308003,0.8099058152308003,0.7689775853731519,0.8099058152308003,0.8236103504118437,0.8236103504118437,0.8236103504118437,0.8869227707137601,0.8993339607712914,0.8993339607712914,0.9070764013491592,1.0,0.46073277082763675,0.6221055501170012,0.46073277082763675,0.46073277082763675,0.0,0.46073277082763675,0.5196711379444335,0.46073277082763675,0.46073277082763675,0.46073277082763675,0.5619811917826373,0.46073277082763675,0.46073277082763675,0.5196711379444335,0.5619811917826373,0.5619811917826373,0.5196711379444335,0.5619811917826373,0.5196711379444335,0.5619811917826373,0.46073277082763675,0.46073277082763675,0.5619811917826373,0.36287757958420697,0.5619811917826373,0.46073277082763675,0.46073277082763675,0.46073277082763675,0.5950098760089252,0.46073277082763675,0.5619811917826373,0.46073277082763675,0.5619811917826373,0.46073277082763675,0.46073277082763675,0.5619811917826373,0.46073277082763675,0.46073277082763675,0.46073277082763675,0.46073277082763675,0.46073277082763675,0.46073277082763675,0.5619811917826373,0.5619811917826373,0.36287757958420697,0.5619811917826373,0.6450786128444587,0.46073277082763675,0.46073277082763675,0.5619811917826373,0.5619811917826373,0.46073277082763675,0.5619811917826373,0.46073277082763675,0.46073277082763675,0.5619811917826373,0.5950098760089252,0.5619811917826373,0.7489042708975875,0.5196711379444335,0.5619811917826373,0.5619811917826373,0.5619811917826373,0.6450786128444587,0.5619811917826373,0.46073277082763675,0.5619811917826373,0.5619811917826373,0.5619811917826373,0.46073277082763675,0.46073277082763675,0.5619811917826373,0.46073277082763675,0.46073277082763675,0.46073277082763675,0.5619811917826373,0.5196711379444335,0.6826360592716696,0.7127012342105086,0.46073277082763675,0.46073277082763675,0.46073277082763675,0.46073277082763675,0.46073277082763675,0.46073277082763675,0.46073277082763675,0.46073277082763675,0.46073277082763675,0.46073277082763675,0.46073277082763675,0.46073277082763675,0.7127012342105086,0.46073277082763675,0.6826360592716696,0.5950098760089252,0.5196711379444335,0.5196711379444335,0.5619811917826373,0.46073277082763675,0.725755159168414,0.46073277082763675,0.5619811917826373,0.6826360592716696,0.7489042708975875,0.5619811917826373,0.5619811917826373,0.46073277082763675,0.46073277082763675,0.5619811917826373,0.5619811917826373,0.5619811917826373,0.5619811917826373,0.5619811917826373,0.5619811917826373,0.5619811917826373,0.5619811917826373,0.5619811917826373,0.5619811917826373,0.5619811917826373,0.5619811917826373,0.5619811917826373,0.5619811917826373,0.5619811917826373,0.7127012342105086,0.7377719221966185,0.6450786128444587,0.6826360592716696,0.7127012342105086,0.46073277082763675,0.6450786128444587,0.6650194822697273,0.46073277082763675,0.6221055501170012,0.725755159168414,0.7377719221966185,0.7127012342105086,0.5619811917826373,0.7489042708975875,0.7127012342105086,0.6450786128444587,0.7127012342105086,0.6450786128444587,0.7127012342105086,0.6984140557090923,0.7489042708975875,0.7489042708975875,0.7489042708975875,0.46073277082763675,0.7127012342105086,0.7489042708975875,0.6826360592716696,0.7689775853731519,0.7489042708975875,0.5619811917826373,0.7489042708975875,0.7689775853731519,0.5619811917826373,0.7489042708975875,0.7127012342105086,0.7489042708975875,0.7592735112052313,0.7689775853731519,0.7689775853731519,0.7127012342105086,0.7127012342105086,0.7127012342105086,0.7127012342105086,0.7127012342105086,0.7127012342105086,0.46073277082763675,0.46073277082763675,0.7689775853731519,0.7689775853731519,0.7689775853731519,0.7689775853731519,0.7689775853731519,0.7489042708975875,0.8236103504118437,0.7127012342105086,0.7489042708975875,0.8025581728545083,0.5619811917826373,0.7127012342105086,0.7127012342105086,0.7689775853731519,0.8099058152308003,0.7377719221966185,0.7689775853731519,0.7489042708975875,0.7489042708975875,0.7489042708975875,0.7489042708975875,0.7489042708975875,0.7489042708975875,0.7489042708975875,0.7780967115559672,0.7489042708975875,0.7489042708975875,0.7689775853731519,0.8099058152308003,0.7689775853731519,0.7689775853731519,0.7689775853731519,0.7689775853731519,0.7689775853731519,0.7689775853731519,0.7489042708975875,0.7127012342105086,0.7127012342105086,0.8099058152308003,0.8236103504118437,0.8236103504118437,0.7489042708975875,0.7689775853731519,0.7689775853731519,0.7689775853731519,0.8099058152308003,0.8099058152308003,0.8099058152308003,0.8236103504118437,0.8099058152308003,0.8236103504118437,0.8099058152308003,0.8236103504118437,0.8099058152308003,0.8099058152308003,0.8361762131165359,0.8099058152308003,0.8099058152308003,0.8236103504118437,0.8099058152308003,0.7489042708975875,0.8236103504118437,0.8236103504118437,0.8236103504118437,0.8236103504118437,0.8236103504118437,0.8236103504118437,0.8236103504118437,0.8236103504118437,0.8236103504118437,0.8236103504118437,0.7689775853731519,0.8236103504118437,0.8099058152308003,0.8236103504118437,0.9032546905544402,0.9958593393731842],\"yaxis\":\"y\",\"type\":\"scatter\"}],                        {\"template\":{\"data\":{\"histogram2dcontour\":[{\"type\":\"histogram2dcontour\",\"colorbar\":{\"outlinewidth\":0,\"ticks\":\"\"},\"colorscale\":[[0.0,\"#0d0887\"],[0.1111111111111111,\"#46039f\"],[0.2222222222222222,\"#7201a8\"],[0.3333333333333333,\"#9c179e\"],[0.4444444444444444,\"#bd3786\"],[0.5555555555555556,\"#d8576b\"],[0.6666666666666666,\"#ed7953\"],[0.7777777777777778,\"#fb9f3a\"],[0.8888888888888888,\"#fdca26\"],[1.0,\"#f0f921\"]]}],\"choropleth\":[{\"type\":\"choropleth\",\"colorbar\":{\"outlinewidth\":0,\"ticks\":\"\"}}],\"histogram2d\":[{\"type\":\"histogram2d\",\"colorbar\":{\"outlinewidth\":0,\"ticks\":\"\"},\"colorscale\":[[0.0,\"#0d0887\"],[0.1111111111111111,\"#46039f\"],[0.2222222222222222,\"#7201a8\"],[0.3333333333333333,\"#9c179e\"],[0.4444444444444444,\"#bd3786\"],[0.5555555555555556,\"#d8576b\"],[0.6666666666666666,\"#ed7953\"],[0.7777777777777778,\"#fb9f3a\"],[0.8888888888888888,\"#fdca26\"],[1.0,\"#f0f921\"]]}],\"heatmap\":[{\"type\":\"heatmap\",\"colorbar\":{\"outlinewidth\":0,\"ticks\":\"\"},\"colorscale\":[[0.0,\"#0d0887\"],[0.1111111111111111,\"#46039f\"],[0.2222222222222222,\"#7201a8\"],[0.3333333333333333,\"#9c179e\"],[0.4444444444444444,\"#bd3786\"],[0.5555555555555556,\"#d8576b\"],[0.6666666666666666,\"#ed7953\"],[0.7777777777777778,\"#fb9f3a\"],[0.8888888888888888,\"#fdca26\"],[1.0,\"#f0f921\"]]}],\"heatmapgl\":[{\"type\":\"heatmapgl\",\"colorbar\":{\"outlinewidth\":0,\"ticks\":\"\"},\"colorscale\":[[0.0,\"#0d0887\"],[0.1111111111111111,\"#46039f\"],[0.2222222222222222,\"#7201a8\"],[0.3333333333333333,\"#9c179e\"],[0.4444444444444444,\"#bd3786\"],[0.5555555555555556,\"#d8576b\"],[0.6666666666666666,\"#ed7953\"],[0.7777777777777778,\"#fb9f3a\"],[0.8888888888888888,\"#fdca26\"],[1.0,\"#f0f921\"]]}],\"contourcarpet\":[{\"type\":\"contourcarpet\",\"colorbar\":{\"outlinewidth\":0,\"ticks\":\"\"}}],\"contour\":[{\"type\":\"contour\",\"colorbar\":{\"outlinewidth\":0,\"ticks\":\"\"},\"colorscale\":[[0.0,\"#0d0887\"],[0.1111111111111111,\"#46039f\"],[0.2222222222222222,\"#7201a8\"],[0.3333333333333333,\"#9c179e\"],[0.4444444444444444,\"#bd3786\"],[0.5555555555555556,\"#d8576b\"],[0.6666666666666666,\"#ed7953\"],[0.7777777777777778,\"#fb9f3a\"],[0.8888888888888888,\"#fdca26\"],[1.0,\"#f0f921\"]]}],\"surface\":[{\"type\":\"surface\",\"colorbar\":{\"outlinewidth\":0,\"ticks\":\"\"},\"colorscale\":[[0.0,\"#0d0887\"],[0.1111111111111111,\"#46039f\"],[0.2222222222222222,\"#7201a8\"],[0.3333333333333333,\"#9c179e\"],[0.4444444444444444,\"#bd3786\"],[0.5555555555555556,\"#d8576b\"],[0.6666666666666666,\"#ed7953\"],[0.7777777777777778,\"#fb9f3a\"],[0.8888888888888888,\"#fdca26\"],[1.0,\"#f0f921\"]]}],\"mesh3d\":[{\"type\":\"mesh3d\",\"colorbar\":{\"outlinewidth\":0,\"ticks\":\"\"}}],\"scatter\":[{\"fillpattern\":{\"fillmode\":\"overlay\",\"size\":10,\"solidity\":0.2},\"type\":\"scatter\"}],\"parcoords\":[{\"type\":\"parcoords\",\"line\":{\"colorbar\":{\"outlinewidth\":0,\"ticks\":\"\"}}}],\"scatterpolargl\":[{\"type\":\"scatterpolargl\",\"marker\":{\"colorbar\":{\"outlinewidth\":0,\"ticks\":\"\"}}}],\"bar\":[{\"error_x\":{\"color\":\"#2a3f5f\"},\"error_y\":{\"color\":\"#2a3f5f\"},\"marker\":{\"line\":{\"color\":\"#E5ECF6\",\"width\":0.5},\"pattern\":{\"fillmode\":\"overlay\",\"size\":10,\"solidity\":0.2}},\"type\":\"bar\"}],\"scattergeo\":[{\"type\":\"scattergeo\",\"marker\":{\"colorbar\":{\"outlinewidth\":0,\"ticks\":\"\"}}}],\"scatterpolar\":[{\"type\":\"scatterpolar\",\"marker\":{\"colorbar\":{\"outlinewidth\":0,\"ticks\":\"\"}}}],\"histogram\":[{\"marker\":{\"pattern\":{\"fillmode\":\"overlay\",\"size\":10,\"solidity\":0.2}},\"type\":\"histogram\"}],\"scattergl\":[{\"type\":\"scattergl\",\"marker\":{\"colorbar\":{\"outlinewidth\":0,\"ticks\":\"\"}}}],\"scatter3d\":[{\"type\":\"scatter3d\",\"line\":{\"colorbar\":{\"outlinewidth\":0,\"ticks\":\"\"}},\"marker\":{\"colorbar\":{\"outlinewidth\":0,\"ticks\":\"\"}}}],\"scattermapbox\":[{\"type\":\"scattermapbox\",\"marker\":{\"colorbar\":{\"outlinewidth\":0,\"ticks\":\"\"}}}],\"scatterternary\":[{\"type\":\"scatterternary\",\"marker\":{\"colorbar\":{\"outlinewidth\":0,\"ticks\":\"\"}}}],\"scattercarpet\":[{\"type\":\"scattercarpet\",\"marker\":{\"colorbar\":{\"outlinewidth\":0,\"ticks\":\"\"}}}],\"carpet\":[{\"aaxis\":{\"endlinecolor\":\"#2a3f5f\",\"gridcolor\":\"white\",\"linecolor\":\"white\",\"minorgridcolor\":\"white\",\"startlinecolor\":\"#2a3f5f\"},\"baxis\":{\"endlinecolor\":\"#2a3f5f\",\"gridcolor\":\"white\",\"linecolor\":\"white\",\"minorgridcolor\":\"white\",\"startlinecolor\":\"#2a3f5f\"},\"type\":\"carpet\"}],\"table\":[{\"cells\":{\"fill\":{\"color\":\"#EBF0F8\"},\"line\":{\"color\":\"white\"}},\"header\":{\"fill\":{\"color\":\"#C8D4E3\"},\"line\":{\"color\":\"white\"}},\"type\":\"table\"}],\"barpolar\":[{\"marker\":{\"line\":{\"color\":\"#E5ECF6\",\"width\":0.5},\"pattern\":{\"fillmode\":\"overlay\",\"size\":10,\"solidity\":0.2}},\"type\":\"barpolar\"}],\"pie\":[{\"automargin\":true,\"type\":\"pie\"}]},\"layout\":{\"autotypenumbers\":\"strict\",\"colorway\":[\"#636efa\",\"#EF553B\",\"#00cc96\",\"#ab63fa\",\"#FFA15A\",\"#19d3f3\",\"#FF6692\",\"#B6E880\",\"#FF97FF\",\"#FECB52\"],\"font\":{\"color\":\"#2a3f5f\"},\"hovermode\":\"closest\",\"hoverlabel\":{\"align\":\"left\"},\"paper_bgcolor\":\"white\",\"plot_bgcolor\":\"#E5ECF6\",\"polar\":{\"bgcolor\":\"#E5ECF6\",\"angularaxis\":{\"gridcolor\":\"white\",\"linecolor\":\"white\",\"ticks\":\"\"},\"radialaxis\":{\"gridcolor\":\"white\",\"linecolor\":\"white\",\"ticks\":\"\"}},\"ternary\":{\"bgcolor\":\"#E5ECF6\",\"aaxis\":{\"gridcolor\":\"white\",\"linecolor\":\"white\",\"ticks\":\"\"},\"baxis\":{\"gridcolor\":\"white\",\"linecolor\":\"white\",\"ticks\":\"\"},\"caxis\":{\"gridcolor\":\"white\",\"linecolor\":\"white\",\"ticks\":\"\"}},\"coloraxis\":{\"colorbar\":{\"outlinewidth\":0,\"ticks\":\"\"}},\"colorscale\":{\"sequential\":[[0.0,\"#0d0887\"],[0.1111111111111111,\"#46039f\"],[0.2222222222222222,\"#7201a8\"],[0.3333333333333333,\"#9c179e\"],[0.4444444444444444,\"#bd3786\"],[0.5555555555555556,\"#d8576b\"],[0.6666666666666666,\"#ed7953\"],[0.7777777777777778,\"#fb9f3a\"],[0.8888888888888888,\"#fdca26\"],[1.0,\"#f0f921\"]],\"sequentialminus\":[[0.0,\"#0d0887\"],[0.1111111111111111,\"#46039f\"],[0.2222222222222222,\"#7201a8\"],[0.3333333333333333,\"#9c179e\"],[0.4444444444444444,\"#bd3786\"],[0.5555555555555556,\"#d8576b\"],[0.6666666666666666,\"#ed7953\"],[0.7777777777777778,\"#fb9f3a\"],[0.8888888888888888,\"#fdca26\"],[1.0,\"#f0f921\"]],\"diverging\":[[0,\"#8e0152\"],[0.1,\"#c51b7d\"],[0.2,\"#de77ae\"],[0.3,\"#f1b6da\"],[0.4,\"#fde0ef\"],[0.5,\"#f7f7f7\"],[0.6,\"#e6f5d0\"],[0.7,\"#b8e186\"],[0.8,\"#7fbc41\"],[0.9,\"#4d9221\"],[1,\"#276419\"]]},\"xaxis\":{\"gridcolor\":\"white\",\"linecolor\":\"white\",\"ticks\":\"\",\"title\":{\"standoff\":15},\"zerolinecolor\":\"white\",\"automargin\":true,\"zerolinewidth\":2},\"yaxis\":{\"gridcolor\":\"white\",\"linecolor\":\"white\",\"ticks\":\"\",\"title\":{\"standoff\":15},\"zerolinecolor\":\"white\",\"automargin\":true,\"zerolinewidth\":2},\"scene\":{\"xaxis\":{\"backgroundcolor\":\"#E5ECF6\",\"gridcolor\":\"white\",\"linecolor\":\"white\",\"showbackground\":true,\"ticks\":\"\",\"zerolinecolor\":\"white\",\"gridwidth\":2},\"yaxis\":{\"backgroundcolor\":\"#E5ECF6\",\"gridcolor\":\"white\",\"linecolor\":\"white\",\"showbackground\":true,\"ticks\":\"\",\"zerolinecolor\":\"white\",\"gridwidth\":2},\"zaxis\":{\"backgroundcolor\":\"#E5ECF6\",\"gridcolor\":\"white\",\"linecolor\":\"white\",\"showbackground\":true,\"ticks\":\"\",\"zerolinecolor\":\"white\",\"gridwidth\":2}},\"shapedefaults\":{\"line\":{\"color\":\"#2a3f5f\"}},\"annotationdefaults\":{\"arrowcolor\":\"#2a3f5f\",\"arrowhead\":0,\"arrowwidth\":1},\"geo\":{\"bgcolor\":\"white\",\"landcolor\":\"#E5ECF6\",\"subunitcolor\":\"white\",\"showland\":true,\"showlakes\":true,\"lakecolor\":\"white\"},\"title\":{\"x\":0.05},\"mapbox\":{\"style\":\"light\"}}},\"xaxis\":{\"anchor\":\"y\",\"domain\":[0.0,1.0],\"title\":{\"text\":\"months_since_first_donation\"}},\"yaxis\":{\"anchor\":\"x\",\"domain\":[0.0,1.0],\"title\":{\"text\":\"months_since_last_donation\"}},\"coloraxis\":{\"colorbar\":{\"title\":{\"text\":\"total_number_of_donations\"}},\"colorscale\":[[0.0,\"rgb(103,0,31)\"],[0.1,\"rgb(178,24,43)\"],[0.2,\"rgb(214,96,77)\"],[0.3,\"rgb(244,165,130)\"],[0.4,\"rgb(253,219,199)\"],[0.5,\"rgb(247,247,247)\"],[0.6,\"rgb(209,229,240)\"],[0.7,\"rgb(146,197,222)\"],[0.8,\"rgb(67,147,195)\"],[0.9,\"rgb(33,102,172)\"],[1.0,\"rgb(5,48,97)\"]]},\"legend\":{\"tracegroupgap\":0},\"margin\":{\"t\":60}},                        {\"responsive\": true}                    ).then(function(){\n",
              "                            \n",
              "var gd = document.getElementById('a309b163-79c0-4390-957d-9bdc8b67d0dc');\n",
              "var x = new MutationObserver(function (mutations, observer) {{\n",
              "        var display = window.getComputedStyle(gd).display;\n",
              "        if (!display || display === 'none') {{\n",
              "            console.log([gd, 'removed!']);\n",
              "            Plotly.purge(gd);\n",
              "            observer.disconnect();\n",
              "        }}\n",
              "}});\n",
              "\n",
              "// Listen for the removal of the full notebook cells\n",
              "var notebookContainer = gd.closest('#notebook-container');\n",
              "if (notebookContainer) {{\n",
              "    x.observe(notebookContainer, {childList: true});\n",
              "}}\n",
              "\n",
              "// Listen for the clearing of the current output cell\n",
              "var outputEl = gd.closest('.output');\n",
              "if (outputEl) {{\n",
              "    x.observe(outputEl, {childList: true});\n",
              "}}\n",
              "\n",
              "                        })                };                            </script>        </div>\n",
              "</body>\n",
              "</html>"
            ]
          },
          "metadata": {}
        }
      ]
    },
    {
      "cell_type": "markdown",
      "source": [
        "# Task 3 - Creating a train and test set\n"
      ],
      "metadata": {
        "id": "fzAk8X72KwAa"
      }
    },
    {
      "cell_type": "code",
      "source": [],
      "metadata": {
        "id": "ND76f6AZKzHZ"
      },
      "execution_count": null,
      "outputs": []
    },
    {
      "cell_type": "markdown",
      "source": [
        "# Task 4 - Classification algorithms\n"
      ],
      "metadata": {
        "id": "oJRfX0elKyLP"
      }
    },
    {
      "cell_type": "markdown",
      "source": [
        "### 4.1) Manually implement a KNN classifier"
      ],
      "metadata": {
        "id": "dn0gbBHOK1Iz"
      }
    },
    {
      "cell_type": "code",
      "source": [],
      "metadata": {
        "id": "RmFm6NJYKwbL"
      },
      "execution_count": null,
      "outputs": []
    },
    {
      "cell_type": "markdown",
      "source": [
        "### 4.2) Use Sklearn's Naive Bayes Classifier"
      ],
      "metadata": {
        "id": "3mLzCXxkK4R4"
      }
    },
    {
      "cell_type": "code",
      "source": [],
      "metadata": {
        "id": "ojcnR1daK4kr"
      },
      "execution_count": null,
      "outputs": []
    },
    {
      "cell_type": "markdown",
      "source": [
        "### 4.3) Use Sklearn's Support Vector Classifier"
      ],
      "metadata": {
        "id": "GxqGVnT2K6OG"
      }
    },
    {
      "cell_type": "code",
      "source": [],
      "metadata": {
        "id": "ANO9qMkxK6pP"
      },
      "execution_count": null,
      "outputs": []
    },
    {
      "cell_type": "markdown",
      "source": [
        "### 4.4) Use Sklearn's Multilayer Perception Classifier"
      ],
      "metadata": {
        "id": "9psywwGxK-Es"
      }
    },
    {
      "cell_type": "code",
      "source": [],
      "metadata": {
        "id": "incR3wiOK-ps"
      },
      "execution_count": null,
      "outputs": []
    },
    {
      "cell_type": "markdown",
      "source": [
        "# Task 5 - Evaluation of classification methods"
      ],
      "metadata": {
        "id": "aFKVBo-dLAIv"
      }
    },
    {
      "cell_type": "markdown",
      "source": [
        "### 5.1) Manually implement a confusion matrix"
      ],
      "metadata": {
        "id": "zDjjLjrRLCL-"
      }
    },
    {
      "cell_type": "code",
      "source": [],
      "metadata": {
        "id": "C1ULufY_LAlY"
      },
      "execution_count": null,
      "outputs": []
    },
    {
      "cell_type": "markdown",
      "source": [
        "### 5.2) Use Sklearn's classification report"
      ],
      "metadata": {
        "id": "0-ayL20ALKuU"
      }
    },
    {
      "cell_type": "code",
      "source": [],
      "metadata": {
        "id": "VH45iVCdLLRF"
      },
      "execution_count": null,
      "outputs": []
    },
    {
      "cell_type": "markdown",
      "source": [
        "### 5.3) Use Sklearn's fbeta score function"
      ],
      "metadata": {
        "id": "dc0Es6ZvLOt0"
      }
    },
    {
      "cell_type": "code",
      "source": [],
      "metadata": {
        "id": "ezTdtdXZLPJr"
      },
      "execution_count": null,
      "outputs": []
    },
    {
      "cell_type": "markdown",
      "source": [
        "# Task 6 - Cross-validation\n"
      ],
      "metadata": {
        "id": "htOlMMZ2LQjl"
      }
    },
    {
      "cell_type": "markdown",
      "source": [
        "I am not quite sure where 6.1 ends and 6.2 starts\n"
      ],
      "metadata": {
        "id": "mCPkVCbCLTJq"
      }
    },
    {
      "cell_type": "code",
      "source": [],
      "metadata": {
        "id": "Nr7Ypy4HLQ48"
      },
      "execution_count": null,
      "outputs": []
    }
  ]
}